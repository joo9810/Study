{
 "cells": [
  {
   "cell_type": "markdown",
   "metadata": {},
   "source": [
    "# 01 데이터 검정"
   ]
  },
  {
   "cell_type": "markdown",
   "metadata": {},
   "source": [
    "## 1. 데이터검정"
   ]
  },
  {
   "cell_type": "markdown",
   "metadata": {},
   "source": [
    "### (1) 가설 설정"
   ]
  },
  {
   "cell_type": "markdown",
   "metadata": {},
   "source": [
    "- 귀무가설 : 기존에 알려진 사실로서, 원래의 주장 및 가설\n",
    "- 대립가설 :\n",
    "    - 연구자가 표본연구를 통해 입증하고자 하는 가설\n",
    "    - 귀무가설에 대립하는 가설"
   ]
  },
  {
   "cell_type": "markdown",
   "metadata": {},
   "source": [
    "### (2) 유의수준 설정"
   ]
  },
  {
   "cell_type": "markdown",
   "metadata": {},
   "source": [
    "- 제1종 오류를 범할 확률의 최대 허용한계\n",
    "- 가설검정에서의 판단 기준\n",
    "    - 제1종 오류 : 귀무가설이 참일 때, 귀무가설을 기각하도록 결정하는 오류\n",
    "    - 제2종 오류 : 귀무가설이 거짓일 때, 귀무가설을 채택할 오류"
   ]
  },
  {
   "cell_type": "markdown",
   "metadata": {},
   "source": [
    "### (3) 검정 방법 설정"
   ]
  },
  {
   "cell_type": "markdown",
   "metadata": {},
   "source": [
    "- 양측 검정 : 가설검정에서 기각영역이 양쪽에 있는 것\n",
    "- 단측 검정 : 가설검정에서 기각영역이 좌우 한쪽에만 있는 것"
   ]
  },
  {
   "cell_type": "markdown",
   "metadata": {},
   "source": [
    "### (4) P-값 산출"
   ]
  },
  {
   "cell_type": "markdown",
   "metadata": {},
   "source": [
    "- p-value(유의확률)란 관찰된 데이터의 검정통계량이 귀무가설을 지지하는 정도를 확률로 표현한 것이다.\n",
    "- t-value, z-value 등의 검정통계량에 따른 p 값을 산출한다.\n",
    "- p-값이 작을수록 귀무가설을 기각할 수 있다."
   ]
  },
  {
   "cell_type": "markdown",
   "metadata": {},
   "source": [
    "### (5) 결정"
   ]
  },
  {
   "cell_type": "markdown",
   "metadata": {},
   "source": [
    "- p-value < 유의수준 : 귀무가설을 기각\n",
    "- p-value > 유의수준 : 귀무가설을 채택"
   ]
  },
  {
   "cell_type": "markdown",
   "metadata": {},
   "source": [
    "## 2. 검정 도구"
   ]
  },
  {
   "cell_type": "markdown",
   "metadata": {},
   "source": [
    "### (1) t-검정"
   ]
  },
  {
   "cell_type": "markdown",
   "metadata": {},
   "source": [
    "- 모집단의 분산이나 표준편차를 알지 못할 때 모집단을 대표하는 표본으로부터 추정된 분산이나 표준편차를 가지고 검정하는 방법이다.\n",
    "- 귀무가설 : 두 모집단의 평균 간의 차이는 없다.\n",
    "- 대립가설 : 두 모집단의 평균 간의 차이는 있다.\n",
    "- t값(t-value)\n",
    "    - 두 집단의 차이의 평균(X)을 표준오차(SE)로 나눈 값, 즉 '표준오차'와 '표본평균 사이의 차이'의 비율이다.\n",
    "    - t-value 값이 클수록 두 대상의 평균의 차이는 크다."
   ]
  },
  {
   "cell_type": "markdown",
   "metadata": {},
   "source": [
    "#### 1. 단일표본 t-검정"
   ]
  },
  {
   "cell_type": "markdown",
   "metadata": {},
   "source": [
    "- 하나의 모집단의 평균값을 기준값과 비교하고자 할 때 사용한다."
   ]
  },
  {
   "cell_type": "code",
   "execution_count": 5,
   "metadata": {},
   "outputs": [
    {
     "name": "stdout",
     "output_type": "stream",
     "text": [
      "t-통계량: 5.65685424949238\n"
     ]
    }
   ],
   "source": [
    "import numpy as np\n",
    "import scipy.stats as stats\n",
    "\n",
    "# 예시 데이터\n",
    "data = np.array([25, 28, 30, 27, 26, 23, 24, 26, 25])\n",
    "\n",
    "# 기준 값\n",
    "mean_reference = 22\n",
    "\n",
    "# 일표본 t-검정\n",
    "t_statistic, p_value = stats.ttest_1samp(data, mean_reference)\n",
    "\n",
    "print(f\"t-통계량: {t_statistic}\")"
   ]
  },
  {
   "cell_type": "markdown",
   "metadata": {},
   "source": [
    "#### 2. 독립표본 t-검정"
   ]
  },
  {
   "cell_type": "markdown",
   "metadata": {},
   "source": [
    "- 서로 다른 두 모집단으로부터 두 집단 간 평균 차이 여부를 검정한다.\n",
    "- 귀무가설(H0) : 두 모집단 간의 평균에 차이가 없다.\n",
    "- 대립가설(H1) : 두 모집단 간의 평균에 차이가 있다."
   ]
  },
  {
   "cell_type": "code",
   "execution_count": 6,
   "metadata": {},
   "outputs": [
    {
     "name": "stdout",
     "output_type": "stream",
     "text": [
      "t-통계량 : 2.8736848324283977\n"
     ]
    }
   ],
   "source": [
    "import numpy as np\n",
    "import scipy.stats as stats\n",
    "\n",
    "# 예시 데이터 생성\n",
    "group1 = np.array([25, 28, 30, 27, 26])\n",
    "group2 = np.array([22, 24, 26, 23, 25])\n",
    "\n",
    "# 독립표본 t-검정\n",
    "t_statistic, p_value = stats.ttest_ind(group1, group2)\n",
    "\n",
    "print(f\"t-통계량 : {t_statistic}\")"
   ]
  },
  {
   "cell_type": "markdown",
   "metadata": {},
   "source": [
    "#### 3. 대응표본 t-검정(Paired t-test)"
   ]
  },
  {
   "cell_type": "markdown",
   "metadata": {},
   "source": [
    "- 동일한 대상에게서 측정된 값의 차이의 평균을 검정한다.\n",
    "- 귀무가설(H0) : 비교할 값의 차이의 평균은 0이다.\n",
    "- 대립가설(H1) : 비교할 값의 차이의 평균은 0이 아니다."
   ]
  },
  {
   "cell_type": "code",
   "execution_count": 7,
   "metadata": {},
   "outputs": [
    {
     "name": "stdout",
     "output_type": "stream",
     "text": [
      "t-통계량 : 5.999999999999999\n"
     ]
    }
   ],
   "source": [
    "import numpy as np\n",
    "import scipy.stats as stats\n",
    "\n",
    "# 대응표본 데이터\n",
    "before = np.array([15, 18, 20, 17, 16]) # 약 투여 전\n",
    "after = np.array([12, 16, 19, 14, 13]) # 약 투여 후\n",
    "\n",
    "# 대응표본 t-검정\n",
    "t_statistic, p_value = stats.ttest_rel(before, after)\n",
    "\n",
    "print(f\"t-통계량 : {t_statistic}\")"
   ]
  },
  {
   "cell_type": "markdown",
   "metadata": {},
   "source": [
    "### (2) 카이제곱 검정"
   ]
  },
  {
   "cell_type": "markdown",
   "metadata": {},
   "source": [
    "#### 1. 독립성 검정 (Independence Test)"
   ]
  },
  {
   "cell_type": "markdown",
   "metadata": {},
   "source": [
    "- 두 범주형 변수 간의 독립성을 평가한다.\n",
    "- 두 변수 간의 연관성이 있는지 확인하거나, 교차 분할 표를 분석하여 기대되는 분할과 관찰된 분할 간의 차이가 있는지 확인할 수 있다.\n",
    "- 귀무가설(H0) : 두 변수 간의 독립성이 있다. (변수 간의 연관성이 없다.)\n",
    "- 대립가설(H1) : 두 변수 간의 독립성이 없다. (변수 간의 연관성이 있다.)"
   ]
  },
  {
   "cell_type": "code",
   "execution_count": 8,
   "metadata": {},
   "outputs": [
    {
     "name": "stdout",
     "output_type": "stream",
     "text": [
      "카이제곱 통계량 : 1.2375\n"
     ]
    }
   ],
   "source": [
    "import numpy as np\n",
    "import pandas as pd\n",
    "import scipy.stats as stats\n",
    "\n",
    "# 예시 데이터\n",
    "data = pd.DataFrame({\n",
    "    'Variable1' : ['A', 'A', 'B', 'B', 'B', 'C', 'C', 'C', 'C'],\n",
    "    'Variable2' : ['X', 'Y', 'X', 'X', 'Y', 'Y', 'X', 'Y', 'Y']})\n",
    "\n",
    "# 카이제곱 검정\n",
    "observed_freq = pd.crosstab(data['Variable1'], data['Variable2'])\n",
    "chi2_stat, p_value, _, _ = stats.chi2_contingency(observed_freq)\n",
    "\n",
    "print(f\"카이제곱 통계량 : {chi2_stat}\")"
   ]
  },
  {
   "cell_type": "markdown",
   "metadata": {},
   "source": [
    "#### 2. 동질성 검정 (Homogeneity Test)"
   ]
  },
  {
   "cell_type": "markdown",
   "metadata": {},
   "source": [
    "- 여러 개의 범주형 변수 간의 분포가 동질한지 여부를 평가한다.\n",
    "- 귀무가설(H0) : 세 그룹 간의 범주형 변수 분포는 동질하다.\n",
    "- 대립가설(H1) : 세 그룹 간의 범주형 변수 분포는 동질하지 않다."
   ]
  },
  {
   "cell_type": "code",
   "execution_count": 10,
   "metadata": {},
   "outputs": [
    {
     "name": "stdout",
     "output_type": "stream",
     "text": [
      "카이제곱 통계량 : 3.0\n",
      "p-값 : 0.22313016014842982\n"
     ]
    }
   ],
   "source": [
    "import pandas as pd\n",
    "import scipy.stats as stats\n",
    "\n",
    "# 예시 데이터\n",
    "data = pd.DataFrame({\n",
    "    'Group' : ['A', 'A', 'A', 'B', 'B', 'B', 'C', 'C', 'C'],\n",
    "    'Category' : ['X', 'X', 'Y', 'X', 'Y', 'Y', 'Y', 'Y', 'Y']\n",
    "})\n",
    "\n",
    "# 동질성 검정\n",
    "observed_freq = pd.crosstab(data['Group'], data['Category'])\n",
    "chi2_stat, p_value, _, _ = stats.chi2_contingency(observed_freq)\n",
    "\n",
    "print(f\"카이제곱 통계량 : {chi2_stat}\")\n",
    "print(f\"p-값 : {p_value}\")"
   ]
  },
  {
   "cell_type": "markdown",
   "metadata": {},
   "source": [
    "#### 3. 적합성 검정 (Goodness-of-Fit Test)"
   ]
  },
  {
   "cell_type": "markdown",
   "metadata": {},
   "source": [
    "- 한 범주형 변수의 분포가 기대되는 분포와 일치하는지 평가한다.\n",
    "- 귀무가설(H0) : 관측된 범주형 변수 분포는 기대되는 분포와 일치한다.\n",
    "- 대립가설(H1) : 관측된 범주형 변수 분포는 기대되는 분포와 일치하지 않는다."
   ]
  },
  {
   "cell_type": "code",
   "execution_count": 50,
   "metadata": {},
   "outputs": [
    {
     "name": "stdout",
     "output_type": "stream",
     "text": [
      "카이제곱 통계량: 1.370370370370371\n",
      "p-값 : 0.5039968881753005\n"
     ]
    }
   ],
   "source": [
    "import pandas as pd\n",
    "import scipy.stats as stats\n",
    "\n",
    "data = pd.DataFrame({\n",
    "    'Category': ['A', 'A', 'B', 'B', 'B', 'C', 'C', 'C', 'C']\n",
    "})\n",
    "expected_freq = {'A' : 0.4, 'B' : 0.3, 'C' : 0.3}\n",
    "\n",
    "observed_freq = data['Category'].value_counts()\n",
    "expected_freq_adj = {i : j*len(data) for i, j in expected_freq.items()}\n",
    "expected_freq_list = [expected_freq_adj[i] for i in observed_freq.index]\n",
    "\n",
    "chi2_stat, p_value = stats.chisquare(observed_freq, expected_freq_list)\n",
    "\n",
    "print(f\"카이제곱 통계량: {chi2_stat}\")\n",
    "print(f\"p-값 : {p_value}\")"
   ]
  },
  {
   "cell_type": "markdown",
   "metadata": {},
   "source": [
    "### (3) 분산분석"
   ]
  },
  {
   "cell_type": "markdown",
   "metadata": {},
   "source": [
    "- 3개 이상의 집단 간 비교를 수행하고자 할 때 집단 내의 분산(총평균과 각 집단의 평균 차이에 의해 생긴 분산)의 비교로 얻은 분포를 이용하여 가설검정을 수행하는 방법이다.\n",
    "- 독립변수와 종속변수의 수에 따라서 일원 분산분석, 이원 분산분석, 다변량 분산분석으로 분류한다."
   ]
  },
  {
   "cell_type": "markdown",
   "metadata": {},
   "source": [
    "#### 1. One-way ANOVA"
   ]
  },
  {
   "cell_type": "markdown",
   "metadata": {},
   "source": [
    "분산분석 중 종속변인이 1개, 독립변인이 1개인 경우 두 독립적인(관련이 없는) 집단의 평균을 F-분포를 이용해서 비교한다."
   ]
  },
  {
   "cell_type": "markdown",
   "metadata": {},
   "source": [
    "#### 2. Two-way ANOVA"
   ]
  },
  {
   "cell_type": "markdown",
   "metadata": {},
   "source": [
    "측정변수(양적 변수)가 하나이고, 두 개의 명목형 변수를 가지고 있을 때 사용한다."
   ]
  },
  {
   "cell_type": "markdown",
   "metadata": {},
   "source": [
    "### (4) Wilcoxon 검정"
   ]
  },
  {
   "cell_type": "markdown",
   "metadata": {},
   "source": [
    "#### 1. wilcoxon signed rank test(윌콕슨 부호 순위 검정)"
   ]
  },
  {
   "cell_type": "markdown",
   "metadata": {},
   "source": [
    "- 정규분포를 따르지 않거나 분포 형태를 모를 경우 두 그룹의 평균이 같은지 여부를 비교하는 비모수적 분석 방법이다.\n",
    "- 표본의 크기가 작을 경우에 유용하다."
   ]
  },
  {
   "cell_type": "code",
   "execution_count": 26,
   "metadata": {},
   "outputs": [
    {
     "name": "stdout",
     "output_type": "stream",
     "text": [
      "통계량: 4.0\n",
      "p-값(p-value): 0.4375\n"
     ]
    }
   ],
   "source": [
    "import numpy as np\n",
    "from scipy.stats import wilcoxon\n",
    "\n",
    "# 데이터 생성\n",
    "before = np.array([3, 4, 6, 7, 9]) # 투약 전 약효과\n",
    "after = np.array([2, 5, 4, 8, 7]) # 투약 후 약효과\n",
    "\n",
    "# wilcoxon signed rank test 수행\n",
    "statistic, p_value = wilcoxon(before, after)\n",
    "\n",
    "print(\"통계량:\", statistic)\n",
    "print(\"p-값(p-value):\", p_value)"
   ]
  },
  {
   "cell_type": "code",
   "execution_count": 27,
   "metadata": {},
   "outputs": [
    {
     "name": "stdout",
     "output_type": "stream",
     "text": [
      "통계량: 24.0\n",
      "p-값 (p-value): 0.015873015873015872\n"
     ]
    }
   ],
   "source": [
    "import numpy as np\n",
    "from scipy.stats import mannwhitneyu\n",
    "\n",
    "# 데이터 생성\n",
    "group1 = np.array([15, 12, 18, 20, 16])\n",
    "group2 = np.array([10, 8, 13, 11, 9])\n",
    "\n",
    "# wilcoxon 순위 합 검정 수행\n",
    "statistic, p_value = mannwhitneyu(group1, group2)\n",
    "\n",
    "print(\"통계량:\", statistic)\n",
    "print(\"p-값 (p-value):\", p_value)"
   ]
  },
  {
   "cell_type": "markdown",
   "metadata": {},
   "source": [
    "### (5) 크루스칼 - 왈리스 검정"
   ]
  },
  {
   "cell_type": "code",
   "execution_count": 51,
   "metadata": {},
   "outputs": [
    {
     "name": "stdout",
     "output_type": "stream",
     "text": [
      "통계량: 10.858781362007175\n",
      "p-값 (p-value): 0.004385767320024921\n"
     ]
    }
   ],
   "source": [
    "import numpy as np\n",
    "from scipy.stats import kruskal\n",
    "\n",
    "# 데이터 생성\n",
    "group1 = np.array([4, 6, 8, 5, 7])\n",
    "group2 = np.array([9, 12, 11, 10, 14])\n",
    "group3 = np.array([3, 2, 1, 6, 5])\n",
    "\n",
    "# 크루스칼-왈리스 검정 수행\n",
    "statistic, p_value = kruskal(group1, group2, group3)\n",
    "\n",
    "print(\"통계량:\", statistic)\n",
    "print(\"p-값 (p-value):\", p_value)"
   ]
  },
  {
   "cell_type": "markdown",
   "metadata": {},
   "source": [
    "# 02 예제"
   ]
  },
  {
   "cell_type": "markdown",
   "metadata": {},
   "source": [
    "## 1. 제3유형 문제 예제"
   ]
  },
  {
   "cell_type": "markdown",
   "metadata": {},
   "source": [
    "### (1) t-검정"
   ]
  },
  {
   "cell_type": "code",
   "execution_count": 67,
   "metadata": {},
   "outputs": [
    {
     "name": "stdout",
     "output_type": "stream",
     "text": [
      "-2.28\n",
      "-2.0667\n",
      "0.0391\n"
     ]
    }
   ],
   "source": [
    "import pandas as pd\n",
    "from scipy.stats import ttest_ind\n",
    "\n",
    "titanic = pd.read_csv('titanic.csv')\n",
    "\n",
    "df = titanic.loc[:,['Survived', 'Age']]\n",
    "df2 = df.dropna()\n",
    "# print(df2.info())\n",
    "\n",
    "survived = df2[df2['Survived'] == 1]['Age']\n",
    "not_survived = df2[df2['Survived'] == 0]['Age']\n",
    "\n",
    "# 1.\n",
    "survived_mean = survived.mean()\n",
    "not_survived_mean = not_survived.mean()\n",
    "print(f\"{survived_mean-not_survived_mean:.2f}\")\n",
    "\n",
    "# 2.\n",
    "statistic, p_value = ttest_ind(survived, not_survived)\n",
    "print(f\"{statistic:.4f}\")\n",
    "\n",
    "# 3.\n",
    "print(f\"{p_value:.4f}\")\n",
    "\n",
    "# 4.\n",
    "# 기각"
   ]
  },
  {
   "cell_type": "markdown",
   "metadata": {},
   "source": [
    "### (2) 카이제곱 검정"
   ]
  },
  {
   "cell_type": "code",
   "execution_count": 84,
   "metadata": {},
   "outputs": [
    {
     "name": "stdout",
     "output_type": "stream",
     "text": [
      "Pclass\n",
      "1    0.629630\n",
      "2    0.472826\n",
      "3    0.242363\n",
      "dtype: float64\n",
      "102.89\n",
      "4.549251711298793e-23\n"
     ]
    }
   ],
   "source": [
    "import pandas as pd\n",
    "from scipy.stats import chi2_contingency\n",
    "\n",
    "titanic = pd.read_csv('titanic.csv')\n",
    "# print(titanic.info())\n",
    "\n",
    "# 1.\n",
    "cross_tab = pd.crosstab(titanic['Pclass'], titanic['Survived'])\n",
    "print(cross_tab[1] / (cross_tab[0] + cross_tab[1]))\n",
    "# print(df.groupby('Pclass').mean())\n",
    "\n",
    "# 2.\n",
    "stats, p_value, _, _ = chi2_contingency(cross_tab)\n",
    "print(f\"{stats:.2f}\")\n",
    "\n",
    "# 3.\n",
    "print(f\"{p_value}\")\n",
    "\n",
    "# 4.\n",
    "# 기각"
   ]
  },
  {
   "cell_type": "markdown",
   "metadata": {},
   "source": [
    "### (3) 적합성 검정"
   ]
  },
  {
   "cell_type": "code",
   "execution_count": 103,
   "metadata": {},
   "outputs": [
    {
     "name": "stdout",
     "output_type": "stream",
     "text": [
      "              Age\n",
      "Sex              \n",
      "female  14.110146\n",
      "male    14.678201\n",
      "77.6308\n",
      "1.2422095313910336e-18\n"
     ]
    }
   ],
   "source": [
    "import pandas as pd\n",
    "from scipy.stats import chisquare, chi2_contingency\n",
    "\n",
    "titanic = pd.read_csv('titanic.csv')\n",
    "# print(titanic.info())\n",
    "\n",
    "# 1.\n",
    "gender_age = titanic.loc[:, ['Sex', 'Age']]\n",
    "print(gender_age.groupby('Sex').std())\n",
    "\n",
    "# 2.\n",
    "gender = titanic['Sex']\n",
    "observed_freq = gender.value_counts()\n",
    "expected_freq = {'male' : 0.5*len(gender), 'female' : 0.5*len(gender)}\n",
    "expected_freq_adj = [expected_freq[i] for i in observed_freq.index]\n",
    "# print(observed_freq, expected_freq_adj)\n",
    "statistic, p_value = chisquare(observed_freq, expected_freq_adj)\n",
    "print(round(statistic, 4))\n",
    "\n",
    "# 3.\n",
    "print(p_value)\n",
    "\n",
    "# 4.\n",
    "# 기각"
   ]
  },
  {
   "cell_type": "markdown",
   "metadata": {},
   "source": [
    "### (4) 분산분석"
   ]
  },
  {
   "cell_type": "code",
   "execution_count": 134,
   "metadata": {},
   "outputs": [
    {
     "name": "stdout",
     "output_type": "stream",
     "text": [
      "       mpg\n",
      "cyl       \n",
      "4    26.66\n",
      "6    19.74\n",
      "8    15.10\n",
      "39.6975\n",
      "4.978919174400206e-09\n"
     ]
    }
   ],
   "source": [
    "import pandas as pd\n",
    "from scipy.stats import f_oneway\n",
    "\n",
    "mtcars = pd.read_csv('mtcars.csv')\n",
    "# print(mtcars.info())\n",
    "# print(mtcars['cyl'].value_counts()) # 4, 6, 8\n",
    "\n",
    "# 1.\n",
    "cyl_mpg = mtcars.loc[:, ['cyl', 'mpg']]\n",
    "result = round(cyl_mpg.groupby('cyl').mean(), 2)\n",
    "print(result)\n",
    "\n",
    "# 2.\n",
    "group1 = mtcars[mtcars['cyl'] == 4]['mpg']\n",
    "group2 = mtcars[mtcars['cyl'] == 6]['mpg']\n",
    "group3 = mtcars[mtcars['cyl'] == 8]['mpg']\n",
    "\n",
    "statistic, p_value = f_oneway(group1, group2, group3)\n",
    "print(round(statistic, 4))\n",
    "\n",
    "# 3.\n",
    "print(p_value)\n",
    "\n",
    "# 4.\n",
    "# 기각"
   ]
  },
  {
   "cell_type": "markdown",
   "metadata": {},
   "source": [
    "### (5) Mann-Whitney U"
   ]
  },
  {
   "cell_type": "code",
   "execution_count": 151,
   "metadata": {},
   "outputs": [
    {
     "name": "stdout",
     "output_type": "stream",
     "text": [
      "212\n",
      "236.0\n",
      "3.104346559654811e-05\n"
     ]
    }
   ],
   "source": [
    "import pandas as pd\n",
    "from scipy.stats import mannwhitneyu\n",
    "\n",
    "mtcars = pd.read_csv('mtcars.csv')\n",
    "# print(mtcars.info())\n",
    "\n",
    "# 1.\n",
    "group = mtcars.groupby('vs')['hp'].max()\n",
    "# print(group)\n",
    "print(group.iloc[0]-group.iloc[1])\n",
    "\n",
    "# 2.\n",
    "vs0 = mtcars[mtcars['vs'] == 0]['hp']\n",
    "vs1 = mtcars[mtcars['vs'] == 1]['hp']\n",
    "statistic, p_value = mannwhitneyu(vs0, vs1, alternative='two-sided')\n",
    "print(statistic)\n",
    "\n",
    "# 3.\n",
    "print(p_value)\n",
    "\n",
    "# 4.\n",
    "# 기각"
   ]
  },
  {
   "cell_type": "code",
   "execution_count": null,
   "metadata": {},
   "outputs": [],
   "source": []
  }
 ],
 "metadata": {
  "kernelspec": {
   "display_name": "Python 3",
   "language": "python",
   "name": "python3"
  },
  "language_info": {
   "codemirror_mode": {
    "name": "ipython",
    "version": 3
   },
   "file_extension": ".py",
   "mimetype": "text/x-python",
   "name": "python",
   "nbconvert_exporter": "python",
   "pygments_lexer": "ipython3",
   "version": "3.11.9"
  }
 },
 "nbformat": 4,
 "nbformat_minor": 2
}
