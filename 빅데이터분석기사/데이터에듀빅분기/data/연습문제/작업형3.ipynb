{
 "cells": [
  {
   "cell_type": "code",
   "execution_count": 19,
   "metadata": {},
   "outputs": [
    {
     "name": "stdout",
     "output_type": "stream",
     "text": [
      "-4.68\n",
      "-3.67\n",
      "0.001\n"
     ]
    }
   ],
   "source": [
    "import pandas as pd\n",
    "from scipy.stats import ttest_rel\n",
    "\n",
    "df = pd.read_csv('Rabbit_Five.csv')\n",
    "# print(df)\n",
    "\n",
    "MDL = df[df['Treatment'] == 'MDL']['BP_change'].reset_index(drop=True)\n",
    "Control = df[df['Treatment'] == 'Control']['BP_change'].reset_index(drop=True)\n",
    "\n",
    "diff = MDL - Control\n",
    "print(round(diff.mean(), 2))\n",
    "\n",
    "stat, p_value = ttest_rel(MDL, Control)\n",
    "print(round(stat, 2))\n",
    "\n",
    "print(round(p_value, 3)) # 기각"
   ]
  },
  {
   "cell_type": "markdown",
   "metadata": {},
   "source": [
    "안녕하세요\n",
    "\n",
    "우와 타닥타닥타닥타닥타닥타닥타닥 소리가 좋네요 우와 우와 키보드 좋은데 떼주세요\n",
    "키보드만 가져갈게요\n",
    "미리 감사합니다 ~! \n",
    "\n",
    "기다리고 있을게요 키보드 오는 날 까지 \n",
    "하하하하하하하\n",
    "\n",
    "ㅇ ㅏ  ㄴ  ㅕ  ㅎ ㅏ  ㅅ ㅔ  ㅇ\n",
    "  ㄴ      ㅇ                 ㅛ\n",
    "\n",
    "타닥타닥타닥 타닥 키보드 타닥타닥 타닥 타닥 주세요 타닥타닥타닥 효준님 타닥 타닥 타닥 타닥 \n",
    "타닥 타닥 타닥 효준님 기만이에요 타닥 타닥 타닥  타닥 타닥  타닥 타닥 타닥 타닥 타닥 타닥 타닥 \n",
    "타닥 타닥 타닥 효준님 저 발표할 때 잠깐 집에 가주세요 타닥  타닥 타닥 타닥 타닥 타닥 타닥 타닥 "
   ]
  }
 ],
 "metadata": {
  "kernelspec": {
   "display_name": "TORCH_TEXT_38",
   "language": "python",
   "name": "python3"
  },
  "language_info": {
   "codemirror_mode": {
    "name": "ipython",
    "version": 3
   },
   "file_extension": ".py",
   "mimetype": "text/x-python",
   "name": "python",
   "nbconvert_exporter": "python",
   "pygments_lexer": "ipython3",
   "version": "3.8.18"
  }
 },
 "nbformat": 4,
 "nbformat_minor": 2
}
