{
 "cells": [
  {
   "cell_type": "markdown",
   "metadata": {},
   "source": [
    "# 01."
   ]
  },
  {
   "cell_type": "code",
   "execution_count": 17,
   "metadata": {},
   "outputs": [
    {
     "name": "stdout",
     "output_type": "stream",
     "text": [
      "-4.68\n",
      "-3.67\n",
      "0.001\n",
      "기각\n"
     ]
    }
   ],
   "source": [
    "import pandas as pd\n",
    "from scipy.stats import ttest_rel\n",
    "\n",
    "df = pd.read_csv('Rabbit_Five.csv')\n",
    "# print(df)\n",
    "\n",
    "MDL = df[df['Treatment'] == 'MDL']['BP_change'].reset_index(drop=True)\n",
    "Control = df[df['Treatment'] == 'Control']['BP_change'].reset_index(drop=True)\n",
    "\n",
    "diff = MDL - Control\n",
    "print(round(diff.mean(), 2))\n",
    "\n",
    "stat, p_value = ttest_rel(MDL, Control)\n",
    "print(round(stat, 2))\n",
    "\n",
    "print(round(p_value, 3)) # 기각\n",
    "print('기각')"
   ]
  },
  {
   "cell_type": "markdown",
   "metadata": {},
   "source": [
    "# 02."
   ]
  },
  {
   "cell_type": "code",
   "execution_count": 16,
   "metadata": {},
   "outputs": [
    {
     "name": "stdout",
     "output_type": "stream",
     "text": [
      "2.43\n",
      "2.43\n",
      "0.043\n",
      "기각\n"
     ]
    }
   ],
   "source": [
    "import pandas as pd\n",
    "from scipy.stats import f\n",
    "\n",
    "df = pd.read_csv('mtcars2.csv')\n",
    "# print(df)\n",
    "\n",
    "am1 = df[df['am'] == 1]['hp']\n",
    "am0 = df[df['am'] == 0]['hp']\n",
    "\n",
    "var1 = am1.var(ddof=1)\n",
    "var0 = am0.var(ddof=1)\n",
    "\n",
    "# 1.\n",
    "print(round(var1/var0, 2))\n",
    "\n",
    "# 2.\n",
    "dof1 = len(am1) - 1\n",
    "dof0 = len(am0) - 1\n",
    "stat = var1 / var0\n",
    "print(round(stat, 2))\n",
    "\n",
    "# 3.\n",
    "p_value = 1 - f.cdf(stat, dof1, dof0)\n",
    "print(round(p_value, 3)) # 기각\n",
    "print('기각')"
   ]
  },
  {
   "cell_type": "markdown",
   "metadata": {},
   "source": [
    "# 03."
   ]
  },
  {
   "cell_type": "code",
   "execution_count": 36,
   "metadata": {},
   "outputs": [
    {
     "name": "stdout",
     "output_type": "stream",
     "text": [
      "15.74\n",
      "9\n",
      "0.148\n",
      "채택\n"
     ]
    }
   ],
   "source": [
    "import pandas as pd\n",
    "import numpy as np\n",
    "from scipy.stats import chi2_contingency\n",
    "\n",
    "df = pd.read_csv('고객_등급리스트.csv')\n",
    "df2 = df[['Segment', 'Region']]\n",
    "# print(df2)\n",
    "\n",
    "crosstab = pd.crosstab(df['Segment'], df['Region'])\n",
    "\n",
    "stat, p_value, dof, exp_freq = chi2_contingency(crosstab)\n",
    "\n",
    "# 1.\n",
    "print(round(exp_freq[1][2], 2))\n",
    "\n",
    "# 2.\n",
    "print(int(np.trunc(stat)))\n",
    "\n",
    "# 3.\n",
    "print(round(p_value, 3)) # 채택\n",
    "print('채택')"
   ]
  },
  {
   "cell_type": "markdown",
   "metadata": {},
   "source": [
    "# 04."
   ]
  },
  {
   "cell_type": "code",
   "execution_count": 56,
   "metadata": {},
   "outputs": [
    {
     "name": "stdout",
     "output_type": "stream",
     "text": [
      "19.05\n",
      "0.85\n",
      "0\n",
      "기각\n"
     ]
    }
   ],
   "source": [
    "import pandas as pd\n",
    "from scipy.stats import shapiro\n",
    "\n",
    "df = pd.read_csv('Cars93.csv')\n",
    "# print(df)\n",
    "#print(df.info())\n",
    "\n",
    "price = df['Price'].dropna()\n",
    "\n",
    "# 1.\n",
    "print(round(price.mean(), 2))\n",
    "\n",
    "# 2.\n",
    "stat, p_value = shapiro(price)\n",
    "print(round(stat, 2))\n",
    "\n",
    "# 3.\n",
    "print(int(round(p_value, 4)))\n",
    "print('기각')"
   ]
  },
  {
   "cell_type": "markdown",
   "metadata": {},
   "source": [
    "# 05."
   ]
  },
  {
   "cell_type": "code",
   "execution_count": 67,
   "metadata": {},
   "outputs": [
    {
     "name": "stdout",
     "output_type": "stream",
     "text": [
      "-0.502\n",
      "-5.54\n",
      "0\n",
      "기각\n"
     ]
    }
   ],
   "source": [
    "import pandas as pd\n",
    "import numpy as np\n",
    "from scipy.stats import pearsonr\n",
    "\n",
    "df = pd.read_csv('Cars93.csv')\n",
    "# print(df.info())\n",
    "df2 = df[['Rev_per_mile', 'Horsepower']]\n",
    "# print(df2.info())\n",
    "# print(df2)\n",
    "\n",
    "# 1.\n",
    "corr, p_value = pearsonr(df['Rev_per_mile'], df['Horsepower'])\n",
    "print(round(corr, 3))\n",
    "\n",
    "# 2.\n",
    "stat = corr * np.sqrt(len(df2) - 2) / np.sqrt(1 - corr**2)\n",
    "print(round(stat, 2))\n",
    "\n",
    "# 3.\n",
    "print(int(round(p_value, 4)))\n",
    "print('기각')"
   ]
  },
  {
   "cell_type": "markdown",
   "metadata": {},
   "source": [
    "# 06."
   ]
  },
  {
   "cell_type": "code",
   "execution_count": 94,
   "metadata": {},
   "outputs": [
    {
     "name": "stdout",
     "output_type": "stream",
     "text": [
      "0.995\n",
      "-127.496\n",
      "0.97\n",
      "3\n"
     ]
    }
   ],
   "source": [
    "import pandas as pd\n",
    "from sklearn.decomposition import PCA\n",
    "\n",
    "df = pd.read_csv('USArrests.csv')\n",
    "# print(df) # Murder, Assault, UrbanPop, Rape\n",
    "\n",
    "pca = PCA(n_components = 4)\n",
    "score = pca.fit_transform(df)\n",
    "\n",
    "# 1.\n",
    "print(round(pca.components_[0][1], 3))\n",
    "\n",
    "# 2.\n",
    "print(round(score[33][0], 3))\n",
    "\n",
    "# 3.\n",
    "print(round(pca.explained_variance_ratio_[0], 2))\n",
    "print(3)"
   ]
  },
  {
   "cell_type": "markdown",
   "metadata": {},
   "source": [
    "# 07."
   ]
  },
  {
   "cell_type": "code",
   "execution_count": 137,
   "metadata": {},
   "outputs": [
    {
     "name": "stdout",
     "output_type": "stream",
     "text": [
      "0.396\n",
      "0.0023\n",
      "0.1576\n",
      "0.005\n"
     ]
    }
   ],
   "source": [
    "import pandas as pd\n",
    "import statsmodels.api as sm\n",
    "\n",
    "df = pd.read_csv('Cars93.csv')\n",
    "# print(df.info())\n",
    "df2 = df[['Rev_per_mile', 'Weight', 'Length', 'EngineSize', 'Price']].dropna()\n",
    "# print(df2.info())\n",
    "X = df2[['Rev_per_mile', 'Weight', 'Length', 'EngineSize']]\n",
    "X = sm.add_constant(X)\n",
    "y = df2['Price']\n",
    "\n",
    "\n",
    "result = sm.OLS(y, X).fit()\n",
    "# print(result.summary())\n",
    "\n",
    "# 1.\n",
    "print(round(result.rsquared, 3))\n",
    "\n",
    "# 2.\n",
    "print(round(result.params['Weight'], 4))\n",
    "\n",
    "# 3.\n",
    "print(round(result.pvalues['Weight'], 4)) # 유의하지 않다\n",
    "\n",
    "# 4.\n",
    "# print(dir(result))\n",
    "print(round(result.conf_int().loc['Weight'][1], 3))"
   ]
  },
  {
   "cell_type": "markdown",
   "metadata": {},
   "source": [
    "# 08."
   ]
  },
  {
   "cell_type": "code",
   "execution_count": 41,
   "metadata": {},
   "outputs": [
    {
     "name": "stdout",
     "output_type": "stream",
     "text": [
      "-0.808\n",
      "0.854\n",
      "0\n"
     ]
    }
   ],
   "source": [
    "import pandas as pd\n",
    "import statsmodels.api as sm\n",
    "import numpy as np\n",
    "\n",
    "df = pd.read_csv('job.csv')\n",
    "# print(df)\n",
    "\n",
    "gender_dict = {'M' : 1, 'F' : 0}\n",
    "df['x2'] = df['x2'].apply(lambda x : gender_dict[x])\n",
    "# print(df)\n",
    "\n",
    "X = df[['x1', 'x2', 'x3']]\n",
    "X = sm.add_constant(X)\n",
    "y = df['y']\n",
    "\n",
    "result = sm.GLM(y, X, family=sm.families.Binomial()).fit()\n",
    "# print(result.summary())\n",
    "\n",
    "# 1.\n",
    "print(round(result.params['const'], 3))\n",
    "\n",
    "# 2.\n",
    "# print(result.summary())\n",
    "print(round(np.exp(result.params['x2']), 3))\n",
    "\n",
    "# 3.\n",
    "print(1 if result.predict(X.iloc[8]).values[0] > 0.7 else 0)"
   ]
  },
  {
   "cell_type": "markdown",
   "metadata": {},
   "source": [
    "# 09."
   ]
  },
  {
   "cell_type": "code",
   "execution_count": null,
   "metadata": {},
   "outputs": [
    {
     "name": "stdout",
     "output_type": "stream",
     "text": [
      "16.542\n"
     ]
    }
   ],
   "source": [
    "import pandas as pd\n",
    "from scipy.stats import bartlett\n",
    "\n",
    "df = pd.read_csv('영화_순위리스트.csv', encoding='cp949')\n",
    "# print(df)\n",
    "# print(df.info())\n",
    "# print(df[['장르', '예산']])\n",
    "\n",
    "# 1.\n",
    "N = len(df)\n",
    "k = len(df['장르'].unique())\n",
    "budget_thril = df[df['장르'] == 'Thriller']['예산']\n",
    "budget_drama = df[df['장르'] == 'Drama']['예산']\n",
    "budget_comedy = df[df['장르'] == 'Comedy']['예산']\n",
    "budget_action = df[df['장르'] == 'Action']['예산']\n",
    "\n",
    "budget_list = [budget_thril, budget_drama, budget_comedy, budget_action]\n",
    "\n",
    "s_thril = budget_thril.var(ddof=1)\n",
    "s_drama = budget_drama.var(ddof=1)\n",
    "s_comedy = budget_comedy.var(ddof=1)\n",
    "s_action = budget_action.var(ddof=1)\n",
    "\n",
    "s_list = [s_thril, s_drama, s_comedy, s_action]\n",
    "\n",
    "s_p = 0\n",
    "for i in range(4):\n",
    "    s_p += (1/(N-k))*(len(budget_list[i])-1)*s_list[i]\n",
    "\n",
    "print(round(np.log(s_p), 3))\n",
    "\n",
    "# 2.\n",
    "print(bartlett())"
   ]
  },
  {
   "cell_type": "code",
   "execution_count": null,
   "metadata": {},
   "outputs": [],
   "source": []
  },
  {
   "cell_type": "code",
   "execution_count": null,
   "metadata": {},
   "outputs": [],
   "source": []
  },
  {
   "cell_type": "code",
   "execution_count": null,
   "metadata": {},
   "outputs": [],
   "source": []
  },
  {
   "cell_type": "markdown",
   "metadata": {},
   "source": [
    "안녕하세요\n",
    "\n",
    "우와 타닥타닥타닥타닥타닥타닥타닥 소리가 좋네요 우와 우와 키보드 좋은데 떼주세요\n",
    "키보드만 가져갈게요\n",
    "미리 감사합니다 ~! \n",
    "\n",
    "기다리고 있을게요 키보드 오는 날 까지 \n",
    "하하하하하하하\n",
    "\n",
    "ㅇ ㅏ  ㄴ  ㅕ  ㅎ ㅏ  ㅅ ㅔ  ㅇ\n",
    "  ㄴ      ㅇ                 ㅛ\n",
    "\n",
    "타닥타닥타닥 타닥 키보드 타닥타닥 타닥 타닥 주세요 타닥타닥타닥 효준님 타닥 타닥 타닥 타닥 \n",
    "타닥 타닥 타닥 효준님 기만이에요 타닥 타닥 타닥  타닥 타닥  타닥 타닥 타닥 타닥 타닥 타닥 타닥 \n",
    "타닥 타닥 타닥 효준님 저 발표할 때 잠깐 집에 가주세요 타닥  타닥 타닥 타닥 타닥 타닥 타닥 타닥 "
   ]
  }
 ],
 "metadata": {
  "kernelspec": {
   "display_name": "Python 3",
   "language": "python",
   "name": "python3"
  },
  "language_info": {
   "codemirror_mode": {
    "name": "ipython",
    "version": 3
   },
   "file_extension": ".py",
   "mimetype": "text/x-python",
   "name": "python",
   "nbconvert_exporter": "python",
   "pygments_lexer": "ipython3",
   "version": "3.11.9"
  }
 },
 "nbformat": 4,
 "nbformat_minor": 2
}
