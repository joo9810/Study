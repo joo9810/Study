{
 "cells": [
  {
   "cell_type": "markdown",
   "metadata": {},
   "source": [
    "# 제 1유형"
   ]
  },
  {
   "cell_type": "code",
   "execution_count": 9,
   "metadata": {},
   "outputs": [
    {
     "name": "stdout",
     "output_type": "stream",
     "text": [
      "33\n"
     ]
    }
   ],
   "source": [
    "import pandas as pd\n",
    "\n",
    "df = pd.read_csv('USArrests.csv')\n",
    "# print(df)\n",
    "\n",
    "urban60 = df[df['UrbanPop'] >= 60]\n",
    "# print(urban60)\n",
    "\n",
    "result = urban60['Assault'] / (urban60['Murder'] + urban60['Assault'])\n",
    "print(len(result))"
   ]
  },
  {
   "cell_type": "code",
   "execution_count": null,
   "metadata": {},
   "outputs": [
    {
     "name": "stdout",
     "output_type": "stream",
     "text": [
      "-0.453\n"
     ]
    }
   ],
   "source": [
    "import pandas as pd\n",
    "\n",
    "df = pd.read_csv('swiss.csv')\n",
    "# print(df)\n",
    "\n",
    "sorted_df = df.sort_values('Fertility').reset_index()\n",
    "sorted_df.index = list(range(1, len(sorted_df) + 1))\n",
    "# print(sorted_df)\n",
    "\n",
    "odd_df = sorted_df.iloc[::2]\n",
    "# print(odd_df)\n",
    "even_df = sorted_df.iloc[1::2]\n",
    "# print(even_df)\n",
    "\n",
    "print(round(odd_df['Fertility'].mean() - even_df['Fertility'].mean(), 3))"
   ]
  },
  {
   "cell_type": "code",
   "execution_count": 43,
   "metadata": {},
   "outputs": [
    {
     "name": "stdout",
     "output_type": "stream",
     "text": [
      "24\n"
     ]
    }
   ],
   "source": [
    "import pandas as pd\n",
    "\n",
    "df = pd.read_csv('CO2.csv')\n",
    "# print(df['Type'].value_counts())\n",
    "df['Type'] = df['Type'].apply(lambda x : x.replace('/', ''))\n",
    "# print(df['Type'].value_counts())\n",
    "\n",
    "conc2 = []\n",
    "for i in df['conc']:\n",
    "    i = str(i)\n",
    "    if len(i) >= 3:\n",
    "        if i[-1] == '5' or i[-3] == '5':\n",
    "            conc2.append(True)\n",
    "        else:\n",
    "            conc2.append(False)\n",
    "    else:\n",
    "        if i[-1] == '5':\n",
    "            conc2.append(True)\n",
    "        else:\n",
    "            conc2.append(False)\n",
    "\n",
    "df['conc2'] = conc2\n",
    "# print(df)\n",
    "\n",
    "result = df[(df['Type'] == 'Mississippi') & (df['conc2'] == True)]\n",
    "print(len(result))\n"
   ]
  },
  {
   "cell_type": "code",
   "execution_count": null,
   "metadata": {},
   "outputs": [
    {
     "data": {
      "text/html": [
       "<div>\n",
       "<style scoped>\n",
       "    .dataframe tbody tr th:only-of-type {\n",
       "        vertical-align: middle;\n",
       "    }\n",
       "\n",
       "    .dataframe tbody tr th {\n",
       "        vertical-align: top;\n",
       "    }\n",
       "\n",
       "    .dataframe thead th {\n",
       "        text-align: right;\n",
       "    }\n",
       "</style>\n",
       "<table border=\"1\" class=\"dataframe\">\n",
       "  <thead>\n",
       "    <tr style=\"text-align: right;\">\n",
       "      <th></th>\n",
       "      <th>Type</th>\n",
       "      <th>Treatment</th>\n",
       "      <th>conc</th>\n",
       "      <th>uptake</th>\n",
       "      <th>conc2</th>\n",
       "    </tr>\n",
       "  </thead>\n",
       "  <tbody>\n",
       "  </tbody>\n",
       "</table>\n",
       "</div>"
      ],
      "text/plain": [
       "Empty DataFrame\n",
       "Columns: [Type, Treatment, conc, uptake, conc2]\n",
       "Index: []"
      ]
     },
     "execution_count": 36,
     "metadata": {},
     "output_type": "execute_result"
    }
   ],
   "source": []
  },
  {
   "cell_type": "markdown",
   "metadata": {},
   "source": [
    "# 제 3유형"
   ]
  },
  {
   "cell_type": "code",
   "execution_count": 19,
   "metadata": {},
   "outputs": [
    {
     "name": "stdout",
     "output_type": "stream",
     "text": [
      "87\n",
      "10\n",
      "0.0404\n",
      "기각\n"
     ]
    }
   ],
   "source": [
    "import pandas as pd\n",
    "from scipy.stats import *\n",
    "\n",
    "df = pd.read_csv('survey.csv', encoding='cp949')\n",
    "# print(df)\n",
    "\n",
    "man = df[df['성별'] == '남']['1번문항']\n",
    "woman = df[df['성별'] == '여']['1번문항']\n",
    "\n",
    "# print(man.value_counts())\n",
    "# print(woman.value_counts())\n",
    "\n",
    "# print(df.isna().sum())\n",
    "\n",
    "crosstab = pd.crosstab(df['성별'], df['1번문항'])\n",
    "\n",
    "stat, pvalue, dof, exp_freq = chi2_contingency(crosstab)\n",
    "\n",
    "# print(crosstab)\n",
    "\n",
    "# (a)\n",
    "print(int(exp_freq[0][2]))\n",
    "\n",
    "# (b)\n",
    "print(int(stat))\n",
    "\n",
    "# (c)\n",
    "print(round(pvalue, 4))\n",
    "print('기각')"
   ]
  },
  {
   "cell_type": "code",
   "execution_count": null,
   "metadata": {},
   "outputs": [],
   "source": []
  }
 ],
 "metadata": {
  "kernelspec": {
   "display_name": "Python 3",
   "language": "python",
   "name": "python3"
  },
  "language_info": {
   "codemirror_mode": {
    "name": "ipython",
    "version": 3
   },
   "file_extension": ".py",
   "mimetype": "text/x-python",
   "name": "python",
   "nbconvert_exporter": "python",
   "pygments_lexer": "ipython3",
   "version": "3.11.9"
  }
 },
 "nbformat": 4,
 "nbformat_minor": 2
}
