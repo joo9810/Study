{
 "cells": [
  {
   "cell_type": "markdown",
   "metadata": {},
   "source": [
    "# 제 1유형"
   ]
  },
  {
   "cell_type": "code",
   "execution_count": 66,
   "metadata": {},
   "outputs": [
    {
     "name": "stdout",
     "output_type": "stream",
     "text": [
      "1111.35\n"
     ]
    }
   ],
   "source": [
    "import pandas as pd\n",
    "\n",
    "df = pd.read_csv('economics.csv', encoding='euc_kr')\n",
    "\n",
    "# print(df)\n",
    "# df.info() # 결측치 없음\n",
    "# print(df['데이터수집월'].value_counts())\n",
    "\n",
    "df['데이터수집년'] = df['데이터수집월'].apply(lambda x : x.replace(' ', '').split('-')[0])\n",
    "\n",
    "group = df[['데이터수집년', '실업자수_천명']].groupby('데이터수집년').mean()\n",
    "# print(group.sort_values('실업자수_천명', ascending=False)) # 2010년\n",
    "\n",
    "df2010 = df[df['데이터수집년'] == '2010'].copy()\n",
    "df2010['실업자수_만명'] = df2010['실업자수_천명'].apply(lambda x : x*0.1)\n",
    "print(round(df2010['실업자수_만명'].var(), 2))"
   ]
  },
  {
   "cell_type": "code",
   "execution_count": 23,
   "metadata": {},
   "outputs": [
    {
     "name": "stdout",
     "output_type": "stream",
     "text": [
      "1101\n"
     ]
    }
   ],
   "source": [
    "import pandas as pd\n",
    "\n",
    "df = pd.read_csv('Airline.csv')\n",
    "# print(df)\n",
    "# print(df.info()) # 결측치 없음\n",
    "# print(df['Ages'].value_counts())\n",
    "df['Ages'] = df['Ages'].replace({'[10, 20)' : '10_19', '[20, 30)' : '20_29',\n",
    "                                 '[40, 50)' : '40_49', '[50, 60)' : '50_59'})\n",
    "# print(df['Ages'].value_counts())\n",
    "\n",
    "# print(df['Departure_Delay_in_Minutes'].value_counts())\n",
    "\n",
    "df2 = df[['Ages', 'Departure_Delay_in_Minutes']]\n",
    "# print(df2)\n",
    "\n",
    "# print(df2.groupby('Ages').mean())\n",
    "\n",
    "df_50_59 = df[df['Ages'] == '50_59']\n",
    "print(len(df_50_59[df_50_59['Customer_Type'] == 'L']))"
   ]
  },
  {
   "cell_type": "code",
   "execution_count": 72,
   "metadata": {},
   "outputs": [
    {
     "name": "stdout",
     "output_type": "stream",
     "text": [
      "427\n"
     ]
    },
    {
     "data": {
      "text/html": [
       "<div>\n",
       "<style scoped>\n",
       "    .dataframe tbody tr th:only-of-type {\n",
       "        vertical-align: middle;\n",
       "    }\n",
       "\n",
       "    .dataframe tbody tr th {\n",
       "        vertical-align: top;\n",
       "    }\n",
       "\n",
       "    .dataframe thead th {\n",
       "        text-align: right;\n",
       "    }\n",
       "</style>\n",
       "<table border=\"1\" class=\"dataframe\">\n",
       "  <thead>\n",
       "    <tr style=\"text-align: right;\">\n",
       "      <th></th>\n",
       "      <th>자전거ID</th>\n",
       "      <th>대여일시</th>\n",
       "      <th>대여소번호</th>\n",
       "      <th>대여소명</th>\n",
       "      <th>이용시간</th>\n",
       "      <th>이용거리</th>\n",
       "      <th>시간</th>\n",
       "    </tr>\n",
       "  </thead>\n",
       "  <tbody>\n",
       "    <tr>\n",
       "      <th>0</th>\n",
       "      <td>SPB-48602</td>\n",
       "      <td>2022-06-01 11:01</td>\n",
       "      <td>438</td>\n",
       "      <td>성산2-1 공영주차장</td>\n",
       "      <td>48</td>\n",
       "      <td>3810.00</td>\n",
       "      <td>11</td>\n",
       "    </tr>\n",
       "    <tr>\n",
       "      <th>2</th>\n",
       "      <td>SPB-35010</td>\n",
       "      <td>2022-06-01 11:02</td>\n",
       "      <td>441</td>\n",
       "      <td>염천교사거리</td>\n",
       "      <td>9</td>\n",
       "      <td>1242.03</td>\n",
       "      <td>11</td>\n",
       "    </tr>\n",
       "    <tr>\n",
       "      <th>3</th>\n",
       "      <td>SPB-54599</td>\n",
       "      <td>2022-06-01 11:03</td>\n",
       "      <td>427</td>\n",
       "      <td>성산시영아파트</td>\n",
       "      <td>169</td>\n",
       "      <td>8734.45</td>\n",
       "      <td>11</td>\n",
       "    </tr>\n",
       "    <tr>\n",
       "      <th>4</th>\n",
       "      <td>SPB-60921</td>\n",
       "      <td>2022-06-01 11:03</td>\n",
       "      <td>427</td>\n",
       "      <td>성산시영아파트</td>\n",
       "      <td>169</td>\n",
       "      <td>11110.00</td>\n",
       "      <td>11</td>\n",
       "    </tr>\n",
       "    <tr>\n",
       "      <th>12</th>\n",
       "      <td>SPB-32109</td>\n",
       "      <td>2022-06-01 11:05</td>\n",
       "      <td>479</td>\n",
       "      <td>동대입구역 3번 출구</td>\n",
       "      <td>91</td>\n",
       "      <td>869.39</td>\n",
       "      <td>11</td>\n",
       "    </tr>\n",
       "    <tr>\n",
       "      <th>...</th>\n",
       "      <td>...</td>\n",
       "      <td>...</td>\n",
       "      <td>...</td>\n",
       "      <td>...</td>\n",
       "      <td>...</td>\n",
       "      <td>...</td>\n",
       "      <td>...</td>\n",
       "    </tr>\n",
       "    <tr>\n",
       "      <th>181</th>\n",
       "      <td>SPB-36496</td>\n",
       "      <td>2022-06-01 11:55</td>\n",
       "      <td>421</td>\n",
       "      <td>마포구청 앞</td>\n",
       "      <td>7</td>\n",
       "      <td>930.85</td>\n",
       "      <td>11</td>\n",
       "    </tr>\n",
       "    <tr>\n",
       "      <th>184</th>\n",
       "      <td>SPB-60190</td>\n",
       "      <td>2022-06-01 11:56</td>\n",
       "      <td>440</td>\n",
       "      <td>하늘공원 입구</td>\n",
       "      <td>18</td>\n",
       "      <td>2950.00</td>\n",
       "      <td>11</td>\n",
       "    </tr>\n",
       "    <tr>\n",
       "      <th>189</th>\n",
       "      <td>SPB-54868</td>\n",
       "      <td>2022-06-01 11:58</td>\n",
       "      <td>412</td>\n",
       "      <td>DMC산학협력연구센터 앞</td>\n",
       "      <td>5</td>\n",
       "      <td>570.00</td>\n",
       "      <td>11</td>\n",
       "    </tr>\n",
       "    <tr>\n",
       "      <th>193</th>\n",
       "      <td>SPB-58208</td>\n",
       "      <td>2022-06-01 11:58</td>\n",
       "      <td>401</td>\n",
       "      <td>상암월드컵파크 10단지 앞</td>\n",
       "      <td>6</td>\n",
       "      <td>1030.00</td>\n",
       "      <td>11</td>\n",
       "    </tr>\n",
       "    <tr>\n",
       "      <th>195</th>\n",
       "      <td>SPB-32944</td>\n",
       "      <td>2022-06-01 11:59</td>\n",
       "      <td>402</td>\n",
       "      <td>상암월드컵파크 9단지 앞</td>\n",
       "      <td>11</td>\n",
       "      <td>1580.98</td>\n",
       "      <td>11</td>\n",
       "    </tr>\n",
       "  </tbody>\n",
       "</table>\n",
       "<p>63 rows × 7 columns</p>\n",
       "</div>"
      ],
      "text/plain": [
       "         자전거ID              대여일시 대여소번호            대여소명  이용시간      이용거리  시간\n",
       "0    SPB-48602  2022-06-01 11:01   438     성산2-1 공영주차장    48   3810.00  11\n",
       "2    SPB-35010  2022-06-01 11:02   441          염천교사거리     9   1242.03  11\n",
       "3    SPB-54599  2022-06-01 11:03   427         성산시영아파트   169   8734.45  11\n",
       "4    SPB-60921  2022-06-01 11:03   427         성산시영아파트   169  11110.00  11\n",
       "12   SPB-32109  2022-06-01 11:05   479     동대입구역 3번 출구    91    869.39  11\n",
       "..         ...               ...   ...             ...   ...       ...  ..\n",
       "181  SPB-36496  2022-06-01 11:55   421          마포구청 앞     7    930.85  11\n",
       "184  SPB-60190  2022-06-01 11:56   440         하늘공원 입구    18   2950.00  11\n",
       "189  SPB-54868  2022-06-01 11:58   412   DMC산학협력연구센터 앞     5    570.00  11\n",
       "193  SPB-58208  2022-06-01 11:58   401  상암월드컵파크 10단지 앞     6   1030.00  11\n",
       "195  SPB-32944  2022-06-01 11:59   402   상암월드컵파크 9단지 앞    11   1580.98  11\n",
       "\n",
       "[63 rows x 7 columns]"
      ]
     },
     "execution_count": 72,
     "metadata": {},
     "output_type": "execute_result"
    }
   ],
   "source": [
    "import pandas as pd\n",
    "\n",
    "df = pd.read_csv('spb_daily.csv', encoding='cp949')\n",
    "# print(df)\n",
    "# print(df.info())\n",
    "\n",
    "df['시간'] = df['대여일시'].apply(lambda x : x[-5:-3])\n",
    "# print(df)\n",
    "# print(df['시간'].value_counts())\n",
    "\n",
    "df2 = df[['시간', '이용시간']]\n",
    "# print(df2)\n",
    "# print(df2['이용시간'].unique())\n",
    "\n",
    "\n",
    "groupby = df2.groupby('시간').mean()\n",
    "# print(groupby.sort_values('이용시간', ascending=False)) # 11시\n",
    "\n",
    "df11 = df[df['시간'] == '11'].copy()\n",
    "# print(df11.info())\n",
    "# print(df11)\n",
    "# print(df11['대여소번호'].unique())\n",
    "df11['대여소번호'] = df11['대여소번호'].apply(lambda x : x.replace(' ', ''))\n",
    "# print(df11['대여소번호'].unique())\n",
    "\n",
    "df400 = df11[df11['대여소번호'].apply(lambda x : x[0]) == '4']\n",
    "# print(df400)\n",
    "\n",
    "df3 = df400[['대여소번호', '이용거리']]\n",
    "# print(df3)\n",
    "groupby2 = df3.groupby('대여소번호').sum()\n",
    "print(groupby2.sort_values('이용거리', ascending=False).index[0])\n",
    "\n",
    "df400\n"
   ]
  },
  {
   "cell_type": "markdown",
   "metadata": {},
   "source": [
    "# 제 2유형"
   ]
  },
  {
   "cell_type": "code",
   "execution_count": null,
   "metadata": {},
   "outputs": [],
   "source": []
  },
  {
   "cell_type": "markdown",
   "metadata": {},
   "source": [
    "# 제 3유형"
   ]
  },
  {
   "cell_type": "code",
   "execution_count": 166,
   "metadata": {},
   "outputs": [
    {
     "name": "stdout",
     "output_type": "stream",
     "text": [
      "0.08 1.09 3256 1\n"
     ]
    }
   ],
   "source": [
    "import pandas as pd\n",
    "\n",
    "df = pd.read_csv('satisfy.csv', encoding='cp949')\n",
    "# print(df)\n",
    "\n",
    "import statsmodels.api as sm\n",
    "import numpy as np\n",
    "from scipy.stats import *\n",
    "\n",
    "df2 = pd.get_dummies(df, columns=['성별', '등급'], drop_first=False)\n",
    "# print(df2)\n",
    "\n",
    "y = df2['만족']\n",
    "X = df2[['성별_M', '등급_B', '등급_S']].astype(int)\n",
    "# print(X)\n",
    "X = sm.add_constant(X)\n",
    "# print(X)\n",
    "\n",
    "model = sm.GLM(y, X, family = sm.families.Binomial())\n",
    "result = model.fit()\n",
    "\n",
    "# print(result.summary())\n",
    "# print(dir(result))\n",
    "\n",
    "# (a)\n",
    "coef = result.params.values[1]\n",
    "# print(round(coef, 2))\n",
    "\n",
    "# (b)\n",
    "odds_ratio = np.exp(coef)\n",
    "# print(round(odds_ratio, 2))\n",
    "\n",
    "# (c)\n",
    "deviance = result.deviance\n",
    "# print(int(deviance))\n",
    "\n",
    "# (d)\n",
    "stat = result.null_deviance - result.deviance\n",
    "dof = 3\n",
    "pvalue = 1 - chi2.cdf(stat, dof)\n",
    "# print(pvalue)\n",
    "# print(1)\n",
    "\n",
    "print(round(coef, 2), round(odds_ratio, 2), 3256, 1)"
   ]
  },
  {
   "cell_type": "code",
   "execution_count": 165,
   "metadata": {},
   "outputs": [
    {
     "data": {
      "text/plain": [
       "3847.7697520554716"
      ]
     },
     "execution_count": 165,
     "metadata": {},
     "output_type": "execute_result"
    }
   ],
   "source": [
    "result.null_deviance"
   ]
  },
  {
   "cell_type": "code",
   "execution_count": 131,
   "metadata": {},
   "outputs": [
    {
     "ename": "KeyError",
     "evalue": "\"['성별_F'] not in index\"",
     "output_type": "error",
     "traceback": [
      "\u001b[1;31m---------------------------------------------------------------------------\u001b[0m",
      "\u001b[1;31mKeyError\u001b[0m                                  Traceback (most recent call last)",
      "Cell \u001b[1;32mIn[131], line 13\u001b[0m\n\u001b[0;32m     10\u001b[0m df2 \u001b[38;5;241m=\u001b[39m pd\u001b[38;5;241m.\u001b[39mget_dummies(df, columns\u001b[38;5;241m=\u001b[39m[\u001b[38;5;124m'\u001b[39m\u001b[38;5;124m성별\u001b[39m\u001b[38;5;124m'\u001b[39m, \u001b[38;5;124m'\u001b[39m\u001b[38;5;124m등급\u001b[39m\u001b[38;5;124m'\u001b[39m], drop_first\u001b[38;5;241m=\u001b[39m\u001b[38;5;28;01mTrue\u001b[39;00m)\n\u001b[0;32m     12\u001b[0m y \u001b[38;5;241m=\u001b[39m df2[\u001b[38;5;124m'\u001b[39m\u001b[38;5;124m만족\u001b[39m\u001b[38;5;124m'\u001b[39m]\n\u001b[1;32m---> 13\u001b[0m X \u001b[38;5;241m=\u001b[39m \u001b[43mdf2\u001b[49m\u001b[43m[\u001b[49m\u001b[43m[\u001b[49m\u001b[38;5;124;43m'\u001b[39;49m\u001b[38;5;124;43m성별_F\u001b[39;49m\u001b[38;5;124;43m'\u001b[39;49m\u001b[43m,\u001b[49m\u001b[43m \u001b[49m\u001b[38;5;124;43m'\u001b[39;49m\u001b[38;5;124;43m등급_B\u001b[39;49m\u001b[38;5;124;43m'\u001b[39;49m\u001b[43m,\u001b[49m\u001b[43m \u001b[49m\u001b[38;5;124;43m'\u001b[39;49m\u001b[38;5;124;43m등급_S\u001b[39;49m\u001b[38;5;124;43m'\u001b[39;49m\u001b[43m]\u001b[49m\u001b[43m]\u001b[49m\u001b[38;5;241m.\u001b[39mastype(\u001b[38;5;28mint\u001b[39m)  \u001b[38;5;66;03m# 성별_F를 모델에 포함\u001b[39;00m\n\u001b[0;32m     14\u001b[0m X \u001b[38;5;241m=\u001b[39m sm\u001b[38;5;241m.\u001b[39madd_constant(X)\n\u001b[0;32m     16\u001b[0m \u001b[38;5;66;03m# 모델 생성 및 결과 출력\u001b[39;00m\n",
      "File \u001b[1;32m~\\AppData\\Local\\Packages\\PythonSoftwareFoundation.Python.3.11_qbz5n2kfra8p0\\LocalCache\\local-packages\\Python311\\site-packages\\pandas\\core\\frame.py:4108\u001b[0m, in \u001b[0;36mDataFrame.__getitem__\u001b[1;34m(self, key)\u001b[0m\n\u001b[0;32m   4106\u001b[0m     \u001b[38;5;28;01mif\u001b[39;00m is_iterator(key):\n\u001b[0;32m   4107\u001b[0m         key \u001b[38;5;241m=\u001b[39m \u001b[38;5;28mlist\u001b[39m(key)\n\u001b[1;32m-> 4108\u001b[0m     indexer \u001b[38;5;241m=\u001b[39m \u001b[38;5;28;43mself\u001b[39;49m\u001b[38;5;241;43m.\u001b[39;49m\u001b[43mcolumns\u001b[49m\u001b[38;5;241;43m.\u001b[39;49m\u001b[43m_get_indexer_strict\u001b[49m\u001b[43m(\u001b[49m\u001b[43mkey\u001b[49m\u001b[43m,\u001b[49m\u001b[43m \u001b[49m\u001b[38;5;124;43m\"\u001b[39;49m\u001b[38;5;124;43mcolumns\u001b[39;49m\u001b[38;5;124;43m\"\u001b[39;49m\u001b[43m)\u001b[49m[\u001b[38;5;241m1\u001b[39m]\n\u001b[0;32m   4110\u001b[0m \u001b[38;5;66;03m# take() does not accept boolean indexers\u001b[39;00m\n\u001b[0;32m   4111\u001b[0m \u001b[38;5;28;01mif\u001b[39;00m \u001b[38;5;28mgetattr\u001b[39m(indexer, \u001b[38;5;124m\"\u001b[39m\u001b[38;5;124mdtype\u001b[39m\u001b[38;5;124m\"\u001b[39m, \u001b[38;5;28;01mNone\u001b[39;00m) \u001b[38;5;241m==\u001b[39m \u001b[38;5;28mbool\u001b[39m:\n",
      "File \u001b[1;32m~\\AppData\\Local\\Packages\\PythonSoftwareFoundation.Python.3.11_qbz5n2kfra8p0\\LocalCache\\local-packages\\Python311\\site-packages\\pandas\\core\\indexes\\base.py:6200\u001b[0m, in \u001b[0;36mIndex._get_indexer_strict\u001b[1;34m(self, key, axis_name)\u001b[0m\n\u001b[0;32m   6197\u001b[0m \u001b[38;5;28;01melse\u001b[39;00m:\n\u001b[0;32m   6198\u001b[0m     keyarr, indexer, new_indexer \u001b[38;5;241m=\u001b[39m \u001b[38;5;28mself\u001b[39m\u001b[38;5;241m.\u001b[39m_reindex_non_unique(keyarr)\n\u001b[1;32m-> 6200\u001b[0m \u001b[38;5;28;43mself\u001b[39;49m\u001b[38;5;241;43m.\u001b[39;49m\u001b[43m_raise_if_missing\u001b[49m\u001b[43m(\u001b[49m\u001b[43mkeyarr\u001b[49m\u001b[43m,\u001b[49m\u001b[43m \u001b[49m\u001b[43mindexer\u001b[49m\u001b[43m,\u001b[49m\u001b[43m \u001b[49m\u001b[43maxis_name\u001b[49m\u001b[43m)\u001b[49m\n\u001b[0;32m   6202\u001b[0m keyarr \u001b[38;5;241m=\u001b[39m \u001b[38;5;28mself\u001b[39m\u001b[38;5;241m.\u001b[39mtake(indexer)\n\u001b[0;32m   6203\u001b[0m \u001b[38;5;28;01mif\u001b[39;00m \u001b[38;5;28misinstance\u001b[39m(key, Index):\n\u001b[0;32m   6204\u001b[0m     \u001b[38;5;66;03m# GH 42790 - Preserve name from an Index\u001b[39;00m\n",
      "File \u001b[1;32m~\\AppData\\Local\\Packages\\PythonSoftwareFoundation.Python.3.11_qbz5n2kfra8p0\\LocalCache\\local-packages\\Python311\\site-packages\\pandas\\core\\indexes\\base.py:6252\u001b[0m, in \u001b[0;36mIndex._raise_if_missing\u001b[1;34m(self, key, indexer, axis_name)\u001b[0m\n\u001b[0;32m   6249\u001b[0m     \u001b[38;5;28;01mraise\u001b[39;00m \u001b[38;5;167;01mKeyError\u001b[39;00m(\u001b[38;5;124mf\u001b[39m\u001b[38;5;124m\"\u001b[39m\u001b[38;5;124mNone of [\u001b[39m\u001b[38;5;132;01m{\u001b[39;00mkey\u001b[38;5;132;01m}\u001b[39;00m\u001b[38;5;124m] are in the [\u001b[39m\u001b[38;5;132;01m{\u001b[39;00maxis_name\u001b[38;5;132;01m}\u001b[39;00m\u001b[38;5;124m]\u001b[39m\u001b[38;5;124m\"\u001b[39m)\n\u001b[0;32m   6251\u001b[0m not_found \u001b[38;5;241m=\u001b[39m \u001b[38;5;28mlist\u001b[39m(ensure_index(key)[missing_mask\u001b[38;5;241m.\u001b[39mnonzero()[\u001b[38;5;241m0\u001b[39m]]\u001b[38;5;241m.\u001b[39munique())\n\u001b[1;32m-> 6252\u001b[0m \u001b[38;5;28;01mraise\u001b[39;00m \u001b[38;5;167;01mKeyError\u001b[39;00m(\u001b[38;5;124mf\u001b[39m\u001b[38;5;124m\"\u001b[39m\u001b[38;5;132;01m{\u001b[39;00mnot_found\u001b[38;5;132;01m}\u001b[39;00m\u001b[38;5;124m not in index\u001b[39m\u001b[38;5;124m\"\u001b[39m)\n",
      "\u001b[1;31mKeyError\u001b[0m: \"['성별_F'] not in index\""
     ]
    }
   ],
   "source": [
    "import pandas as pd\n",
    "import statsmodels.api as sm\n",
    "import numpy as np\n",
    "from scipy.stats import *\n",
    "\n",
    "df = pd.read_csv('satisfy.csv', encoding='cp949')\n",
    "\n",
    "# 성별을 여성(F)을 1로 변경\n",
    "df['성별'] = df['성별'].apply(lambda x: 'F' if x == 'M' else 'M')  # 성별을 반전\n",
    "df2 = pd.get_dummies(df, columns=['성별', '등급'], drop_first=True)\n",
    "\n",
    "y = df2['만족']\n",
    "X = df2[['성별_F', '등급_B', '등급_S']].astype(int)  # 성별_F를 모델에 포함\n",
    "X = sm.add_constant(X)\n",
    "\n",
    "# 모델 생성 및 결과 출력\n",
    "model = sm.GLM(y, X, family=sm.families.Binomial())\n",
    "result = model.fit()\n",
    "\n",
    "print(result.summary())\n"
   ]
  }
 ],
 "metadata": {
  "kernelspec": {
   "display_name": "Python 3",
   "language": "python",
   "name": "python3"
  },
  "language_info": {
   "codemirror_mode": {
    "name": "ipython",
    "version": 3
   },
   "file_extension": ".py",
   "mimetype": "text/x-python",
   "name": "python",
   "nbconvert_exporter": "python",
   "pygments_lexer": "ipython3",
   "version": "3.11.9"
  }
 },
 "nbformat": 4,
 "nbformat_minor": 2
}
