{
 "cells": [
  {
   "cell_type": "markdown",
   "metadata": {},
   "source": [
    "# 제 1유형"
   ]
  },
  {
   "cell_type": "code",
   "execution_count": 16,
   "metadata": {},
   "outputs": [
    {
     "name": "stdout",
     "output_type": "stream",
     "text": [
      "4.4\n"
     ]
    }
   ],
   "source": [
    "import pandas as pd\n",
    "\n",
    "iris = pd.read_csv('iris.csv')\n",
    "SW = iris['Sepal.Width']\n",
    "SW_mean = SW.mean()\n",
    "SW_std = SW.std()\n",
    "under_bound = SW_mean - 3*SW_std\n",
    "over_bound = SW_mean + 3*SW_std\n",
    "result_list = []\n",
    "# print(under_bound, over_bound)\n",
    "\n",
    "print(SW[(SW <= under_bound) | (SW >= over_bound)].sum())"
   ]
  },
  {
   "cell_type": "code",
   "execution_count": 79,
   "metadata": {},
   "outputs": [
    {
     "name": "stdout",
     "output_type": "stream",
     "text": [
      "97.47\n"
     ]
    }
   ],
   "source": [
    "import pandas as pd\n",
    "\n",
    "mtcars = pd.read_csv('mtcars1.csv')\n",
    "disp = mtcars['disp']\n",
    "# print(disp)\n",
    "\n",
    "sorted_mtcars = mtcars.sort_values(by='disp', ascending=False)\n",
    "rank_series = sorted_mtcars['disp'].rank(ascending=False, method='min')\n",
    "\n",
    "sorted_mtcars['rank'] = rank_series\n",
    "\n",
    "print(round(sorted_mtcars[sorted_mtcars['rank'] <= 20]['disp'].std(), 2))"
   ]
  },
  {
   "cell_type": "code",
   "execution_count": 89,
   "metadata": {},
   "outputs": [
    {
     "name": "stdout",
     "output_type": "stream",
     "text": [
      "1090\n"
     ]
    }
   ],
   "source": [
    "import pandas as pd\n",
    "\n",
    "cars = pd.read_csv('Cars93.csv')\n",
    "\n",
    "# print(cars.info())\n",
    "\n",
    "all_record = len(cars)\n",
    "# print(all_record)\n",
    "\n",
    "na_record = cars.isna().sum()\n",
    "na_col_record = na_record[na_record >= 1].count()\n",
    "# print(na_col_record)\n",
    "\n",
    "all_na_record = na_record.sum()\n",
    "# print(all_na_record)\n",
    "\n",
    "remove_na_record = len(cars[na_record[na_record >= 10].index].dropna())\n",
    "# print(remove_na_record)\n",
    "\n",
    "two_na_record = sum(cars[cars.isna().sum(axis=1) >= 2].index)\n",
    "# print(two_na_record)\n",
    "\n",
    "print(all_record + na_col_record + all_na_record + remove_na_record + two_na_record)"
   ]
  },
  {
   "cell_type": "markdown",
   "metadata": {},
   "source": [
    "# 제 2유형"
   ]
  },
  {
   "cell_type": "code",
   "execution_count": null,
   "metadata": {},
   "outputs": [],
   "source": [
    "import pandas as pd\n",
    "\n",
    "X_train = pd.read_csv()"
   ]
  },
  {
   "cell_type": "markdown",
   "metadata": {},
   "source": [
    "# 제 3유형"
   ]
  },
  {
   "cell_type": "code",
   "execution_count": 108,
   "metadata": {},
   "outputs": [
    {
     "name": "stdout",
     "output_type": "stream",
     "text": [
      "13.85\n",
      "1.61\n",
      "10.5\n",
      "기각\n"
     ]
    }
   ],
   "source": [
    "import pandas as pd\n",
    "from scipy.stats import *\n",
    "\n",
    "cars = pd.read_csv('Cars93.csv')\n",
    "# print(cars)\n",
    "\n",
    "small = cars[cars['Type'] == 'Small']['Price'].dropna()\n",
    "large = cars[cars['Type'] == 'Large']['Price'].dropna()\n",
    "\n",
    "mu1 = large.mean()\n",
    "mu2 = small.mean()\n",
    "\n",
    "# (a)\n",
    "print(round(mu1 - mu2, 2))\n",
    "\n",
    "\n",
    "stat, pvalue = ttest_ind(large, small, equal_var=True)\n",
    "\n",
    "# stat = (mu1 - mu2) / se\n",
    "se = (mu1 - mu2) / stat\n",
    "\n",
    "# (b)\n",
    "print(round(se, 2))\n",
    "\n",
    "dof = len(small) + len(large) - 2\n",
    "lower_cl = round(t.interval(0.95, dof, mu1-mu2, se)[0], 1)\n",
    "print(lower_cl)\n",
    "print('기각')"
   ]
  },
  {
   "cell_type": "code",
   "execution_count": null,
   "metadata": {},
   "outputs": [],
   "source": []
  }
 ],
 "metadata": {
  "kernelspec": {
   "display_name": "Python 3",
   "language": "python",
   "name": "python3"
  },
  "language_info": {
   "codemirror_mode": {
    "name": "ipython",
    "version": 3
   },
   "file_extension": ".py",
   "mimetype": "text/x-python",
   "name": "python",
   "nbconvert_exporter": "python",
   "pygments_lexer": "ipython3",
   "version": "3.11.9"
  }
 },
 "nbformat": 4,
 "nbformat_minor": 2
}
