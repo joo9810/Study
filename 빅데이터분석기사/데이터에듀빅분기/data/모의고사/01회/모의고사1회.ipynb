{
 "cells": [
  {
   "cell_type": "markdown",
   "metadata": {},
   "source": [
    "# 제 1유형"
   ]
  },
  {
   "cell_type": "code",
   "execution_count": 16,
   "metadata": {},
   "outputs": [
    {
     "name": "stdout",
     "output_type": "stream",
     "text": [
      "4.4\n"
     ]
    }
   ],
   "source": [
    "import pandas as pd\n",
    "\n",
    "iris = pd.read_csv('iris.csv')\n",
    "SW = iris['Sepal.Width']\n",
    "SW_mean = SW.mean()\n",
    "SW_std = SW.std()\n",
    "under_bound = SW_mean - 3*SW_std\n",
    "over_bound = SW_mean + 3*SW_std\n",
    "result_list = []\n",
    "# print(under_bound, over_bound)\n",
    "\n",
    "print(SW[(SW <= under_bound) | (SW >= over_bound)].sum())"
   ]
  },
  {
   "cell_type": "code",
   "execution_count": 79,
   "metadata": {},
   "outputs": [
    {
     "name": "stdout",
     "output_type": "stream",
     "text": [
      "97.47\n"
     ]
    }
   ],
   "source": [
    "import pandas as pd\n",
    "\n",
    "mtcars = pd.read_csv('mtcars1.csv')\n",
    "disp = mtcars['disp']\n",
    "# print(disp)\n",
    "\n",
    "sorted_mtcars = mtcars.sort_values(by='disp', ascending=False)\n",
    "rank_series = sorted_mtcars['disp'].rank(ascending=False, method='min')\n",
    "\n",
    "sorted_mtcars['rank'] = rank_series\n",
    "\n",
    "print(round(sorted_mtcars[sorted_mtcars['rank'] <= 20]['disp'].std(), 2))"
   ]
  },
  {
   "cell_type": "code",
   "execution_count": 89,
   "metadata": {},
   "outputs": [
    {
     "name": "stdout",
     "output_type": "stream",
     "text": [
      "1090\n"
     ]
    }
   ],
   "source": [
    "import pandas as pd\n",
    "\n",
    "cars = pd.read_csv('Cars93.csv')\n",
    "\n",
    "# print(cars.info())\n",
    "\n",
    "all_record = len(cars)\n",
    "# print(all_record)\n",
    "\n",
    "na_record = cars.isna().sum()\n",
    "na_col_record = na_record[na_record >= 1].count()\n",
    "# print(na_col_record)\n",
    "\n",
    "all_na_record = na_record.sum()\n",
    "# print(all_na_record)\n",
    "\n",
    "remove_na_record = len(cars[na_record[na_record >= 10].index].dropna())\n",
    "# print(remove_na_record)\n",
    "\n",
    "two_na_record = sum(cars[cars.isna().sum(axis=1) >= 2].index)\n",
    "# print(two_na_record)\n",
    "\n",
    "print(all_record + na_col_record + all_na_record + remove_na_record + two_na_record)"
   ]
  },
  {
   "cell_type": "markdown",
   "metadata": {},
   "source": [
    "# 제 2유형"
   ]
  },
  {
   "cell_type": "code",
   "execution_count": 92,
   "metadata": {},
   "outputs": [
    {
     "name": "stdout",
     "output_type": "stream",
     "text": [
      "(628, 9) (157, 9) (628,) (157,)\n",
      "0.736 0.7301587301587301 0.7401574803149606\n",
      "0.7211538461538461\n",
      "       ID  survived\n",
      "0     786         1\n",
      "1     787         0\n",
      "2     788         0\n",
      "3     789         0\n",
      "4     790         0\n",
      "..    ...       ...\n",
      "519  1305         0\n",
      "520  1306         1\n",
      "521  1307         1\n",
      "522  1308         0\n",
      "523  1309         1\n",
      "\n",
      "[524 rows x 2 columns]\n"
     ]
    }
   ],
   "source": [
    "import pandas as pd\n",
    "\n",
    "X_train = pd.read_csv('titanic3_X_train.csv')\n",
    "X_test = pd.read_csv('titanic3_X_test.csv')\n",
    "y_train = pd.read_csv('titanic3_y_train.csv')\n",
    "y_test = pd.read_csv('titanic3_y_test.csv')\n",
    "\n",
    "ID = X_test['ID']\n",
    "\n",
    "y_train = y_train['survived']\n",
    "y_test = y_test['survived']\n",
    "\n",
    "# print(X_train)\n",
    "# print(y_test)\n",
    "\n",
    "# print(X_train.info()) # age, fare, cabin, embarked 결측치 존재\n",
    "# print(X_test.info()) # age, cabin, embarked 결측치 존재\n",
    "\n",
    "# ID 컬럼 제거\n",
    "X_train.drop('ID', axis=1, inplace=True)\n",
    "X_test.drop('ID', axis=1, inplace=True)\n",
    "\n",
    "# print(X_train.info())\n",
    "\n",
    "# pclass (문제 없음)\n",
    "# print(X_train['pclass'].value_counts())\n",
    "# print(X_test['pclass'].value_counts())\n",
    "\n",
    "# name 컬럼 제거\n",
    "X_train.drop('name', axis=1, inplace=True)\n",
    "X_test.drop('name', axis=1, inplace=True)\n",
    "\n",
    "# print(X_train.info())\n",
    "\n",
    "# sex (F를 female로 변환)\n",
    "# print(X_train['sex'].value_counts())\n",
    "# print(X_test['sex'].value_counts())\n",
    "\n",
    "X_train['sex'] = X_train['sex'].replace('F', 'female').map({'female' : 0, 'male' : 1})\n",
    "X_test['sex'] = X_test['sex'].replace('F', 'female').map({'female' : 0, 'male' : 1})\n",
    "\n",
    "# print(X_train['sex'].value_counts())\n",
    "# print(X_test['sex'].value_counts())\n",
    "\n",
    "# print(X_train.info())\n",
    "\n",
    "# print(X_train['age'].isna().sum())\n",
    "\n",
    "# age 성별에 따른 나이 평균 결측치 대체\n",
    "X_train['age'] = X_train['age'].fillna(X_train.groupby('sex')['age'].transform('mean'))\n",
    "X_test['age'] = X_test['age'].fillna(X_test.groupby('sex')['age'].transform('mean'))\n",
    "\n",
    "# print(X_train.info())\n",
    "\n",
    "# fare 컬럼 평균으로 결측치 대체\n",
    "fare_mean_train = X_train['fare'].mean()\n",
    "X_train['fare'] = X_train['fare'].fillna(fare_mean_train)\n",
    "# print(X_train.info())\n",
    "\n",
    "# cabin 컬럼 제거\n",
    "X_train.drop('cabin', axis=1, inplace=True)\n",
    "X_test.drop('cabin', axis=1, inplace=True)\n",
    "# print(X_train.info())\n",
    "\n",
    "# sibsp 컬럼 (문제 없음)\n",
    "# print(X_train['sibsp'].value_counts())\n",
    "# print(X_test['sibsp'].value_counts())\n",
    "\n",
    "# parch 컬럼 (문제 없음)\n",
    "# print(X_train['parch'].value_counts())\n",
    "# print(X_test['parch'].value_counts())\n",
    "\n",
    "# ticket 컬럼 (의미 불명이라 제거하기로 결정)\n",
    "# print(X_train['ticket'].value_counts())\n",
    "# print(X_test['ticket'].value_counts())\n",
    "X_train.drop('ticket', axis=1, inplace=True)\n",
    "X_test.drop('ticket', axis=1, inplace=True)\n",
    "\n",
    "# print(X_train.info())\n",
    "\n",
    "# embarked 컬럼 (최빈값으로 결측치 대체)\n",
    "# print(X_train['embarked'].value_counts())\n",
    "# print(X_test['embarked'].value_counts())\n",
    "X_train['embarked'] = X_train['embarked'].fillna(X_train['embarked'].mode()[0])\n",
    "X_test['embarked'] = X_test['embarked'].fillna(X_test['embarked'].mode()[0])\n",
    "\n",
    "embarked_OH_train = pd.get_dummies(X_train['embarked'])\n",
    "embarked_OH_test = pd.get_dummies(X_test['embarked'])\n",
    "\n",
    "# print(embarked_OH_train)\n",
    "\n",
    "X_train = pd.concat([X_train, embarked_OH_train], axis=1).drop('embarked', axis=1)\n",
    "X_test = pd.concat([X_test, embarked_OH_test], axis=1).drop('embarked', axis=1)\n",
    "\n",
    "# print(X_train.info())\n",
    "# print(X_test.info())\n",
    "\n",
    "from sklearn.model_selection import train_test_split\n",
    "X_trainDF, X_validDF, y_trainSR, y_validSR = train_test_split(X_train, y_train,\n",
    "                                                              train_size = 0.8,\n",
    "                                                              stratify=y_train, random_state=42)\n",
    "print(X_trainDF.shape, X_validDF.shape, y_trainSR.shape, y_validSR.shape)\n",
    "\n",
    "from sklearn.ensemble import RandomForestClassifier\n",
    "from xgboost import XGBClassifier\n",
    "from lightgbm import LGBMClassifier\n",
    "rf = RandomForestClassifier(random_state=1)\n",
    "xgb = XGBClassifier(random_state=1)\n",
    "lgb = LGBMClassifier(random_state=1)\n",
    "\n",
    "rf.fit(X_trainDF, y_trainSR)\n",
    "xgb.fit(X_trainDF, y_trainSR)\n",
    "lgb.fit(X_trainDF, y_trainSR)\n",
    "\n",
    "pred_y_rf = rf.predict(X_validDF)\n",
    "pred_y_xgb = xgb.predict(X_validDF)\n",
    "pred_y_lgb = lgb.predict(X_validDF)\n",
    "\n",
    "from sklearn.metrics import *\n",
    "f1_rf = f1_score(y_validSR, pred_y_rf)\n",
    "f1_xgb = f1_score(y_validSR, pred_y_xgb)\n",
    "f1_lgb = f1_score(y_validSR, pred_y_lgb)\n",
    "\n",
    "print(f1_rf, f1_xgb, f1_lgb)\n",
    "\n",
    "pred_y_test_rf = rf.predict(X_test)\n",
    "f1_rf_test = f1_score(y_test, pred_y_test_rf)\n",
    "print(f1_rf_test)\n",
    "\n",
    "output = pd.DataFrame({\n",
    "    'ID' : ID,\n",
    "    'survived' : pred_y_test_rf\n",
    "})\n",
    "\n",
    "print(output)\n",
    "\n",
    "output.to_csv('모의고사1회.csv', index=False)"
   ]
  },
  {
   "cell_type": "markdown",
   "metadata": {},
   "source": [
    "# 제 3유형"
   ]
  },
  {
   "cell_type": "code",
   "execution_count": 108,
   "metadata": {},
   "outputs": [
    {
     "name": "stdout",
     "output_type": "stream",
     "text": [
      "13.85\n",
      "1.61\n",
      "10.5\n",
      "기각\n"
     ]
    }
   ],
   "source": [
    "import pandas as pd\n",
    "from scipy.stats import *\n",
    "\n",
    "cars = pd.read_csv('Cars93.csv')\n",
    "# print(cars)\n",
    "\n",
    "small = cars[cars['Type'] == 'Small']['Price'].dropna()\n",
    "large = cars[cars['Type'] == 'Large']['Price'].dropna()\n",
    "\n",
    "mu1 = large.mean()\n",
    "mu2 = small.mean()\n",
    "\n",
    "# (a)\n",
    "print(round(mu1 - mu2, 2))\n",
    "\n",
    "\n",
    "stat, pvalue = ttest_ind(large, small, equal_var=True)\n",
    "\n",
    "# stat = (mu1 - mu2) / se\n",
    "se = (mu1 - mu2) / stat\n",
    "\n",
    "# (b)\n",
    "print(round(se, 2))\n",
    "\n",
    "dof = len(small) + len(large) - 2\n",
    "lower_cl = round(t.interval(0.95, dof, mu1-mu2, se)[0], 1)\n",
    "print(lower_cl)\n",
    "print('기각')"
   ]
  },
  {
   "cell_type": "code",
   "execution_count": 84,
   "metadata": {},
   "outputs": [
    {
     "name": "stdout",
     "output_type": "stream",
     "text": [
      "83\n",
      "411\n",
      "0\n",
      "기각\n"
     ]
    }
   ],
   "source": [
    "import pandas as pd\n",
    "import math as m\n",
    "from scipy.stats import *\n",
    "\n",
    "dices = pd.read_csv('dices.csv')\n",
    "# print(dices)\n",
    "\n",
    "dice1 = dices[dices['scale'] == 1]\n",
    "dice2 = dices[dices['scale'] == 2]\n",
    "dice3 = dices[dices['scale'] == 3]\n",
    "dice4 = dices[dices['scale'] == 4]\n",
    "dice5 = dices[dices['scale'] == 5]\n",
    "dice6 = dices[dices['scale'] == 6]\n",
    "\n",
    "observed_freq = [len(dices[dices['scale'] == i]) for i in range(1, 7)]\n",
    "# print(observed_freq)\n",
    "\n",
    "expected_ratio = [1/6] * 6\n",
    "expected_freq = [i*len(dices) for i in expected_ratio]\n",
    "# print(expected_freq)\n",
    "\n",
    "# (a)\n",
    "print(m.floor(expected_freq[2]))\n",
    "\n",
    "\n",
    "stat, pvalue = chisquare(observed_freq, expected_freq)\n",
    "# (b)\n",
    "print(m.floor(stat))\n",
    "\n",
    "# (c)\n",
    "print(round(pvalue, 4) if round(pvalue, 4) >= 0.0001 else 0)\n",
    "print('기각')"
   ]
  },
  {
   "cell_type": "code",
   "execution_count": null,
   "metadata": {},
   "outputs": [],
   "source": []
  }
 ],
 "metadata": {
  "kernelspec": {
   "display_name": "Python 3",
   "language": "python",
   "name": "python3"
  },
  "language_info": {
   "codemirror_mode": {
    "name": "ipython",
    "version": 3
   },
   "file_extension": ".py",
   "mimetype": "text/x-python",
   "name": "python",
   "nbconvert_exporter": "python",
   "pygments_lexer": "ipython3",
   "version": "3.11.9"
  }
 },
 "nbformat": 4,
 "nbformat_minor": 2
}
