{
 "cells": [
  {
   "cell_type": "markdown",
   "metadata": {},
   "source": [
    "# 1. 상관분석"
   ]
  },
  {
   "cell_type": "code",
   "execution_count": 8,
   "metadata": {},
   "outputs": [
    {
     "name": "stdout",
     "output_type": "stream",
     "text": [
      "<class 'pandas.core.frame.DataFrame'>\n",
      "RangeIndex: 442 entries, 0 to 441\n",
      "Data columns (total 10 columns):\n",
      " #   Column  Non-Null Count  Dtype  \n",
      "---  ------  --------------  -----  \n",
      " 0   age     442 non-null    float64\n",
      " 1   sex     442 non-null    float64\n",
      " 2   bmi     442 non-null    float64\n",
      " 3   bp      442 non-null    float64\n",
      " 4   s1      442 non-null    float64\n",
      " 5   s2      442 non-null    float64\n",
      " 6   s3      442 non-null    float64\n",
      " 7   s4      442 non-null    float64\n",
      " 8   s5      442 non-null    float64\n",
      " 9   s6      442 non-null    float64\n",
      "dtypes: float64(10)\n",
      "memory usage: 34.7 KB\n"
     ]
    }
   ],
   "source": [
    "import pandas as pd\n",
    "from sklearn.datasets import load_diabetes\n",
    "\n",
    "diabetes = load_diabetes()\n",
    "data = pd.DataFrame(diabetes['data'], columns=diabetes['feature_names'])\n",
    "data.info()"
   ]
  },
  {
   "cell_type": "code",
   "execution_count": 4,
   "metadata": {},
   "outputs": [
    {
     "name": "stdout",
     "output_type": "stream",
     "text": [
      "PearsonRResult(statistic=0.18508466614655553, pvalue=9.076791865417336e-05)\n"
     ]
    }
   ],
   "source": [
    "from scipy.stats import pearsonr\n",
    "print(pearsonr(data['age'], data['bmi']))"
   ]
  },
  {
   "cell_type": "code",
   "execution_count": 5,
   "metadata": {},
   "outputs": [
    {
     "name": "stdout",
     "output_type": "stream",
     "text": [
      "          age       bmi\n",
      "age  1.000000  0.185085\n",
      "bmi  0.185085  1.000000\n"
     ]
    }
   ],
   "source": [
    "print(data[['age', 'bmi']].corr())"
   ]
  },
  {
   "cell_type": "markdown",
   "metadata": {},
   "source": [
    "# 2. 정규성 검정"
   ]
  },
  {
   "cell_type": "code",
   "execution_count": 6,
   "metadata": {},
   "outputs": [],
   "source": [
    "import numpy as np\n",
    "np.random.seed(2024)\n",
    "x = np.random.random(10)"
   ]
  },
  {
   "cell_type": "code",
   "execution_count": 7,
   "metadata": {},
   "outputs": [
    {
     "name": "stdout",
     "output_type": "stream",
     "text": [
      "ShapiroResult(statistic=0.8969662710477171, pvalue=0.20285343366469372)\n"
     ]
    }
   ],
   "source": [
    "from scipy.stats import shapiro\n",
    "print(shapiro(x))"
   ]
  },
  {
   "cell_type": "markdown",
   "metadata": {},
   "source": [
    "# 3. 모평균 검정"
   ]
  },
  {
   "cell_type": "code",
   "execution_count": 11,
   "metadata": {},
   "outputs": [
    {
     "name": "stdout",
     "output_type": "stream",
     "text": [
      "66.56428571428572\n",
      "TtestResult(statistic=-1.0289933120202257, pvalue=0.3222484823978743, df=13)\n"
     ]
    }
   ],
   "source": [
    "import numpy as np\n",
    "from scipy.stats import ttest_1samp\n",
    "\n",
    "kg = np.array([75.5, 83.9, 75.7, 56.2, 73.4, 67.7, 79.0,\n",
    "               50.7, 58.4, 74.1, 65.1, 77.8, 48.1, 46.3])\n",
    "\n",
    "print(kg.mean())\n",
    "\n",
    "print(ttest_1samp(kg, 70))"
   ]
  },
  {
   "cell_type": "code",
   "execution_count": 15,
   "metadata": {},
   "outputs": [
    {
     "name": "stdout",
     "output_type": "stream",
     "text": [
      "-12.985714285714291\n",
      "TtestResult(statistic=-2.078446933064972, pvalue=0.08291274205610201, df=6)\n"
     ]
    }
   ],
   "source": [
    "import pandas as pd\n",
    "from scipy.stats import ttest_rel\n",
    "\n",
    "female = np.array([50.7, 58.4, 74.1, 65.1, 77.8, 48.1, 46.3])\n",
    "male = np.array([75.5, 83.9, 75.7, 56.2, 73.4, 67.7, 79.0])\n",
    "\n",
    "diff = female - male\n",
    "print(diff.mean())\n",
    "\n",
    "print(ttest_rel(female, male))"
   ]
  },
  {
   "cell_type": "code",
   "execution_count": 16,
   "metadata": {},
   "outputs": [
    {
     "name": "stdout",
     "output_type": "stream",
     "text": [
      "60.07142857142857 73.05714285714286\n",
      "TtestResult(statistic=-2.2186641577772956, pvalue=0.046550122110569664, df=12.0)\n"
     ]
    }
   ],
   "source": [
    "from scipy.stats import ttest_ind \n",
    "\n",
    "print(female.mean(), male.mean())\n",
    "\n",
    "print(ttest_ind(female, male))"
   ]
  },
  {
   "cell_type": "markdown",
   "metadata": {},
   "source": [
    "# 4. 모분산 검정 (1)"
   ]
  },
  {
   "cell_type": "code",
   "execution_count": 22,
   "metadata": {},
   "outputs": [
    {
     "name": "stdout",
     "output_type": "stream",
     "text": [
      "0.041637780038918736\n",
      "0.9583622199610813\n",
      "0.08327556007783747\n"
     ]
    }
   ],
   "source": [
    "import numpy as np\n",
    "from scipy.stats import chi2\n",
    "score = np.array([80.5, 60.2, 70, 87, 45, 91, 85])\n",
    "\n",
    "var0 = 1100\n",
    "var = np.var(score, ddof=1)\n",
    "dof = len(score)-1\n",
    "\n",
    "stat = (dof*var/var0)\n",
    "\n",
    "print(chi2.cdf(stat, df=dof)) # 좌측 검정\n",
    "print(1-chi2.cdf(stat, df=dof)) # 우측 검정\n",
    "print(2*chi2.cdf(stat, df=dof)) # 양측 검정"
   ]
  },
  {
   "cell_type": "markdown",
   "metadata": {},
   "source": [
    "# 5. 모분산 검정 (2)"
   ]
  },
  {
   "cell_type": "code",
   "execution_count": 41,
   "metadata": {},
   "outputs": [
    {
     "name": "stdout",
     "output_type": "stream",
     "text": [
      "212.66666666666669 1138.4107142857142\n",
      "0.18681014154026346\n",
      "0.041539430375629585\n"
     ]
    }
   ],
   "source": [
    "import numpy as np\n",
    "from scipy.stats import f\n",
    "\n",
    "a = np.array([70, 80, 75, 65, 100, 98])\n",
    "b = np.array([20, 100, 50, 94, 28, 80, 95, 30])\n",
    "\n",
    "# 가설 H0 : var_a = var_b, H1 : var_a < var_b\n",
    "var_a = np.var(a, ddof=1)\n",
    "var_b = np.var(b, ddof=1)\n",
    "print(var_a, var_b)\n",
    "\n",
    "df_a = len(a)-1\n",
    "df_b = len(b)-1\n",
    "\n",
    "stat = var_a / var_b\n",
    "print(stat)\n",
    "\n",
    "p_value = f.cdf(stat, df_a, df_b)\n",
    "print(p_value)"
   ]
  },
  {
   "cell_type": "code",
   "execution_count": 39,
   "metadata": {},
   "outputs": [
    {
     "data": {
      "text/plain": [
       "0.04153943037562957"
      ]
     },
     "execution_count": 39,
     "metadata": {},
     "output_type": "execute_result"
    }
   ],
   "source": [
    "# var_b / var_a > 1\n",
    "\n",
    "stat = var_b / var_a\n",
    "1 - f.cdf(stat, df_b, df_a)"
   ]
  },
  {
   "cell_type": "markdown",
   "metadata": {},
   "source": [
    "# 6. 모분산 검정 (3)"
   ]
  },
  {
   "cell_type": "code",
   "execution_count": 2,
   "metadata": {},
   "outputs": [
    {
     "name": "stdout",
     "output_type": "stream",
     "text": [
      "BartlettResult(statistic=15.6702722148674, pvalue=0.00039558846873743075)\n"
     ]
    }
   ],
   "source": [
    "from scipy.stats import bartlett\n",
    "import numpy as np\n",
    "\n",
    "a = np.array([70, 80, 75, 65, 100, 98])\n",
    "b = np.array([20, 100, 50, 94, 28, 80])\n",
    "c = np.array([90, 97, 95, 94, 99, 100])\n",
    "\n",
    "print(bartlett(a, b, c))"
   ]
  },
  {
   "cell_type": "code",
   "execution_count": 3,
   "metadata": {},
   "outputs": [
    {
     "name": "stdout",
     "output_type": "stream",
     "text": [
      "LeveneResult(statistic=14.365736704446384, pvalue=0.00032713621045500125)\n"
     ]
    }
   ],
   "source": [
    "from scipy.stats import levene\n",
    "\n",
    "print(levene(a, b, c))"
   ]
  },
  {
   "cell_type": "markdown",
   "metadata": {},
   "source": [
    "# 7. 분산분석"
   ]
  },
  {
   "cell_type": "code",
   "execution_count": 11,
   "metadata": {},
   "outputs": [
    {
     "name": "stdout",
     "output_type": "stream",
     "text": [
      "        id School Sex  Grade  Final\n",
      "0        1      A   M      1   44.4\n",
      "1        2      A   M      2   47.7\n",
      "2        3      A   M      3   65.6\n",
      "3        4      A   F      1   50.7\n",
      "4        5      A   F      2   51.3\n",
      "...    ...    ...  ..    ...    ...\n",
      "2995  2996      C   M      2   84.1\n",
      "2996  2997      C   M      3   81.6\n",
      "2997  2998      C   F      1   83.2\n",
      "2998  2999      C   F      2   92.8\n",
      "2999  3000      C   F      3  100.0\n",
      "\n",
      "[3000 rows x 5 columns]\n",
      "               df         sum_sq        mean_sq            F  PR(>F)\n",
      "C(School)     2.0  996939.237147  498469.618573  5722.221007     0.0\n",
      "Residual   2997.0  261072.308290      87.111214          NaN     NaN\n"
     ]
    }
   ],
   "source": [
    "import pandas as pd\n",
    "from statsmodels.formula.api import ols \n",
    "from statsmodels.stats.anova import anova_lm \n",
    "\n",
    "df = pd.read_csv('../data/예제/school_score.csv')\n",
    "print(df)\n",
    "\n",
    "one_way = ols('Final ~ C(School)', data = df).fit()\n",
    "\n",
    "result = anova_lm(one_way)\n",
    "print(result)"
   ]
  },
  {
   "cell_type": "code",
   "execution_count": 12,
   "metadata": {},
   "outputs": [
    {
     "name": "stdout",
     "output_type": "stream",
     "text": [
      "Multiple Comparison of Means - Tukey HSD, FWER=0.05 \n",
      "====================================================\n",
      "group1 group2 meandiff p-adj   lower   upper  reject\n",
      "----------------------------------------------------\n",
      "     A      B  38.8464    0.0 37.8677 39.8251   True\n",
      "     A      C  38.4922    0.0 37.5135 39.4709   True\n",
      "     B      C  -0.3542 0.6728 -1.3329  0.6245  False\n",
      "----------------------------------------------------\n"
     ]
    }
   ],
   "source": [
    "from statsmodels.stats.multicomp import pairwise_tukeyhsd\n",
    "\n",
    "tukey_result = pairwise_tukeyhsd(endog = df['Final'],\n",
    "                                 groups = df['School'],\n",
    "                                 alpha = 0.05)\n",
    "print(tukey_result)"
   ]
  },
  {
   "cell_type": "code",
   "execution_count": 13,
   "metadata": {},
   "outputs": [
    {
     "name": "stdout",
     "output_type": "stream",
     "text": [
      "                        df         sum_sq        mean_sq            F    PR(>F)\n",
      "C(School)              2.0  996939.237147  498469.618573  5721.620556  0.000000\n",
      "C(Grade)               2.0     324.472829     162.236415     1.862210  0.155509\n",
      "C(School):C(Grade)     4.0     170.851257      42.712814     0.490274  0.742912\n",
      "Residual            2991.0  260576.984204      87.120356          NaN       NaN\n"
     ]
    }
   ],
   "source": [
    "two_way = ols('Final ~ C(School) + C(Grade) + C(School):C(Grade)', data = df).fit()\n",
    "\n",
    "result = anova_lm(two_way)\n",
    "print(result)"
   ]
  },
  {
   "cell_type": "code",
   "execution_count": 14,
   "metadata": {},
   "outputs": [
    {
     "name": "stdout",
     "output_type": "stream",
     "text": [
      "               df         sum_sq        mean_sq            F    PR(>F)\n",
      "C(School)     2.0  996939.237147  498469.618573  5725.518315  0.000000\n",
      "C(Grade)      2.0     324.472829     162.236415     1.863479  0.155312\n",
      "Residual   2995.0  260747.835461      87.061047          NaN       NaN\n"
     ]
    }
   ],
   "source": [
    "two_way = ols('Final ~ C(School) + C(Grade)', data = df).fit()\n",
    "\n",
    "result = anova_lm(two_way)\n",
    "print(result)"
   ]
  },
  {
   "cell_type": "markdown",
   "metadata": {},
   "source": [
    "# 8. 카이제곱 검정"
   ]
  },
  {
   "cell_type": "code",
   "execution_count": 20,
   "metadata": {},
   "outputs": [
    {
     "name": "stdout",
     "output_type": "stream",
     "text": [
      "Power_divergenceResult(statistic=82.94, pvalue=4.14849046718008e-17)\n"
     ]
    }
   ],
   "source": [
    "from scipy.stats import chisquare\n",
    "\n",
    "obs = [423, 304, 274, 205, 294]\n",
    "exp_ratio = [1/5] * 5\n",
    "exp = [i*sum(obs) for i in exp_ratio]\n",
    "\n",
    "print(chisquare(obs, exp))"
   ]
  },
  {
   "cell_type": "code",
   "execution_count": 26,
   "metadata": {},
   "outputs": [
    {
     "name": "stdout",
     "output_type": "stream",
     "text": [
      "검정통계량 : 0.15527950310559005\n",
      "유의확률 : 0.6935402833910855\n",
      "자유도 : 1\n",
      "기대도수 : [[405. 945.]\n",
      " [345. 805.]]\n"
     ]
    }
   ],
   "source": [
    "import pandas as pd\n",
    "from scipy.stats import chi2_contingency\n",
    "\n",
    "crosstab = pd.DataFrame({'좋음' : [400, 350],\n",
    "                         '싫음' : [950, 800]})\n",
    "\n",
    "chi2, p_value, dof, exp_freq = chi2_contingency(crosstab)\n",
    "print(f\"검정통계량 : {chi2}\")\n",
    "print(f\"유의확률 : {p_value}\")\n",
    "print(f\"자유도 : {dof}\")\n",
    "print(f\"기대도수 : {exp_freq}\")\n",
    "\n",
    "# 성별에 따라 선호도의 비율이 다르다고 할 수 없다"
   ]
  },
  {
   "cell_type": "code",
   "execution_count": 33,
   "metadata": {},
   "outputs": [
    {
     "name": "stdout",
     "output_type": "stream",
     "text": [
      "검정통계량 : 611.2969703825839\n",
      "유의확률 : 5.561479016921619e-131\n",
      "자유도 : 4\n",
      "기대도수 : [[1767.55555556  441.88888889  887.31288889  443.65644444  436.58622222]\n",
      " [2232.44444444  558.11111111 1120.68711111  560.34355556  551.41377778]]\n"
     ]
    }
   ],
   "source": [
    "import pandas as pd\n",
    "from scipy.stats import chi2_contingency\n",
    "\n",
    "crosstab = pd.DataFrame({'Black' : [1620, 2380],\n",
    "                         'Gold' : [385, 615],\n",
    "                         'Purple' : [778, 1230],\n",
    "                         'Red' : [394, 610],\n",
    "                         'White' : [800, 188]})\n",
    "\n",
    "chi2, p_value, dof, exp_freq = chi2_contingency(crosstab)\n",
    "\n",
    "print(f\"검정통계량 : {chi2}\")\n",
    "print(f\"유의확률 : {p_value}\")\n",
    "print(f\"자유도 : {dof}\")\n",
    "print(f\"기대도수 : {exp_freq}\")\n",
    "\n",
    "# 성별과 색상은 서로 관련이 있다"
   ]
  },
  {
   "cell_type": "markdown",
   "metadata": {},
   "source": [
    "# 9. 비모수 검정"
   ]
  },
  {
   "cell_type": "markdown",
   "metadata": {},
   "source": [
    "## 9-1. 스피어만 상관계수 검정"
   ]
  },
  {
   "cell_type": "code",
   "execution_count": 46,
   "metadata": {},
   "outputs": [
    {
     "name": "stdout",
     "output_type": "stream",
     "text": [
      "SignificanceResult(statistic=0.09807947297621517, pvalue=0.03929011358104617)\n",
      "          sex       bmi\n",
      "sex  1.000000  0.098079\n",
      "bmi  0.098079  1.000000\n"
     ]
    }
   ],
   "source": [
    "from sklearn.datasets import load_diabetes\n",
    "from scipy.stats import spearmanr\n",
    "\n",
    "diabetes = load_diabetes()\n",
    "\n",
    "# print(diabetes['feature_names'])\n",
    "df = pd.DataFrame(diabetes['data'], columns = diabetes['feature_names'])\n",
    "\n",
    "print(spearmanr(df['sex'], df['bmi']))\n",
    "\n",
    "print(df[['sex', 'bmi']].corr(method='spearman'))\n",
    "\n",
    "# 상관계수는 0.098로 작지만 유의확률이 0.05보다 작아 유의하다"
   ]
  },
  {
   "cell_type": "markdown",
   "metadata": {},
   "source": [
    "## 9-2. 켄달의 타우 검정"
   ]
  },
  {
   "cell_type": "code",
   "execution_count": 52,
   "metadata": {},
   "outputs": [
    {
     "name": "stdout",
     "output_type": "stream",
     "text": [
      "SignificanceResult(statistic=-0.29814239699997197, pvalue=0.4205962375999266)\n"
     ]
    }
   ],
   "source": [
    "import numpy as np\n",
    "from scipy.stats import kendalltau\n",
    "\n",
    "x = np.array([5, 4, 3, 6, 1, 2])\n",
    "y = np.array([1, 5, 2, 2, 2, 6])\n",
    "\n",
    "print(kendalltau(x, y))\n",
    "\n",
    "# 상관계수가 -0.298로 상관관계가 거의 없으며 유의확률이 0.42로 유의수준 0.05하에서 유의하지 않다"
   ]
  },
  {
   "cell_type": "markdown",
   "metadata": {},
   "source": [
    "## 9-3 윌콕슨 부호순위 검정"
   ]
  },
  {
   "cell_type": "code",
   "execution_count": 55,
   "metadata": {},
   "outputs": [
    {
     "name": "stdout",
     "output_type": "stream",
     "text": [
      "WilcoxonResult(statistic=42.0, pvalue=0.5416259765625)\n"
     ]
    }
   ],
   "source": [
    "from scipy.stats import wilcoxon\n",
    "import numpy as np\n",
    "\n",
    "kg = np.array([75.5, 83.9, 75.7, 56.2, 73.4, 67.7, 79.0, 50.7, 58.4, 74.1, 65.1, 77.8, 48.1, 46.3])\n",
    "\n",
    "print(wilcoxon(kg - 70))\n",
    "\n",
    "# 검정통계량이 42.0이며 유의확률이 0.54로 유의수준 0.05 하에서 귀무가설을 기각 할 수 없다 (즉, 중위수가 70이라고 할 수 있다)"
   ]
  },
  {
   "cell_type": "code",
   "execution_count": 57,
   "metadata": {},
   "outputs": [
    {
     "name": "stdout",
     "output_type": "stream",
     "text": [
      "WilcoxonResult(statistic=5.0, pvalue=0.15625)\n"
     ]
    }
   ],
   "source": [
    "import numpy as np\n",
    "from scipy.stats import wilcoxon\n",
    "\n",
    "female = np.array([50.7, 58.4, 74.1, 65.1, 77.8, 48.1, 46.3])\n",
    "male = np.array([75.5, 83.9, 75.7, 56.2, 73.4, 67.7, 79.0])\n",
    "\n",
    "diff = female - male\n",
    "\n",
    "print(wilcoxon(diff))\n",
    "\n",
    "# 검정통계량이 5.0이며 유의확률이 0.15로 유의수준 0.05 하에서 귀무가설을 기각 할 수 없다 (즉, 두 표본의 중앙값에 차이가 없다)"
   ]
  },
  {
   "cell_type": "markdown",
   "metadata": {},
   "source": [
    "## 9-4 윌콕슨 순위합 검정"
   ]
  },
  {
   "cell_type": "code",
   "execution_count": 58,
   "metadata": {},
   "outputs": [
    {
     "name": "stdout",
     "output_type": "stream",
     "text": [
      "RanksumsResult(statistic=-1.8527420384998257, pvalue=0.06391934147515746)\n"
     ]
    }
   ],
   "source": [
    "from scipy.stats import ranksums \n",
    "\n",
    "print(ranksums(female, male))"
   ]
  },
  {
   "cell_type": "code",
   "execution_count": 59,
   "metadata": {},
   "outputs": [
    {
     "name": "stdout",
     "output_type": "stream",
     "text": [
      "MannwhitneyuResult(statistic=10.0, pvalue=0.07284382284382285)\n"
     ]
    }
   ],
   "source": [
    "from scipy.stats import mannwhitneyu \n",
    "\n",
    "print(mannwhitneyu(female, male))"
   ]
  },
  {
   "cell_type": "markdown",
   "metadata": {},
   "source": [
    "윌콕슨 부호순위, 윌콕슨 순위합, 만휘트니"
   ]
  }
 ],
 "metadata": {
  "kernelspec": {
   "display_name": "TORCH_TEXT_38",
   "language": "python",
   "name": "python3"
  },
  "language_info": {
   "codemirror_mode": {
    "name": "ipython",
    "version": 3
   },
   "file_extension": ".py",
   "mimetype": "text/x-python",
   "name": "python",
   "nbconvert_exporter": "python",
   "pygments_lexer": "ipython3",
   "version": "3.8.18"
  }
 },
 "nbformat": 4,
 "nbformat_minor": 2
}
