{
 "cells": [
  {
   "cell_type": "markdown",
   "metadata": {},
   "source": [
    "# 1장 지도학습 모형"
   ]
  },
  {
   "cell_type": "markdown",
   "metadata": {},
   "source": [
    "## 1절 데이터 분할"
   ]
  },
  {
   "cell_type": "markdown",
   "metadata": {},
   "source": [
    "### 1. 홀드아웃"
   ]
  },
  {
   "cell_type": "code",
   "execution_count": 4,
   "metadata": {},
   "outputs": [
    {
     "name": "stdout",
     "output_type": "stream",
     "text": [
      "(398, 30) (171, 30) (398,) (171,)\n",
      "(398, 30) (171, 30) (398,) (171,)\n"
     ]
    }
   ],
   "source": [
    "from sklearn.datasets import load_breast_cancer \n",
    "from sklearn.model_selection import train_test_split \n",
    "\n",
    "# print(load_breast_cancer())\n",
    "data = load_breast_cancer()['data']\n",
    "target = load_breast_cancer()['target']\n",
    "\n",
    "X_train, X_test, y_train, y_test = train_test_split(data, target, test_size=0.3, random_state=2022)\n",
    "\n",
    "print(X_train.shape, X_test.shape, y_train.shape, y_test.shape)\n",
    "\n",
    "X_train, X_test, y_train, y_test = train_test_split(data, target, stratify=target, test_size=0.3, random_state=2022)\n",
    "\n",
    "print(X_train.shape, X_test.shape, y_train.shape, y_test.shape)"
   ]
  },
  {
   "cell_type": "markdown",
   "metadata": {},
   "source": [
    "### 2. K-fold"
   ]
  },
  {
   "cell_type": "code",
   "execution_count": 6,
   "metadata": {},
   "outputs": [
    {
     "name": "stdout",
     "output_type": "stream",
     "text": [
      "학습 : [2 3 4 5 6 7 8 9] 평가 : [0 1]\n",
      "학습 : [0 1 4 5 6 7 8 9] 평가 : [2 3]\n",
      "학습 : [0 1 2 3 6 7 8 9] 평가 : [4 5]\n",
      "학습 : [0 1 2 3 4 5 8 9] 평가 : [6 7]\n",
      "학습 : [0 1 2 3 4 5 6 7] 평가 : [8 9]\n"
     ]
    }
   ],
   "source": [
    "import numpy as np\n",
    "X = np.arange(10)\n",
    "\n",
    "from sklearn.model_selection import KFold \n",
    "\n",
    "kfold = KFold(n_splits = 5)\n",
    "\n",
    "for train_idx, test_idx in kfold.split(X):\n",
    "    print(\"학습 :\", train_idx, \"평가 :\", test_idx)"
   ]
  },
  {
   "cell_type": "code",
   "execution_count": 7,
   "metadata": {},
   "outputs": [
    {
     "name": "stdout",
     "output_type": "stream",
     "text": [
      "학습 : [ 2  3  4  5  7  8 11 12 13 14] 평가 : [ 0  1  6  9 10]\n",
      "학습 : [ 0  1  4  5  6  8  9 10 13 14] 평가 : [ 2  3  7 11 12]\n",
      "학습 : [ 0  1  2  3  6  7  9 10 11 12] 평가 : [ 4  5  8 13 14]\n"
     ]
    }
   ],
   "source": [
    "import numpy as np \n",
    "X = np.arange(15)\n",
    "y = [0] * 6 + [1] * 3 + [2] * 6\n",
    "\n",
    "from sklearn.model_selection import StratifiedKFold \n",
    "kfold = StratifiedKFold(n_splits=3)\n",
    "\n",
    "for train_idx, test_idx in kfold.split(X, y):\n",
    "    print(\"학습 :\", train_idx, \"평가 :\", test_idx)"
   ]
  },
  {
   "cell_type": "markdown",
   "metadata": {},
   "source": [
    "## 2절 성과분석"
   ]
  },
  {
   "cell_type": "markdown",
   "metadata": {},
   "source": [
    "### 1. 분류 지표"
   ]
  },
  {
   "cell_type": "code",
   "execution_count": 11,
   "metadata": {},
   "outputs": [
    {
     "name": "stdout",
     "output_type": "stream",
     "text": [
      "[[2 1]\n",
      " [0 3]]\n",
      "[[2 1]\n",
      " [0 3]]\n",
      "[[1 2 0]\n",
      " [1 1 0]\n",
      " [1 1 2]]\n"
     ]
    }
   ],
   "source": [
    "from sklearn.metrics import confusion_matrix \n",
    "\n",
    "# 이진분류\n",
    "y_true = [0, 0, 0, 1, 1, 1]\n",
    "y_pred = [0, 1, 0, 1, 1, 1]\n",
    "\n",
    "print(confusion_matrix(y_true, y_pred))\n",
    "\n",
    "# 이진분류(레이블로 되어있을 경우)\n",
    "y_true = ['A', 'A', 'A', 'B', 'B', 'B']\n",
    "y_pred = ['A', 'B', 'A', 'B', 'B', 'B']\n",
    "\n",
    "print(confusion_matrix(y_true, y_pred, labels = ['A', 'B']))\n",
    "\n",
    "# 다지분류(레이블 : 0,1,2)\n",
    "y_true = [0, 0, 0, 1, 1, 2, 2, 2, 2]\n",
    "y_pred = [0, 1, 1, 1, 0, 0, 1, 2, 2]\n",
    "\n",
    "print(confusion_matrix(y_true, y_pred))"
   ]
  },
  {
   "cell_type": "markdown",
   "metadata": {},
   "source": [
    "### 2. 예측 지표"
   ]
  },
  {
   "cell_type": "code",
   "execution_count": 6,
   "metadata": {},
   "outputs": [
    {
     "name": "stdout",
     "output_type": "stream",
     "text": [
      "[0.69646919 0.28613933 0.22685145 0.55131477 0.71946897]\n",
      "[0.42310646 0.9807642  0.68482974 0.4809319  0.39211752]\n",
      "0.17581754220802784\n",
      "0.36474003862364796\n",
      "1.0843148337483364\n"
     ]
    }
   ],
   "source": [
    "from sklearn.metrics import *\n",
    "\n",
    "import numpy as np \n",
    "np.random.seed(123)\n",
    "\n",
    "y_true = np.random.random_sample(5)\n",
    "print(y_true)\n",
    "\n",
    "y_pred = np.random.random_sample(5)\n",
    "print(y_pred)\n",
    "\n",
    "# MSE\n",
    "mse = mean_squared_error(y_true, y_pred)\n",
    "print(mse)\n",
    "\n",
    "# MAE\n",
    "mae = mean_absolute_error(y_true, y_pred)\n",
    "print(mae)\n",
    "\n",
    "# MAPE\n",
    "mape = mean_absolute_percentage_error(y_true, y_pred)\n",
    "print(mape)"
   ]
  },
  {
   "cell_type": "markdown",
   "metadata": {},
   "source": [
    "## 3절 선형 모델"
   ]
  },
  {
   "cell_type": "markdown",
   "metadata": {},
   "source": [
    "### 1. 사이킷런을 활용한 다중 선형 회귀분석"
   ]
  },
  {
   "cell_type": "code",
   "execution_count": 17,
   "metadata": {},
   "outputs": [
    {
     "name": "stdout",
     "output_type": "stream",
     "text": [
      "[ 608.94692667  301.1268683   990.86452444 -938.97359917 -597.46181621]\n",
      "152.13348416289614\n",
      "0.4772123190202695\n"
     ]
    }
   ],
   "source": [
    "from sklearn.linear_model import LinearRegression \n",
    "from sklearn.datasets import load_diabetes\n",
    "import pandas as pd \n",
    "\n",
    "# print(load_diabetes())\n",
    "\n",
    "diabetes = load_diabetes()\n",
    "\n",
    "# print(diabetes.keys())\n",
    "\n",
    "data = diabetes['data']\n",
    "target = diabetes['target']\n",
    "\n",
    "column = ['bmi', 'bp', 's1', 's2', 's3']\n",
    "\n",
    "df = pd.DataFrame(data, columns=diabetes['feature_names'])\n",
    "X = df[column]\n",
    "y = target\n",
    "\n",
    "model = LinearRegression()\n",
    "\n",
    "model.fit(X, y)\n",
    "\n",
    "print(model.coef_)\n",
    "print(model.intercept_)\n",
    "\n",
    "print(model.score(X, y))"
   ]
  },
  {
   "cell_type": "code",
   "execution_count": 21,
   "metadata": {},
   "outputs": [
    {
     "name": "stdout",
     "output_type": "stream",
     "text": [
      "152.1334841628961\n",
      "[ 595.99425538  339.08790294  397.33725338 -338.99514707 -406.34548455]\n"
     ]
    }
   ],
   "source": [
    "from sklearn.linear_model import Ridge \n",
    "column = ['bmi', 'bp', 's1', 's2', 's3']\n",
    "X = df[column]\n",
    "y = target\n",
    "\n",
    "model = Ridge(alpha = 0.1)\n",
    "\n",
    "model.fit(X, y)\n",
    "\n",
    "print(model.intercept_)\n",
    "print(model.coef_)"
   ]
  },
  {
   "cell_type": "code",
   "execution_count": 22,
   "metadata": {},
   "outputs": [
    {
     "name": "stdout",
     "output_type": "stream",
     "text": [
      "152.13348416289608\n",
      "[ 574.04562479  237.22854049    0.            0.         -165.17168117]\n"
     ]
    }
   ],
   "source": [
    "from sklearn.linear_model import Lasso \n",
    "column = ['bmi', 'bp', 's1', 's2', 's3']\n",
    "X = df[column]\n",
    "y = target \n",
    "\n",
    "model = Lasso(alpha = 0.5)\n",
    "\n",
    "model.fit(X, y)\n",
    "\n",
    "print(model.intercept_)\n",
    "print(model.coef_)"
   ]
  },
  {
   "cell_type": "markdown",
   "metadata": {},
   "source": [
    "# 2장 군집 모형"
   ]
  },
  {
   "cell_type": "markdown",
   "metadata": {},
   "source": [
    "## 1절 군집 평가"
   ]
  },
  {
   "cell_type": "markdown",
   "metadata": {},
   "source": [
    "### 1. 실루엣계수"
   ]
  },
  {
   "cell_type": "markdown",
   "metadata": {},
   "source": [
    "sklearn.metrics.silhouette_score(X, y, ...) : 전체 개체에 대한 실루엣계수의 평균 계산  \n",
    "sklearn.metrics.silhouette_sample(X, y, ...) : 각 개체에 대한 실루엣계수 계산  "
   ]
  },
  {
   "cell_type": "markdown",
   "metadata": {},
   "source": [
    "### 2. RI와 ARI"
   ]
  },
  {
   "cell_type": "code",
   "execution_count": 25,
   "metadata": {},
   "outputs": [
    {
     "name": "stdout",
     "output_type": "stream",
     "text": [
      "0.7222222222222222\n",
      "0.3076923076923077\n"
     ]
    }
   ],
   "source": [
    "labels_true = [0, 0, 0, 1, 1, 1, 1, 2, 2]\n",
    "labels_pred = [0, 0, 1, 1, 1, 1, 2, 2, 2]\n",
    "\n",
    "from sklearn.metrics.cluster import rand_score, adjusted_rand_score\n",
    "\n",
    "# RI(랜드지수)\n",
    "ri = rand_score(labels_true, labels_pred)\n",
    "print(ri)\n",
    "\n",
    "# ARI(조정 랜드지수)\n",
    "ari = adjusted_rand_score(labels_true, labels_pred)\n",
    "print(ari)"
   ]
  },
  {
   "cell_type": "markdown",
   "metadata": {},
   "source": [
    "## 2절 계층적 군집분석"
   ]
  },
  {
   "cell_type": "code",
   "execution_count": 30,
   "metadata": {},
   "outputs": [
    {
     "name": "stdout",
     "output_type": "stream",
     "text": [
      "dict_keys(['data', 'target', 'frame', 'target_names', 'DESCR', 'feature_names', 'filename', 'data_module'])\n",
      "0.8797315436241611\n",
      "0.8922595078299776\n",
      "0.8367785234899329\n",
      "0.7766442953020134\n",
      "--------------------\n",
      "0.7311985567707746\n",
      "0.7591987071071522\n",
      "0.6422512518362898\n",
      "0.5637510205230709\n"
     ]
    }
   ],
   "source": [
    "from sklearn.cluster import AgglomerativeClustering \n",
    "from sklearn.metrics.cluster import rand_score, adjusted_rand_score \n",
    "\n",
    "from sklearn.datasets import load_iris\n",
    "\n",
    "iris = load_iris()\n",
    "\n",
    "print(iris.keys())\n",
    "\n",
    "data = iris['data']\n",
    "target = iris['target']\n",
    "\n",
    "# 와드연결법\n",
    "agg_ward = AgglomerativeClustering(n_clusters = 3)\n",
    "pred_ward = agg_ward.fit_predict(data)\n",
    "\n",
    "# 평균연결법\n",
    "agg_avg = AgglomerativeClustering(n_clusters = 3, linkage = 'average')\n",
    "pred_avg = agg_avg.fit_predict(data)\n",
    "\n",
    "# 최장연결법\n",
    "agg_comp = AgglomerativeClustering(n_clusters = 3, linkage = 'complete')\n",
    "pred_comp = agg_comp.fit_predict(data)\n",
    "\n",
    "# 최단연결법\n",
    "agg_sing = AgglomerativeClustering(n_clusters = 3, linkage = 'single')\n",
    "pred_sing = agg_sing.fit_predict(data)\n",
    "\n",
    "# RI 비교\n",
    "print(rand_score(target, pred_ward)) # 와드연결법\n",
    "print(rand_score(target, pred_avg)) # 평균연결법\n",
    "print(rand_score(target, pred_comp)) # 최장연결법\n",
    "print(rand_score(target, pred_sing)) # 최단연결법\n",
    "\n",
    "print('-' * 20)\n",
    "\n",
    "# ARI 비교\n",
    "print(adjusted_rand_score(target, pred_ward)) # 와드연결법\n",
    "print(adjusted_rand_score(target, pred_avg)) # 평균연결법\n",
    "print(adjusted_rand_score(target, pred_comp)) # 최장연결법\n",
    "print(adjusted_rand_score(target, pred_sing)) # 최단연결법"
   ]
  },
  {
   "cell_type": "markdown",
   "metadata": {},
   "source": [
    "## 3절 k-means 군집분석"
   ]
  },
  {
   "cell_type": "code",
   "execution_count": 39,
   "metadata": {},
   "outputs": [
    {
     "name": "stdout",
     "output_type": "stream",
     "text": [
      "        silhouette\n",
      "labels            \n",
      "0         0.769526\n",
      "1         0.632701\n",
      "0.6810461692117462\n",
      "        silhouette\n",
      "labels            \n",
      "0         0.798140\n",
      "1         0.417320\n",
      "2         0.451105\n",
      "0.5528190123564095\n",
      "        silhouette\n",
      "labels            \n",
      "0         0.419518\n",
      "1         0.763176\n",
      "2         0.321324\n",
      "3         0.362998\n",
      "0.49805050499728726\n"
     ]
    },
    {
     "name": "stderr",
     "output_type": "stream",
     "text": [
      "/opt/anaconda3/envs/TORCH_TEXT_38/lib/python3.8/site-packages/sklearn/cluster/_kmeans.py:1416: FutureWarning: The default value of `n_init` will change from 10 to 'auto' in 1.4. Set the value of `n_init` explicitly to suppress the warning\n",
      "  super()._check_params_vs_input(X, default_n_init=10)\n",
      "/opt/anaconda3/envs/TORCH_TEXT_38/lib/python3.8/site-packages/sklearn/cluster/_kmeans.py:1416: FutureWarning: The default value of `n_init` will change from 10 to 'auto' in 1.4. Set the value of `n_init` explicitly to suppress the warning\n",
      "  super()._check_params_vs_input(X, default_n_init=10)\n",
      "/opt/anaconda3/envs/TORCH_TEXT_38/lib/python3.8/site-packages/sklearn/cluster/_kmeans.py:1416: FutureWarning: The default value of `n_init` will change from 10 to 'auto' in 1.4. Set the value of `n_init` explicitly to suppress the warning\n",
      "  super()._check_params_vs_input(X, default_n_init=10)\n"
     ]
    }
   ],
   "source": [
    "from sklearn.cluster import KMeans \n",
    "from sklearn.metrics import silhouette_score, silhouette_samples \n",
    "\n",
    "from sklearn.datasets import load_iris \n",
    "iris = load_iris()\n",
    "data = iris['data']\n",
    "\n",
    "# k=2일 때 k-means 군집모형으로 군집 형성\n",
    "kmeans_k2 = KMeans(n_clusters=2, random_state=2022)\n",
    "pred_k2 = kmeans_k2.fit_predict(data)\n",
    "\n",
    "# k=3일 때 k-means 군집모형으로 군집 형성\n",
    "kmeans_k3 = KMeans(n_clusters=3, random_state=2022)\n",
    "pred_k3 = kmeans_k3.fit_predict(data)\n",
    "\n",
    "# k=4일 때 k-means 군집모형으로 군집 형성\n",
    "kmeans_k4 = KMeans(n_clusters=4, random_state=2022)\n",
    "pred_k4 = kmeans_k4.fit_predict(data)\n",
    "\n",
    "\n",
    "import pandas as pd\n",
    "\n",
    "\n",
    "# k=2일 때\n",
    "sil_k2 = silhouette_samples(data, pred_k2)\n",
    "df_k2 = pd.DataFrame({'labels' : pred_k2, 'silhouette' : sil_k2})\n",
    "\n",
    "# 레이블별 실루엣계수의 평균\n",
    "print(df_k2.groupby('labels').mean())\n",
    "# 전체 실루엣계수 평균\n",
    "print(silhouette_score(data, pred_k2))\n",
    "\n",
    "\n",
    "# k=3일 때\n",
    "sil_k3 = silhouette_samples(data, pred_k3)\n",
    "df_k3 = pd.DataFrame({'labels' : pred_k3, 'silhouette' : sil_k3})\n",
    "\n",
    "# 레이블별 실루엣계수의 평균\n",
    "print(df_k3.groupby('labels').mean())\n",
    "# 전체 실루엣계수 평균\n",
    "print(silhouette_score(data, pred_k3))\n",
    "\n",
    "# k=4일 때\n",
    "sil_k4 = silhouette_samples(data, pred_k4)\n",
    "df_k4 = pd.DataFrame({'labels' : pred_k4, 'silhouette' : sil_k4})\n",
    "\n",
    "# 레이블별 실루엣계수의 평균\n",
    "print(df_k4.groupby('labels').mean())\n",
    "# 전체 실루엣계수 평균\n",
    "print(silhouette_score(data, pred_k4))"
   ]
  },
  {
   "cell_type": "code",
   "execution_count": null,
   "metadata": {},
   "outputs": [],
   "source": []
  }
 ],
 "metadata": {
  "kernelspec": {
   "display_name": "TORCH_TEXT_38",
   "language": "python",
   "name": "python3"
  },
  "language_info": {
   "codemirror_mode": {
    "name": "ipython",
    "version": 3
   },
   "file_extension": ".py",
   "mimetype": "text/x-python",
   "name": "python",
   "nbconvert_exporter": "python",
   "pygments_lexer": "ipython3",
   "version": "3.8.18"
  }
 },
 "nbformat": 4,
 "nbformat_minor": 2
}
