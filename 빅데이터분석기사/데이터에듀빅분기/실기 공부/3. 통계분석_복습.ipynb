{
 "cells": [
  {
   "cell_type": "code",
   "execution_count": 6,
   "metadata": {},
   "outputs": [
    {
     "name": "stdout",
     "output_type": "stream",
     "text": [
      "0.18508466614655553\n",
      "9.076791865417336e-05\n"
     ]
    }
   ],
   "source": [
    "import pandas as pd\n",
    "from sklearn.datasets import load_diabetes\n",
    "diabetes = load_diabetes(as_frame=True)\n",
    "df = diabetes['data']\n",
    "# df.info()\n",
    "from scipy.stats import pearsonr\n",
    "rho, pvalue = pearsonr(df['age'], df['bmi'])\n",
    "print(rho)\n",
    "print(pvalue)"
   ]
  },
  {
   "cell_type": "code",
   "execution_count": 7,
   "metadata": {},
   "outputs": [
    {
     "name": "stdout",
     "output_type": "stream",
     "text": [
      "ShapiroResult(statistic=0.8969662710477171, pvalue=0.20285343366469372)\n"
     ]
    }
   ],
   "source": [
    "import numpy as np\n",
    "\n",
    "np.random.seed(2024)\n",
    "x = np.random.random(10)\n",
    "\n",
    "from scipy.stats import shapiro\n",
    "\n",
    "print(shapiro(x))"
   ]
  },
  {
   "cell_type": "code",
   "execution_count": 8,
   "metadata": {},
   "outputs": [
    {
     "name": "stdout",
     "output_type": "stream",
     "text": [
      "TtestResult(statistic=-1.0289933120202257, pvalue=0.3222484823978743, df=13)\n"
     ]
    }
   ],
   "source": [
    "import numpy as np\n",
    "kg = np.array([75.5, 83.9, 75.7, 56.2, 73.4, 67.7, 79.0,\n",
    "               50.7, 58.4, 74.1, 65.1, 77.8, 48.1, 46.3])\n",
    "from scipy.stats import ttest_1samp\n",
    "\n",
    "kg_mean = kg.mean()\n",
    "\n",
    "print(ttest_1samp(kg, 70, alternative='two-sided'))"
   ]
  },
  {
   "cell_type": "code",
   "execution_count": 9,
   "metadata": {},
   "outputs": [
    {
     "name": "stdout",
     "output_type": "stream",
     "text": [
      "TtestResult(statistic=-2.078446933064972, pvalue=0.08291274205610201, df=6)\n"
     ]
    }
   ],
   "source": [
    "import pandas as pd\n",
    "import numpy as np\n",
    "from scipy.stats import ttest_rel\n",
    "\n",
    "female = np.array([50.7, 58.4, 74.1, 65.1, 77.8, 48.1, 46.3])\n",
    "male = np.array([75.5, 83.9, 75.7, 56.2, 73.4, 67.7, 79.0])\n",
    "\n",
    "print(ttest_rel(female, male))"
   ]
  },
  {
   "cell_type": "code",
   "execution_count": 10,
   "metadata": {},
   "outputs": [
    {
     "name": "stdout",
     "output_type": "stream",
     "text": [
      "TtestResult(statistic=-2.2186641577772956, pvalue=0.046550122110569664, df=12.0)\n"
     ]
    }
   ],
   "source": [
    "import pandas as pd\n",
    "import numpy as np\n",
    "from scipy.stats import ttest_ind\n",
    "\n",
    "female = np.array([50.7, 58.4, 74.1, 65.1, 77.8, 48.1, 46.3])\n",
    "male = np.array([75.5, 83.9, 75.7, 56.2, 73.4, 67.7, 79.0])\n",
    "\n",
    "print(ttest_ind(female, male))"
   ]
  },
  {
   "cell_type": "code",
   "execution_count": null,
   "metadata": {},
   "outputs": [
    {
     "name": "stdout",
     "output_type": "stream",
     "text": [
      "278.1033333333333\n",
      "1.5169272727272727\n",
      "0.041637780038918736\n"
     ]
    }
   ],
   "source": [
    "import pandas as pd\n",
    "import numpy as np\n",
    "from scipy.stats import chi2\n",
    "\n",
    "score = np.array([80.5, 60.2, 70, 87, 45, 91, 85])\n",
    "\n",
    "var0 = 1100\n",
    "\n",
    "dof = len(score) - 1\n",
    "\n",
    "print(score.var(ddof=1))\n",
    "\n",
    "stat = (len(score) - 1) * score.var(ddof=1) / var0\n",
    "\n",
    "print(stat)\n",
    "\n",
    "pvalue = chi2.cdf(stat, dof)\n",
    "\n",
    "print(pvalue)"
   ]
  },
  {
   "cell_type": "code",
   "execution_count": 17,
   "metadata": {},
   "outputs": [
    {
     "name": "stdout",
     "output_type": "stream",
     "text": [
      "212.66666666666669 1138.4107142857142\n",
      "0.18681014154026346\n",
      "0.041539430375629585\n"
     ]
    }
   ],
   "source": [
    "import pandas as pd\n",
    "import numpy as np\n",
    "from scipy.stats import f\n",
    "\n",
    "a = np.array([70, 80, 75, 65, 100, 98])\n",
    "b = np.array([20, 100, 50, 94, 28, 80, 95, 30])\n",
    "\n",
    "print(a.var(ddof=1), b.var(ddof=1)) # 212, 1138\n",
    "\n",
    "dof1 = len(a) - 1\n",
    "dof2 = len(b) - 1\n",
    "\n",
    "stat = a.var(ddof=1) / b.var(ddof=1)\n",
    "print(stat)\n",
    "\n",
    "print(f.cdf(stat, dof1, dof2))"
   ]
  },
  {
   "cell_type": "code",
   "execution_count": 18,
   "metadata": {},
   "outputs": [
    {
     "name": "stdout",
     "output_type": "stream",
     "text": [
      "15.6702722148674\n",
      "0.00039558846873743075\n"
     ]
    }
   ],
   "source": [
    "import pandas as pd\n",
    "import numpy as np\n",
    "\n",
    "a = np.array([70, 80, 75, 65, 100, 98])\n",
    "b = np.array([20, 100, 50, 94, 28, 80])\n",
    "c = np.array([90, 97, 95, 94, 99, 100])\n",
    "\n",
    "from scipy.stats import bartlett\n",
    "stat, pvalue = bartlett(a, b, c)\n",
    "print(stat)\n",
    "print(pvalue)"
   ]
  },
  {
   "cell_type": "code",
   "execution_count": 19,
   "metadata": {},
   "outputs": [
    {
     "name": "stdout",
     "output_type": "stream",
     "text": [
      "14.365736704446384\n",
      "0.0003271362104550012\n"
     ]
    }
   ],
   "source": [
    "import pandas as pd\n",
    "import numpy as np\n",
    "\n",
    "from scipy.stats import levene\n",
    "stat, pvalue = levene(a, b, c)\n",
    "print(stat)\n",
    "print(pvalue)"
   ]
  },
  {
   "cell_type": "code",
   "execution_count": 25,
   "metadata": {},
   "outputs": [
    {
     "name": "stdout",
     "output_type": "stream",
     "text": [
      "              df         sum_sq        mean_sq            F  PR(>F)\n",
      "School       2.0  996939.237147  498469.618573  5722.221007     0.0\n",
      "Residual  2997.0  261072.308290      87.111214          NaN     NaN\n"
     ]
    }
   ],
   "source": [
    "import pandas as pd\n",
    "from statsmodels.stats.anova import anova_lm\n",
    "from statsmodels.formula.api import ols\n",
    "\n",
    "df = pd.read_csv('../data/예제/school_score.csv')\n",
    "# print(df) # Final ~ id + School + Sex + Grade\n",
    "\n",
    "model = ols('Final ~ School', data = df).fit()\n",
    "result = anova_lm(model)\n",
    "print(result)"
   ]
  },
  {
   "cell_type": "code",
   "execution_count": 29,
   "metadata": {},
   "outputs": [
    {
     "name": "stdout",
     "output_type": "stream",
     "text": [
      "                        df         sum_sq        mean_sq            F  \\\n",
      "C(School)              2.0  996939.237147  498469.618573  5721.620556   \n",
      "C(Grade)               2.0     324.472829     162.236415     1.862210   \n",
      "C(School):C(Grade)     4.0     170.851257      42.712814     0.490274   \n",
      "Residual            2991.0  260576.984204      87.120356          NaN   \n",
      "\n",
      "                      PR(>F)  \n",
      "C(School)           0.000000  \n",
      "C(Grade)            0.155509  \n",
      "C(School):C(Grade)  0.742912  \n",
      "Residual                 NaN  \n"
     ]
    }
   ],
   "source": [
    "import pandas as pd\n",
    "from statsmodels.formula.api import ols\n",
    "from statsmodels.stats.anova import anova_lm\n",
    "\n",
    "df = pd.read_csv('../data/예제/school_score.csv')\n",
    "# print(df) # Final ~ School + Sex + School:Sex\n",
    "model = ols('Final ~ C(School) + C(Grade) + C(School):C(Grade)', data=df).fit()\n",
    "result = anova_lm(model)\n",
    "print(result)"
   ]
  },
  {
   "cell_type": "code",
   "execution_count": 30,
   "metadata": {},
   "outputs": [
    {
     "name": "stdout",
     "output_type": "stream",
     "text": [
      "               df         sum_sq        mean_sq            F    PR(>F)\n",
      "C(School)     2.0  996939.237147  498469.618573  5725.518315  0.000000\n",
      "C(Grade)      2.0     324.472829     162.236415     1.863479  0.155312\n",
      "Residual   2995.0  260747.835461      87.061047          NaN       NaN\n"
     ]
    }
   ],
   "source": [
    "model = ols('Final ~ C(School) + C(Grade)', data=df).fit()\n",
    "result = anova_lm(model)\n",
    "print(result)"
   ]
  },
  {
   "cell_type": "code",
   "execution_count": 36,
   "metadata": {},
   "outputs": [
    {
     "name": "stdout",
     "output_type": "stream",
     "text": [
      "              df         sum_sq        mean_sq            F  PR(>F)\n",
      "School       2.0  996939.237147  498469.618573  5722.221007     0.0\n",
      "Residual  2997.0  261072.308290      87.111214          NaN     NaN\n"
     ]
    }
   ],
   "source": [
    "import pandas as pd\n",
    "from statsmodels.formula.api import ols \n",
    "from statsmodels.stats.anova import anova_lm\n",
    "\n",
    "df = pd.read_csv('../data/예제/school_score.csv')\n",
    "# print(df)\n",
    "\n",
    "model = ols('Final ~ School', data=df).fit()\n",
    "result = anova_lm(model)\n",
    "print(result)"
   ]
  },
  {
   "cell_type": "code",
   "execution_count": 37,
   "metadata": {},
   "outputs": [
    {
     "name": "stdout",
     "output_type": "stream",
     "text": [
      "                        df         sum_sq        mean_sq            F  \\\n",
      "C(School)              2.0  996939.237147  498469.618573  5721.620556   \n",
      "C(Grade)               2.0     324.472829     162.236415     1.862210   \n",
      "C(School):C(Grade)     4.0     170.851257      42.712814     0.490274   \n",
      "Residual            2991.0  260576.984204      87.120356          NaN   \n",
      "\n",
      "                      PR(>F)  \n",
      "C(School)           0.000000  \n",
      "C(Grade)            0.155509  \n",
      "C(School):C(Grade)  0.742912  \n",
      "Residual                 NaN  \n"
     ]
    }
   ],
   "source": [
    "import pandas as pd\n",
    "from statsmodels.formula.api import ols \n",
    "from statsmodels.stats.anova import anova_lm \n",
    "\n",
    "df = pd.read_csv('../data/예제/school_score.csv')\n",
    "\n",
    "model = ols('Final ~ C(School) + C(Grade) + C(School):C(Grade)', data=df).fit()\n",
    "result = anova_lm(model)\n",
    "print(result)"
   ]
  },
  {
   "cell_type": "code",
   "execution_count": null,
   "metadata": {},
   "outputs": [],
   "source": []
  },
  {
   "cell_type": "code",
   "execution_count": null,
   "metadata": {},
   "outputs": [],
   "source": []
  },
  {
   "cell_type": "code",
   "execution_count": 32,
   "metadata": {},
   "outputs": [
    {
     "name": "stdout",
     "output_type": "stream",
     "text": [
      "Power_divergenceResult(statistic=82.94, pvalue=4.14849046718008e-17)\n"
     ]
    }
   ],
   "source": [
    "import pandas as pd \n",
    "from scipy.stats import chisquare\n",
    "\n",
    "obs = [423, 304, 274, 205, 294]\n",
    "exp = [1500 / 5] * 5\n",
    "# print(exp)\n",
    "\n",
    "print(chisquare(obs, exp))"
   ]
  },
  {
   "cell_type": "code",
   "execution_count": 34,
   "metadata": {},
   "outputs": [
    {
     "name": "stdout",
     "output_type": "stream",
     "text": [
      "    좋음   싫음\n",
      "0  400  350\n",
      "1  350  800\n",
      "98.66917336693975\n",
      "2.98411357336002e-23\n",
      "1\n",
      "[[296.05263158 453.94736842]\n",
      " [453.94736842 696.05263158]]\n"
     ]
    }
   ],
   "source": [
    "import pandas as pd\n",
    "from scipy.stats import chi2_contingency\n",
    "\n",
    "df = pd.DataFrame({\n",
    "    '좋음' : [400, 350],\n",
    "    '싫음' : [350, 800]\n",
    "})\n",
    "print(df)\n",
    "\n",
    "stat, pvalue, dof, exp_freq = chi2_contingency(df)\n",
    "print(stat)\n",
    "print(pvalue)\n",
    "print(dof)\n",
    "print(exp_freq)"
   ]
  },
  {
   "cell_type": "code",
   "execution_count": null,
   "metadata": {},
   "outputs": [],
   "source": []
  }
 ],
 "metadata": {
  "kernelspec": {
   "display_name": "Python 3",
   "language": "python",
   "name": "python3"
  },
  "language_info": {
   "codemirror_mode": {
    "name": "ipython",
    "version": 3
   },
   "file_extension": ".py",
   "mimetype": "text/x-python",
   "name": "python",
   "nbconvert_exporter": "python",
   "pygments_lexer": "ipython3",
   "version": "3.11.9"
  }
 },
 "nbformat": 4,
 "nbformat_minor": 2
}
