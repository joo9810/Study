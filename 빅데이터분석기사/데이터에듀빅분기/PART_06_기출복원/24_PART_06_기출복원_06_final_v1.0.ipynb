{
 "cells": [
  {
   "cell_type": "markdown",
   "id": "db1a1edd",
   "metadata": {},
   "source": [
    "## 기출복원 6회"
   ]
  },
  {
   "cell_type": "markdown",
   "id": "e7e22c41",
   "metadata": {},
   "source": [
    "### (작업형1) "
   ]
  },
  {
   "cell_type": "markdown",
   "id": "8e175d52",
   "metadata": {},
   "source": [
    "#### 1.아래 데이터(sejong_fire.csv)는 공공데이터 포털에서 제공하는 세종소방본부 2020년 화재발생현황 정보에 대한 데이터의 일부이다. 접수시간으로부터 상황종료시간까지 소요되는 시간을 화재진압시간이라 정의할 때, 10년 중 화재진압시간이 가장 오래 걸린 서센터의 10년 간의 평균 화재진압시간을 계산하여라.(단, 결과 출력시 분 단위로 출력하고, 초 단위가 30초 이상이면 올림, 미만이면 내림하여 정수로 출력할 것)"
   ]
  },
  {
   "cell_type": "code",
   "execution_count": 2,
   "id": "e81ced46",
   "metadata": {},
   "outputs": [
    {
     "name": "stdout",
     "output_type": "stream",
     "text": [
      "1573\n"
     ]
    }
   ],
   "source": [
    "#### 기출복원 06회 작업형1 01 Solution\n",
    "import pandas as pd\n",
    "exam1 = pd.read_csv('data/기출복원/06회/sejong_fire.csv', encoding = 'cp949')\n",
    "\n",
    "##### 화재 진압 시간 계산\n",
    "접수일시  = pd.to_datetime(exam1['접수일시'])\n",
    "상황종료일시 = pd.to_datetime(exam1['상황종료일시'])\n",
    "exam1['화재진압시간'] = (상황종료일시 - 접수일시).astype('timedelta64[m]')\n",
    "\n",
    "##### 화재 진압 시간이 가장 큰 서센터의 평균 화재 진압 시간 계산\n",
    "# 화재 진압 시간이 가장 큰 서센터\n",
    "center_name = exam1['서센터명'][exam1['화재진압시간'].argmax()]\n",
    "\n",
    "# 위의 센터에 대한 데이터만 복사\n",
    "df = exam1.loc[exam1['서센터명'] == center_name].copy()\n",
    "\n",
    "##### 결과 저장\n",
    "result = round(df['화재진압시간'].mean(), 0).astype('int')\n",
    "\n",
    "##### 결과 출력\n",
    "print(result)"
   ]
  },
  {
   "cell_type": "markdown",
   "id": "461efb38",
   "metadata": {},
   "source": [
    "--- "
   ]
  },
  {
   "cell_type": "markdown",
   "id": "1375c428",
   "metadata": {},
   "source": [
    "#### 2. 아래 데이터(busan_school_Info.csv)는 학교알리미에서 제공하는 부산 지역 초등학교 1학년부터 6학년까지 학생 수와 교사 수에 대한 데이터이다. 전체 학생수 대비 교사의 비율(교사 1인당 학생 수)이 가장 높은 학교의 교사 수를 출력하시오.(단, 결과 출력시 정수로 출력할 것)"
   ]
  },
  {
   "cell_type": "code",
   "execution_count": 3,
   "id": "77b42abe",
   "metadata": {},
   "outputs": [
    {
     "name": "stdout",
     "output_type": "stream",
     "text": [
      "24\n"
     ]
    }
   ],
   "source": [
    "#### 기출복원 06회 작업형1 02 Solution\n",
    "import pandas as pd\n",
    "exam2 = pd.read_csv('data/기출복원/06회/busan_school_Info.csv', encoding = 'cp949')\n",
    "\n",
    "##### 전체 학생수의 교사 비율(교사 1인당 학생 수)이 가장 높은 학교의 교사 수\n",
    "# 교사 1인당 학생 계산\n",
    "ratio = exam2.iloc[:,1:7].sum(axis = 1)/exam2['teacher']\n",
    "\n",
    "# 위의 값이 가장 큰 학교 데이터만 추출\n",
    "max_school_name = exam2['school_name'][ratio.argmax()]\n",
    "df = exam2.loc[exam2['school_name'] == max_school_name].copy()\n",
    "\n",
    "##### 결과 저장\n",
    "result = df['teacher'][ratio.argmax()]\n",
    "\n",
    "##### 결과 출력\n",
    "print(result)"
   ]
  },
  {
   "cell_type": "markdown",
   "id": "ee619b6b",
   "metadata": {},
   "source": [
    "--- "
   ]
  },
  {
   "cell_type": "markdown",
   "id": "1500ff9f",
   "metadata": {},
   "source": [
    "#### 3. 다음은 서울시에서 제공하는 공개용 데이터의 일부로 서울시의 5대 범죄 발생현황에 대한 데이터(five_crime.csv)이다. 연도별 범죄 총 발생건수의 월평균이 가장 큰 연도의 월 평균 폭력검거건수를 출력하여라.(단, 출력시 반올림하여 정수로 출력할 것)"
   ]
  },
  {
   "cell_type": "code",
   "execution_count": 5,
   "id": "67abb715",
   "metadata": {},
   "outputs": [
    {
     "name": "stdout",
     "output_type": "stream",
     "text": [
      "5886\n"
     ]
    }
   ],
   "source": [
    "#### 기출복원 06회 작업형1 02 Solution\n",
    "import pandas as pd\n",
    "exam3 = pd.read_csv('data/기출복원/06회/five_crime.csv', encoding = 'cp949')\n",
    "\n",
    "##### 연도별 범죄 총 발생건수 계산\n",
    "# 사이 공백들 처리 후 연도와 월을 문자열로 처리\n",
    "exam3['연월'] = exam3['연월'].str.replace(' ','')\n",
    "exam3['연월'] = exam3['연월'].str.replace('월','')\n",
    "exam3['연도'] = exam3['연월'].str[:4].copy()\n",
    "exam3['월'] = exam3['연월'].str[-2:].copy()\n",
    "\n",
    "# 총 발생 건수 컬럼 추가\n",
    "exam3['총발생건수'] = exam3.iloc[:,range(1, 11, 2)].sum(axis = 1)\n",
    "\n",
    "##### 연도별 범죄 총 발생건수의 월평균 계산\n",
    "연도별월평균 = exam3.groupby('연도').mean()['총발생건수']\n",
    "\n",
    "##### 월 평균이 가장 큰 연도 찾은 후 해당연도의 월 평균 폭력검거건수를 출력\n",
    "max_year = 연도별월평균.argmax()\n",
    "result = exam3.groupby('연도').mean()['폭력_발생건수'][max_year]\n",
    "result = round(result, 0).astype('int')\n",
    "print(result)"
   ]
  },
  {
   "cell_type": "markdown",
   "id": "bcf61461",
   "metadata": {},
   "source": [
    "---"
   ]
  },
  {
   "cell_type": "markdown",
   "id": "e4774c95",
   "metadata": {},
   "source": [
    "### (작업형2) "
   ]
  },
  {
   "cell_type": "markdown",
   "id": "e52e2b73",
   "metadata": {},
   "source": [
    "아래는 US 항공사 승객 만족도 조사 데이터의 일부이다."
   ]
  },
  {
   "cell_type": "code",
   "execution_count": 6,
   "id": "221bda30",
   "metadata": {},
   "outputs": [],
   "source": [
    "#### 기출복원 06회 작업형2 Solution\n",
    "import pandas as pd\n",
    "\n",
    "##### STEP1. 데이터셋 불러오기\n",
    "import pandas as pd\n",
    "train = pd.read_csv('data/기출복원/06회/Airline_train.csv')\n",
    "test = pd.read_csv('data/기출복원/06회/Airline_test.csv')\n",
    "\n",
    "# train 데이터를 X_train과 y_train으로 분할\n",
    "y_train = train['Satisfaction']\n",
    "X_train = train.drop('Satisfaction', axis = 1)\n",
    "\n",
    "# test도 통일을 위해 X_test로 할당\n",
    "X_test = test"
   ]
  },
  {
   "cell_type": "code",
   "execution_count": 7,
   "id": "176cd723",
   "metadata": {},
   "outputs": [
    {
     "name": "stdout",
     "output_type": "stream",
     "text": [
      "   Gender      Ages Customer_Type     Class  Inflight_wifi_service  \\\n",
      "0  Female  [10, 20)             L  Eco Plus                      1   \n",
      "1  Female  [10, 20)             L       Eco                      2   \n",
      "2  Female  [10, 20)            NL       Eco                      2   \n",
      "3    Male  [10, 20)            NL       Eco                      5   \n",
      "4    Male  [10, 20)             L  Business                      3   \n",
      "\n",
      "   Departure_Arrival_time_convenient  Ease_of_Online_booking  Gate_location  \\\n",
      "0                                  3                       1              3   \n",
      "1                                  4                       2              4   \n",
      "2                                  2                       1              4   \n",
      "3                                  3                       5              3   \n",
      "4                                  3                       3              3   \n",
      "\n",
      "   Food_and_drink  Online_boarding  Seat_comfort  Inflight_entertainment  \\\n",
      "0               1                1             1                       1   \n",
      "1               1                2             1                       1   \n",
      "2               4                1             4                       4   \n",
      "3               1                5             1                       1   \n",
      "4               3                3             3                       3   \n",
      "\n",
      "   On_board_service  Leg_room_service  Baggage_handling  Checkin_service  \\\n",
      "0                 2                 1                 2                4   \n",
      "1                 3                 3                 4                4   \n",
      "2                 4                 4                 3                2   \n",
      "3                 2                 4                 3                1   \n",
      "4                 4                 2                 4                1   \n",
      "\n",
      "   Inflight_service  Cleanliness  Departure_Delay_in_Minutes  \\\n",
      "0                 2            1                           0   \n",
      "1                 4            1                           0   \n",
      "2                 3            4                           3   \n",
      "3                 1            1                           0   \n",
      "4                 4            3                           0   \n",
      "\n",
      "   Arrival_Delay_in_Minutes  \n",
      "0                         0  \n",
      "1                         0  \n",
      "2                         0  \n",
      "3                         0  \n",
      "4                         0  \n",
      "   Gender      Ages Customer_Type Class  Inflight_wifi_service  \\\n",
      "0    Male  [10, 20)             L   Eco                      4   \n",
      "1  Female  [10, 20)             L   Eco                      4   \n",
      "2  Female  [10, 20)             L   Eco                      0   \n",
      "3  Female  [10, 20)             L   Eco                      4   \n",
      "4    Male  [10, 20)             L   Eco                      1   \n",
      "\n",
      "   Departure_Arrival_time_convenient  Ease_of_Online_booking  Gate_location  \\\n",
      "0                                  2                       4              4   \n",
      "1                                  1                       5              5   \n",
      "2                                  3                       0              3   \n",
      "3                                  1                       4              4   \n",
      "4                                  5                       0              3   \n",
      "\n",
      "   Food_and_drink  Online_boarding  Seat_comfort  Inflight_entertainment  \\\n",
      "0               2                4             2                       2   \n",
      "1               4                4             3                       4   \n",
      "2               0                3             3                       4   \n",
      "3               2                4             2                       2   \n",
      "4               2                0             5                       2   \n",
      "\n",
      "   On_board_service  Leg_room_service  Baggage_handling  Checkin_service  \\\n",
      "0                 1                 2                 3                1   \n",
      "1                 5                 5                 3                4   \n",
      "2                 3                 4                 4                3   \n",
      "3                 2                 5                 4                1   \n",
      "4                 2                 4                 4                2   \n",
      "\n",
      "   Inflight_service  Cleanliness  Departure_Delay_in_Minutes  \\\n",
      "0                 4            2                          20   \n",
      "1                 1            4                           0   \n",
      "2                 2            3                         151   \n",
      "3                 3            2                           0   \n",
      "4                 3            2                           0   \n",
      "\n",
      "   Arrival_Delay_in_Minutes  \n",
      "0                        11  \n",
      "1                         0  \n",
      "2                       214  \n",
      "3                         0  \n",
      "4                         0  \n",
      "0     No\n",
      "1     No\n",
      "2     No\n",
      "3    Yes\n",
      "4     No\n",
      "Name: Satisfaction, dtype: object\n"
     ]
    }
   ],
   "source": [
    "##### STEP2. 데이터셋 확인하기\n",
    "###### STEP2-1. 데이터셋 일부 확인\n",
    "print(X_train.head())\n",
    "print(X_test.head())\n",
    "print(y_train.head())"
   ]
  },
  {
   "cell_type": "code",
   "execution_count": 8,
   "id": "d38d99da",
   "metadata": {},
   "outputs": [
    {
     "name": "stdout",
     "output_type": "stream",
     "text": [
      "<class 'pandas.core.frame.DataFrame'>\n",
      "RangeIndex: 6434 entries, 0 to 6433\n",
      "Data columns (total 20 columns):\n",
      " #   Column                             Non-Null Count  Dtype \n",
      "---  ------                             --------------  ----- \n",
      " 0   Gender                             6434 non-null   object\n",
      " 1   Ages                               6434 non-null   object\n",
      " 2   Customer_Type                      6434 non-null   object\n",
      " 3   Class                              6434 non-null   object\n",
      " 4   Inflight_wifi_service              6434 non-null   int64 \n",
      " 5   Departure_Arrival_time_convenient  6434 non-null   int64 \n",
      " 6   Ease_of_Online_booking             6434 non-null   int64 \n",
      " 7   Gate_location                      6434 non-null   int64 \n",
      " 8   Food_and_drink                     6434 non-null   int64 \n",
      " 9   Online_boarding                    6434 non-null   int64 \n",
      " 10  Seat_comfort                       6434 non-null   int64 \n",
      " 11  Inflight_entertainment             6434 non-null   int64 \n",
      " 12  On_board_service                   6434 non-null   int64 \n",
      " 13  Leg_room_service                   6434 non-null   int64 \n",
      " 14  Baggage_handling                   6434 non-null   int64 \n",
      " 15  Checkin_service                    6434 non-null   int64 \n",
      " 16  Inflight_service                   6434 non-null   int64 \n",
      " 17  Cleanliness                        6434 non-null   int64 \n",
      " 18  Departure_Delay_in_Minutes         6434 non-null   int64 \n",
      " 19  Arrival_Delay_in_Minutes           6434 non-null   int64 \n",
      "dtypes: int64(16), object(4)\n",
      "memory usage: 1005.4+ KB\n",
      "None\n",
      "<class 'pandas.core.frame.DataFrame'>\n",
      "RangeIndex: 1612 entries, 0 to 1611\n",
      "Data columns (total 20 columns):\n",
      " #   Column                             Non-Null Count  Dtype \n",
      "---  ------                             --------------  ----- \n",
      " 0   Gender                             1612 non-null   object\n",
      " 1   Ages                               1612 non-null   object\n",
      " 2   Customer_Type                      1612 non-null   object\n",
      " 3   Class                              1612 non-null   object\n",
      " 4   Inflight_wifi_service              1612 non-null   int64 \n",
      " 5   Departure_Arrival_time_convenient  1612 non-null   int64 \n",
      " 6   Ease_of_Online_booking             1612 non-null   int64 \n",
      " 7   Gate_location                      1612 non-null   int64 \n",
      " 8   Food_and_drink                     1612 non-null   int64 \n",
      " 9   Online_boarding                    1612 non-null   int64 \n",
      " 10  Seat_comfort                       1612 non-null   int64 \n",
      " 11  Inflight_entertainment             1612 non-null   int64 \n",
      " 12  On_board_service                   1612 non-null   int64 \n",
      " 13  Leg_room_service                   1612 non-null   int64 \n",
      " 14  Baggage_handling                   1612 non-null   int64 \n",
      " 15  Checkin_service                    1612 non-null   int64 \n",
      " 16  Inflight_service                   1612 non-null   int64 \n",
      " 17  Cleanliness                        1612 non-null   int64 \n",
      " 18  Departure_Delay_in_Minutes         1612 non-null   int64 \n",
      " 19  Arrival_Delay_in_Minutes           1612 non-null   int64 \n",
      "dtypes: int64(16), object(4)\n",
      "memory usage: 252.0+ KB\n",
      "None\n",
      "<class 'pandas.core.series.Series'>\n",
      "RangeIndex: 6434 entries, 0 to 6433\n",
      "Series name: Satisfaction\n",
      "Non-Null Count  Dtype \n",
      "--------------  ----- \n",
      "6434 non-null   object\n",
      "dtypes: object(1)\n",
      "memory usage: 50.4+ KB\n",
      "None\n"
     ]
    }
   ],
   "source": [
    "###### STEP2-2. 데이터셋 요약 정보 확인\n",
    "print(X_train.info())\n",
    "print(X_test.info())\n",
    "print(y_train.info())"
   ]
  },
  {
   "cell_type": "code",
   "execution_count": 9,
   "id": "658ebeb9",
   "metadata": {},
   "outputs": [
    {
     "name": "stdout",
     "output_type": "stream",
     "text": [
      "       Inflight_wifi_service  Departure_Arrival_time_convenient  \\\n",
      "count            6434.000000                        6434.000000   \n",
      "mean                2.737333                           3.037613   \n",
      "std                 1.362034                           1.547572   \n",
      "min                 0.000000                           0.000000   \n",
      "25%                 2.000000                           2.000000   \n",
      "50%                 3.000000                           3.000000   \n",
      "75%                 4.000000                           4.000000   \n",
      "max                 5.000000                           5.000000   \n",
      "\n",
      "       Ease_of_Online_booking  Gate_location  Food_and_drink  Online_boarding  \\\n",
      "count             6434.000000    6434.000000     6434.000000      6434.000000   \n",
      "mean                 2.799036       3.016164        3.194591         3.282872   \n",
      "std                  1.433383       1.292237        1.334611         1.359697   \n",
      "min                  0.000000       1.000000        0.000000         0.000000   \n",
      "25%                  2.000000       2.000000        2.000000         2.000000   \n",
      "50%                  3.000000       3.000000        3.000000         4.000000   \n",
      "75%                  4.000000       4.000000        4.000000         4.000000   \n",
      "max                  5.000000       5.000000        5.000000         5.000000   \n",
      "\n",
      "       Seat_comfort  Inflight_entertainment  On_board_service  \\\n",
      "count   6434.000000             6434.000000       6434.000000   \n",
      "mean       3.461921                3.379235          3.420423   \n",
      "std        1.320489                1.334279          1.280846   \n",
      "min        1.000000                0.000000          0.000000   \n",
      "25%        2.000000                2.000000          3.000000   \n",
      "50%        4.000000                4.000000          4.000000   \n",
      "75%        5.000000                4.000000          4.000000   \n",
      "max        5.000000                5.000000          5.000000   \n",
      "\n",
      "       Leg_room_service  Baggage_handling  Checkin_service  Inflight_service  \\\n",
      "count       6434.000000       6434.000000      6434.000000       6434.000000   \n",
      "mean           3.383743          3.682313         3.345197          3.671433   \n",
      "std            1.310823          1.159491         1.267827          1.159274   \n",
      "min            0.000000          1.000000         1.000000          0.000000   \n",
      "25%            2.000000          3.000000         3.000000          3.000000   \n",
      "50%            4.000000          4.000000         3.000000          4.000000   \n",
      "75%            4.000000          5.000000         4.000000          5.000000   \n",
      "max            5.000000          5.000000         5.000000          5.000000   \n",
      "\n",
      "       Cleanliness  Departure_Delay_in_Minutes  Arrival_Delay_in_Minutes  \n",
      "count  6434.000000                 6434.000000               6434.000000  \n",
      "mean      3.284426                   15.092633                 15.686820  \n",
      "std       1.313427                   44.029329                 44.297168  \n",
      "min       0.000000                    0.000000                  0.000000  \n",
      "25%       2.000000                    0.000000                  0.000000  \n",
      "50%       3.000000                    0.000000                  0.000000  \n",
      "75%       4.000000                   12.000000                 13.000000  \n",
      "max       5.000000                 1592.000000               1584.000000  \n",
      "       Inflight_wifi_service  Departure_Arrival_time_convenient  \\\n",
      "count            1612.000000                        1612.000000   \n",
      "mean                2.741935                           2.981390   \n",
      "std                 1.318033                           1.526395   \n",
      "min                 0.000000                           0.000000   \n",
      "25%                 2.000000                           2.000000   \n",
      "50%                 3.000000                           3.000000   \n",
      "75%                 4.000000                           4.000000   \n",
      "max                 5.000000                           5.000000   \n",
      "\n",
      "       Ease_of_Online_booking  Gate_location  Food_and_drink  Online_boarding  \\\n",
      "count             1612.000000    1612.000000     1612.000000       1612.00000   \n",
      "mean                 2.732010       2.934243        3.199752          3.23263   \n",
      "std                  1.386784       1.290040        1.319218          1.34302   \n",
      "min                  0.000000       1.000000        0.000000          0.00000   \n",
      "25%                  2.000000       2.000000        2.000000          2.00000   \n",
      "50%                  3.000000       3.000000        3.000000          3.00000   \n",
      "75%                  4.000000       4.000000        4.000000          4.00000   \n",
      "max                  5.000000       5.000000        5.000000          5.00000   \n",
      "\n",
      "       Seat_comfort  Inflight_entertainment  On_board_service  \\\n",
      "count   1612.000000             1612.000000       1612.000000   \n",
      "mean       3.445409                3.403846          3.375931   \n",
      "std        1.319339                1.317432          1.306097   \n",
      "min        1.000000                0.000000          1.000000   \n",
      "25%        3.000000                2.000000          2.000000   \n",
      "50%        4.000000                4.000000          4.000000   \n",
      "75%        5.000000                4.000000          4.000000   \n",
      "max        5.000000                5.000000          5.000000   \n",
      "\n",
      "       Leg_room_service  Baggage_handling  Checkin_service  Inflight_service  \\\n",
      "count       1612.000000       1612.000000      1612.000000       1612.000000   \n",
      "mean           3.414392          3.682382         3.276055          3.699752   \n",
      "std            1.306809          1.153996         1.285974          1.150575   \n",
      "min            0.000000          1.000000         1.000000          1.000000   \n",
      "25%            2.000000          3.000000         2.000000          3.000000   \n",
      "50%            4.000000          4.000000         3.000000          4.000000   \n",
      "75%            4.000000          5.000000         4.000000          5.000000   \n",
      "max            5.000000          5.000000         5.000000          5.000000   \n",
      "\n",
      "       Cleanliness  Departure_Delay_in_Minutes  Arrival_Delay_in_Minutes  \n",
      "count  1612.000000                 1612.000000               1612.000000  \n",
      "mean      3.310794                   15.045285                 15.887717  \n",
      "std       1.322886                   35.557908                 37.669515  \n",
      "min       0.000000                    0.000000                  0.000000  \n",
      "25%       2.000000                    0.000000                  0.000000  \n",
      "50%       3.000000                    0.000000                  0.000000  \n",
      "75%       4.000000                   14.000000                 15.000000  \n",
      "max       5.000000                  426.000000                427.000000  \n",
      "count     6434\n",
      "unique       2\n",
      "top         No\n",
      "freq      3437\n",
      "Name: Satisfaction, dtype: object\n"
     ]
    }
   ],
   "source": [
    "###### STEP2-3. 기초통계량 확인\n",
    "print(X_train.describe())\n",
    "print(X_test.describe())\n",
    "print(y_train.describe())"
   ]
  },
  {
   "cell_type": "code",
   "execution_count": 10,
   "id": "46655c91",
   "metadata": {},
   "outputs": [],
   "source": [
    "##### STEP3. 데이터셋 전처리\n",
    "###### STEP3-1. 불필요한 컬럼 삭제\n",
    "# 불필요한 컬럼 없음"
   ]
  },
  {
   "cell_type": "code",
   "execution_count": 11,
   "id": "f0b69503",
   "metadata": {},
   "outputs": [
    {
     "data": {
      "text/plain": [
       "Gender                               0\n",
       "Ages                                 0\n",
       "Customer_Type                        0\n",
       "Class                                0\n",
       "Inflight_wifi_service                0\n",
       "Departure_Arrival_time_convenient    0\n",
       "Ease_of_Online_booking               0\n",
       "Gate_location                        0\n",
       "Food_and_drink                       0\n",
       "Online_boarding                      0\n",
       "Seat_comfort                         0\n",
       "Inflight_entertainment               0\n",
       "On_board_service                     0\n",
       "Leg_room_service                     0\n",
       "Baggage_handling                     0\n",
       "Checkin_service                      0\n",
       "Inflight_service                     0\n",
       "Cleanliness                          0\n",
       "Departure_Delay_in_Minutes           0\n",
       "Arrival_Delay_in_Minutes             0\n",
       "dtype: int64"
      ]
     },
     "execution_count": 11,
     "metadata": {},
     "output_type": "execute_result"
    }
   ],
   "source": [
    "###### STEP3-2. 결측치 처리\n",
    "# 결측치 확인\n",
    "X_train.isna().sum()"
   ]
  },
  {
   "cell_type": "code",
   "execution_count": 12,
   "id": "cb873d4a",
   "metadata": {},
   "outputs": [
    {
     "data": {
      "text/plain": [
       "Gender                               0\n",
       "Ages                                 0\n",
       "Customer_Type                        0\n",
       "Class                                0\n",
       "Inflight_wifi_service                0\n",
       "Departure_Arrival_time_convenient    0\n",
       "Ease_of_Online_booking               0\n",
       "Gate_location                        0\n",
       "Food_and_drink                       0\n",
       "Online_boarding                      0\n",
       "Seat_comfort                         0\n",
       "Inflight_entertainment               0\n",
       "On_board_service                     0\n",
       "Leg_room_service                     0\n",
       "Baggage_handling                     0\n",
       "Checkin_service                      0\n",
       "Inflight_service                     0\n",
       "Cleanliness                          0\n",
       "Departure_Delay_in_Minutes           0\n",
       "Arrival_Delay_in_Minutes             0\n",
       "dtype: int64"
      ]
     },
     "execution_count": 12,
     "metadata": {},
     "output_type": "execute_result"
    }
   ],
   "source": [
    "X_test.isna().sum()"
   ]
  },
  {
   "cell_type": "code",
   "execution_count": 13,
   "id": "7545ab33",
   "metadata": {
    "scrolled": true
   },
   "outputs": [],
   "source": [
    "###### STEP3-3. 카테고리형 컬럼 전처리\n",
    "# 별도의 과정 없음"
   ]
  },
  {
   "cell_type": "code",
   "execution_count": 14,
   "id": "b348c09a",
   "metadata": {},
   "outputs": [],
   "source": [
    "###### STEP3-4. 수치형 컬럼 전처리\n",
    "# 별도의 과정 없음"
   ]
  },
  {
   "cell_type": "code",
   "execution_count": 15,
   "id": "40ffe87e",
   "metadata": {},
   "outputs": [
    {
     "name": "stdout",
     "output_type": "stream",
     "text": [
      "(4503, 20)\n",
      "(1931, 20)\n",
      "(4503,)\n",
      "(1931,)\n"
     ]
    }
   ],
   "source": [
    "###### STEP3-5. 데이터 분할\n",
    "from sklearn.model_selection import train_test_split\n",
    "\n",
    "# X_train과 y_train을 학습용(X_TRAIN, y_TRAIN)과 검증용(X_VAL, y_VAL)로 분할\n",
    "X_TRAIN, X_VAL, y_TRAIN, y_VAL = train_test_split(X_train, y_train, random_state = 1234, test_size = 0.3, stratify = y_train)\n",
    "\n",
    "# 분할 후 shape 확인\n",
    "print(X_TRAIN.shape)\n",
    "print(X_VAL.shape)\n",
    "print(y_TRAIN.shape)\n",
    "print(y_VAL.shape)"
   ]
  },
  {
   "cell_type": "code",
   "execution_count": 16,
   "id": "fe5010bf",
   "metadata": {},
   "outputs": [],
   "source": [
    "###### STEP3-6. 인코딩\n",
    "# 카테고리형 컬럼에 대하여 라벨 인코딩 수행\n",
    "from sklearn.preprocessing import OneHotEncoder\n",
    "\n",
    "# 인코딩할 카테고리형 컬럼만 별도 저장\n",
    "X_TRAIN_category = X_TRAIN.select_dtypes('object').copy()\n",
    "X_VAL_category = X_VAL.select_dtypes('object').copy()\n",
    "X_TEST_category = X_test.select_dtypes('object').copy()\n",
    "\n",
    "# 원-핫 인코딩\n",
    "enc = OneHotEncoder(sparse = False).fit(X_TRAIN_category)\n",
    "\n",
    "X_TRAIN_OH = enc.transform(X_TRAIN_category)\n",
    "X_VAL_OH = enc.transform(X_VAL_category)\n",
    "X_TEST_OH = enc.transform(X_TEST_category)"
   ]
  },
  {
   "cell_type": "code",
   "execution_count": 17,
   "id": "98604aca",
   "metadata": {},
   "outputs": [],
   "source": [
    "###### STEP3-7. 스케일링\n",
    "# 별도 스케일링은 하지 않고 수치형 컬럼만 별도 저장\n",
    "X_TRAIN_conti = X_TRAIN.select_dtypes(exclude = 'object').copy()\n",
    "X_VAL_conti = X_VAL.select_dtypes(exclude = 'object').copy()\n",
    "X_TEST_conti = X_test.select_dtypes(exclude = 'object').copy()"
   ]
  },
  {
   "cell_type": "code",
   "execution_count": 18,
   "id": "f8fb1d43",
   "metadata": {},
   "outputs": [],
   "source": [
    "###### STEP3-8. 입력 데이터셋 준비\n",
    "import numpy as np\n",
    "\n",
    "# 인코딩과 스케일링된 넘파이배열 연결\n",
    "X_TRAIN = np.concatenate([X_TRAIN_OH, X_TRAIN_conti], axis = 1)\n",
    "X_VAL = np.concatenate([X_VAL_OH, X_VAL_conti], axis = 1)\n",
    "\n",
    "# 'Yes'와 'No'를 각각 1,0에 매핑\n",
    "y_TRAIN = y_TRAIN.map({'No':0, 'Yes':1})\n",
    "y_VAL = y_VAL.map({'No':0, 'Yes':1})\n",
    "\n",
    "# 1차원 넘파이 배열로 평탄화\n",
    "y_TRAIN = y_TRAIN.values.ravel()\n",
    "y_VAL = y_VAL.values.ravel()"
   ]
  },
  {
   "cell_type": "code",
   "execution_count": 19,
   "id": "d4e19866",
   "metadata": {},
   "outputs": [
    {
     "name": "stderr",
     "output_type": "stream",
     "text": [
      "c:\\Users\\Administrator\\anaconda3\\envs\\big_ana\\lib\\site-packages\\xgboost\\compat.py:31: FutureWarning: pandas.Int64Index is deprecated and will be removed from pandas in a future version. Use pandas.Index with the appropriate dtype instead.\n",
      "  from pandas import MultiIndex, Int64Index\n"
     ]
    }
   ],
   "source": [
    "##### STEP4. 모델 학습\n",
    "from sklearn.ensemble import RandomForestClassifier\n",
    "from xgboost import XGBClassifier\n",
    "from lightgbm import LGBMClassifier\n",
    "\n",
    "###### STEP4-1. random forest\n",
    "rf = RandomForestClassifier(n_estimators = 500,\n",
    "                            max_depth = 3,\n",
    "                            min_samples_leaf = 10,\n",
    "                            max_features = 'sqrt',\n",
    "                            random_state = 2022)\n",
    "\n",
    "model_rf = rf.fit(X_TRAIN, y_TRAIN)\n",
    "\n",
    "###### STEP4-2. XGBoost\n",
    "xgb = XGBClassifier(max_depth = 8,\n",
    "                    n_estimators = 500,\n",
    "                    nthread = 5,\n",
    "                    min_child_weight = 20,\n",
    "                    gamma = 0.5,\n",
    "                    objective = 'binary:logistic',\n",
    "                    use_label_encoder = False,\n",
    "                    random_state = 2022)\n",
    "\n",
    "model_xgb = xgb.fit(X_TRAIN, y_TRAIN, eval_metric = 'mlogloss')\n",
    "\n",
    "###### STEP4-3. LightGBM\n",
    "lgb = LGBMClassifier(max_depth = 8,\n",
    "                     n_estimators = 500,\n",
    "                     n_jobs = 30,\n",
    "                     min_child_weight = 10,\n",
    "                     learning_rate = 0.2,\n",
    "                     objective = 'binary',\n",
    "                     random_state = 2022)\n",
    "\n",
    "model_lgb = lgb.fit(X_TRAIN, y_TRAIN)"
   ]
  },
  {
   "cell_type": "code",
   "execution_count": 20,
   "id": "66496a2a",
   "metadata": {},
   "outputs": [
    {
     "name": "stdout",
     "output_type": "stream",
     "text": [
      "0.8785471055618617\n",
      "0.9283314669652856\n",
      "0.9339305711086228\n"
     ]
    }
   ],
   "source": [
    "###### STEP4-4. 성능평가(기준:F1-Score)를 통한 모델 선정\n",
    "from sklearn.metrics import f1_score\n",
    "\n",
    "# 검증용 데이터셋을 통한 예측\n",
    "pred_rf = model_rf.predict(X_VAL)\n",
    "pred_xgb = model_xgb.predict(X_VAL)\n",
    "pred_lgb = model_lgb.predict(X_VAL)\n",
    "\n",
    "# AUC 계산\n",
    "f1_rt = f1_score(y_VAL, pred_rf)\n",
    "print(f1_rt)\n",
    "\n",
    "f1_xgb = f1_score(y_VAL, pred_xgb)\n",
    "print(f1_xgb)\n",
    "\n",
    "f1_lgb = f1_score(y_VAL, pred_lgb)\n",
    "print(f1_lgb)"
   ]
  },
  {
   "cell_type": "code",
   "execution_count": 21,
   "id": "b6fc23a5",
   "metadata": {},
   "outputs": [],
   "source": [
    "##### STEP5. 결과 제출하기\n",
    "###### 실제 시험에서 답 제출시에는 성능이 가장 우수한 모형 하나만 구현!\n",
    "X_TEST = np.concatenate([X_TEST_OH, X_TEST_conti], axis = 1)\n",
    "y_pred = model_lgb.predict(X_TEST)"
   ]
  },
  {
   "cell_type": "code",
   "execution_count": 23,
   "id": "1aca0750",
   "metadata": {},
   "outputs": [],
   "source": [
    "# 문제에서 요구하는 형태로 변환 필요\n",
    "# Train : \"Yes\": 만족함, \"No\": 만족하지 않음\n",
    "# Test : \"Satisfied\": 만족함, \"Not satisfied\": 만족하지 않음\n",
    "# 서로 다르므로 추가 변환 필요\n",
    "obj = {'pred' : y_pred}\n",
    "result = pd.DataFrame(obj)\n",
    "result['pred'] = result['pred'].map({0:'Satisfied', 1:'Not satisfied'})\n",
    "\n",
    "# 하위에 result.csv 이름으로 저장하기\n",
    "result.to_csv(\"result.csv\", index = False)"
   ]
  },
  {
   "cell_type": "code",
   "execution_count": 24,
   "id": "134dbe0b",
   "metadata": {},
   "outputs": [
    {
     "data": {
      "text/plain": [
       "0.9195561719833565"
      ]
     },
     "execution_count": 24,
     "metadata": {},
     "output_type": "execute_result"
    }
   ],
   "source": [
    "##### STEP6. 채점 모델 평가(번외) \n",
    "# 실제값\n",
    "actual = pd.read_csv('data/기출복원/06회/Airline_y_test.csv')\n",
    "actual = actual['Satisfaction'].map({'Not satisfied':0, 'Satisfied':1})\n",
    "\n",
    "# 채점 기준이 될 성과지표 값\n",
    "f1_score(actual, y_pred, pos_label = 1) # 0.9195561719833565"
   ]
  },
  {
   "cell_type": "markdown",
   "id": "493777ee",
   "metadata": {},
   "source": [
    "## 작업형3\n",
    "\n",
    "### 1. 주어진 데이터(cancer.csv)는 어떤 한 제약회사에서 항암약에 대한 부작용을 조사한 결과이다. 감기약에 대한 부작용 비율이 다음의 표와 같을 때, 항암약의 부작용 비율과 감기약과 다른 지를 가설 검정을 통해 알아보고자 한다. 아래의 물음에 답하시오.(단, 결과 값은 모두 정수로 출력할 것)\n",
    "\n",
    "부작용 등급|비율\n",
    ":--|:--:\n",
    "1등급|0.05\n",
    "2등급|0.05\n",
    "3등급|0.10\n",
    "부작용 없음|0.80\n",
    "\n",
    "(a) 항암약의 '부작용 없음'에 해당하는 관찰도수를 구하시오.\n",
    "\n",
    "(b) 검정통계량 값을 계산하시오.\n",
    "\n",
    "(c) 귀무가설의 분포의 자유도를 계산하시오.\n",
    "\n",
    "(d) p-value 값을 계산하고 이를 통해 두 비율이 같다는 근거가 있다면 1, 다르면 0을 출력하시오."
   ]
  },
  {
   "cell_type": "code",
   "execution_count": 25,
   "id": "b4a5cdca",
   "metadata": {},
   "outputs": [
    {
     "name": "stdout",
     "output_type": "stream",
     "text": [
      "81\n",
      "11766.270625000001\n",
      "0.0\n"
     ]
    }
   ],
   "source": [
    "#### 기출복원 06회 작업형3 01 Solution\n",
    "import pandas as pd\n",
    "exam1 = pd.read_csv('data/기출복원/06회/cancer.csv', encoding = 'cp949')\n",
    "\n",
    "##### 적합도 검정 수행\n",
    "from scipy.stats import chisquare\n",
    "import numpy as np\n",
    "\n",
    "n = exam1.shape[0]\n",
    "x = exam1.value_counts().to_numpy()\n",
    "e_x = np.array([0.05, 0.05, 0.1, 0.8]) * n\n",
    "chi, pval = chisquare(x, e_x)\n",
    "\n",
    "# (1) 항암약의 ‘부작용 없음’에 해당하는 관찰도수\n",
    "# x를 통해 확인 가능\n",
    "print(x[3])\n",
    "\n",
    "# (2)-(3) 검정통계량과 p-value\n",
    "print(chi)\n",
    "print(pval)"
   ]
  },
  {
   "cell_type": "markdown",
   "id": "c4a3aa53",
   "metadata": {},
   "source": [
    "### 2. 주어진 데이터(airquality.csv)는 153일 동안의 공기의 질을 측정한 데이터이다. 종속변수 Ozone을 예측하는 회귀 모형을 만들고 아래의 물음에 답하시오.(단, 모델 학습 시 3개의 변수 Solar.R, wind, Temp만을 사용하고, 결과는 모두 소숫점 반올림하여 소숫점 둘째자리까지 표현할 것)\n",
    "\n",
    "(a) 결측치를 모두 제거한 후 학습된 모형에 대하여 Solar.R의 회귀계수를 구하시오.\n",
    "\n",
    "(b) (a)에서 Solar.R 변수가 통계적으로 유의한 지에 대한 판단의 근거가 되는 검정통계량 값을 구하시오.\n",
    "\n",
    "(c) (a)의 모형이 자료를 어느 정도로 설명하고 있는 지 그 값을 구하시오.\n",
    "\n",
    "(d) (a)에 새로운 데이터(airquality_new.csv)를 넣었을 때 10번째 관측치의 95% 예측 구간의 상한을 구하시오."
   ]
  },
  {
   "cell_type": "code",
   "execution_count": 26,
   "id": "c6390d2a",
   "metadata": {},
   "outputs": [
    {
     "name": "stdout",
     "output_type": "stream",
     "text": [
      "                            OLS Regression Results                            \n",
      "==============================================================================\n",
      "Dep. Variable:                  Ozone   R-squared:                       0.597\n",
      "Model:                            OLS   Adj. R-squared:                  0.581\n",
      "Method:                 Least Squares   F-statistic:                     37.49\n",
      "Date:                Tue, 16 Apr 2024   Prob (F-statistic):           5.61e-15\n",
      "Time:                        09:23:27   Log-Likelihood:                -361.60\n",
      "No. Observations:                  80   AIC:                             731.2\n",
      "Df Residuals:                      76   BIC:                             740.7\n",
      "Df Model:                           3                                         \n",
      "Covariance Type:            nonrobust                                         \n",
      "==============================================================================\n",
      "                 coef    std err          t      P>|t|      [0.025      0.975]\n",
      "------------------------------------------------------------------------------\n",
      "const        -49.1106     27.946     -1.757      0.083    -104.770       6.549\n",
      "Solar.R        0.0637      0.029      2.234      0.028       0.007       0.121\n",
      "Wind          -3.9257      0.799     -4.916      0.000      -5.516      -2.335\n",
      "Temp           1.5585      0.314      4.961      0.000       0.933       2.184\n",
      "==============================================================================\n",
      "Omnibus:                       22.306   Durbin-Watson:                   1.996\n",
      "Prob(Omnibus):                  0.000   Jarque-Bera (JB):               32.370\n",
      "Skew:                           1.181   Prob(JB):                     9.35e-08\n",
      "Kurtosis:                       5.034   Cond. No.                     2.46e+03\n",
      "==============================================================================\n",
      "\n",
      "Notes:\n",
      "[1] Standard Errors assume that the covariance matrix of the errors is correctly specified.\n",
      "[2] The condition number is large, 2.46e+03. This might indicate that there are\n",
      "strong multicollinearity or other numerical problems.\n"
     ]
    }
   ],
   "source": [
    "#### 기출복원 06회 작업형3 01 Solution\n",
    "import pandas as pd\n",
    "exam2 = pd.read_csv('data/기출복원/06회/airquality.csv', encoding = 'cp949')\n",
    "exam2_new = pd.read_csv('data/기출복원/06회/airquality_new.csv', encoding = 'cp949')\n",
    "\n",
    "# 필요한 패키지, 클래스 호출\n",
    "import statsmodels.api as sm\n",
    "\n",
    "# 회귀분석 수행\n",
    "colnm = ['Solar.R', 'Wind', 'Temp'] # 회귀 분석에 필요한 컬럼 별도 지정\n",
    "\n",
    "# y, X에 각각 할당\n",
    "y = exam2['Ozone']\n",
    "X = exam2[colnm]\n",
    "X = sm.add_constant(X) # 절편항 적합을 위해 상수벡터 추가\n",
    "\n",
    "# 모델 적합\n",
    "model = sm.OLS(y,X) # OLS 객체 생성\n",
    "result = model.fit() # fit 메소드를 통해 모형 적합\n",
    "\n",
    "# (1)-(2) result.summary()를 통해 회귀분석 통합 결과를 확인하고 값을 입력하면 됨\n",
    "print(result.summary())"
   ]
  },
  {
   "cell_type": "code",
   "execution_count": 27,
   "id": "febdab29",
   "metadata": {},
   "outputs": [
    {
     "name": "stdout",
     "output_type": "stream",
     "text": [
      "mean             46.039418\n",
      "mean_se           2.693832\n",
      "mean_ci_lower    40.674186\n",
      "mean_ci_upper    51.404650\n",
      "obs_ci_lower      0.315659\n",
      "obs_ci_upper     91.763178\n",
      "Name: 9, dtype: float64\n"
     ]
    }
   ],
   "source": [
    "# (3)\n",
    "X_new = exam2_new[colnm]\n",
    "X_new = sm.add_constant(X_new) # 절편항 적합을 위해 상수벡터 추가\n",
    "prediction = result.get_prediction(X_new)\n",
    "# prediction.summary_frame()를 확인하여, 9번 행인덱스에 대한 obs_ci_upper의 값을 입력하면 된다.\n",
    "pred_10 = prediction.summary_frame().iloc[9]\n",
    "print(pred_10)"
   ]
  },
  {
   "cell_type": "markdown",
   "id": "54e19f80",
   "metadata": {},
   "source": [
    "# (끝)"
   ]
  }
 ],
 "metadata": {
  "hide_input": false,
  "kernelspec": {
   "display_name": "Python 3 (ipykernel)",
   "language": "python",
   "name": "python3"
  },
  "language_info": {
   "codemirror_mode": {
    "name": "ipython",
    "version": 3
   },
   "file_extension": ".py",
   "mimetype": "text/x-python",
   "name": "python",
   "nbconvert_exporter": "python",
   "pygments_lexer": "ipython3",
   "version": "3.9.12"
  },
  "toc": {
   "base_numbering": 1,
   "nav_menu": {},
   "number_sections": false,
   "sideBar": true,
   "skip_h1_title": false,
   "title_cell": "Table of Contents",
   "title_sidebar": "Contents",
   "toc_cell": false,
   "toc_position": {},
   "toc_section_display": true,
   "toc_window_display": false
  },
  "varInspector": {
   "cols": {
    "lenName": 16,
    "lenType": 16,
    "lenVar": 40
   },
   "kernels_config": {
    "python": {
     "delete_cmd_postfix": "",
     "delete_cmd_prefix": "del ",
     "library": "var_list.py",
     "varRefreshCmd": "print(var_dic_list())"
    },
    "r": {
     "delete_cmd_postfix": ") ",
     "delete_cmd_prefix": "rm(",
     "library": "var_list.r",
     "varRefreshCmd": "cat(var_dic_list()) "
    }
   },
   "types_to_exclude": [
    "module",
    "function",
    "builtin_function_or_method",
    "instance",
    "_Feature"
   ],
   "window_display": false
  },
  "vscode": {
   "interpreter": {
    "hash": "8bbdb56d299695e3a3c4ef02bd03413b014f384611b750aa7ada07f93fef99b9"
   }
  }
 },
 "nbformat": 4,
 "nbformat_minor": 5
}
