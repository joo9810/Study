{
 "cells": [
  {
   "cell_type": "markdown",
   "id": "db1a1edd",
   "metadata": {},
   "source": [
    "## 기출복원 7회"
   ]
  },
  {
   "cell_type": "markdown",
   "id": "e7e22c41",
   "metadata": {},
   "source": [
    "### (작업형1) "
   ]
  },
  {
   "cell_type": "markdown",
   "id": "8e175d52",
   "metadata": {},
   "source": [
    "1. 제공된 데이터(data/기출복원/07회/test_score.csv)는 공공데이터 포털에서 제공하는 간호사 국가시험 응시자의 성적 현황에 대한 데이터의 일부이다. 시자가 가장 많은 연령대의 기본간호학 과목 점수를 표준화하여 가장 높은 값을 [제출 형식]에 맞춰 답안 작성 페이지에 입력하시오.\n",
    "\n",
    "- 결측치가 존재하는 record는 제외하여 계산함\n",
    "- 총점이 아닌 과목별점수를 표준화함\n",
    "\n",
    "[제출형식]\n",
    "\n",
    "㉠ 소숫점 넷째 자리까지 반올림하여 입력"
   ]
  },
  {
   "cell_type": "code",
   "execution_count": 1,
   "id": "696778e6",
   "metadata": {},
   "outputs": [
    {
     "name": "stdout",
     "output_type": "stream",
     "text": [
      "0.5963\n"
     ]
    }
   ],
   "source": [
    "#### 기출복원 07회 작업형1 01 Solution\n",
    "import pandas as pd\n",
    "exam1 = pd.read_csv('data/기출복원/07회/test_score.csv', encoding = 'cp949')\n",
    "\n",
    "##### 응시자가 가장 많은 연령대를 추출\n",
    "# 결측값이 존재하는 행 제외\n",
    "exam1 = exam1.dropna().copy()\n",
    "\n",
    "# 응시자가 가장 많은 연령대 추출\n",
    "age = exam1['연령대'].value_counts().idxmax()\n",
    "\n",
    "##### 20대의 기본간호학 과목의 가장 높은 표준화된 점수 출력\n",
    "# 20대의 기본간호학 과목 점수 표준화\n",
    "cond = (exam1['연령대'] == age) & (exam1['과목명'] == '기본간호학')\n",
    "score = exam1[cond]['과목별점수'] # 20대의 기본간호학 과목의 점수\n",
    "score_std = (score - score.mean()) / score.std() # 표준화\n",
    "\n",
    "# 가장 높은 표준화된 점수\n",
    "result = score_std.max()\n",
    "\n",
    "##### 결과 출력\n",
    "result = round(result, 4)\n",
    "print(result)"
   ]
  },
  {
   "cell_type": "markdown",
   "id": "0713bda5",
   "metadata": {},
   "source": [
    "--- "
   ]
  },
  {
   "cell_type": "markdown",
   "id": "acf8d328",
   "metadata": {},
   "source": [
    "2. 제공된 데이터(data/기출복원/07회/diabetes.csv)는 당뇨병 데이터이다. progression 컬럼과 다른 컬럼들 간의 모든 상관관계 중 가장 상관관계가 큰 컬럼의 최댓값을 [제출 형식]에 맞춰 답안 작성 페이지에 입력하시오.\n",
    "\n",
    "[제출형식]\n",
    "\n",
    "㉠ 소숫점 둘째 자리까지 반올림하여 입력"
   ]
  },
  {
   "cell_type": "code",
   "execution_count": 2,
   "id": "d2a60365",
   "metadata": {},
   "outputs": [
    {
     "name": "stdout",
     "output_type": "stream",
     "text": [
      "0.17\n"
     ]
    }
   ],
   "source": [
    "#### 기출복원 07회 작업형1 02 Solution\n",
    "import pandas as pd\n",
    "exam2 = pd.read_csv('data/기출복원/07회/diabetes.csv', encoding = 'cp949')\n",
    "\n",
    "##### progression 컬럼과 가장 상관관계가 높은 컬럼\n",
    "# progression 컬럼과 다른 컬럼들 간의 모든 상관관계를 계산하고 절댓값을 취한 후 순서대로 정렬\n",
    "corr = exam2.corr()['progression'].abs().sort_values(ascending=False)\n",
    "\n",
    "# 상관관계가 가장 높은 컬럼명\n",
    "high_corr = corr.index[1]\n",
    "\n",
    "##### 상관관계가 가장 높은 컬럼의 최댓값\n",
    "# 선택된 컬럼의 최댓값\n",
    "result = exam2[high_corr].max()\n",
    "\n",
    "##### 결과 출력\n",
    "result = round(result, 2)\n",
    "print(result)"
   ]
  },
  {
   "cell_type": "markdown",
   "id": "99cb0980",
   "metadata": {},
   "source": [
    "--- "
   ]
  },
  {
   "cell_type": "markdown",
   "id": "cf7ed2bc",
   "metadata": {},
   "source": [
    "3. 제공된 데이터(data/기출복원/07회/iris.csv)는 아이리스 꽃의 특성을 수치화한 데이터이다. sepal_length) 컬럼의 이상치 갯수를 [제출 형식]에 맞춰 답안 작성 페이지에 입력하시오.\n",
    "\n",
    "- 결측치는 중앙값으로 대체하여 계산함\n",
    "- 구간 [Q1 – 1.5*IQR, Q3 + 1.5 * IQR]을 벗어날 경우를 이상치로 정의함\n",
    "\n",
    "[제출형식]\n",
    "\n",
    "㉠ 정수로 입력"
   ]
  },
  {
   "cell_type": "code",
   "execution_count": 3,
   "id": "6c45a4ed",
   "metadata": {},
   "outputs": [
    {
     "name": "stdout",
     "output_type": "stream",
     "text": [
      "5\n"
     ]
    }
   ],
   "source": [
    "#### 기출복원 07회 작업형1 03 Solution\n",
    "import pandas as pd\n",
    "exam3 = pd.read_csv('data/기출복원/07회/iris.csv', encoding = 'cp949')\n",
    "\n",
    "##### sepal_leagth의 이상치 탐색\n",
    "# sepal_length 변수의 결측치를 중앙값으로 대체\n",
    "med = exam3['sepal_length'].median() # sepal_length 컬럼의 결측치를 제외한 중앙값\n",
    "exam3['sepal_length'] = exam3['sepal_length'].fillna(med) # 결측치 대체\n",
    "\n",
    "# IQR=Q3-Q1 계산\n",
    "q1 = exam3['sepal_length'].quantile(0.25)\n",
    "q3 = exam3['sepal_length'].quantile(0.75)\n",
    "iqr = q3 - q1\n",
    "\n",
    "# IQR을 벗어난 데이터\n",
    "outlier = exam3[(exam3['sepal_length'] < (q1 - 1.5 * iqr)) | (exam3['sepal_length'] > (q3 + 1.5 * iqr))]\n",
    "\n",
    "##### 결과 출력\n",
    "result = len(outlier['sepal_length'])\n",
    "print(result)"
   ]
  },
  {
   "cell_type": "markdown",
   "id": "ee619b6b",
   "metadata": {},
   "source": [
    "--- "
   ]
  },
  {
   "cell_type": "markdown",
   "id": "e4774c95",
   "metadata": {},
   "source": [
    "### (작업형2) "
   ]
  },
  {
   "cell_type": "markdown",
   "id": "e52e2b73",
   "metadata": {},
   "source": [
    "1. 제공된 데이터는 인도의 6대 대도시 간의 비행 여행을 위한 웹사이트의 항공편과 관련한 데이터의 일부이다."
   ]
  },
  {
   "cell_type": "code",
   "execution_count": 4,
   "id": "221bda30",
   "metadata": {},
   "outputs": [],
   "source": [
    "#### 기출복원 07회 작업형2 01 Solution\n",
    "import pandas as pd\n",
    "\n",
    "##### STEP1. 데이터셋 불러오기\n",
    "import pandas as pd\n",
    "train = pd.read_csv('data/기출복원/07회/Flight_train.csv')\n",
    "test = pd.read_csv('data/기출복원/07회/Flight_test.csv')\n",
    "\n",
    "# train 데이터를 X_train과 y_train으로 분할\n",
    "y_train = train['price']\n",
    "X_train = train.drop('price', axis = 1)\n",
    "\n",
    "# test도 통일을 위해 X_test로 할당\n",
    "X_test = test"
   ]
  },
  {
   "cell_type": "code",
   "execution_count": 5,
   "id": "176cd723",
   "metadata": {},
   "outputs": [
    {
     "name": "stdout",
     "output_type": "stream",
     "text": [
      "     airline   flight source_city departure_time stops arrival_time  \\\n",
      "0    Vistara   UK-874   Hyderabad        Morning   one    Afternoon   \n",
      "1  Air_India   AI-687      Mumbai      Afternoon  zero      Evening   \n",
      "2    Vistara   UK-830   Hyderabad        Morning   one      Morning   \n",
      "3   GO_FIRST   G8-803   Bangalore        Evening   one   Late_Night   \n",
      "4     Indigo  6E-5338      Mumbai        Morning   one    Afternoon   \n",
      "\n",
      "  destination_city     class  duration  days_left  \n",
      "0            Delhi   Economy      5.58         10  \n",
      "1            Delhi  Business      2.25         12  \n",
      "2          Kolkata   Economy     23.25         19  \n",
      "3           Mumbai   Economy      7.17         37  \n",
      "4          Kolkata   Economy      7.33          8  \n",
      "     airline   flight source_city departure_time stops arrival_time  \\\n",
      "0     Indigo  6E-6219     Chennai        Morning   one    Afternoon   \n",
      "1  Air_India   AI-503   Bangalore        Evening   one      Morning   \n",
      "2    Vistara   UK-830   Hyderabad        Morning   one      Evening   \n",
      "3    Vistara   UK-877      Mumbai        Morning  zero    Afternoon   \n",
      "4     Indigo  6E-5366      Mumbai        Morning  zero      Morning   \n",
      "\n",
      "  destination_city     class  duration  days_left  \n",
      "0            Delhi   Economy      4.92         10  \n",
      "1        Hyderabad   Economy     18.08         46  \n",
      "2          Chennai   Economy      6.00          4  \n",
      "3        Hyderabad  Business      1.50         25  \n",
      "4        Bangalore   Economy      1.83         26  \n",
      "0    10018\n",
      "1    30080\n",
      "2     5960\n",
      "3     4354\n",
      "4    10406\n",
      "Name: price, dtype: int64\n"
     ]
    }
   ],
   "source": [
    "##### STEP2. 데이터셋 확인하기\n",
    "###### STEP2-1. 데이터셋 일부 확인\n",
    "print(X_train.head())\n",
    "print(X_test.head())\n",
    "print(y_train.head())"
   ]
  },
  {
   "cell_type": "code",
   "execution_count": 6,
   "id": "d38d99da",
   "metadata": {},
   "outputs": [
    {
     "name": "stdout",
     "output_type": "stream",
     "text": [
      "<class 'pandas.core.frame.DataFrame'>\n",
      "RangeIndex: 7203 entries, 0 to 7202\n",
      "Data columns (total 10 columns):\n",
      " #   Column            Non-Null Count  Dtype  \n",
      "---  ------            --------------  -----  \n",
      " 0   airline           7203 non-null   object \n",
      " 1   flight            7203 non-null   object \n",
      " 2   source_city       7203 non-null   object \n",
      " 3   departure_time    7203 non-null   object \n",
      " 4   stops             7203 non-null   object \n",
      " 5   arrival_time      7203 non-null   object \n",
      " 6   destination_city  7203 non-null   object \n",
      " 7   class             7203 non-null   object \n",
      " 8   duration          7203 non-null   float64\n",
      " 9   days_left         7203 non-null   int64  \n",
      "dtypes: float64(1), int64(1), object(8)\n",
      "memory usage: 562.9+ KB\n",
      "None\n",
      "<class 'pandas.core.frame.DataFrame'>\n",
      "RangeIndex: 1801 entries, 0 to 1800\n",
      "Data columns (total 10 columns):\n",
      " #   Column            Non-Null Count  Dtype  \n",
      "---  ------            --------------  -----  \n",
      " 0   airline           1801 non-null   object \n",
      " 1   flight            1801 non-null   object \n",
      " 2   source_city       1801 non-null   object \n",
      " 3   departure_time    1801 non-null   object \n",
      " 4   stops             1801 non-null   object \n",
      " 5   arrival_time      1801 non-null   object \n",
      " 6   destination_city  1801 non-null   object \n",
      " 7   class             1801 non-null   object \n",
      " 8   duration          1801 non-null   float64\n",
      " 9   days_left         1801 non-null   int64  \n",
      "dtypes: float64(1), int64(1), object(8)\n",
      "memory usage: 140.8+ KB\n",
      "None\n",
      "<class 'pandas.core.series.Series'>\n",
      "RangeIndex: 7203 entries, 0 to 7202\n",
      "Series name: price\n",
      "Non-Null Count  Dtype\n",
      "--------------  -----\n",
      "7203 non-null   int64\n",
      "dtypes: int64(1)\n",
      "memory usage: 56.4 KB\n",
      "None\n"
     ]
    }
   ],
   "source": [
    "###### STEP2-2. 데이터셋 요약 정보 확인\n",
    "print(X_train.info())\n",
    "print(X_test.info())\n",
    "print(y_train.info())"
   ]
  },
  {
   "cell_type": "code",
   "execution_count": 7,
   "id": "658ebeb9",
   "metadata": {},
   "outputs": [
    {
     "name": "stdout",
     "output_type": "stream",
     "text": [
      "          duration    days_left\n",
      "count  7203.000000  7203.000000\n",
      "mean     12.133993    25.891434\n",
      "std       7.141223    13.565403\n",
      "min       0.920000     1.000000\n",
      "25%       6.670000    14.000000\n",
      "50%      11.250000    26.000000\n",
      "75%      16.080000    38.000000\n",
      "max      39.750000    49.000000\n",
      "          duration    days_left\n",
      "count  1801.000000  1801.000000\n",
      "mean     11.987307    25.828984\n",
      "std       7.166587    13.596881\n",
      "min       1.000000     1.000000\n",
      "25%       6.670000    14.000000\n",
      "50%      11.000000    26.000000\n",
      "75%      15.830000    37.000000\n",
      "max      38.330000    49.000000\n",
      "count      7203.000000\n",
      "mean      21072.043593\n",
      "std       22674.141358\n",
      "min        1105.000000\n",
      "25%        4750.500000\n",
      "50%        7488.000000\n",
      "75%       44144.000000\n",
      "max      116562.000000\n",
      "Name: price, dtype: float64\n"
     ]
    }
   ],
   "source": [
    "###### STEP2-3. 기초통계량 확인\n",
    "print(X_train.describe())\n",
    "print(X_test.describe())\n",
    "print(y_train.describe())"
   ]
  },
  {
   "cell_type": "code",
   "execution_count": 8,
   "id": "46655c91",
   "metadata": {},
   "outputs": [],
   "source": [
    "##### STEP3. 데이터셋 전처리\n",
    "###### STEP3-1. 불필요한 컬럼 삭제\n",
    "# flight 컬럼 삭제\n",
    "X_train = X_train.drop(columns = 'flight')\n",
    "X_test = X_test.drop(columns = 'flight')"
   ]
  },
  {
   "cell_type": "code",
   "execution_count": 9,
   "id": "f0b69503",
   "metadata": {},
   "outputs": [
    {
     "data": {
      "text/plain": [
       "airline             0\n",
       "source_city         0\n",
       "departure_time      0\n",
       "stops               0\n",
       "arrival_time        0\n",
       "destination_city    0\n",
       "class               0\n",
       "duration            0\n",
       "days_left           0\n",
       "dtype: int64"
      ]
     },
     "execution_count": 9,
     "metadata": {},
     "output_type": "execute_result"
    }
   ],
   "source": [
    "###### STEP3-2. 결측치 처리\n",
    "# 결측치 확인\n",
    "X_train.isna().sum()"
   ]
  },
  {
   "cell_type": "code",
   "execution_count": 10,
   "id": "cb873d4a",
   "metadata": {},
   "outputs": [
    {
     "data": {
      "text/plain": [
       "airline             0\n",
       "source_city         0\n",
       "departure_time      0\n",
       "stops               0\n",
       "arrival_time        0\n",
       "destination_city    0\n",
       "class               0\n",
       "duration            0\n",
       "days_left           0\n",
       "dtype: int64"
      ]
     },
     "execution_count": 10,
     "metadata": {},
     "output_type": "execute_result"
    }
   ],
   "source": [
    "X_test.isna().sum()"
   ]
  },
  {
   "cell_type": "code",
   "execution_count": 11,
   "id": "7545ab33",
   "metadata": {
    "scrolled": true
   },
   "outputs": [],
   "source": [
    "###### STEP3-3. 카테고리형 컬럼 전처리\n",
    "# 별도의 과정 없음"
   ]
  },
  {
   "cell_type": "code",
   "execution_count": 12,
   "id": "b348c09a",
   "metadata": {},
   "outputs": [],
   "source": [
    "###### STEP3-4. 수치형 컬럼 전처리\n",
    "# 별도의 과정 없음"
   ]
  },
  {
   "cell_type": "code",
   "execution_count": 13,
   "id": "40ffe87e",
   "metadata": {},
   "outputs": [
    {
     "name": "stdout",
     "output_type": "stream",
     "text": [
      "(5762, 9)\n",
      "(1441, 9)\n",
      "(5762,)\n",
      "(1441,)\n"
     ]
    }
   ],
   "source": [
    "###### STEP3-5. 데이터 분할\n",
    "from sklearn.model_selection import train_test_split\n",
    "\n",
    "# X_train과 y_train을 학습용(X_TRAIN, y_TRAIN)과 검증용(X_VAL, y_VAL)로 분할\n",
    "X_TRAIN, X_VAL, y_TRAIN, y_VAL = train_test_split(X_train, y_train, random_state = 2024, test_size = 0.2)\n",
    "\n",
    "# 분할 후 shape 확인\n",
    "print(X_TRAIN.shape)\n",
    "print(X_VAL.shape)\n",
    "print(y_TRAIN.shape)\n",
    "print(y_VAL.shape)"
   ]
  },
  {
   "cell_type": "code",
   "execution_count": 14,
   "id": "fe5010bf",
   "metadata": {},
   "outputs": [],
   "source": [
    "###### STEP3-6. 인코딩\n",
    "# 카테고리형 컬럼에 대하여 라벨 인코딩 수행\n",
    "from sklearn.preprocessing import OneHotEncoder\n",
    "\n",
    "# 인코딩할 카테고리형 컬럼만 별도 저장\n",
    "X_TRAIN_category = X_TRAIN.select_dtypes('object').copy()\n",
    "X_VAL_category = X_VAL.select_dtypes('object').copy()\n",
    "X_TEST_category = X_test.select_dtypes('object').copy()\n",
    "\n",
    "# 원-핫 인코딩\n",
    "enc = OneHotEncoder(sparse = False).fit(X_TRAIN_category)\n",
    "\n",
    "X_TRAIN_OH = enc.transform(X_TRAIN_category)\n",
    "X_VAL_OH = enc.transform(X_VAL_category)\n",
    "X_TEST_OH = enc.transform(X_TEST_category)"
   ]
  },
  {
   "cell_type": "code",
   "execution_count": 15,
   "id": "98604aca",
   "metadata": {},
   "outputs": [],
   "source": [
    "###### STEP3-7. 스케일링\n",
    "# 별도 스케일링은 하지 않고 수치형 컬럼만 별도 저장\n",
    "X_TRAIN_conti = X_TRAIN.select_dtypes(exclude = 'object').copy()\n",
    "X_VAL_conti = X_VAL.select_dtypes(exclude = 'object').copy()\n",
    "X_TEST_conti = X_test.select_dtypes(exclude = 'object').copy()"
   ]
  },
  {
   "cell_type": "code",
   "execution_count": 16,
   "id": "f8fb1d43",
   "metadata": {},
   "outputs": [],
   "source": [
    "###### STEP3-8. 입력 데이터셋 준비\n",
    "import numpy as np\n",
    "\n",
    "# 인코딩과 스케일링된 넘파이배열 연결\n",
    "X_TRAIN = np.concatenate([X_TRAIN_OH, X_TRAIN_conti], axis = 1)\n",
    "X_VAL = np.concatenate([X_VAL_OH, X_VAL_conti], axis = 1)\n",
    "\n",
    "# 1차원 넘파이 배열로 평탄화\n",
    "y_TRAIN = y_TRAIN.values.ravel()\n",
    "y_VAL = y_VAL.values.ravel()"
   ]
  },
  {
   "cell_type": "code",
   "execution_count": 17,
   "id": "d4e19866",
   "metadata": {},
   "outputs": [
    {
     "name": "stderr",
     "output_type": "stream",
     "text": [
      "c:\\Users\\Administrator\\anaconda3\\envs\\big_ana\\lib\\site-packages\\xgboost\\compat.py:31: FutureWarning: pandas.Int64Index is deprecated and will be removed from pandas in a future version. Use pandas.Index with the appropriate dtype instead.\n",
      "  from pandas import MultiIndex, Int64Index\n"
     ]
    }
   ],
   "source": [
    "##### STEP4. 모델 학습\n",
    "from sklearn.ensemble import RandomForestRegressor\n",
    "from xgboost import XGBRegressor\n",
    "from lightgbm import LGBMRegressor\n",
    "\n",
    "###### STEP4-1. random forest\n",
    "rf = RandomForestRegressor(n_estimators = 100,\n",
    "                           max_depth = 3,\n",
    "                           min_samples_leaf = 10,\n",
    "                           max_features = 15,\n",
    "                           random_state = 2024)\n",
    "\n",
    "model_rf = rf.fit(X_TRAIN, y_TRAIN)\n",
    "\n",
    "###### STEP4-2. XGBoost\n",
    "xgb = XGBRegressor(n_estimators = 100,\n",
    "                   nthread = 5,\n",
    "                   min_child_weight = 20,\n",
    "                   gamma = 0.5,\n",
    "                   objective = 'reg:squarederror',\n",
    "                   use_label_encoder = False,\n",
    "                   random_state = 2024)\n",
    "\n",
    "model_xgb = xgb.fit(X_TRAIN, y_TRAIN, eval_metric = 'rmse')\n",
    "\n",
    "###### STEP4-3. LightGBM\n",
    "lgb = LGBMRegressor(max_depth = 8,\n",
    "                    n_estimators = 100,\n",
    "                    n_jobs = 30,\n",
    "                    min_child_weight = 10,\n",
    "                    learning_rate = 0.2,\n",
    "                    objective = 'regression',\n",
    "                    random_state = 2024)\n",
    "\n",
    "model_lgb = lgb.fit(X_TRAIN, y_TRAIN)"
   ]
  },
  {
   "cell_type": "code",
   "execution_count": 18,
   "id": "66496a2a",
   "metadata": {},
   "outputs": [
    {
     "name": "stdout",
     "output_type": "stream",
     "text": [
      "5877.324696221526\n",
      "4477.849712265447\n",
      "4516.864616984586\n"
     ]
    }
   ],
   "source": [
    "###### STEP4-4. 성능평가(기준:RMSE)를 통한 모델 선정\n",
    "from sklearn.metrics import mean_squared_error\n",
    "\n",
    "# 검증용 데이터셋을 통한 예측\n",
    "pred_rf = model_rf.predict(X_VAL)\n",
    "pred_xgb = model_xgb.predict(X_VAL)\n",
    "pred_lgb = model_lgb.predict(X_VAL)\n",
    "\n",
    "# RMSE 계산\n",
    "rmse_rt = mean_squared_error(y_VAL, pred_rf, squared = False)\n",
    "print(rmse_rt)\n",
    "\n",
    "rmse_xgb = mean_squared_error(y_VAL, pred_xgb, squared = False)\n",
    "print(rmse_xgb)\n",
    "\n",
    "rmse_lgb = mean_squared_error(y_VAL, pred_lgb, squared = False)\n",
    "print(rmse_lgb)"
   ]
  },
  {
   "cell_type": "code",
   "execution_count": 25,
   "id": "b6fc23a5",
   "metadata": {},
   "outputs": [],
   "source": [
    "##### STEP5. 결과 제출하기\n",
    "###### 실제 시험에서 답 제출시에는 성능이 가장 우수한 모형 하나만 구현!\n",
    "X_TEST = np.concatenate([X_TEST_OH, X_TEST_conti], axis = 1)\n",
    "y_pred = model_xgb.predict(X_TEST)\n",
    "\n",
    "# 문제에서 요구하는 형태로 변환 필요\n",
    "obj = {'pred' : y_pred}\n",
    "result = pd.DataFrame(obj)\n",
    "\n",
    "# 하위에 result.csv 이름으로 저장하기\n",
    "result.to_csv(\"result.csv\", index = False)"
   ]
  },
  {
   "cell_type": "code",
   "execution_count": 26,
   "id": "134dbe0b",
   "metadata": {},
   "outputs": [
    {
     "data": {
      "text/plain": [
       "4626.443431396506"
      ]
     },
     "execution_count": 26,
     "metadata": {},
     "output_type": "execute_result"
    }
   ],
   "source": [
    "##### STEP6. 채점 모델 평가(번외) \n",
    "# 실제값\n",
    "actual = pd.read_csv('data/기출복원/07회/Flight_y_test.csv')\n",
    "\n",
    "# 채점 기준이 될 성과지표 값\n",
    "mean_squared_error(actual, y_pred, squared = False) # 4626.443431396506"
   ]
  },
  {
   "cell_type": "markdown",
   "id": "493777ee",
   "metadata": {},
   "source": [
    "## 작업형3\n",
    "\n",
    "### 1. 제공된 데이터(data/기출복원/07회/StudentsPerformance.csv)는 학생들의 시험 성적 데이터과 관련된 데이터의 일부이다. 여러 독립 변수들을 통해 성별(gender)을 예측하는 로지스틱 회귀 분석을 하고자 한다. \n",
    "- 레코드 기준 1 - 800번 데이터까지는 학습용, 801 - 1000번 데이터까지는 평가용으로 분할할 것\n",
    "- 종속변수(gender)의 경우 male은 1로, female은 0으로 인코딩하고 범주형 변수(race)는 더미변수화하여 분석할 것\n",
    "- 절편항과 별도의 규제항을 고려하지 않고 분석할 것\n",
    "\n",
    "[제출형식]\n",
    "\n",
    "㉠ 소숫점 둘째 자리까지 반올림하여 정수로 계산\n",
    "\n",
    "[소문제]\n",
    "\n",
    "① 학습용 데이터로 적합된 로지스틱 회귀모형의 ‘math score'가 한 단위 증가할 때 오즈비를 구하여라.(다른 변수는 고정되어 있다고 가정함)\n",
    "\n",
    "② 학습용 데이터로 적합된 로지스틱 회귀모형의 잔차 이탈도(residual deviance)를 구하여라.\n",
    "\n",
    "③ 평가용 데이터를 사용해 로지스틱 회귀 모형의 오분류율를 구하여라."
   ]
  },
  {
   "cell_type": "code",
   "execution_count": 6,
   "id": "b4a5cdca",
   "metadata": {},
   "outputs": [
    {
     "name": "stdout",
     "output_type": "stream",
     "text": [
      "                 Generalized Linear Model Regression Results                  \n",
      "==============================================================================\n",
      "Dep. Variable:                 gender   No. Observations:                  800\n",
      "Model:                            GLM   Df Residuals:                      793\n",
      "Model Family:                Binomial   Df Model:                            6\n",
      "Link Function:                  Logit   Scale:                          1.0000\n",
      "Method:                          IRLS   Log-Likelihood:                -233.47\n",
      "Date:                Fri, 05 Apr 2024   Deviance:                       466.94\n",
      "Time:                        11:30:54   Pearson chi2:                     731.\n",
      "No. Iterations:                     7   Pseudo R-squ. (CS):             0.5514\n",
      "Covariance Type:            nonrobust                                         \n",
      "=================================================================================\n",
      "                    coef    std err          z      P>|z|      [0.025      0.975]\n",
      "---------------------------------------------------------------------------------\n",
      "math score        0.3770      0.027     14.064      0.000       0.324       0.430\n",
      "reading score    -0.0174      0.029     -0.591      0.554      -0.075       0.040\n",
      "writing score    -0.3504      0.035    -10.095      0.000      -0.418      -0.282\n",
      "race_group B     -0.3531      0.428     -0.826      0.409      -1.191       0.485\n",
      "race_group C      0.1105      0.399      0.277      0.782      -0.672       0.893\n",
      "race_group D      0.4018      0.409      0.983      0.326      -0.400       1.203\n",
      "race_group E     -1.2851      0.494     -2.601      0.009      -2.253      -0.317\n",
      "=================================================================================\n",
      "1.46\n",
      "466.94\n",
      "0.12\n"
     ]
    }
   ],
   "source": [
    "#### 기출복원 07회 작업형3 문제01 Solution\n",
    "# 필요한 패키지, 클래스 호출\n",
    "import pandas as pd\n",
    "import statsmodels.api as sm\n",
    "import numpy as np\n",
    "\n",
    "exam1 = pd.read_csv('data/기출복원/07회/StudentsPerformance.csv', encoding = 'cp949')\n",
    "\n",
    "# male->1, female -> 0로 인코딩\n",
    "exam1['gender'] = exam1['gender'].map({'male' : 1, 'female' : 0})\n",
    "\n",
    "# race컬럼(범주형) 더미 변수로 변환\n",
    "exam1 = pd.get_dummies(exam1, columns=['race'], drop_first=True)\n",
    "\n",
    "# 데이터를 학습용과 평가용으로 나누기\n",
    "train = exam1.iloc[0:800] #1부터 800번까지\n",
    "test = exam1.iloc[800:1000] #801부터 1000번까지\n",
    "\n",
    "# 학습용 데이터로 독립변수와 종속변수 지정\n",
    "y_train = train['gender'] # 종속 변수\n",
    "X_train = train.drop('gender', axis = 1) # 독립 변수\n",
    "\n",
    "### 로지스틱 회귀 분석\n",
    "# GLM 객체 생성 후 적합\n",
    "model = sm.GLM(y_train, X_train, family = sm.families.Binomial()).fit()\n",
    "print(model.summary()) # 로지스틱회귀 분석결과\n",
    "\n",
    "# 결과 출력\n",
    "# (1) math score를 설명변수로 하였을 때 오즈비\n",
    "# 위의 결과에서 math score의 coef 값을 이용해서 지수 취함\n",
    "print(round(np.exp(0.3770),2))\n",
    "\n",
    "# (2) 잔차 이탈도(=개별 잔차이탈도 값들의 제곱합) 계산\n",
    "# 위의 결과에서 Deviance 값 입력\n",
    "print(466.94)\n",
    "\n",
    "# (3) 평가용 데이터로 오분류율 계산\n",
    "from sklearn.metrics import accuracy_score\n",
    "\n",
    "# 평가용 데이터로 독립변수와 종속변수 지정\n",
    "y_test = test['gender'] # 종속 변수\n",
    "X_test = test.drop('gender', axis = 1) # 독립 변수\n",
    "\n",
    "# 평가용 데이터로 예측\n",
    "y_pred = model.predict(X_test)\n",
    "\n",
    "y_pred_label =  np.where(y_pred > 0.5, 1, 0) # 임계값(보통 0.5)을 기준으로 1과 0으로 계산\n",
    "\n",
    "#오분류율을 계산하기 위해 confusion matrix를 생성\n",
    "result3 = round(1 - accuracy_score(y_test, y_pred_label), 2)\n",
    "\n",
    "print(result3)"
   ]
  },
  {
   "cell_type": "markdown",
   "id": "c4a3aa53",
   "metadata": {},
   "source": [
    "### 2. 제공된 데이터(data/기출복원/07회/mtcars.csv)는 자동차 32종의 정보를 담고 있는 데이터로 알려져있다. 배기량, 마력, 기어, 무게를 입력하면 연비를 예측하는 다중 선형 회귀 분석을 하고자 한다\n",
    "\n",
    "[제출형식]\n",
    "㉠ 소숫점 셋째 자리까지 반올림하여 정수로 계산\n",
    "\n",
    "[소문제]\n",
    "\n",
    "① 독립변수들 중 종속변수와 가장 높은 선형성을 가지는 변수의 상관계수를 구하여라.\n",
    "\n",
    "②  적합된 회귀 모형의 결정계수를 구하여라\n",
    "\n",
    "③ 독립 변수들 중 가장 유의하지 않은 독립변수의 회귀계수 추정값을 구하여라"
   ]
  },
  {
   "cell_type": "code",
   "execution_count": 22,
   "id": "c6390d2a",
   "metadata": {},
   "outputs": [
    {
     "name": "stdout",
     "output_type": "stream",
     "text": [
      "0.868\n",
      "                            OLS Regression Results                            \n",
      "==============================================================================\n",
      "Dep. Variable:                    mpg   R-squared:                       0.838\n",
      "Model:                            OLS   Adj. R-squared:                  0.814\n",
      "Method:                 Least Squares   F-statistic:                     34.82\n",
      "Date:                Thu, 04 Apr 2024   Prob (F-statistic):           2.70e-10\n",
      "Time:                        22:05:26   Log-Likelihood:                -73.292\n",
      "No. Observations:                  32   AIC:                             156.6\n",
      "Df Residuals:                      27   BIC:                             163.9\n",
      "Df Model:                           4                                         \n",
      "Covariance Type:            nonrobust                                         \n",
      "==============================================================================\n",
      "                 coef    std err          t      P>|t|      [0.025      0.975]\n",
      "------------------------------------------------------------------------------\n",
      "const         29.1487      6.294      4.631      0.000      16.235      42.062\n",
      "disp           0.0038      0.011      0.353      0.727      -0.018       0.026\n",
      "hp            -0.0348      0.012     -2.999      0.006      -0.059      -0.011\n",
      "drat           1.7680      1.320      1.340      0.192      -0.940       4.476\n",
      "wt            -3.4797      1.078     -3.227      0.003      -5.692      -1.267\n",
      "==============================================================================\n",
      "Omnibus:                        5.267   Durbin-Watson:                   1.736\n",
      "Prob(Omnibus):                  0.072   Jarque-Bera (JB):                4.327\n",
      "Skew:                           0.899   Prob(JB):                        0.115\n",
      "Kurtosis:                       3.102   Cond. No.                     4.26e+03\n",
      "==============================================================================\n",
      "\n",
      "Notes:\n",
      "[1] Standard Errors assume that the covariance matrix of the errors is correctly specified.\n",
      "[2] The condition number is large, 4.26e+03. This might indicate that there are\n",
      "strong multicollinearity or other numerical problems.\n",
      "0.838\n",
      "0.004\n"
     ]
    }
   ],
   "source": [
    "#### 기출복원 07회 작업형3 문제02 Solution\n",
    "import pandas as pd\n",
    "exam2 = pd.read_csv('data/기출복원/07회/mtcars.csv', encoding = 'cp949')\n",
    "\n",
    "# (1) 독립변수들 중 종속변수와 가장 높은 선형성을 가지는 변수의 상관계수\n",
    "# 컬럼 추출\n",
    "df = exam2[['mpg', 'disp', 'hp', 'drat', 'wt']]\n",
    "\n",
    "# 종속변수와 각 변수들 간의 상관계수 계산한 후 가장 큰 상관계수를 구하면 됨\n",
    "corr = df.corr()['mpg'].abs().sort_values(ascending=False)[1]\n",
    "result1 = round(corr, 3)\n",
    "print(result1)\n",
    "\n",
    "# (2) 적합된 회귀 모형의 결정계수\n",
    "import statsmodels.api as sm\n",
    "\n",
    "#독립변수와 종속변수 분리\n",
    "X = df[['disp', 'hp', 'drat', 'wt']]\n",
    "y = df[['mpg']]\n",
    "\n",
    "# 상수항 추가\n",
    "X = sm.add_constant(X)\n",
    "\n",
    "# 다중선형회귀모형\n",
    "# OLS 객체 생성 후 적합\n",
    "model = sm.OLS(y, X).fit()\n",
    "print(model.summary()) # 결과\n",
    "\n",
    "# 회귀모형의 결정계수 출력\n",
    "# 위의 결과에서 R-squared: 의 값을 입력\n",
    "print(0.838)\n",
    "\n",
    "# (3) 독립 변수들 중 가장 유의하지 않은 독립변수의 회귀계수 추정값\n",
    "# 위의 결과에서 P>|t| 값이 가장 큰 변수명을 찾으면 됨\n",
    "# disp가 가장 p-value가 크므로 disp의 회귀계수 추정값 계산\n",
    "# 위의 결과에서 disp의 coef 값을 입력해도 됨\n",
    "print(0.004)"
   ]
  },
  {
   "cell_type": "markdown",
   "id": "54e19f80",
   "metadata": {},
   "source": [
    "# (끝)"
   ]
  }
 ],
 "metadata": {
  "hide_input": false,
  "kernelspec": {
   "display_name": "Python 3 (ipykernel)",
   "language": "python",
   "name": "python3"
  },
  "language_info": {
   "codemirror_mode": {
    "name": "ipython",
    "version": 3
   },
   "file_extension": ".py",
   "mimetype": "text/x-python",
   "name": "python",
   "nbconvert_exporter": "python",
   "pygments_lexer": "ipython3",
   "version": "3.9.12"
  },
  "toc": {
   "base_numbering": 1,
   "nav_menu": {},
   "number_sections": false,
   "sideBar": true,
   "skip_h1_title": false,
   "title_cell": "Table of Contents",
   "title_sidebar": "Contents",
   "toc_cell": false,
   "toc_position": {},
   "toc_section_display": true,
   "toc_window_display": false
  },
  "varInspector": {
   "cols": {
    "lenName": 16,
    "lenType": 16,
    "lenVar": 40
   },
   "kernels_config": {
    "python": {
     "delete_cmd_postfix": "",
     "delete_cmd_prefix": "del ",
     "library": "var_list.py",
     "varRefreshCmd": "print(var_dic_list())"
    },
    "r": {
     "delete_cmd_postfix": ") ",
     "delete_cmd_prefix": "rm(",
     "library": "var_list.r",
     "varRefreshCmd": "cat(var_dic_list()) "
    }
   },
   "types_to_exclude": [
    "module",
    "function",
    "builtin_function_or_method",
    "instance",
    "_Feature"
   ],
   "window_display": false
  },
  "vscode": {
   "interpreter": {
    "hash": "57bc2b6ce032b5f0e93daa91901b7ea38a856826ef43aa9e95b6d3999f5310df"
   }
  }
 },
 "nbformat": 4,
 "nbformat_minor": 5
}
