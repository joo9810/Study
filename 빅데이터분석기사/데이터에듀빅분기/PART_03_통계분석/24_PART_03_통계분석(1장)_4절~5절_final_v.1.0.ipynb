{
 "cells": [
  {
   "cell_type": "markdown",
   "id": "c65b1643",
   "metadata": {},
   "source": [
    "### PART 03) 통계분석"
   ]
  },
  {
   "cell_type": "markdown",
   "id": "4e1be88e",
   "metadata": {},
   "source": [
    "## 1장. 가설 검정"
   ]
  },
  {
   "cell_type": "markdown",
   "id": "8e175d52",
   "metadata": {},
   "source": [
    "### 4절. 카이제곱 검정"
   ]
  },
  {
   "cell_type": "markdown",
   "id": "008498fb-66e3-466a-bb19-365e7eab0c6a",
   "metadata": {},
   "source": [
    "#### 1. 적합성 검정"
   ]
  },
  {
   "cell_type": "code",
   "execution_count": 1,
   "id": "cf039059-6cac-4b37-80db-756b4297a184",
   "metadata": {},
   "outputs": [
    {
     "data": {
      "text/plain": [
       "Power_divergenceResult(statistic=82.94, pvalue=4.14849046718008e-17)"
      ]
     },
     "execution_count": 1,
     "metadata": {},
     "output_type": "execute_result"
    }
   ],
   "source": [
    "# 필요 패키지 호출\n",
    "import numpy as np\n",
    "color = ['Black','Gold','Purple','Red', 'White'] # 색상(분석엔 필요×)\n",
    "counts = [423, 304, 274, 205, 294] # 수량\n",
    "expected = 300 # 기대도수(동일한 비율 = 1500/5)\n",
    "\n",
    "# 적합성 검정 수행\n",
    "from scipy.stats import chisquare\n",
    "chisquare(f_obs = counts, f_exp = expected)"
   ]
  },
  {
   "cell_type": "markdown",
   "id": "fb0e8c54-b0a3-4570-9f08-39293bad9411",
   "metadata": {},
   "source": [
    "#### 2. 동질성 검정"
   ]
  },
  {
   "cell_type": "code",
   "execution_count": 2,
   "id": "5453de89-d03d-4f33-895e-eb7a8d03ea7f",
   "metadata": {},
   "outputs": [
    {
     "name": "stdout",
     "output_type": "stream",
     "text": [
      "98.66917336693975\n",
      "2.984113573360021e-23\n",
      "1\n",
      "[[296.05263158 453.94736842]\n",
      " [453.94736842 696.05263158]]\n"
     ]
    }
   ],
   "source": [
    "# 필요 패키지 호출\n",
    "import pandas as pd\n",
    "from scipy.stats import chi2_contingency\n",
    "\n",
    "# 교차표에 맞게 데이터프레임 생성\n",
    "obj = {\"Good\" : [400 , 350],\"Bad\" : [350, 800]}\n",
    "cross = pd.DataFrame(obj)\n",
    "\n",
    "# 동질성 검정 수행\n",
    "chi, p, df, expected = chi2_contingency(cross)\n",
    "print(chi) # 카이제곱통계량\n",
    "print(p) # p-값\n",
    "print(df) # 자유도\n",
    "print(expected) # 기대빈도"
   ]
  },
  {
   "cell_type": "markdown",
   "id": "f3946f7b-24e4-4e70-acbc-8207793e0a80",
   "metadata": {},
   "source": [
    "#### 3. 독립성 검정"
   ]
  },
  {
   "cell_type": "code",
   "execution_count": 3,
   "id": "4eba6cc0-5699-4ba9-a02f-0a0e6bf9f8ff",
   "metadata": {},
   "outputs": [
    {
     "name": "stdout",
     "output_type": "stream",
     "text": [
      "626.2830361414021\n",
      "3.1731601033660286e-134\n",
      "4\n",
      "[[1769.12811388  442.28202847  888.10231317  444.05115658  433.4363879 ]\n",
      " [2230.87188612  557.71797153 1119.89768683  559.94884342  546.5636121 ]]\n"
     ]
    }
   ],
   "source": [
    "# 교차표에 맞게 데이터프레임 생성\n",
    "obj = {'Black' : [1620, 2380],'Gold' : [385, 615],'Purple' : [778, 1230],'Red' : [394, 610],'White' : [800, 180]}\n",
    "cross = pd.DataFrame(obj)\n",
    "\n",
    "# 동질성 검정 수행\n",
    "from scipy.stats import chi2_contingency\n",
    "chi, p, df, expected = chi2_contingency(cross)\n",
    "print(chi) # 카이제곱통계량\n",
    "print(p) # p-값\n",
    "print(df) # 자유도\n",
    "print(expected) # 기대빈도"
   ]
  },
  {
   "cell_type": "markdown",
   "id": "1fbb3d07-0e54-4910-b028-0fbc5ffc78db",
   "metadata": {},
   "source": [
    "---"
   ]
  },
  {
   "cell_type": "markdown",
   "id": "0d7543f7-6db4-4051-aee9-a65cac071e06",
   "metadata": {},
   "source": [
    "### 5절 비모수 검정"
   ]
  },
  {
   "cell_type": "markdown",
   "id": "a2962816-8bd3-42ad-b878-90ffe1539221",
   "metadata": {},
   "source": [
    "#### 1. 켄달의 타우 검정"
   ]
  },
  {
   "cell_type": "code",
   "execution_count": 5,
   "id": "d14ca627-032c-4c43-a169-c35d3af3e2db",
   "metadata": {},
   "outputs": [
    {
     "data": {
      "text/plain": [
       "KendalltauResult(correlation=-0.29814239699997197, pvalue=0.4205962375999267)"
      ]
     },
     "execution_count": 5,
     "metadata": {},
     "output_type": "execute_result"
    }
   ],
   "source": [
    "# 필요 패키지 호출\n",
    "import numpy as np\n",
    "\n",
    "# 두 개의 등수 데이터 임의로 생성\n",
    "x = np.array([5, 4, 3, 6, 1, 2])\n",
    "y = np.array([1, 5, 2, 2, 2, 6])\n",
    "\n",
    "# 켄달의 타우 검정 실시\n",
    "from scipy.stats import kendalltau\n",
    "kendalltau(x, y)"
   ]
  },
  {
   "cell_type": "markdown",
   "id": "79b52209-ae17-4f23-a546-cad7e2d10dfa",
   "metadata": {},
   "source": [
    "#### 2. 윌콕슨의 부호순위 검정"
   ]
  },
  {
   "cell_type": "code",
   "execution_count": 7,
   "id": "044232de-dd0d-4ebc-8ebf-fa199251382c",
   "metadata": {},
   "outputs": [
    {
     "data": {
      "text/plain": [
       "WilcoxonResult(statistic=42.0, pvalue=0.5416259765625)"
      ]
     },
     "execution_count": 7,
     "metadata": {},
     "output_type": "execute_result"
    }
   ],
   "source": [
    "# 필요한 패키지와 함수 호출\n",
    "from scipy.stats import wilcoxon\n",
    "\n",
    "# 일표본 윌콕슨 부호순위 검정\n",
    "# 몸무게 데이터 임의 생성\n",
    "kg = np.array([75.5, 83.9, 75.7, 56.2, 73.4, 67.7, 79.0, 50.7, 58.4, 74.1, 65.1, 77.8, 48.1, 46.3])\n",
    "\n",
    "# 두 샘플의 크기가 다를 수 있으므로 길이를 맞추기\n",
    "wilcoxon(kg - 70) # 70으로 설정"
   ]
  },
  {
   "cell_type": "code",
   "execution_count": 8,
   "id": "1bd72530-d036-4e3f-923b-bfe8eb7ddff3",
   "metadata": {},
   "outputs": [
    {
     "data": {
      "text/plain": [
       "WilcoxonResult(statistic=5.0, pvalue=0.15625)"
      ]
     },
     "execution_count": 8,
     "metadata": {},
     "output_type": "execute_result"
    }
   ],
   "source": [
    "# 이표본 윌콕슨 부호순위 검정\n",
    "# 남녀 몸무게 데이터를 임의로 생성\n",
    "female = np.array([50.7, 58.4, 74.1, 65.1, 77.8, 48.1, 46.3])\n",
    "male = np.array([75.5, 83.9, 75.7, 56.2, 73.4, 67.7, 79.0])\n",
    "\n",
    "# 두 데이터의 차이\n",
    "diff = female - male\n",
    "\n",
    "# 윌콕슨 부호순위 검정 실시\n",
    "wilcoxon(diff)"
   ]
  },
  {
   "cell_type": "markdown",
   "id": "2461285b-aefe-46d4-b14c-fc2b28c6392d",
   "metadata": {},
   "source": [
    "#### 3. 윌콕슨의 순위합 검정"
   ]
  },
  {
   "cell_type": "code",
   "execution_count": 10,
   "id": "a095a52b-dcf8-4a87-b078-81e85293a836",
   "metadata": {},
   "outputs": [
    {
     "data": {
      "text/plain": [
       "RanksumsResult(statistic=-1.8527420384998257, pvalue=0.06391934147515746)"
      ]
     },
     "execution_count": 10,
     "metadata": {},
     "output_type": "execute_result"
    }
   ],
   "source": [
    "# 윌콕슨의 순위합 검정 수행\n",
    "from scipy.stats import ranksums\n",
    "ranksums(female, male)"
   ]
  },
  {
   "cell_type": "markdown",
   "id": "f801355f-d1c5-45fd-b41b-d247fa398340",
   "metadata": {},
   "source": [
    "#### 4. 만-위트니 U 검정"
   ]
  },
  {
   "cell_type": "code",
   "execution_count": 11,
   "id": "7e02a0a8-8b6a-4e13-a810-d2d73668783e",
   "metadata": {},
   "outputs": [
    {
     "data": {
      "text/plain": [
       "MannwhitneyuResult(statistic=10.0, pvalue=0.07284382284382285)"
      ]
     },
     "execution_count": 11,
     "metadata": {},
     "output_type": "execute_result"
    }
   ],
   "source": [
    "# 만-위트니 U검정 수행\n",
    "from scipy.stats import mannwhitneyu\n",
    "mannwhitneyu(female, male)"
   ]
  },
  {
   "cell_type": "code",
   "execution_count": 12,
   "id": "d31b4232-316e-4a0a-abab-11baf5f40335",
   "metadata": {},
   "outputs": [
    {
     "data": {
      "text/plain": [
       "KruskalResult(statistic=1978.1734792103248, pvalue=0.0)"
      ]
     },
     "execution_count": 12,
     "metadata": {},
     "output_type": "execute_result"
    }
   ],
   "source": [
    "#### 5. 크루스칼-왈리스 U검정\n",
    "# 필요한 패키지 불러오기\n",
    "import pandas as pd\n",
    "df = pd.read_csv('data/예제/school_score.csv')\n",
    "\n",
    "# 입력 형태에 맞게 데이터 추출\n",
    "# 필요한 컬럼 각각 할당\n",
    "School = df['School']\n",
    "Final = df['Final']\n",
    "\n",
    "# School에 대해 각각 기말고사 점수 분리\n",
    "Final_A = Final[School == 'A'].reset_index(drop = True)\n",
    "Final_B = Final[School == 'B'].reset_index(drop = True)\n",
    "Final_C = Final[School == 'C'].reset_index(drop = True)\n",
    "\n",
    "# 크루스칼-왈리스 검정 수행\n",
    "from scipy.stats import kruskal\n",
    "kruskal(Final_A, Final_B, Final_C)"
   ]
  },
  {
   "cell_type": "markdown",
   "id": "3e32f1d3-b2b9-45fa-b19a-c69031cc76cb",
   "metadata": {},
   "source": [
    "## (끝)"
   ]
  }
 ],
 "metadata": {
  "hide_input": false,
  "kernelspec": {
   "display_name": "Python 3 (ipykernel)",
   "language": "python",
   "name": "python3"
  },
  "language_info": {
   "codemirror_mode": {
    "name": "ipython",
    "version": 3
   },
   "file_extension": ".py",
   "mimetype": "text/x-python",
   "name": "python",
   "nbconvert_exporter": "python",
   "pygments_lexer": "ipython3",
   "version": "3.9.12"
  },
  "toc": {
   "base_numbering": 1,
   "nav_menu": {},
   "number_sections": false,
   "sideBar": true,
   "skip_h1_title": false,
   "title_cell": "Table of Contents",
   "title_sidebar": "Contents",
   "toc_cell": false,
   "toc_position": {},
   "toc_section_display": true,
   "toc_window_display": false
  },
  "varInspector": {
   "cols": {
    "lenName": 16,
    "lenType": 16,
    "lenVar": 40
   },
   "kernels_config": {
    "python": {
     "delete_cmd_postfix": "",
     "delete_cmd_prefix": "del ",
     "library": "var_list.py",
     "varRefreshCmd": "print(var_dic_list())"
    },
    "r": {
     "delete_cmd_postfix": ") ",
     "delete_cmd_prefix": "rm(",
     "library": "var_list.r",
     "varRefreshCmd": "cat(var_dic_list()) "
    }
   },
   "types_to_exclude": [
    "module",
    "function",
    "builtin_function_or_method",
    "instance",
    "_Feature"
   ],
   "window_display": false
  }
 },
 "nbformat": 4,
 "nbformat_minor": 5
}
