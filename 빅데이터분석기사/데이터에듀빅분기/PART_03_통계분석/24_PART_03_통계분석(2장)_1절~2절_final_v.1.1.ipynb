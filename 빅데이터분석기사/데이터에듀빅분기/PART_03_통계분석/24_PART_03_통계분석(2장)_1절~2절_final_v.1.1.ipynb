{
 "cells": [
  {
   "cell_type": "markdown",
   "id": "c65b1643",
   "metadata": {},
   "source": [
    "### PART 03) 통계분석"
   ]
  },
  {
   "cell_type": "markdown",
   "id": "4e1be88e",
   "metadata": {},
   "source": [
    "## 2장. 통계 모형"
   ]
  },
  {
   "cell_type": "markdown",
   "id": "8e175d52",
   "metadata": {},
   "source": [
    "### 1절. 선형 회귀모형"
   ]
  },
  {
   "cell_type": "markdown",
   "id": "008498fb-66e3-466a-bb19-365e7eab0c6a",
   "metadata": {},
   "source": [
    "#### 1. SciPy를 활용한 단순 선형 회귀분석"
   ]
  },
  {
   "cell_type": "code",
   "execution_count": 6,
   "id": "72f1d99b-6e3b-4f58-b59d-ae3351b6c2fa",
   "metadata": {},
   "outputs": [
    {
     "name": "stdout",
     "output_type": "stream",
     "text": [
      "LinregressResult(slope=949.4352603839491, intercept=152.1334841628967, rvalue=0.5864501344746886, pvalue=3.4660064451672995e-42, stderr=62.51512200284676, intercept_stderr=2.973541118790735)\n"
     ]
    }
   ],
   "source": [
    "# 데이터 호출한 후 데이터프레임으로 변환\n",
    "import pandas as pd\n",
    "from sklearn.datasets import load_diabetes\n",
    "\n",
    "diabetes = load_diabetes()\n",
    "data = pd.DataFrame(diabetes.data, columns = diabetes.feature_names)\n",
    "\n",
    "# 'target' 컬럼 호출\n",
    "target = diabetes.target\n",
    "\n",
    "# 단순 선형회귀 모델 생성\n",
    "# scipy.stats.linregress()\n",
    "from scipy.stats import linregress\n",
    "model = linregress(x = data['bmi'], y = target)\n",
    "print(model) # 전체 결과"
   ]
  },
  {
   "cell_type": "code",
   "execution_count": 7,
   "id": "08798046-96d3-40b9-8156-5f8f9a5ba5c5",
   "metadata": {},
   "outputs": [
    {
     "name": "stdout",
     "output_type": "stream",
     "text": [
      "949.4352603839491\n",
      "152.1334841628967\n"
     ]
    }
   ],
   "source": [
    "# 독립변수에 대한 추정된 회귀계수(beta1)\n",
    "print(model.slope)\n",
    "\n",
    "# 상수항에 대한 추정된 회귀계수(beta0)\n",
    "print(model.intercept)"
   ]
  },
  {
   "cell_type": "code",
   "execution_count": 8,
   "id": "0d0e3045-c028-44af-8561-d7742ced17c3",
   "metadata": {},
   "outputs": [
    {
     "name": "stdout",
     "output_type": "stream",
     "text": [
      "3.4660064451672995e-42\n",
      "0.5864501344746886\n"
     ]
    }
   ],
   "source": [
    "# beta1에 대한 통계적 유의성(p-value)\n",
    "print(model.pvalue)\n",
    "\n",
    "# 결정계수(모형의 설명력)\n",
    "print(model.rvalue)"
   ]
  },
  {
   "cell_type": "markdown",
   "id": "98fcfe47-f1ef-41a8-bb23-c823456d4220",
   "metadata": {},
   "source": [
    "#### 2. Statsmodels를 활용한 다중 선형 회귀분석"
   ]
  },
  {
   "cell_type": "markdown",
   "id": "b80f81cb-6486-4bdd-a472-354058d28bd0",
   "metadata": {},
   "source": [
    "#### 가. 회귀 모형 적합"
   ]
  },
  {
   "cell_type": "code",
   "execution_count": 11,
   "id": "1052a112-82f1-4684-a0ef-b933a25adcae",
   "metadata": {},
   "outputs": [
    {
     "name": "stdout",
     "output_type": "stream",
     "text": [
      "                            OLS Regression Results                            \n",
      "==============================================================================\n",
      "Dep. Variable:                    tip   R-squared:                       0.468\n",
      "Model:                            OLS   Adj. R-squared:                  0.463\n",
      "Method:                 Least Squares   F-statistic:                     105.9\n",
      "Date:                Mon, 15 Apr 2024   Prob (F-statistic):           9.67e-34\n",
      "Time:                        17:01:53   Log-Likelihood:                -347.99\n",
      "No. Observations:                 244   AIC:                             702.0\n",
      "Df Residuals:                     241   BIC:                             712.5\n",
      "Df Model:                           2                                         \n",
      "Covariance Type:            nonrobust                                         \n",
      "==============================================================================\n",
      "                 coef    std err          t      P>|t|      [0.025      0.975]\n",
      "------------------------------------------------------------------------------\n",
      "const          0.6689      0.194      3.455      0.001       0.288       1.050\n",
      "total_bill     0.0927      0.009     10.172      0.000       0.075       0.111\n",
      "size           0.1926      0.085      2.258      0.025       0.025       0.361\n",
      "==============================================================================\n",
      "Omnibus:                       24.753   Durbin-Watson:                   2.100\n",
      "Prob(Omnibus):                  0.000   Jarque-Bera (JB):               46.169\n",
      "Skew:                           0.545   Prob(JB):                     9.43e-11\n",
      "Kurtosis:                       4.831   Cond. No.                         67.6\n",
      "==============================================================================\n",
      "\n",
      "Notes:\n",
      "[1] Standard Errors assume that the covariance matrix of the errors is correctly specified.\n"
     ]
    }
   ],
   "source": [
    "# 필요 데이터 호출\n",
    "import pandas as pd\n",
    "\n",
    "tips = pd.read_csv('data/예제/tips.csv')\n",
    "#print(tips)\n",
    "\n",
    "import statsmodels.api as sm\n",
    "# 독립변수(total_bill, size)와 종속변수 지정\n",
    "X = tips[['total_bill', 'size']] # 독립 변수\n",
    "y = tips['tip'] # 종속 변수\n",
    "    \n",
    "# 상수항 추가\n",
    "X = sm.add_constant(X)\n",
    "    \n",
    "# 다중 선형 회귀분석 수행\n",
    "# OLS 객체 생성 후 적합\n",
    "model = sm.OLS(y, X).fit()\n",
    "print(model.summary()) # 회귀분석 결과"
   ]
  },
  {
   "cell_type": "markdown",
   "id": "79a02be9-cf92-4884-b55f-635b6f7b444b",
   "metadata": {},
   "source": [
    "#### 나. 반응 변수의 기댓값 추정"
   ]
  },
  {
   "cell_type": "code",
   "execution_count": 12,
   "id": "a47f583d-9b3f-4917-ab86-6b1713d79492",
   "metadata": {},
   "outputs": [
    {
     "data": {
      "text/plain": [
       "const          1.00\n",
       "total_bill    24.59\n",
       "size           4.00\n",
       "Name: 4, dtype: float64"
      ]
     },
     "execution_count": 12,
     "metadata": {},
     "output_type": "execute_result"
    }
   ],
   "source": [
    "# 5번째 관측치에 대한 tip의 기댓값을 추정\n",
    "X.iloc[4]"
   ]
  },
  {
   "cell_type": "code",
   "execution_count": 13,
   "id": "04eb04d6-2aaa-4268-8973-4e0a19eb3e5b",
   "metadata": {},
   "outputs": [
    {
     "data": {
      "text/plain": [
       "None    3.719157\n",
       "dtype: float64"
      ]
     },
     "execution_count": 13,
     "metadata": {},
     "output_type": "execute_result"
    }
   ],
   "source": [
    "# 5번째 관측치에 대한 tip의 기댓값을 추정\n",
    "model.predict(X.iloc[4])"
   ]
  },
  {
   "cell_type": "markdown",
   "id": "a6ed6392-2895-485e-bee1-fe6fd264002d",
   "metadata": {},
   "source": [
    "#### 다. 반응 변수의 기댓값 예측"
   ]
  },
  {
   "cell_type": "code",
   "execution_count": 14,
   "id": "34dc49f4-c102-4bcc-86c6-35f71e751515",
   "metadata": {},
   "outputs": [],
   "source": [
    "# 새로운 독립변수의 배열을 입력 값으로 지정\n",
    "new_data = pd.DataFrame({'const': [1], 'total_bill': [24.59], 'size': [4]})\n",
    "\n",
    "# 예측 기댓값 결과 얻기\n",
    "result = model.get_prediction(new_data)"
   ]
  },
  {
   "cell_type": "markdown",
   "id": "78d79221-6901-4428-9e7f-48850df9f6ca",
   "metadata": {},
   "source": [
    "### 2절. 로지스틱 회귀모형"
   ]
  },
  {
   "cell_type": "markdown",
   "id": "868794f6-83e4-4554-8fd1-3896c7334dcf",
   "metadata": {},
   "source": [
    "#### 1. Statsmodels를 활용한 로지스틱 회귀분석"
   ]
  },
  {
   "cell_type": "code",
   "execution_count": 15,
   "id": "60dc400e-984a-4516-86e3-b55b6e90b936",
   "metadata": {},
   "outputs": [
    {
     "name": "stdout",
     "output_type": "stream",
     "text": [
      "     survived  pclass  sex   age\n",
      "0           0       0    1  22.0\n",
      "1           1       1    0  38.0\n",
      "2           1       0    0  26.0\n",
      "3           1       1    0  35.0\n",
      "4           0       0    1  35.0\n",
      "..        ...     ...  ...   ...\n",
      "536         0       0    1  25.0\n",
      "537         0       0    0  39.0\n",
      "538         1       1    0  19.0\n",
      "539         1       1    1  26.0\n",
      "540         0       0    1  32.0\n",
      "\n",
      "[541 rows x 4 columns]\n"
     ]
    }
   ],
   "source": [
    "# 필요 데이터 호출\n",
    "import pandas as pd\n",
    "survived = pd.read_csv('data/예제/survived.csv')\n",
    "print(survived)"
   ]
  },
  {
   "cell_type": "code",
   "execution_count": 16,
   "id": "8f3fb907-74df-46be-adc3-28bcbfc77f0b",
   "metadata": {},
   "outputs": [
    {
     "name": "stdout",
     "output_type": "stream",
     "text": [
      "                 Generalized Linear Model Regression Results                  \n",
      "==============================================================================\n",
      "Dep. Variable:               survived   No. Observations:                  541\n",
      "Model:                            GLM   Df Residuals:                      539\n",
      "Model Family:                Binomial   Df Model:                            1\n",
      "Link Function:                  Logit   Scale:                          1.0000\n",
      "Method:                          IRLS   Log-Likelihood:                -315.13\n",
      "Date:                Mon, 08 Apr 2024   Deviance:                       630.26\n",
      "Time:                        14:50:19   Pearson chi2:                     541.\n",
      "No. Iterations:                     4   Pseudo R-squ. (CS):             0.1527\n",
      "Covariance Type:            nonrobust                                         \n",
      "==============================================================================\n",
      "                 coef    std err          z      P>|z|      [0.025      0.975]\n",
      "------------------------------------------------------------------------------\n",
      "const         -1.1558      0.124     -9.293      0.000      -1.400      -0.912\n",
      "pclass         1.8009      0.198      9.086      0.000       1.412       2.189\n",
      "==============================================================================\n"
     ]
    }
   ],
   "source": [
    "# 독립변수와 종속변수 지정\n",
    "X = survived['pclass'] # 독립 변수\n",
    "y = survived['survived'] # 종속 변수\n",
    "\n",
    "# 상수항 추가\n",
    "X = sm.add_constant(X)\n",
    "    \n",
    "### 로지스틱 회귀 분석\n",
    "import statsmodels.api as sm\n",
    "# GLM객체 생성 후 적합\n",
    "model = sm.GLM(y, X, family = sm.families.Binomial()).fit()\n",
    "print(model.summary()) # 로지스틱회귀분석결과"
   ]
  },
  {
   "cell_type": "code",
   "execution_count": null,
   "id": "4f55cfbf-9c17-46cd-a2f4-291663398a70",
   "metadata": {},
   "outputs": [
    {
     "name": "stdout",
     "output_type": "stream",
     "text": [
      "0.2394312844887346 0.6559054109099537\n"
     ]
    }
   ],
   "source": [
    "import numpy as np\n",
    "\n",
    "# A등급의 추정 생존확률\n",
    "Prob_A = np.exp(-1.1558 + 1*1.8009)/(1+np.exp(-1.1558 + 1*1.8009))\n",
    "\n",
    "# B등급의 추정 생존확률\n",
    "Prob_B = np.exp(-1.1558 + 0*1.8009)/(1+np.exp(-1.1558 + 0*1.8009))\n",
    "print(Prob_A, Prob_B)"
   ]
  },
  {
   "cell_type": "code",
   "execution_count": 18,
   "id": "9df48a0d-c79a-4fb8-9d90-a5ac28205eac",
   "metadata": {},
   "outputs": [
    {
     "name": "stdout",
     "output_type": "stream",
     "text": [
      "630.2646521014273\n",
      "719.8918959915944\n",
      "89.62724389016716 1\n",
      "0.0\n"
     ]
    }
   ],
   "source": [
    "#### 모형 적합도 검정\n",
    "# 적합모형의 이탈도\n",
    "dev = model.deviance\n",
    "print(dev)\n",
    "\n",
    "# 영모형의 이탈도\n",
    "dev0 = model.null_deviance\n",
    "print(dev0)\n",
    "\n",
    "# 카이제곱통계랑과 자유도\n",
    "stat = dev0 - dev\n",
    "df = 2 - 1 # 적합모형의 회귀계수의 수 - 영모형의 회귀계수의 수\n",
    "print(stat, df)\n",
    "\n",
    "from scipy.stats import chi2\n",
    "pval = 1- chi2.cdf(stat, df) # 유의확률\n",
    "print(pval) # 모형이 잘 적합하고 있음"
   ]
  },
  {
   "cell_type": "markdown",
   "id": "acfd5e8c-8203-425e-9ed6-a3f9f651e47e",
   "metadata": {},
   "source": [
    "## (끝)"
   ]
  }
 ],
 "metadata": {
  "hide_input": false,
  "kernelspec": {
   "display_name": "Python 3.7.13 ('sql_ana')",
   "language": "python",
   "name": "python3"
  },
  "language_info": {
   "codemirror_mode": {
    "name": "ipython",
    "version": 3
   },
   "file_extension": ".py",
   "mimetype": "text/x-python",
   "name": "python",
   "nbconvert_exporter": "python",
   "pygments_lexer": "ipython3",
   "version": "3.7.13"
  },
  "toc": {
   "base_numbering": 1,
   "nav_menu": {},
   "number_sections": false,
   "sideBar": true,
   "skip_h1_title": false,
   "title_cell": "Table of Contents",
   "title_sidebar": "Contents",
   "toc_cell": false,
   "toc_position": {},
   "toc_section_display": true,
   "toc_window_display": false
  },
  "varInspector": {
   "cols": {
    "lenName": 16,
    "lenType": 16,
    "lenVar": 40
   },
   "kernels_config": {
    "python": {
     "delete_cmd_postfix": "",
     "delete_cmd_prefix": "del ",
     "library": "var_list.py",
     "varRefreshCmd": "print(var_dic_list())"
    },
    "r": {
     "delete_cmd_postfix": ") ",
     "delete_cmd_prefix": "rm(",
     "library": "var_list.r",
     "varRefreshCmd": "cat(var_dic_list()) "
    }
   },
   "types_to_exclude": [
    "module",
    "function",
    "builtin_function_or_method",
    "instance",
    "_Feature"
   ],
   "window_display": false
  },
  "vscode": {
   "interpreter": {
    "hash": "4b9c2565d0063a8e86d675854bb3daca5bd7f8ee7e25f30d3cbb564393f00e18"
   }
  }
 },
 "nbformat": 4,
 "nbformat_minor": 5
}
