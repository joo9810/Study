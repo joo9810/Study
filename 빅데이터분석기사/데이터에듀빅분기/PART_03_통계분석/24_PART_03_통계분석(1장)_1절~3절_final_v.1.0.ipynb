{
 "cells": [
  {
   "cell_type": "markdown",
   "id": "c65b1643",
   "metadata": {},
   "source": [
    "### PART 03) 통계분석"
   ]
  },
  {
   "cell_type": "markdown",
   "id": "4e1be88e",
   "metadata": {},
   "source": [
    "## 1장. 가설 검정"
   ]
  },
  {
   "cell_type": "markdown",
   "id": "8e175d52",
   "metadata": {},
   "source": [
    "### 1절. 상관분석"
   ]
  },
  {
   "cell_type": "code",
   "execution_count": 1,
   "id": "98c7f5d7",
   "metadata": {},
   "outputs": [
    {
     "name": "stdout",
     "output_type": "stream",
     "text": [
      "<class 'pandas.core.frame.DataFrame'>\n",
      "RangeIndex: 442 entries, 0 to 441\n",
      "Data columns (total 10 columns):\n",
      " #   Column  Non-Null Count  Dtype  \n",
      "---  ------  --------------  -----  \n",
      " 0   age     442 non-null    float64\n",
      " 1   sex     442 non-null    float64\n",
      " 2   bmi     442 non-null    float64\n",
      " 3   bp      442 non-null    float64\n",
      " 4   s1      442 non-null    float64\n",
      " 5   s2      442 non-null    float64\n",
      " 6   s3      442 non-null    float64\n",
      " 7   s4      442 non-null    float64\n",
      " 8   s5      442 non-null    float64\n",
      " 9   s6      442 non-null    float64\n",
      "dtypes: float64(10)\n",
      "memory usage: 34.7 KB\n"
     ]
    }
   ],
   "source": [
    "# 데이터 호출한 후 데이터프레임으로 변환\n",
    "import pandas as pd\n",
    "from sklearn.datasets import load_diabetes \n",
    "\n",
    "diabetes = load_diabetes()\n",
    "data = pd.DataFrame(diabetes.data, columns = diabetes.feature_names)\n",
    "data.info() # 확인"
   ]
  },
  {
   "cell_type": "code",
   "execution_count": 2,
   "id": "9a3966de",
   "metadata": {},
   "outputs": [
    {
     "data": {
      "text/plain": [
       "(0.18508466614655558, 9.076791865412659e-05)"
      ]
     },
     "execution_count": 2,
     "metadata": {},
     "output_type": "execute_result"
    }
   ],
   "source": [
    "# scipy.stats.pearsonr\n",
    "from scipy.stats import pearsonr\n",
    "pearsonr(x = data['age'], y = data['bmi'])"
   ]
  },
  {
   "cell_type": "code",
   "execution_count": 3,
   "id": "c784ae43",
   "metadata": {},
   "outputs": [
    {
     "data": {
      "text/html": [
       "<div>\n",
       "<style scoped>\n",
       "    .dataframe tbody tr th:only-of-type {\n",
       "        vertical-align: middle;\n",
       "    }\n",
       "\n",
       "    .dataframe tbody tr th {\n",
       "        vertical-align: top;\n",
       "    }\n",
       "\n",
       "    .dataframe thead th {\n",
       "        text-align: right;\n",
       "    }\n",
       "</style>\n",
       "<table border=\"1\" class=\"dataframe\">\n",
       "  <thead>\n",
       "    <tr style=\"text-align: right;\">\n",
       "      <th></th>\n",
       "      <th>age</th>\n",
       "      <th>bmi</th>\n",
       "    </tr>\n",
       "  </thead>\n",
       "  <tbody>\n",
       "    <tr>\n",
       "      <th>age</th>\n",
       "      <td>1.000000</td>\n",
       "      <td>0.185085</td>\n",
       "    </tr>\n",
       "    <tr>\n",
       "      <th>bmi</th>\n",
       "      <td>0.185085</td>\n",
       "      <td>1.000000</td>\n",
       "    </tr>\n",
       "  </tbody>\n",
       "</table>\n",
       "</div>"
      ],
      "text/plain": [
       "          age       bmi\n",
       "age  1.000000  0.185085\n",
       "bmi  0.185085  1.000000"
      ]
     },
     "execution_count": 3,
     "metadata": {},
     "output_type": "execute_result"
    }
   ],
   "source": [
    "# 단순한 상관계수의 산출은 데이터프레임객체.corr()로도 가능\n",
    "data[['age', 'bmi']].corr()"
   ]
  },
  {
   "cell_type": "code",
   "execution_count": 4,
   "id": "ed186b06",
   "metadata": {},
   "outputs": [
    {
     "data": {
      "text/plain": [
       "SpearmanrResult(correlation=0.09807947297621517, pvalue=0.03929011358104615)"
      ]
     },
     "execution_count": 4,
     "metadata": {},
     "output_type": "execute_result"
    }
   ],
   "source": [
    "# scipy.stats.spearmanr\n",
    "from scipy.stats import spearmanr\n",
    "spearmanr(a = data['sex'], b = data['bmi'])"
   ]
  },
  {
   "cell_type": "code",
   "execution_count": 5,
   "id": "83904693",
   "metadata": {},
   "outputs": [
    {
     "data": {
      "text/html": [
       "<div>\n",
       "<style scoped>\n",
       "    .dataframe tbody tr th:only-of-type {\n",
       "        vertical-align: middle;\n",
       "    }\n",
       "\n",
       "    .dataframe tbody tr th {\n",
       "        vertical-align: top;\n",
       "    }\n",
       "\n",
       "    .dataframe thead th {\n",
       "        text-align: right;\n",
       "    }\n",
       "</style>\n",
       "<table border=\"1\" class=\"dataframe\">\n",
       "  <thead>\n",
       "    <tr style=\"text-align: right;\">\n",
       "      <th></th>\n",
       "      <th>sex</th>\n",
       "      <th>bmi</th>\n",
       "    </tr>\n",
       "  </thead>\n",
       "  <tbody>\n",
       "    <tr>\n",
       "      <th>sex</th>\n",
       "      <td>1.000000</td>\n",
       "      <td>0.098079</td>\n",
       "    </tr>\n",
       "    <tr>\n",
       "      <th>bmi</th>\n",
       "      <td>0.098079</td>\n",
       "      <td>1.000000</td>\n",
       "    </tr>\n",
       "  </tbody>\n",
       "</table>\n",
       "</div>"
      ],
      "text/plain": [
       "          sex       bmi\n",
       "sex  1.000000  0.098079\n",
       "bmi  0.098079  1.000000"
      ]
     },
     "execution_count": 5,
     "metadata": {},
     "output_type": "execute_result"
    }
   ],
   "source": [
    "# 단순한 상관계수의 산출은 데이터프레임객체.corr()로 가능\n",
    "# corr(method = 'spearman')은 스피어만 상관계수를 산출함\n",
    "data[['sex', 'bmi']].corr(method = 'spearman')"
   ]
  },
  {
   "cell_type": "markdown",
   "id": "fe3a7172-3263-4b29-b0d6-3541605ec42b",
   "metadata": {},
   "source": [
    "---"
   ]
  },
  {
   "cell_type": "markdown",
   "id": "976a356e-6fe2-409c-a5ed-03bc6f8adb0b",
   "metadata": {
    "tags": []
   },
   "source": [
    "### 2절. 정규성 검정"
   ]
  },
  {
   "cell_type": "code",
   "execution_count": 6,
   "id": "a0eb4802-de54-434a-a608-648e0ef93844",
   "metadata": {},
   "outputs": [
    {
     "data": {
      "text/plain": [
       "ShapiroResult(statistic=0.8969665765762329, pvalue=0.20285499095916748)"
      ]
     },
     "execution_count": 6,
     "metadata": {},
     "output_type": "execute_result"
    }
   ],
   "source": [
    "# 필요한 패키지 호출\n",
    "import numpy as np\n",
    "\n",
    "# 균일표본 생성\n",
    "# (참고) np.random.random(size) : 균일 분포로 부터 size개의 len을 가지는 난수 생성\n",
    "np.random.seed(2024) # 결과의 일관성을 위해 시드값 설정\n",
    "x = np.random.random(10)\n",
    "\n",
    "# 샤피로-윌크 검정 수행\n",
    "from scipy.stats import shapiro\n",
    "shapiro(x)"
   ]
  },
  {
   "cell_type": "markdown",
   "id": "7c990f81-190d-4159-9e9e-d67bb123da26",
   "metadata": {},
   "source": [
    "---"
   ]
  },
  {
   "cell_type": "markdown",
   "id": "6269a59b-54be-4635-bbdc-9b91facb8fa1",
   "metadata": {},
   "source": [
    "### 3절. 모평균과 모분산 검정"
   ]
  },
  {
   "cell_type": "markdown",
   "id": "b6bf134c-56ee-463d-a906-4bf59cac526a",
   "metadata": {},
   "source": [
    "#### 1. 모평균 검정"
   ]
  },
  {
   "cell_type": "markdown",
   "id": "f85bd02f-553e-4db8-b824-68dcba4a2aa6",
   "metadata": {},
   "source": [
    "#### 가. 단일표본 t-검정"
   ]
  },
  {
   "cell_type": "code",
   "execution_count": 11,
   "id": "379170b3-92dd-4334-896c-e7975d1538da",
   "metadata": {},
   "outputs": [
    {
     "data": {
      "text/plain": [
       "66.56428571428572"
      ]
     },
     "execution_count": 11,
     "metadata": {},
     "output_type": "execute_result"
    }
   ],
   "source": [
    "# 필요한 패키지 호출\n",
    "import numpy as np\n",
    "\n",
    "# 몸무게 데이터 임의 생성\n",
    "kg = np.array([75.5, 83.9, 75.7, 56.2, 73.4, 67.7, 79.0, 50.7, 58.4, 74.1, 65.1, 77.8, 48.1, 46.3])\n",
    "\n",
    "# 표본 평균\n",
    "np.mean(kg)"
   ]
  },
  {
   "cell_type": "code",
   "execution_count": 12,
   "id": "7daccce7-09d7-4795-9005-f1f11b944aa1",
   "metadata": {},
   "outputs": [
    {
     "data": {
      "text/plain": [
       "Ttest_1sampResult(statistic=-1.0289933120202257, pvalue=0.3222484823978743)"
      ]
     },
     "execution_count": 12,
     "metadata": {},
     "output_type": "execute_result"
    }
   ],
   "source": [
    "# 단일 표본 t-검정 실행\n",
    "from scipy.stats import ttest_1samp\n",
    "ttest_1samp(kg, 70)"
   ]
  },
  {
   "cell_type": "markdown",
   "id": "1e00acb6-6088-48be-af24-49166151da21",
   "metadata": {},
   "source": [
    "#### 나. 대응표본 t-검정"
   ]
  },
  {
   "cell_type": "code",
   "execution_count": 4,
   "id": "1cc77948-2569-4169-8260-f2fa81b9d2ba",
   "metadata": {},
   "outputs": [
    {
     "data": {
      "text/plain": [
       "Ttest_relResult(statistic=-2.0784469330649724, pvalue=0.08291274205610197)"
      ]
     },
     "execution_count": 4,
     "metadata": {},
     "output_type": "execute_result"
    }
   ],
   "source": [
    "# 남녀 몸무게 데이터를 임의로 생성\n",
    "import pandas as pd\n",
    "female = np.array([50.7, 58.4, 74.1, 65.1, 77.8, 48.1, 46.3])\n",
    "male = np.array([75.5, 83.9, 75.7, 56.2, 73.4, 67.7, 79.0])\n",
    "\n",
    "# 두 데이터의 차이의 평균\n",
    "diff = female - male\n",
    "np.mean(diff)\n",
    "\n",
    "# 대응표본 t-검정 실행\n",
    "from scipy.stats import ttest_rel\n",
    "ttest_rel(female, male)"
   ]
  },
  {
   "cell_type": "markdown",
   "id": "628f4f60-90ea-4f17-bd4d-dded8d5a193e",
   "metadata": {},
   "source": [
    "#### 다. 독립표본 t-검정"
   ]
  },
  {
   "cell_type": "code",
   "execution_count": 5,
   "id": "a8a1752b-dfff-4917-b4c6-3a287c2e197d",
   "metadata": {},
   "outputs": [
    {
     "data": {
      "text/plain": [
       "Ttest_indResult(statistic=-2.218664157777296, pvalue=0.04655012211056963)"
      ]
     },
     "execution_count": 5,
     "metadata": {},
     "output_type": "execute_result"
    }
   ],
   "source": [
    "# 독립표본 t-검정 실행\n",
    "from scipy.stats import ttest_ind\n",
    "ttest_ind(female, male)"
   ]
  },
  {
   "cell_type": "markdown",
   "id": "613f9e3b-dcbd-445d-b6a5-ef3203de861e",
   "metadata": {},
   "source": [
    "#### 2. 모분산 검정"
   ]
  },
  {
   "cell_type": "markdown",
   "id": "9916902c-f9c4-40ca-8083-baa3cab391c0",
   "metadata": {},
   "source": [
    "#### 가. 단일표본 검정"
   ]
  },
  {
   "cell_type": "code",
   "execution_count": 6,
   "id": "9de00266-9572-4c4f-bb89-fe4aa29f6691",
   "metadata": {},
   "outputs": [
    {
     "name": "stdout",
     "output_type": "stream",
     "text": [
      "278.1033333333333\n",
      "1.5169272727272727\n"
     ]
    },
    {
     "data": {
      "text/plain": [
       "0.041637780038918736"
      ]
     },
     "execution_count": 6,
     "metadata": {},
     "output_type": "execute_result"
    }
   ],
   "source": [
    "# 점수 데이터 임의 생성\n",
    "import numpy as np\n",
    "score = np.array([80.5, 60.2, 70, 87, 45, 91, 85])\n",
    "\n",
    "# 검정통계량 = (n-1) ⁎ 표본분산 / 귀무가설에서 설정한 모분산\n",
    "var0 = 1100 # 귀무가설에서 설정한 모분산\n",
    "\n",
    "var = np.var(score, ddof = 1) # 표본 분산\n",
    "print(var)\n",
    "\n",
    "stat = (len(score)-1)*var/var0 # 검정 통계량\n",
    "print(stat)\n",
    "\n",
    "# 카이분포를 통해 직접 유의확률 계산\n",
    "# 좌측 검정이므로 Pr[chisq2(자유도) < 검정통계량]으로 계산\n",
    "from scipy.stats import chi2\n",
    "chi2.cdf(stat, len(score)-1)"
   ]
  },
  {
   "cell_type": "code",
   "execution_count": 8,
   "id": "7948ca3b-6715-4ea0-9d5f-8291b8d96400",
   "metadata": {},
   "outputs": [
    {
     "data": {
      "text/plain": [
       "0.9583622199610813"
      ]
     },
     "execution_count": 8,
     "metadata": {},
     "output_type": "execute_result"
    }
   ],
   "source": [
    "# (참고) 우측 검정일 경우, Pr[chisq2(자유도) > 검정통계량]으로 계산\n",
    "1 - chi2.cdf(stat, len(score)-1)"
   ]
  },
  {
   "cell_type": "code",
   "execution_count": 9,
   "id": "82717e43-2a13-45cc-a909-803414dca730",
   "metadata": {},
   "outputs": [
    {
     "data": {
      "text/plain": [
       "0.08327556007783747"
      ]
     },
     "execution_count": 9,
     "metadata": {},
     "output_type": "execute_result"
    }
   ],
   "source": [
    "# (참고) 양측 검정일 경우, 2⁎좌측검정의 유의확률 또는 2⁎우측검정의 유의확률로 계산\n",
    "# 여기서는 표본분산 < 모분산이므로 좌측검정의 유의확률에서 2배를 곱함\n",
    "2 * chi2.cdf(stat, len(score)-1)\n",
    "\n",
    "# 유의수준 5%에서 모분산이 1200보다 작다고 할 수는 있지만 통계적으로 다르다고 하기는 어렵다."
   ]
  },
  {
   "cell_type": "markdown",
   "id": "42cf1076-cd42-40f4-aa46-ebb4eb4c4ab5",
   "metadata": {},
   "source": [
    "#### 나. 분산비 검정"
   ]
  },
  {
   "cell_type": "code",
   "execution_count": 10,
   "id": "0a75ad95-ff0d-4b6b-9c80-ca7f6f6f08cf",
   "metadata": {},
   "outputs": [
    {
     "name": "stdout",
     "output_type": "stream",
     "text": [
      "212.66666666666669 1138.4107142857142\n",
      "0.18681014154026346\n",
      "5 7\n",
      "0.04153943037562959\n"
     ]
    }
   ],
   "source": [
    "# 두 집단(a, b)에 대한 점수 데이터 임의로 생성\n",
    "a = np.array([70, 80, 75, 65, 100, 98])\n",
    "b = np.array([20, 100, 50, 94, 28, 80, 95, 30])\n",
    "\n",
    "# 표본 분산 계산\n",
    "var_a = np.var(a, ddof = 1)\n",
    "var_b = np.var(b, ddof = 1)\n",
    "print(var_a, var_b)\n",
    "\n",
    "# 검정통계량 = 집단a의 분산/집단b의 분산(가설: a모분산 < b모분산)\n",
    "stat = var_a/var_b\n",
    "print(stat)\n",
    "\n",
    "# 자유도 계산\n",
    "df1, df2 = len(a)-1, len(b)-1\n",
    "print(df1, df2)\n",
    "\n",
    "# F분포를 통해 직접 유의확률 계산\n",
    "# 좌측 검정이므로 Pr[F(자유도1,자유도2) < 검정통계량]으로 계산\n",
    "# 좌측 검정인 이유? 가설: a모분산 < b모분산 <=> a모분산/b모분산 < 1)\n",
    "from scipy.stats import f\n",
    "pval = f.cdf(stat, df1, df2)\n",
    "print(pval)"
   ]
  },
  {
   "cell_type": "code",
   "execution_count": 11,
   "id": "21cbc2cf-d621-4b9c-a140-a4ca7dfadc2d",
   "metadata": {},
   "outputs": [
    {
     "data": {
      "text/plain": [
       "0.9584605696243704"
      ]
     },
     "execution_count": 11,
     "metadata": {},
     "output_type": "execute_result"
    }
   ],
   "source": [
    "# (참고) 우측 검정일 경우, Pr[F(자유도1,자유도2) > 검정통계량]으로 계산\n",
    "1 - f.cdf(stat, df1, df2)"
   ]
  },
  {
   "cell_type": "code",
   "execution_count": 12,
   "id": "1d4906f1-630f-4d23-b980-11b659d8a432",
   "metadata": {},
   "outputs": [
    {
     "data": {
      "text/plain": [
       "0.08307886075125917"
      ]
     },
     "execution_count": 12,
     "metadata": {},
     "output_type": "execute_result"
    }
   ],
   "source": [
    "# (참고) 양측 검정일 경우, 현재 검정통계량이 1보다 작으므로 아래와 같이 계산함\n",
    "# Pr[F(자유도1,자유도2) < 검정통계량] + Pr[F(자유도2,자유도1) > 1/검정통계량]\n",
    "f.cdf(stat, df1, df2) + (1 - f.cdf(1/stat, df2, df1))\n",
    "\n",
    "# 유의수준 5%에서 a 집단의 모분산이 b 집단의 모분산보다 작다고 할 수 있지만 통계적으로 다르다고 하기는 어렵다.\n",
    "# (참고) 검정통계량이 1보다 큰 경우 Pr[F(자유도1,자유도2) > 검정통계량] + Pr[F(자유도2,자유도1) <1/검정통계량]"
   ]
  },
  {
   "cell_type": "markdown",
   "id": "4907fa79-2394-4947-8ad5-7620f9d2d3f3",
   "metadata": {},
   "source": [
    "#### 다. Bartlett 검정"
   ]
  },
  {
   "cell_type": "code",
   "execution_count": 13,
   "id": "2edb49a2-9d98-4a9c-b372-b589057e9b44",
   "metadata": {},
   "outputs": [
    {
     "data": {
      "text/plain": [
       "BartlettResult(statistic=15.6702722148674, pvalue=0.00039558846873743075)"
      ]
     },
     "execution_count": 13,
     "metadata": {},
     "output_type": "execute_result"
    }
   ],
   "source": [
    "# 두 집단(a, b)에 대한 점수 데이터 임의로 생성\n",
    "# 임의로 세 그룹의 점수 데이터를 생성\n",
    "a = np.array([70, 80, 75, 65, 100, 98])\n",
    "b = np.array([20, 100, 50, 94, 28, 80])\n",
    "c = np.array([90, 97, 95, 94, 99, 100])\n",
    "\n",
    "# Bartlett 검정 수행\n",
    "from scipy.stats import bartlett\n",
    "bartlett(a, b, c)"
   ]
  },
  {
   "cell_type": "markdown",
   "id": "0dde0da2-02cd-460f-9c73-367b0e549d2d",
   "metadata": {},
   "source": [
    "#### 라. Levene 검정"
   ]
  },
  {
   "cell_type": "code",
   "execution_count": 15,
   "id": "1a527a2a-f65c-447a-8d75-3725c176d372",
   "metadata": {},
   "outputs": [
    {
     "data": {
      "text/plain": [
       "LeveneResult(statistic=14.365736704446384, pvalue=0.00032713621045500125)"
      ]
     },
     "execution_count": 15,
     "metadata": {},
     "output_type": "execute_result"
    }
   ],
   "source": [
    "# Levene 검정 수행\n",
    "from scipy.stats import levene\n",
    "levene(a, b, c)"
   ]
  },
  {
   "cell_type": "markdown",
   "id": "c59bddea-b9b6-49ea-8f6b-18edbf0762af",
   "metadata": {},
   "source": [
    "#### 3. 분산분석"
   ]
  },
  {
   "cell_type": "markdown",
   "id": "bf5f4ae2-3c21-405e-b169-6f09c351a73a",
   "metadata": {},
   "source": [
    "#### 가. 일원배치 분산분석"
   ]
  },
  {
   "cell_type": "code",
   "execution_count": 16,
   "id": "d842228d-ae51-4376-a174-68bfa4920d80",
   "metadata": {},
   "outputs": [
    {
     "name": "stdout",
     "output_type": "stream",
     "text": [
      "        id School Sex  Grade  Final\n",
      "0        1      A   M      1   44.4\n",
      "1        2      A   M      2   47.7\n",
      "2        3      A   M      3   65.6\n",
      "3        4      A   F      1   50.7\n",
      "4        5      A   F      2   51.3\n",
      "...    ...    ...  ..    ...    ...\n",
      "2995  2996      C   M      2   84.1\n",
      "2996  2997      C   M      3   81.6\n",
      "2997  2998      C   F      1   83.2\n",
      "2998  2999      C   F      2   92.8\n",
      "2999  3000      C   F      3  100.0\n",
      "\n",
      "[3000 rows x 5 columns]\n",
      "               df         sum_sq        mean_sq            F  PR(>F)\n",
      "C(School)     2.0  996939.237147  498469.618573  5722.221007     0.0\n",
      "Residual   2997.0  261072.308290      87.111214          NaN     NaN\n"
     ]
    }
   ],
   "source": [
    "# 데이터 호출한 후 데이터프레임으로 변환\n",
    "import pandas as pd\n",
    "from statsmodels.formula.api import ols\n",
    "from statsmodels.stats.anova import anova_lm\n",
    "\n",
    "df = pd.read_csv('data/예제/school_score.csv')\n",
    "print(df)\n",
    "\n",
    "one_way = ols('Final ~ C(School)', data = df).fit()\n",
    "\n",
    "# anova_lm 함수를 사용해 분산분석\n",
    "result = anova_lm(one_way)\n",
    "print(result)"
   ]
  },
  {
   "cell_type": "markdown",
   "id": "b27b9a5a-fc55-4570-9eb1-465562cc1976",
   "metadata": {},
   "source": [
    "#### 나. 사후검정"
   ]
  },
  {
   "cell_type": "code",
   "execution_count": 17,
   "id": "f18e381a-ff5e-4188-8460-6ad1ebd8333f",
   "metadata": {},
   "outputs": [
    {
     "name": "stdout",
     "output_type": "stream",
     "text": [
      "Multiple Comparison of Means - Tukey HSD, FWER=0.05 \n",
      "====================================================\n",
      "group1 group2 meandiff p-adj   lower   upper  reject\n",
      "----------------------------------------------------\n",
      "     A      B  38.8464   -0.0 37.8677 39.8251   True\n",
      "     A      C  38.4922   -0.0 37.5135 39.4709   True\n",
      "     B      C  -0.3542 0.6728 -1.3329  0.6245  False\n",
      "----------------------------------------------------\n"
     ]
    }
   ],
   "source": [
    "# 필요 패키지 및 함수 호출\n",
    "from statsmodels.stats.multicomp import pairwise_tukeyhsd\n",
    "\n",
    "# tunky의 다중비교 시행\n",
    "tukey_result = pairwise_tukeyhsd(endog = df['Final'], groups = df['School'], alpha = 0.05)\n",
    "print(tukey_result)"
   ]
  },
  {
   "cell_type": "markdown",
   "id": "e5a225c2-b5f7-47da-8176-03a9faacd008",
   "metadata": {},
   "source": [
    "#### 다. 이원배치 분산분석"
   ]
  },
  {
   "cell_type": "code",
   "execution_count": 18,
   "id": "c8cb806a-eead-4854-8e2c-54236f30056a",
   "metadata": {},
   "outputs": [
    {
     "name": "stdout",
     "output_type": "stream",
     "text": [
      "                        df         sum_sq        mean_sq            F  \\\n",
      "C(School)              2.0  996939.237147  498469.618573  5721.620556   \n",
      "C(Grade)               2.0     324.472829     162.236415     1.862210   \n",
      "C(School):C(Grade)     4.0     170.851257      42.712814     0.490274   \n",
      "Residual            2991.0  260576.984204      87.120356          NaN   \n",
      "\n",
      "                      PR(>F)  \n",
      "C(School)           0.000000  \n",
      "C(Grade)            0.155509  \n",
      "C(School):C(Grade)  0.742912  \n",
      "Residual                 NaN  \n"
     ]
    }
   ],
   "source": [
    "# two way ols 모형객체를 생성(교호작용 ◯ )\n",
    "two_way = ols('Final ~ C(School) + C(Grade) + C(School):C(Grade)', data = df).fit()\n",
    "\n",
    "# anova_lm 함수를 사용해 이원배치 분산분석\n",
    "result = anova_lm(two_way)\n",
    "print(result)"
   ]
  },
  {
   "cell_type": "code",
   "execution_count": 19,
   "id": "24a31054-5126-4d40-8023-43a66de3e9f4",
   "metadata": {},
   "outputs": [
    {
     "name": "stdout",
     "output_type": "stream",
     "text": [
      "               df         sum_sq        mean_sq            F    PR(>F)\n",
      "C(School)     2.0  996939.237147  498469.618573  5725.518315  0.000000\n",
      "C(Grade)      2.0     324.472829     162.236415     1.863479  0.155312\n",
      "Residual   2995.0  260747.835461      87.061047          NaN       NaN\n"
     ]
    }
   ],
   "source": [
    "# two way ols 모형객체를 생성(교호작용×)\n",
    "two_way = ols('Final ~ C(School) + C(Grade)', data = df).fit()\n",
    "\n",
    "# anova_lm 함수를 사용해 이원배치 분산분석\n",
    "result = anova_lm(two_way)\n",
    "print(result)"
   ]
  }
 ],
 "metadata": {
  "hide_input": false,
  "kernelspec": {
   "display_name": "Python 3 (ipykernel)",
   "language": "python",
   "name": "python3"
  },
  "language_info": {
   "codemirror_mode": {
    "name": "ipython",
    "version": 3
   },
   "file_extension": ".py",
   "mimetype": "text/x-python",
   "name": "python",
   "nbconvert_exporter": "python",
   "pygments_lexer": "ipython3",
   "version": "3.9.12"
  },
  "toc": {
   "base_numbering": 1,
   "nav_menu": {},
   "number_sections": false,
   "sideBar": true,
   "skip_h1_title": false,
   "title_cell": "Table of Contents",
   "title_sidebar": "Contents",
   "toc_cell": false,
   "toc_position": {},
   "toc_section_display": true,
   "toc_window_display": false
  },
  "varInspector": {
   "cols": {
    "lenName": 16,
    "lenType": 16,
    "lenVar": 40
   },
   "kernels_config": {
    "python": {
     "delete_cmd_postfix": "",
     "delete_cmd_prefix": "del ",
     "library": "var_list.py",
     "varRefreshCmd": "print(var_dic_list())"
    },
    "r": {
     "delete_cmd_postfix": ") ",
     "delete_cmd_prefix": "rm(",
     "library": "var_list.r",
     "varRefreshCmd": "cat(var_dic_list()) "
    }
   },
   "types_to_exclude": [
    "module",
    "function",
    "builtin_function_or_method",
    "instance",
    "_Feature"
   ],
   "window_display": false
  }
 },
 "nbformat": 4,
 "nbformat_minor": 5
}
