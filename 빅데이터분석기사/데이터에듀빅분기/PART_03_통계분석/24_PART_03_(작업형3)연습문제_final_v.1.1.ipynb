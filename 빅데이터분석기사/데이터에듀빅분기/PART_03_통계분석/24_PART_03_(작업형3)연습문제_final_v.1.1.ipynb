{
 "cells": [
  {
   "cell_type": "markdown",
   "id": "4e1be88e",
   "metadata": {},
   "source": [
    "## (작업형3) 연습문제"
   ]
  },
  {
   "cell_type": "markdown",
   "id": "8e175d52",
   "metadata": {},
   "source": [
    "#### 1.주어진 데이터(Rabbit_Five.csv)는 신약 개발을 위해 실험에 사용된 데이터이다. 동일한 개체에 대해 첫 번째는 식염수(Control), 두 번째는 MDL로 치료한 후 각 혈압 반응(BP_change)을 측정하였다. 두 치료법(Treatment)에 대해 혈압 반응이 차이가 있는 지를 쌍체표본 t-검정(paired t-test)를 통해 답하고자 한다."
   ]
  },
  {
   "cell_type": "markdown",
   "id": "55a55248-2a13-485f-a7c1-f1de275b16c3",
   "metadata": {},
   "source": [
    "##### (a) : 표본 평균을 계산하는 것으로 데이터로부터 (MDL 치료 후 혈압 반응 - 식염수 치료 후 혈압 반응)을 계산한 후 문제에서 요구하는 형태에 맞게 출력한다."
   ]
  },
  {
   "cell_type": "code",
   "execution_count": 1,
   "id": "e81ced46",
   "metadata": {},
   "outputs": [],
   "source": [
    "#### 연습문제 01 Solution\n",
    "import pandas as pd\n",
    "exam1 = pd.read_csv('data/연습문제/Rabbit_Five.csv', encoding = 'cp949')\n",
    "\n",
    "\n",
    "# 필요한 패키지, 함수 호출\n",
    "from scipy.stats import ttest_rel"
   ]
  },
  {
   "cell_type": "code",
   "execution_count": 2,
   "id": "2dc9a18d-e264-4cb8-bd4b-bca13d0fa731",
   "metadata": {},
   "outputs": [
    {
     "name": "stdout",
     "output_type": "stream",
     "text": [
      "-4.68\n"
     ]
    }
   ],
   "source": [
    "# 필요한 컬럼 각각 할당\n",
    "BP_change = exam1['BP_change']\n",
    "Treatment = exam1['Treatment']\n",
    "\n",
    "# Treatment가 Control인 경우와 MDL인 경우의 BP_change 값 각각 할당\n",
    "BPC_Treat = BP_change[Treatment == \"MDL\"].reset_index(drop = True)\n",
    "BPC_Control = BP_change[Treatment == \"Control\"].reset_index(drop = True)\n",
    "\n",
    "## (a) 점추정량 = mean(PC_Treat - PC_Control)\n",
    "diff_avg = (BPC_Treat - BPC_Control).mean()\n",
    "diff_avg = round(diff_avg, 2)\n",
    "print(diff_avg)"
   ]
  },
  {
   "cell_type": "markdown",
   "id": "f63fd61a-1e11-4afb-87fa-13b7fa3ba407",
   "metadata": {},
   "source": [
    "##### (b) - (c) : ttest_rel() 함수를 통해 가설 검정을 수행하고 결과에서 제공하는 검정통계량과 p - 값을 각각 문제에서 요구하는 형태에 맞게 출력한다. p - 값이 0.001이므로 본 가설 검정은 ‘기각’한다."
   ]
  },
  {
   "cell_type": "code",
   "execution_count": 3,
   "id": "8f65185c-fb3e-453b-87bf-7b9aa18df4c4",
   "metadata": {},
   "outputs": [
    {
     "name": "stdout",
     "output_type": "stream",
     "text": [
      "-3.67\n",
      "0.001\n",
      "기각\n"
     ]
    }
   ],
   "source": [
    "## (b)-(c)\n",
    "# 대응표본 t검정 수행\n",
    "a = ttest_rel(BPC_Treat, BPC_Control)\n",
    "\n",
    "# (b) 검정통계량\n",
    "stat = a.statistic\n",
    "stat = round(stat, 2)\n",
    "print(stat)\n",
    "\n",
    "# (c) p-값/기각여부\n",
    "pval = a.pvalue\n",
    "pval = round(pval, 3)\n",
    "print(pval)\n",
    "print('기각')"
   ]
  },
  {
   "cell_type": "markdown",
   "id": "c3f34dbc-2789-46de-a946-efa7296e5c77",
   "metadata": {},
   "source": [
    "---"
   ]
  },
  {
   "cell_type": "markdown",
   "id": "defc6035-e3da-4a3e-b6e0-52866de7383c",
   "metadata": {},
   "source": [
    "#### 2.주어진 데이터(mtcars2.csv)를 통해 변속기 종류(am)에 따라 마력(hp)에 대한 분산이 차이가 있는 지를 분산비 검정(F test to compare two variances)를 통해 답하고자 한다."
   ]
  },
  {
   "cell_type": "markdown",
   "id": "021be27c-f670-49be-bdd0-727d72c25524",
   "metadata": {},
   "source": [
    "##### (a) : 수동변속기(am = 1)과 자동변속기(am = 0)의 각각 마력(hp)를 산출하여 문제에서 요구하는 형태에 맞게 출력한다."
   ]
  },
  {
   "cell_type": "code",
   "execution_count": 7,
   "id": "907c58bb-81db-47b7-8d39-906481d26c18",
   "metadata": {},
   "outputs": [
    {
     "name": "stdout",
     "output_type": "stream",
     "text": [
      "2.43\n"
     ]
    }
   ],
   "source": [
    "#### 연습문제 02 Solution\n",
    "import pandas as pd\n",
    "exam2 = pd.read_csv('data/연습문제/mtcars2.csv', encoding = 'cp949')\n",
    "\n",
    "# 필요한 패키지, 함수 호출\n",
    "from scipy.stats import f\n",
    "\n",
    "# 필요한 컬럼 각각 할당\n",
    "am = exam2['am']\n",
    "hp = exam2['hp']\n",
    "\n",
    "# 수동변속기(am = 1)인 자동차의 마력(hp), 자동변속기(am = 0)인 자동차의 마력(hp) 각각 할당\n",
    "hp_manual = hp[am ==1].reset_index(drop = True)\n",
    "hp_auto = hp[am == 0].reset_index(drop = True)\n",
    "\n",
    "## (a) 수동변속 표본분산/자동변속 표본분산\n",
    "var_ratio = hp_manual.var()/hp_auto.var()\n",
    "print(round(var_ratio,2))"
   ]
  },
  {
   "cell_type": "markdown",
   "id": "77fb42be-bcfc-43cf-b32b-14b7e67e1eea",
   "metadata": {},
   "source": [
    "##### (b)-(c) : f 클래스로 분포 객체를 생성 한 후 해당 객체의 메소드 cdf()를 이용해 p값을 각 문제에서 요구하는 형태에 맞게 출력한다. p - 값이 0.043이므로 본 가설 검정은 ‘기각’한다."
   ]
  },
  {
   "cell_type": "code",
   "execution_count": 8,
   "id": "87b27f5c-6832-4a62-8853-bb2b84654373",
   "metadata": {},
   "outputs": [
    {
     "name": "stdout",
     "output_type": "stream",
     "text": [
      "2.431605932653339\n",
      "2.43\n",
      "2.43\n",
      "0.043\n",
      "기각\n"
     ]
    }
   ],
   "source": [
    "## (b)-(c)\n",
    "# F검정 수행\n",
    "# (b) 검정통계량 = (a)와 같음\n",
    "stat = var_ratio\n",
    "print(stat)\n",
    "\n",
    "# (c) 유의확률\n",
    "# 자유도\n",
    "df1, df2 = len(hp_manual) - 1, len(hp_auto) - 1\n",
    "\n",
    "# F 분포로 확률 계산\n",
    "pval = 1 - f.cdf(stat, dfn = df1, dfd = df2) # Pr[F > stat]\n",
    "\n",
    "# 정답 출력을 위해 반올림\n",
    "a = round(var_ratio, 2)\n",
    "b = round(stat, 2)\n",
    "c = round(pval, 3)\n",
    "\n",
    "# 정답 출력\n",
    "print(a) # (a)\n",
    "print(b) # (b) 검정통계량\n",
    "print(c) # (c) p - 값\n",
    "print('기각') # 기각여부"
   ]
  },
  {
   "cell_type": "markdown",
   "id": "461efb38",
   "metadata": {},
   "source": [
    "--- "
   ]
  },
  {
   "cell_type": "markdown",
   "id": "4317464a-3fc1-48be-b772-5346d84c23c1",
   "metadata": {},
   "source": [
    "#### 3. 주어진 데이터(고객_등급리스트.csv)를 통해 고객군(Segment)과 지역(Region)간 관련이 있는지를 독립성 검정(Test of independence)을 통해 답하고자 한다. "
   ]
  },
  {
   "cell_type": "markdown",
   "id": "ea6de2b8-b6f1-4376-8a03-52063b7f0281",
   "metadata": {},
   "source": [
    "##### (a) : segment와 region의 교차표를 생성하고 chi2_contigency() 함수를 통해 가설검정을 수행한 후 E23 기대도수를 문제에서 요구하는 형태에 맞게 출력한다."
   ]
  },
  {
   "cell_type": "code",
   "execution_count": 10,
   "id": "48f4fb59-35d4-4c6c-8022-c7784fd8a171",
   "metadata": {},
   "outputs": [
    {
     "name": "stdout",
     "output_type": "stream",
     "text": [
      "15.74\n"
     ]
    }
   ],
   "source": [
    "#### 연습문제 03 Solution\n",
    "import pandas as pd\n",
    "exam3 = pd.read_csv('data/연습문제/고객_등급리스트.csv', encoding = 'cp949')\n",
    "\n",
    "# 필요한 패키지, 함수 호출\n",
    "from scipy.stats import chi2_contingency\n",
    "import numpy as np\n",
    "\n",
    "# 교차표 생성\n",
    "tb = pd.crosstab(exam3['Segment'], exam3['Region'])\n",
    "\n",
    "# 카이제곱 검정 수행\n",
    "# chi2_contingency의 결과는 카이제곱통계량, 유의확률, 자유도, 기대도수를 반환함\n",
    "chi2, pval, df, expected = chi2_contingency(tb)\n",
    "\n",
    "# (a)E23 : expected의 (1,2) 인덱스 번호 추출\n",
    "e23 = expected[1,2]\n",
    "e23 = round(e23, 2)\n",
    "print(e23)"
   ]
  },
  {
   "cell_type": "markdown",
   "id": "0414230a-64bf-4ef6-b05e-cbea869c33f3",
   "metadata": {},
   "source": [
    "##### (b) - (c) : 위의 chi2_contingency 결과를 통해 검정통계량과 p - 값을 각각 문제에서 요구하는 형태에 맞게 출력한다. p - 값이 0.148이므로 본 가설 검정은 ‘채택’한다."
   ]
  },
  {
   "cell_type": "code",
   "execution_count": 11,
   "id": "590067c4-58ce-46f3-bff8-70a4fa46ce6c",
   "metadata": {},
   "outputs": [
    {
     "name": "stdout",
     "output_type": "stream",
     "text": [
      "9\n",
      "0.148\n",
      "채택\n"
     ]
    }
   ],
   "source": [
    "# (b) 검정통계량\n",
    "chi2 = chi2.astype('int') # 정수 변환\n",
    "print(chi2)\n",
    "\n",
    "# (c) p값/기각 여부\n",
    "pval = round(pval, 3)\n",
    "print(pval)\n",
    "print('채택')"
   ]
  },
  {
   "cell_type": "markdown",
   "id": "c096e1d1-b224-4bd2-a0d0-dfbd002b71e1",
   "metadata": {},
   "source": [
    "---"
   ]
  },
  {
   "cell_type": "markdown",
   "id": "733e2a68-e415-44b5-aaa7-14fd26295a28",
   "metadata": {},
   "source": [
    "#### 4. 주어진 데이터(Cars93.csv)를 통해 가격(Price)이 정규 분포를 따르는 지를 샤피로- 윌크(Shapiro Wilk Test)를 통해 답하고자 한다. 가설은 아래와 같다.(단, 결측치는 무시할 것)"
   ]
  },
  {
   "cell_type": "markdown",
   "id": "c7f2af6c-dadc-4dd7-8289-ce91560cc02a",
   "metadata": {},
   "source": [
    "##### (a) : dropna()를 통해 결측치를 제거한 뒤, Price의 표본평균을 mean()을 사용해 계산하고 문제에서 요구하는 형태에 맞게 출력한다."
   ]
  },
  {
   "cell_type": "code",
   "execution_count": 12,
   "id": "86161073-339f-4733-94fa-87182b365299",
   "metadata": {},
   "outputs": [
    {
     "name": "stdout",
     "output_type": "stream",
     "text": [
      "19.05\n"
     ]
    }
   ],
   "source": [
    "#### 연습문제 04 Solution\n",
    "import pandas as pd\n",
    "exam4 = pd.read_csv('data/연습문제/Cars93.csv', encoding = 'cp949')\n",
    "\n",
    "# 필요한 패키지, 함수 호출\n",
    "\n",
    "from scipy.stats import shapiro\n",
    "# 필요한 컬럼 할당\n",
    "Price = exam4['Price'].copy().dropna()\n",
    "\n",
    "# (a) 표본평균\n",
    "avg = Price.mean()\n",
    "avg = round(avg, 2)\n",
    "print(avg)"
   ]
  },
  {
   "cell_type": "markdown",
   "id": "454fc084-ba08-4372-bace-0b6da38dc66c",
   "metadata": {},
   "source": [
    "##### (b) - (c) : shapiro() 함수를 통해 가설검정을 수행하고 결과에서 제공하는 검정통계량과 p - 값을 각각 문제에서 요구하는 형태에 맞게 출력한다. p - 값이 0이므로 본 가설 검정은 ‘기각’한다."
   ]
  },
  {
   "cell_type": "code",
   "execution_count": 13,
   "id": "60b0f89a-9445-4a15-83a7-45b77a15e2e0",
   "metadata": {},
   "outputs": [
    {
     "name": "stdout",
     "output_type": "stream",
     "text": [
      "0.85\n",
      "0\n",
      "기각\n"
     ]
    }
   ],
   "source": [
    "# 샤피로 윌크 검정 수행\n",
    "stat, pval = shapiro(Price)\n",
    "\n",
    "# (b) 검정통계량\n",
    "stat = round(stat, 2)\n",
    "print(stat)\n",
    "\n",
    "# (c) p값/기각 여부\n",
    "pval = round(pval, 4)\n",
    "pval = int(pval)\n",
    "print(pval)\n",
    "print('기각')"
   ]
  },
  {
   "cell_type": "markdown",
   "id": "3d4df28b-6192-480a-9880-241daaa92c3f",
   "metadata": {},
   "source": [
    "---"
   ]
  },
  {
   "cell_type": "markdown",
   "id": "b15f4539-27fa-48cd-a760-369790a6796d",
   "metadata": {},
   "source": [
    "#### 5. 주어진 데이터(Cars93.csv)를 통해 마일당엔진회전수(Rev_per_mile)과 마력(Horsepower)과의 상관관계를 알아보고 상관계수의 유의성을 피어슨 상관계수 검정(Pearson's Correlation Coefficient Test)를 통해 답하고자 한다. 가설은 아래와 같다. "
   ]
  },
  {
   "cell_type": "markdown",
   "id": "d9c1a0a6-1fe7-4f96-be9b-4305a4f24b44",
   "metadata": {},
   "source": [
    "##### (a) : pearsonr() 함수를 통해 ρˆ 를 구하고 문제에서 요구하는 형태에 맞게 출력한다."
   ]
  },
  {
   "cell_type": "code",
   "execution_count": 16,
   "id": "845a65a9-60b2-443c-ad65-bf8c88de9e27",
   "metadata": {},
   "outputs": [
    {
     "name": "stdout",
     "output_type": "stream",
     "text": [
      "-0.502\n"
     ]
    }
   ],
   "source": [
    "#### 연습문제 05 Solution\n",
    "import pandas as pd\n",
    "import numpy as np\n",
    "exam5 = pd.read_csv('data/연습문제/Cars93.csv')\n",
    "\n",
    "# 상관분석에 필요한 컬럼명 저장\n",
    "Horsepower = exam5['Horsepower']\n",
    "RPM = exam5['Rev_per_mile']\n",
    "\n",
    "# 필요한 패키지, 함수 호출\n",
    "from scipy.stats import pearsonr\n",
    "\n",
    "# 상관계수 검정 수행\n",
    "rho, pval = pearsonr(Horsepower, RPM)\n",
    "\n",
    "# (a) 표본상관계수\n",
    "rho = round(rho, 3)\n",
    "print(rho)"
   ]
  },
  {
   "cell_type": "markdown",
   "id": "c9579b30-3b40-4ba8-b12c-498996bae52f",
   "metadata": {},
   "source": [
    "##### (b) - (c) : pearsonr() 함수를 통해 구한 ρˆ 를 이용해 검정통계량을 구하고, p - 값을 각 문제에서 요구하는 형태에 맞게 출력한다. p - 값이 0이므로 본 가설 검정은 ‘기각’한다."
   ]
  },
  {
   "cell_type": "code",
   "execution_count": 17,
   "id": "6f604346-eadb-4784-afdd-ab4c289fdee6",
   "metadata": {},
   "outputs": [
    {
     "name": "stdout",
     "output_type": "stream",
     "text": [
      "-5.54\n",
      "0\n",
      "기각\n"
     ]
    }
   ],
   "source": [
    "# (b) 검정통계량\n",
    "stat = rho/np.sqrt( (1-rho**2)/(len(Horsepower) - 2) )\n",
    "stat = round(stat, 2)\n",
    "print(stat)\n",
    "\n",
    "# (c) p값/기각 여부\n",
    "pval = int(pval)\n",
    "print(pval)\n",
    "print('기각')"
   ]
  },
  {
   "cell_type": "markdown",
   "id": "216cf062-4a9e-4b10-b8f5-940bb06dc9e9",
   "metadata": {},
   "source": [
    "---"
   ]
  },
  {
   "cell_type": "markdown",
   "id": "23388c42-0098-4cdd-9d6f-fcf4c4ac8e23",
   "metadata": {},
   "source": [
    "#### 6. 제공된 데이터(USArrests.csv)는 미국 50개 주의 범죄와 체포와 관련된 데이터이다. 차원 축소를 주성분 분석을 통해 수행하고자 한다."
   ]
  },
  {
   "cell_type": "markdown",
   "id": "faf91d25-850a-4636-8d3b-4533a9221f93",
   "metadata": {},
   "source": [
    "##### (a) : PCA() 클래스로 주성분 객체 생성 후 메소드 fit_transform를 통해 데이터를 적합한 후 주성분분석을 수행한다. 이후 적합된 주성분객체로 부터 components_.[]를 이용해 첫번째 주성분에서 폭력범죄가 기여하는 가중치를 문제에서 요구하는 형태에 맞게 출력한다."
   ]
  },
  {
   "cell_type": "code",
   "execution_count": 19,
   "id": "958e5ebc-2fc6-4b8d-a7dc-16eae2f2888a",
   "metadata": {},
   "outputs": [
    {
     "name": "stdout",
     "output_type": "stream",
     "text": [
      "0.995\n"
     ]
    }
   ],
   "source": [
    "#### 연습문제 06 Solution\n",
    "import pandas as pd\n",
    "exam6 = pd.read_csv('data/연습문제/USArrests.csv')\n",
    "\n",
    "# 필요한 패키지, 클래스 호출\n",
    "from sklearn.decomposition import PCA\n",
    "\n",
    "# PCA 수행\n",
    "pca = PCA(n_components = 4) # 주성분객체 생성\n",
    "pca.fit_transform(exam6)\n",
    "\n",
    "# (a) 첫번째 주성분의 폭력범죄 기여 가중치\n",
    "# pca.components_.T에서 행은 기존 컬럼(Merder, Assault, UrbanPop, Rape)\n",
    "# 열은 1~4 주성분임\n",
    "weight = pca.components_.T[1, 0]\n",
    "weight = round(weight, 3)\n",
    "print(weight)"
   ]
  },
  {
   "cell_type": "markdown",
   "id": "b15ac753-af32-4a29-9532-56e519554a48",
   "metadata": {},
   "source": [
    "##### (b) - (c) : 주성분점수는 적합시에만 출력이 가능해 다시 fit_transform()로 재적합한 후 34번째 도시의 1주성분의 주성분 점수를 구하고, 적합된 객체로부터 explained_variance_ratio_를 통해 누적기여율을 구하고 각 문제에서 요구하는 형태에 맞게 출력한다."
   ]
  },
  {
   "cell_type": "code",
   "execution_count": 23,
   "id": "f8c2e53b-e71c-4105-85ca-cc35a66bb9d1",
   "metadata": {},
   "outputs": [
    {
     "name": "stdout",
     "output_type": "stream",
     "text": [
      "-127.496\n",
      "0.97\n",
      "3\n"
     ]
    }
   ],
   "source": [
    "# (b) 34번째 도시의 1주성분의 주성분 점수\n",
    "score = pca.fit_transform(exam6)[33,0]\n",
    "score = round(score, 3)\n",
    "print(score)\n",
    "\n",
    "# (c)\n",
    "# 주성분별 설명되는 분산 비율을 시리즈 객체로 저장\n",
    "var_ratio = pd.Series(pca.explained_variance_ratio_)\n",
    "result = round(var_ratio[0], 2)\n",
    "print(result)\n",
    "print(3)"
   ]
  },
  {
   "cell_type": "markdown",
   "id": "f01452f8-7bf2-4650-bc72-d8d916a18374",
   "metadata": {},
   "source": [
    "---"
   ]
  },
  {
   "cell_type": "markdown",
   "id": "a5291b26-ed1d-4b4a-bd79-5952168d9b1e",
   "metadata": {},
   "source": [
    "#### 7. 주어진 데이터(Cars93.csv)를 통해 마일당엔진회전수(Rev_per_mile), 중량(Weight), 길이(Length), 엔진크기(EngineSize)를 입력하면 중간가격(Price)을 예측하는 다중 선형 회귀 분석을 하고자 한다.(단, 해당 컬럼들의 결측치는 제거함)"
   ]
  },
  {
   "cell_type": "markdown",
   "id": "e4e264f2-c6ae-46e6-ac6c-a8463549f77d",
   "metadata": {},
   "source": [
    "##### (a) : 주어진 컬럼들의 결측치를 제거하고, OLS 클래스로 OLS 객체를 생성한 후 fit을 통해 모델을 적합 후 적합된 모형으로부터 summary를 통해 결과를 확인하고 출력되는 결과에서 결정계수를 찾아 문제에서 요구한 형태에 맞게 출력한다."
   ]
  },
  {
   "cell_type": "code",
   "execution_count": 25,
   "id": "b41e0030-f460-4f7f-aca5-3318e44cbaec",
   "metadata": {},
   "outputs": [
    {
     "name": "stdout",
     "output_type": "stream",
     "text": [
      "0.396\n"
     ]
    }
   ],
   "source": [
    "#### 연습문제 07 Solution\n",
    "import pandas as pd\n",
    "exam7 = pd.read_csv('data/연습문제/Cars93.csv')\n",
    "\n",
    "# 필요한 패키지, 클래스 호출\n",
    "import statsmodels.api as sm\n",
    "\n",
    "# 회귀 분석에 필요한컬럼 별도 지정\n",
    "colnm = ['Price', 'Rev_per_mile', 'Weight','Length', 'EngineSize'] \n",
    "samp = exam7[colnm].dropna() # 결측치 제거\n",
    "\n",
    "#회귀분석 수행\n",
    "# y, X에 각각 할당\n",
    "y = samp['Price']\n",
    "X = samp[['Rev_per_mile', 'Weight','Length', 'EngineSize']]\n",
    "X = sm.add_constant(X) # 절편항 적합을 위해 상수벡터 추가\n",
    "\n",
    "# 모델 적합\n",
    "model = sm.OLS(y,X) # OLS 객체 생성\n",
    "result = model.fit() # fit 메소드를 통해 모형 적합\n",
    "\n",
    "# (참고)\n",
    "# result.params # 회귀 계수만 추출\n",
    "# result.tvalues # t통계량만 추출\n",
    "result.summary() # 해당 코드를 통해 회귀분석 통합 결과를 확인하고 값을 입력하면 됨\n",
    "# 결과 출력\n",
    "# (a) 결정계수\n",
    "r_square = 0.396\n",
    "print(r_square)"
   ]
  },
  {
   "cell_type": "markdown",
   "id": "34b97a2b-7c51-4965-ae6c-d8ae7f2ec69b",
   "metadata": {},
   "source": [
    "##### (b) - (d) : summary()의 출력 내용에서 Weight의 추정 회귀계수와, Weight의 P > |t|, Weight의 회귀 계수에 대한 95%의 신뢰구간을 각각 문제에서 요구하는 형태에 맞게 출력한다."
   ]
  },
  {
   "cell_type": "code",
   "execution_count": 26,
   "id": "5755ffe1-10f4-4a75-8711-f27216cdf621",
   "metadata": {},
   "outputs": [
    {
     "name": "stdout",
     "output_type": "stream",
     "text": [
      "0.0023\n",
      "0.158\n",
      "0.0054\n"
     ]
    }
   ],
   "source": [
    "# (b) 문제의 의도는\n",
    "# Weight의 추정 회귀 계수를 출력하는 것이다.\n",
    "b = 0.0023\n",
    "print(b)\n",
    "\n",
    "# (c) 문제의 의도는\n",
    "# Weight의 P > |t|을 통해 회귀 계수를 검정하는 것이다.\n",
    "pval = 0.158\n",
    "print(pval)\n",
    "\n",
    "# (d) 문제의 의도는\n",
    "# Weight의 회귀 계수에 대한 95% 신뢰구간을 구하는 것이다. 아래의 함수 결과를 통해 상한 값을 입력하면 됨\n",
    "# result.conf_int(alpha = 0.05, cols = None)\n",
    "upper = 0.005406\n",
    "upper = round(upper,4)\n",
    "print(upper)"
   ]
  },
  {
   "cell_type": "markdown",
   "id": "d0bffb21-a73e-4471-ae93-6d6fb029baf3",
   "metadata": {},
   "source": [
    "---"
   ]
  },
  {
   "cell_type": "markdown",
   "id": "536f51bd-2cbd-46d4-878c-867953a0f151",
   "metadata": {
    "tags": []
   },
   "source": [
    "#### 8. 제공된 데이터(job.csv)는 취업 현황 분석을 위해 사용된 데이터의 일부이다. 여러 특성(x1, x2, x3)를 통해 취업 성공(y) 여부를 예측하는 로지스틱 회귀 분석을 하고자 한다. x2 컬럼은 성별에 대한 정보로, 모형 적합시 남성(M)을 1로, 여성(F)로 인코딩하여 분석하되, 별도의 규제화는 진행하지 않음)"
   ]
  },
  {
   "cell_type": "markdown",
   "id": "21abe18a-54c9-4380-9dd5-d889aad5db8d",
   "metadata": {},
   "source": [
    "##### (a) : x2 컬럼을 인코딩한 후 GLM 객체를 생성하고 모형을 적합한다. 이 후, summary를 통해 결과를 출력하고 해당 결과로부터 절편항 추정 회귀 계수를 찾아 문제에서 요구하는 형태에 맞게 출력한다."
   ]
  },
  {
   "cell_type": "code",
   "execution_count": 27,
   "id": "d4a72b2f-ab1e-4ebc-a2a7-918e9cb36d83",
   "metadata": {},
   "outputs": [
    {
     "name": "stdout",
     "output_type": "stream",
     "text": [
      "-0.808\n"
     ]
    }
   ],
   "source": [
    "#### 연습문제 08 Solution\n",
    "import pandas as pd\n",
    "exam8 = pd.read_csv('data/연습문제/job.csv')\n",
    "\n",
    "# 필요한 패키지, 클래스 호출\n",
    "import statsmodels.api as sm\n",
    "import numpy as np\n",
    "\n",
    "# x2 컬럼 : M -> 1, F -> 0\n",
    "exam8['x2'] = exam8['x2'].map({'M' : 1, 'F' : 0})\n",
    "\n",
    "# y, X에 각각 할당\n",
    "y = exam8['y']\n",
    "X = exam8[['x1', 'x2', 'x3']]\n",
    "X = sm.add_constant(X) # 절편항 적합을 위해 상수벡터 추가\n",
    "\n",
    "# 모델 적합\n",
    "model = sm.GLM(y, X, family = sm.families.Binomial())\n",
    "result = model.fit()\n",
    "\n",
    "# 결과 출력\n",
    "# (a) 절편항 추정 회귀 계수\n",
    "b0 = -0.808 # result.summary() 로 확인 가능\n",
    "print(b0)"
   ]
  },
  {
   "cell_type": "markdown",
   "id": "9f7cc9a8-7c4b-41b6-8928-c120aea2550a",
   "metadata": {},
   "source": [
    "##### (b) - (c) : np.exp() 함수를 통해 여성에 비해 남성의 성공에 대한 오즈가 몇배 감소하는지(남성의 성공 오즈/여성의 성공 오즈)를 구하고, 적합된 로지스틱모형 객체로부터 predict_proba()를 통해 9번째 사람의 성공 예측확률을 인덱싱하여 문제에서 요구하는 형태에 맞게 출력한다."
   ]
  },
  {
   "cell_type": "code",
   "execution_count": 28,
   "id": "06957f6d-0704-4b45-bbf9-0bf77240dd2a",
   "metadata": {},
   "outputs": [
    {
     "name": "stdout",
     "output_type": "stream",
     "text": [
      "0.854\n",
      "0.5344\n",
      "0\n"
     ]
    }
   ],
   "source": [
    "# (b) 여성에 비해 남성의 성공에 대한 오즈가 몇 배인지를 구하려면\n",
    "# 오즈비 = 남성의 성공 오즈/여성의 성공 오즈\n",
    "# = x2 컬럼이 성별이므로 exp(beta2)를 구하면 됨\n",
    "odds_ratio = round(np.exp(-0.1575), 3) # result.summary() 로 확인 가능\n",
    "print(odds_ratio)\n",
    "\n",
    "# (c) 9번 째 사람의 성공 예측 확률\n",
    "y_prob = round(result.predict(X)[8], 4)\n",
    "print(y_prob)\n",
    "print(0)"
   ]
  },
  {
   "cell_type": "markdown",
   "id": "12e97932-8277-4e1f-8784-e1c0d2a28daa",
   "metadata": {},
   "source": [
    "---"
   ]
  },
  {
   "cell_type": "markdown",
   "id": "893249dd-f306-4e6e-9edd-68dc96f012be",
   "metadata": {},
   "source": [
    "#### 9. 주어진 데이터(영화_순위리스트.csv)를 통해 장르별 예산의 평균에 차이가 있는 지를 분산분석(ANOVA)를 수행하기 전 등분산 검정(Homogeneity of Variance)인 Bartlett's Test을 수행고자 한다. 가설은 아래와 같다."
   ]
  },
  {
   "cell_type": "markdown",
   "id": "592ae2a7-d6ce-45e4-a176-0cbfc0815b54",
   "metadata": {},
   "source": [
    "##### (a) : 장르별 예산 값을 할당하고, 집단별 표본 분산과 관측치 수를 구한 후 log(합동분산)을 문제에서 요구하는 형태에 맞게 출력한다."
   ]
  },
  {
   "cell_type": "code",
   "execution_count": 30,
   "id": "c266d29e-a75d-4987-8879-04391f98191d",
   "metadata": {},
   "outputs": [
    {
     "name": "stdout",
     "output_type": "stream",
     "text": [
      "16.542\n"
     ]
    }
   ],
   "source": [
    "#### 연습문제 09 Solution\n",
    "import pandas as pd\n",
    "exam9 = pd.read_csv('data/연습문제/영화_순위리스트.csv', encoding = 'cp949')\n",
    "\n",
    "# 필요한 패키지, 함수 호출\n",
    "from scipy.stats import bartlett\n",
    "import numpy as np\n",
    "\n",
    "# 필요한 컬럼 각각 할당\n",
    "genre = exam9['장르']\n",
    "budget = exam9['예산']\n",
    "\n",
    "# 장르별 예산 값 할당\n",
    "budget_thriller = budget[genre == 'Thriller']\n",
    "budget_comedy = budget[genre == 'Comedy']\n",
    "budget_drama = budget[genre == 'Drama']\n",
    "budget_action = budget[genre == 'Action']\n",
    "\n",
    "## (a) 합동분산(pooled variancer)\n",
    "# 집단별 표본 분산\n",
    "var_i = [budget_thriller.var(), budget_comedy.var(), budget_drama.var(), budget_action.var()]\n",
    "\n",
    "# 집단별 관측치 수\n",
    "n_i = [len(budget_thriller), len(budget_comedy), len(budget_drama), len(budget_action)]\n",
    "\n",
    "# log(합동분산) 계산\n",
    "N = sum(n_i)\n",
    "k = 4 # 집단의 수\n",
    "log_sp2 = np.log(sum(np.subtract(n_i, 1) * var_i)/(N-k))\n",
    "log_sp2 = round(log_sp2, 3)\n",
    "print(log_sp2)"
   ]
  },
  {
   "cell_type": "markdown",
   "id": "93fa40f7-c404-405a-a508-d7bc6d62056d",
   "metadata": {},
   "source": [
    "##### (b) - (c) : bartlett 함수를 통해 Bartlett 검정을 수행하고, 검정통계량과 p - 값을 각 문제에서 요구한 형태에 맞게 출력한다. p - 값이 0이므로 본 가설 검정은 ‘기각’한다."
   ]
  },
  {
   "cell_type": "code",
   "execution_count": 31,
   "id": "8985f667-eb60-465a-94b0-daa1b842cd38",
   "metadata": {},
   "outputs": [
    {
     "name": "stdout",
     "output_type": "stream",
     "text": [
      "13.44\n",
      "0.0038\n",
      "기각\n"
     ]
    }
   ],
   "source": [
    "## (b)-(c)\n",
    "# Bartlett Test 수행\n",
    "stat, pval = bartlett(budget_thriller, budget_comedy, budget_drama, budget_action)\n",
    "\n",
    "# (b) 검정통계량\n",
    "stat = round(stat, 2)\n",
    "print(stat)\n",
    "\n",
    "# (c) p-값/기각여부\n",
    "pval = round(pval, 4)\n",
    "print(pval)\n",
    "print('기각')"
   ]
  },
  {
   "cell_type": "markdown",
   "id": "0a71f092",
   "metadata": {},
   "source": [
    "# (끝)"
   ]
  }
 ],
 "metadata": {
  "hide_input": false,
  "kernelspec": {
   "display_name": "Python 3.7.13 ('sql_ana')",
   "language": "python",
   "name": "python3"
  },
  "language_info": {
   "codemirror_mode": {
    "name": "ipython",
    "version": 3
   },
   "file_extension": ".py",
   "mimetype": "text/x-python",
   "name": "python",
   "nbconvert_exporter": "python",
   "pygments_lexer": "ipython3",
   "version": "3.7.13"
  },
  "toc": {
   "base_numbering": 1,
   "nav_menu": {},
   "number_sections": false,
   "sideBar": true,
   "skip_h1_title": false,
   "title_cell": "Table of Contents",
   "title_sidebar": "Contents",
   "toc_cell": false,
   "toc_position": {},
   "toc_section_display": true,
   "toc_window_display": false
  },
  "varInspector": {
   "cols": {
    "lenName": 16,
    "lenType": 16,
    "lenVar": 40
   },
   "kernels_config": {
    "python": {
     "delete_cmd_postfix": "",
     "delete_cmd_prefix": "del ",
     "library": "var_list.py",
     "varRefreshCmd": "print(var_dic_list())"
    },
    "r": {
     "delete_cmd_postfix": ") ",
     "delete_cmd_prefix": "rm(",
     "library": "var_list.r",
     "varRefreshCmd": "cat(var_dic_list()) "
    }
   },
   "types_to_exclude": [
    "module",
    "function",
    "builtin_function_or_method",
    "instance",
    "_Feature"
   ],
   "window_display": false
  },
  "vscode": {
   "interpreter": {
    "hash": "4b9c2565d0063a8e86d675854bb3daca5bd7f8ee7e25f30d3cbb564393f00e18"
   }
  }
 },
 "nbformat": 4,
 "nbformat_minor": 5
}
