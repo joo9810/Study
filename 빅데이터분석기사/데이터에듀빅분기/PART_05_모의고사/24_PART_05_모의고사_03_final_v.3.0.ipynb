{
 "cells": [
  {
   "cell_type": "markdown",
   "id": "4e1be88e",
   "metadata": {},
   "source": [
    "## 모의고사 3회"
   ]
  },
  {
   "cell_type": "markdown",
   "id": "e7e22c41",
   "metadata": {},
   "source": [
    "### (작업형1) "
   ]
  },
  {
   "cell_type": "markdown",
   "id": "8e175d52",
   "metadata": {},
   "source": [
    "#### 1. 제공된 데이터(economics.csv)는 미국의 경제와 관련된 데이터의 일부이다. 데이터 수집 연도별 실업자수의 월평균이 가장 큰 연도의 실업자수의 분산 출력하여라.(단, 출력시 단위를 만명 단위로 변환하고 반올림하여 둘째 자리까지 출력할 것)"
   ]
  },
  {
   "cell_type": "code",
   "execution_count": 2,
   "id": "e81ced46",
   "metadata": {},
   "outputs": [
    {
     "name": "stdout",
     "output_type": "stream",
     "text": [
      "1111.35\n"
     ]
    }
   ],
   "source": [
    "#### 모의고사 03회 작업형1 문제01 Solution\n",
    "import pandas as pd\n",
    "exam1 = pd.read_csv('data/모의고사/03회/economics.csv', encoding = 'cp949')\n",
    "\n",
    "##### 데이터 수집 연도별 실업자수의 월평균 계산\n",
    "# 사이 공백들 처리 후 문자열 처리로 연도를 추출\n",
    "exam1['데이터수집월'] = exam1['데이터수집월'].str.replace(' ','')\n",
    "exam1['연도'] = exam1['데이터수집월'].str[:4]\n",
    "\n",
    "##### 연도별 실업자수의 월평균 계산\n",
    "월평균 = exam1.groupby('연도').mean()['실업자수_천명']\n",
    "\n",
    "##### 월 평균이 가장 큰 연도 찾은 후 해당연도의 분산을 계산\n",
    "max_year = 월평균.argmax()\n",
    "result = exam1.groupby('연도').var()['실업자수_천명'][max_year]\n",
    "\n",
    "##### 결과 출력\n",
    "result = round(result/10**2, 2)\n",
    "print(result)"
   ]
  },
  {
   "cell_type": "markdown",
   "id": "461efb38",
   "metadata": {},
   "source": [
    "--- "
   ]
  },
  {
   "cell_type": "markdown",
   "id": "1375c428",
   "metadata": {},
   "source": [
    "#### 2. 제공된 데이터(Airline.csv)는 US 항공사 승객 만족도 조사 데이터의 일부이다. 연령대(Ages)별로 출발 시 지연된 시간(Departure_Delay_in_Minutes)의 평균을 구하고 평균 시간이 가장 긴 연령대의 로얄등급(Customer_Type가 L인 경우)의 인원 수를 계산하여라.(단, 결과 출력시 정수로 출력할 것)"
   ]
  },
  {
   "cell_type": "code",
   "execution_count": 6,
   "id": "77b42abe",
   "metadata": {},
   "outputs": [
    {
     "name": "stdout",
     "output_type": "stream",
     "text": [
      "1101\n"
     ]
    }
   ],
   "source": [
    "#### 모의고사 03회 작업형1 문제02 Solution\n",
    "import pandas as pd\n",
    "exam2 = pd.read_csv('data/모의고사/03회/Airline.csv', encoding = 'cp949')\n",
    "\n",
    "##### 연령대 범주가 다른 것들 통일\n",
    "Ages = exam2['Ages'].copy()\n",
    "Ages[exam2['Ages'] == \"[10, 20)\"] = \"10_19\"\n",
    "Ages[exam2['Ages'] == \"[20, 30)\"] = \"20_29\"\n",
    "Ages[exam2['Ages'] == \"[40, 50)\"] = \"40_49\"\n",
    "Ages[exam2['Ages'] == \"[50, 60)\"] = \"50_59\"\n",
    "exam2['Ages'] = Ages\n",
    "\n",
    "##### 연령대별로 출발 시 지연된 시간 평균 계산\n",
    "평균지연시간 = exam2.groupby('Ages').mean()['Departure_Delay_in_Minutes']\n",
    "\n",
    "##### 평균 시간이 긴 연령대의 로얄 등급의 인원 수\n",
    "# 평균 시간이 긴 연령대 데이터만 추출\n",
    "max_ages = 평균지연시간.idxmax() # 평균 시간이 긴 연령대\n",
    "exam2_max_ages = exam2[exam2['Ages'] == max_ages].copy()\n",
    "\n",
    "# 위에서 로얄 등급만 추출(Customer_Type이 L인 경우)하고 레코드 수 계산\n",
    "result = exam2_max_ages[exam2_max_ages['Customer_Type'] == 'L'].shape[0]\n",
    "\n",
    "##### 결과 출력\n",
    "print(result)"
   ]
  },
  {
   "cell_type": "markdown",
   "id": "ee619b6b",
   "metadata": {},
   "source": [
    "--- "
   ]
  },
  {
   "cell_type": "markdown",
   "id": "1500ff9f",
   "metadata": {},
   "source": [
    "#### 3. 제공된 데이터(spb_daily.csv)는 서울시에서 제공하는 일일 자전거 대여 현황 공공 데이터의 일부이다. 시간대별 평균 이용시간이 가장 큰 시간대의 대여지점별 누적 이용거리가 가장 큰 대여지점의 번호를 출력하시오.(단, 대여지점은 대여소 번호가 400번대인 경우에 대해서만 계산하여 정수로 출력할 것)"
   ]
  },
  {
   "cell_type": "code",
   "execution_count": 12,
   "id": "67abb715",
   "metadata": {},
   "outputs": [
    {
     "name": "stdout",
     "output_type": "stream",
     "text": [
      "427\n"
     ]
    }
   ],
   "source": [
    "#### 모의고사 03회 작업형1 문제03 Solution\n",
    "import pandas as pd\n",
    "exam3 = pd.read_csv('data/모의고사/03회/spb_daily.csv',encoding = 'cp949')\n",
    "\n",
    "##### 대여일시 컬럼 시간대형으로 변경\n",
    "exam3['대여일시'] = pd.to_datetime(exam3['대여일시'])\n",
    "\n",
    "#### 평균 이용시간이 가장 큰 대여 시간대\n",
    "exam3['rent_hour'] = exam3['대여일시'].dt.hour\n",
    "시간대별평균이용시간 = exam3.groupby('rent_hour').mean()['이용시간']\n",
    "max_hour = 시간대별평균이용시간.idxmax()\n",
    "exam3_11 = exam3[exam3['rent_hour'] == max_hour].copy()\n",
    "\n",
    "##### 400번대의 대여소번호를 가지는 대여지점의 데이터셋 추출한 후 지점별 누적 이용거리 계산\n",
    "exam3_11['대여소번호'] = exam3_11['대여소번호'].str.replace(' ','')\n",
    "exam3_400s = exam3_11[exam3_11['대여소번호'].str[0] == '4'].copy()\n",
    "지점별누적이용거리 = exam3_400s.groupby('대여소번호').cumsum()['이용거리']\n",
    "\n",
    "##### 대여지점별 누적 이용거리가 가장 큰 대여지점의 번호\n",
    "result = exam3_400s['대여소번호'][지점별누적이용거리.idxmax()]\n",
    "\n",
    "##### 결과 출력\n",
    "result = int(result)\n",
    "print(result)"
   ]
  },
  {
   "cell_type": "markdown",
   "id": "bcf61461",
   "metadata": {},
   "source": [
    "---"
   ]
  },
  {
   "cell_type": "markdown",
   "id": "e4774c95",
   "metadata": {},
   "source": [
    "### (작업형2) "
   ]
  },
  {
   "cell_type": "markdown",
   "id": "e52e2b73",
   "metadata": {},
   "source": [
    "### 1. 아래는 미국의 의료 비용과 관련된 데이터의 일부이다. 주어진 데이터를 이용하여 예측 모형을 만들고 아래에 따라 CSV 파일을 생성하시오."
   ]
  },
  {
   "cell_type": "code",
   "execution_count": 5,
   "id": "9f1ce50a-93b9-428d-8315-b9da94286bc2",
   "metadata": {},
   "outputs": [],
   "source": [
    "#### 모의고사 03회 작업형2 문제01 Solution\n",
    "##### STEP1. 데이터셋 불러오기\n",
    "import pandas as pd\n",
    "train = pd.read_csv('data/모의고사/03회/train_insurance.csv')\n",
    "test = pd.read_csv('data/모의고사/03회/test_insurance.csv')\n",
    "\n",
    "# train 데이터를 X_train과 y_train으로 분할\n",
    "y_train = train['charges']\n",
    "X_train = train.drop('charges', axis = 1)\n",
    "\n",
    "# test도 통일을 위해 X_test로 할당\n",
    "X_test = test"
   ]
  },
  {
   "cell_type": "code",
   "execution_count": 6,
   "id": "ad5b2cb5-1531-47e3-9d8f-d387aa64957e",
   "metadata": {},
   "outputs": [
    {
     "name": "stdout",
     "output_type": "stream",
     "text": [
      "   age     sex     bmi  children smoker     region\n",
      "0  10S  female  27.900         0    yes  southwest\n",
      "1  10S    male  33.770         1     no  southeast\n",
      "2  20S    male  33.000         3     no  southeast\n",
      "3  30S    male  22.705         0     no  northwest\n",
      "4  30S    male  28.880         0     no  northwest\n",
      "   age     sex    bmi  children smoker     region\n",
      "0  20S  female  39.49         0     no  southeast\n",
      "1  30S    male  33.82         1     no  northwest\n",
      "2  20S    male  32.01         0     no  southeast\n",
      "3  50S    male  27.94         1     no  southeast\n",
      "4  50S    male  41.14         1    yes  southeast\n",
      "0    16884.92400\n",
      "1     1725.55230\n",
      "2     4449.46200\n",
      "3    21984.47061\n",
      "4     3866.85520\n",
      "Name: charges, dtype: float64\n"
     ]
    }
   ],
   "source": [
    "##### STEP2. 데이터셋 확인하기\n",
    "###### STEP2-1. 데이터셋 일부 확인\n",
    "print(X_train.head())\n",
    "print(X_test.head())\n",
    "print(y_train.head())"
   ]
  },
  {
   "cell_type": "code",
   "execution_count": 7,
   "id": "8e3e9d0e-1657-4519-badb-e6fc21de2d02",
   "metadata": {},
   "outputs": [
    {
     "name": "stdout",
     "output_type": "stream",
     "text": [
      "<class 'pandas.core.frame.DataFrame'>\n",
      "RangeIndex: 1058 entries, 0 to 1057\n",
      "Data columns (total 6 columns):\n",
      " #   Column    Non-Null Count  Dtype  \n",
      "---  ------    --------------  -----  \n",
      " 0   age       1058 non-null   object \n",
      " 1   sex       1058 non-null   object \n",
      " 2   bmi       1058 non-null   float64\n",
      " 3   children  1058 non-null   int64  \n",
      " 4   smoker    1058 non-null   object \n",
      " 5   region    1058 non-null   object \n",
      "dtypes: float64(1), int64(1), object(4)\n",
      "memory usage: 49.7+ KB\n",
      "None\n",
      "<class 'pandas.core.frame.DataFrame'>\n",
      "RangeIndex: 280 entries, 0 to 279\n",
      "Data columns (total 6 columns):\n",
      " #   Column    Non-Null Count  Dtype  \n",
      "---  ------    --------------  -----  \n",
      " 0   age       280 non-null    object \n",
      " 1   sex       280 non-null    object \n",
      " 2   bmi       280 non-null    float64\n",
      " 3   children  280 non-null    int64  \n",
      " 4   smoker    280 non-null    object \n",
      " 5   region    280 non-null    object \n",
      "dtypes: float64(1), int64(1), object(4)\n",
      "memory usage: 13.2+ KB\n",
      "None\n",
      "<class 'pandas.core.series.Series'>\n",
      "RangeIndex: 1058 entries, 0 to 1057\n",
      "Series name: charges\n",
      "Non-Null Count  Dtype  \n",
      "--------------  -----  \n",
      "1058 non-null   float64\n",
      "dtypes: float64(1)\n",
      "memory usage: 8.4 KB\n",
      "None\n"
     ]
    }
   ],
   "source": [
    "###### STEP2-2. 데이터셋 요약 정보 확인\n",
    "print(X_train.info())\n",
    "print(X_test.info())\n",
    "print(y_train.info())"
   ]
  },
  {
   "cell_type": "code",
   "execution_count": 8,
   "id": "9430195b-503f-42e0-abd5-8a8f4dce6140",
   "metadata": {},
   "outputs": [
    {
     "name": "stdout",
     "output_type": "stream",
     "text": [
      "               bmi     children\n",
      "count  1058.000000  1058.000000\n",
      "mean     30.765917     1.073724\n",
      "std       6.077672     1.192157\n",
      "min      15.960000     0.000000\n",
      "25%      26.410000     0.000000\n",
      "50%      30.495000     1.000000\n",
      "75%      34.868750     2.000000\n",
      "max      52.580000     5.000000\n",
      "              bmi    children\n",
      "count  280.000000  280.000000\n",
      "mean    30.276018    1.175000\n",
      "std      6.170661    1.253561\n",
      "min     16.815000    0.000000\n",
      "25%     25.800000    0.000000\n",
      "50%     30.115000    1.000000\n",
      "75%     33.843750    2.000000\n",
      "max     53.130000    5.000000\n",
      "count     1058.000000\n",
      "mean     13242.294899\n",
      "std      12030.616700\n",
      "min       1121.873900\n",
      "25%       4740.287150\n",
      "50%       9388.753650\n",
      "75%      16639.912515\n",
      "max      63770.428010\n",
      "Name: charges, dtype: float64\n"
     ]
    }
   ],
   "source": [
    "###### STEP2-3. 기초통계량 확인\n",
    "print(X_train.describe())\n",
    "print(X_test.describe())\n",
    "print(y_train.describe())"
   ]
  },
  {
   "cell_type": "code",
   "execution_count": 9,
   "id": "3bc97699-9793-416f-9f25-9a7b86df9ac5",
   "metadata": {},
   "outputs": [
    {
     "data": {
      "text/plain": [
       "age         0\n",
       "sex         0\n",
       "bmi         0\n",
       "children    0\n",
       "smoker      0\n",
       "region      0\n",
       "dtype: int64"
      ]
     },
     "execution_count": 9,
     "metadata": {},
     "output_type": "execute_result"
    }
   ],
   "source": [
    "##### STEP3. 데이터셋 전처리\n",
    "###### STEP3-1. 불필요한 컬럼 삭제\n",
    "# 불필요한 컬럼 없음\n",
    "\n",
    "###### STEP3-2. 결측치 처리\n",
    "# 결측치 확인\n",
    "X_train.isna().sum()\n",
    "X_test.isna().sum()"
   ]
  },
  {
   "cell_type": "code",
   "execution_count": 10,
   "id": "7019fe34-e8ee-48e6-91bf-c33fed4f687d",
   "metadata": {},
   "outputs": [
    {
     "name": "stdout",
     "output_type": "stream",
     "text": [
      "(952, 6)\n",
      "(106, 6)\n",
      "(952,)\n",
      "(106,)\n"
     ]
    }
   ],
   "source": [
    "###### STEP3-5. 데이터 분할\n",
    "from sklearn.model_selection import train_test_split\n",
    "\n",
    "# X_train과 y_train을 학습용(X_TRAIN, y_TRAIN)과 검증용(X_VAL, y_VAL)로 분할\n",
    "X_TRAIN, X_VAL, y_TRAIN, y_VAL = train_test_split(X_train, y_train, random_state = 1234, test_size = 0.1)\n",
    "\n",
    "# 분할 후 shape 확인\n",
    "print(X_TRAIN.shape)\n",
    "print(X_VAL.shape)\n",
    "print(y_TRAIN.shape)\n",
    "print(y_VAL.shape)"
   ]
  },
  {
   "cell_type": "code",
   "execution_count": 11,
   "id": "4fab6b81-32a3-4005-9c80-2a36ef438429",
   "metadata": {},
   "outputs": [],
   "source": [
    "###### STEP3-6. 인코딩\n",
    "# 카테고리형 컬럼에 대하여 라벨 인코딩 수행\n",
    "from sklearn.preprocessing import OneHotEncoder\n",
    "\n",
    "# 인코딩할 카테고리형 컬럼만 별도 저장\n",
    "X_TRAIN_category = X_TRAIN.select_dtypes('object').copy()\n",
    "X_VAL_category = X_VAL.select_dtypes('object').copy()\n",
    "X_TEST_category = X_test.select_dtypes('object').copy()\n",
    "\n",
    "# 원-핫 인코딩\n",
    "enc = OneHotEncoder(sparse = False).fit(X_TRAIN_category)\n",
    "X_TRAIN_OH = enc.transform(X_TRAIN_category)\n",
    "X_VAL_OH = enc.transform(X_VAL_category)\n",
    "X_TEST_OH = enc.transform(X_TEST_category)"
   ]
  },
  {
   "cell_type": "code",
   "execution_count": 12,
   "id": "77b48970-6dcc-423a-b598-f5ad41f69861",
   "metadata": {},
   "outputs": [],
   "source": [
    "###### STEP3-7. 스케일링\n",
    "# 별도 스케일링은 하지 않고 수치형 컬럼만 별도 저장\n",
    "X_TRAIN_conti = X_TRAIN.select_dtypes(exclude = 'object').copy()\n",
    "X_VAL_conti = X_VAL.select_dtypes(exclude = 'object').copy()\n",
    "X_TEST_conti = X_test.select_dtypes(exclude = 'object').copy()"
   ]
  },
  {
   "cell_type": "code",
   "execution_count": 13,
   "id": "de91662e-3fa5-4b81-9498-0a8f1f4bbf06",
   "metadata": {},
   "outputs": [],
   "source": [
    "###### STEP3-8. 입력 데이터셋 준비\n",
    "import numpy as np\n",
    "\n",
    "# 인코딩과 스케일링된 넘파이배열 연결\n",
    "X_TRAIN = np.concatenate([X_TRAIN_OH, X_TRAIN_conti], axis = 1)\n",
    "X_VAL = np.concatenate([X_VAL_OH, X_VAL_conti], axis = 1)\n",
    "\n",
    "# 1차원 넘파이 배열로 평탄화\n",
    "y_TRAIN = y_TRAIN.values.ravel()\n",
    "y_VAL = y_VAL.values.ravel()"
   ]
  },
  {
   "cell_type": "code",
   "execution_count": 14,
   "id": "c8f1a413-9e79-48da-a5e6-45cfad73404e",
   "metadata": {},
   "outputs": [
    {
     "name": "stderr",
     "output_type": "stream",
     "text": [
      "C:\\Users\\희주\\AppData\\Roaming\\Python\\Python39\\site-packages\\xgboost\\compat.py:31: FutureWarning: pandas.Int64Index is deprecated and will be removed from pandas in a future version. Use pandas.Index with the appropriate dtype instead.\n",
      "  from pandas import MultiIndex, Int64Index\n"
     ]
    }
   ],
   "source": [
    "##### STEP4. 모델 학습\n",
    "from sklearn.ensemble import RandomForestRegressor\n",
    "from xgboost import XGBRegressor\n",
    "from lightgbm import LGBMRegressor\n",
    "\n",
    "###### STEP4-1. random forest\n",
    "rf = RandomForestRegressor(n_estimators = 100, max_depth = 3, min_samples_leaf = 10, max_features = 15, random_state = 2023)\n",
    "model_rf = rf.fit(X_TRAIN, y_TRAIN)\n",
    "\n",
    "###### STEP4-2. XGBoost\n",
    "xgb = XGBRegressor(n_estimators = 100, nthread = 5, min_child_weight = 20, gamma = 0.5, objective = 'reg:squarederror', use_label_encoder = False,random_state = 2023)\n",
    "model_xgb = xgb.fit(X_TRAIN, y_TRAIN, eval_metric = 'rmse')"
   ]
  },
  {
   "cell_type": "code",
   "execution_count": 15,
   "id": "f98f8d83-5e61-42a4-842f-46b549d0d12c",
   "metadata": {},
   "outputs": [],
   "source": [
    "###### STEP4-3. LightGBM\n",
    "lgb = LGBMRegressor(max_depth = 8, n_estimators = 100, n_jobs = 30, min_child_weight = 10, learning_rate = 0.2, objective = 'regression', random_state = 2023)\n",
    "model_lgb = lgb.fit(X_TRAIN, y_TRAIN)"
   ]
  },
  {
   "cell_type": "code",
   "execution_count": 16,
   "id": "2e43978b-3c35-47ef-88ff-94370fef83ca",
   "metadata": {},
   "outputs": [],
   "source": [
    "###### STEP4-4. 성능평가(기준:MAPE)를 통한 모델 선정\n",
    "from sklearn.metrics import mean_absolute_percentage_error\n",
    "\n",
    "# 검증용 데이터셋을 통한 예측\n",
    "pred_rf = model_rf.predict(X_VAL)\n",
    "pred_xgb = model_xgb.predict(X_VAL)\n",
    "pred_lgb = model_lgb.predict(X_VAL)"
   ]
  },
  {
   "cell_type": "code",
   "execution_count": 17,
   "id": "0bb65a43-3c9d-4f97-968e-c96985cf005c",
   "metadata": {},
   "outputs": [
    {
     "name": "stdout",
     "output_type": "stream",
     "text": [
      "0.5168142894436256\n",
      "0.3083668115553605\n",
      "0.3091322989142446\n"
     ]
    }
   ],
   "source": [
    "# AUC 계산\n",
    "mape_rt = mean_absolute_percentage_error(y_VAL, pred_rf)\n",
    "print(mape_rt)\n",
    "\n",
    "mape_xgb = mean_absolute_percentage_error(y_VAL, pred_xgb)\n",
    "print(mape_xgb)\n",
    "\n",
    "mape_lgb = mean_absolute_percentage_error(y_VAL, pred_lgb)\n",
    "print(mape_lgb)"
   ]
  },
  {
   "cell_type": "code",
   "execution_count": 18,
   "id": "b02c8b5b-08f0-4344-8c8d-85f7a77de7d9",
   "metadata": {},
   "outputs": [],
   "source": [
    "##### STEP5. 결과 제출하기\n",
    "###### 실제 시험에서 답 제출시에는 성능이 가장 우수한 모형 하나만 구현!\n",
    "X_TEST = np.concatenate([X_TEST_OH, X_TEST_conti], axis = 1)\n",
    "y_pred = model_lgb.predict(X_TEST)\n",
    "\n",
    "# 문제에서 요구하는 형태로 변환 필요\n",
    "obj = {'pred' : y_pred}\n",
    "result = pd.DataFrame(obj)\n",
    "\n",
    "# 결과 제출하기\n",
    "result.to_csv(\"result.csv\", index = False)"
   ]
  },
  {
   "cell_type": "code",
   "execution_count": 19,
   "id": "3d8dedd5-4de3-401e-a622-db920fade5d0",
   "metadata": {},
   "outputs": [
    {
     "data": {
      "text/plain": [
       "0.31877750628644846"
      ]
     },
     "execution_count": 19,
     "metadata": {},
     "output_type": "execute_result"
    }
   ],
   "source": [
    "##### STEP6. 채점 모델 평가(번외)\n",
    "# 실제값\n",
    "actual = pd.read_csv('data/모의고사/03회/insurance_y_test.csv')\n",
    "actual = actual['test'].ravel()\n",
    "\n",
    "# 채점 기준이 될 성과지표 값\n",
    "mean_absolute_percentage_error(actual, result['pred'])"
   ]
  },
  {
   "cell_type": "markdown",
   "id": "e58c5814-68cb-4b8d-a54b-059cb8695eec",
   "metadata": {},
   "source": [
    "---\n"
   ]
  },
  {
   "cell_type": "markdown",
   "id": "2e63b10b-c545-4192-ac87-05fb10b51573",
   "metadata": {},
   "source": [
    "### (작업형3)"
   ]
  },
  {
   "cell_type": "markdown",
   "id": "6c4cb305-e9b3-4f02-a525-096e7ce703a9",
   "metadata": {},
   "source": [
    "#### 1. 제공된 데이터(satisfy.csv)는 어떤 한 만족도 조사 결과의 일부만을 가져온 것으로, 성별과 등급이 만족 여부에 영향을 주는 지 알아보기 위해 더미변수화를 통해 아래와 같이 로지스틱 회귀분석을 수행하고자 한다. 다음 물음에 답하시오."
   ]
  },
  {
   "cell_type": "markdown",
   "id": "5fd2d086-9d96-4e5d-864d-ff67a30b0b75",
   "metadata": {},
   "source": [
    "##### (a) : get_dummies() 함수를 통해 성별과 등급을 더미 변수화하고, GLM() 객체를 생성한 후 데이터를 적합한다. 이후 summary()를 통해 출력 결과를 확인하고 남성일 때의 회귀계수를 문제에서 요구하는 형태에 맞게 출력한다."
   ]
  },
  {
   "cell_type": "code",
   "execution_count": 20,
   "id": "52b86f1d-6495-4007-b7d0-eb204b980586",
   "metadata": {},
   "outputs": [
    {
     "name": "stdout",
     "output_type": "stream",
     "text": [
      "0.08\n"
     ]
    }
   ],
   "source": [
    "#### 모의고사 03회 작업형3 문제02 Solution\n",
    "import pandas as pd\n",
    "exam1 = pd.read_csv('data/모의고사/03회/satisfy.csv', encoding = 'cp949')\n",
    "\n",
    "# 필요한 패키지, 클래스 호출\n",
    "import statsmodels.api as sm\n",
    "import numpy as np\n",
    "from scipy.stats import chi2\n",
    "\n",
    "##### 로지스틱 분석 시행\n",
    "# 더미변수화\n",
    "exam1_dummies = pd.get_dummies(exam1, columns = ['성별', '등급'], drop_first = True)\n",
    "\n",
    "# y, X에 각각 할당\n",
    "y = exam1_dummies['만족']\n",
    "X = exam1_dummies[['성별_M','등급_B','등급_S']]\n",
    "X = sm.add_constant(X) # 절편항 적합을 위해 상수벡터 추가\n",
    "\n",
    "# 모델 적합\n",
    "model = sm.GLM(y, X, family = sm.families.Binomial())\n",
    "result = model.fit()\n",
    "\n",
    "# print( result.summary() )를 통해 답을 찾을 수 있다.\n",
    "# (a) 성별이 남성일 때 회귀계수를 계산하시오.(단, 반올림하여 소숫점 둘째자리까지 표현)\n",
    "answer1 = 0.08\n",
    "print(answer1)"
   ]
  },
  {
   "cell_type": "markdown",
   "id": "c81d0176-aa2a-4f6c-814c-4a23ed4f0aff",
   "metadata": {},
   "source": [
    "##### (b)-(d) : summary() 함수 결과를 참고하여 (b)-(c)를 문제에서 요구하는 형태에 맞게 출력한다. 마지막으로 영모형과 적합모형의 이탈도 차이를 계산한 후 자유도 3인 카이제곱 분포 하에서 검정하면, 유의확률은 0이므로 모형이 데이터를 잘 적합하고 있음을 알 수 있다."
   ]
  },
  {
   "cell_type": "code",
   "execution_count": 22,
   "id": "cb55afb8-c88e-4539-9152-8d0e9e439001",
   "metadata": {},
   "outputs": [
    {
     "name": "stdout",
     "output_type": "stream",
     "text": [
      "1.09\n",
      "3256\n",
      "0\n"
     ]
    }
   ],
   "source": [
    "# (b) 다른 변수가 고정되어 있을 때, 남성인 경우 여성에 비해 증가하는 몇 배 증가하는 지 계산하시오.(단, 반올림하여 소숫점 둘째자리까지 표현)\n",
    "answer2 = 1.09 # np.exp(0.0846)\n",
    "print(answer2)\n",
    "\n",
    "# (c) 적합 모형의 이탈도를 계산하시오.(단, 정수로 표현)\n",
    "answer3 = 3256\n",
    "print(answer3)\n",
    "\n",
    "# (d) (c)에 따라 해당 모형이 관측된 자료를 잘 적합하고 있는 지 판단하고, 잘 적합할 경우 1, 아닐 경우 0을 출력하시오.\n",
    "stat = result.null_deviance - result.deviance # 카이제곱 통계량\n",
    "df = 4 - 1 # 적합모형의 회귀계수의 수 - 영모형의 회귀계수의 수\n",
    "pval = 1- chi2.cdf(stat, df) # 유의확률 : 0.0\n",
    "answer4 = 0\n",
    "print(answer4)"
   ]
  },
  {
   "cell_type": "markdown",
   "id": "28578440-f81f-4c21-8fa4-8cd2380586f5",
   "metadata": {},
   "source": [
    "#### 2. 주어진 데이터는 미국의 41개 도시의 대기오염 정도와 관련된 데이터이다. 종속변수 S02를 예측하기 위한 회귀 모형을 만들고 아래의 물음에 답하시오.(단, 모델 학습 시 city 컬럼을 제외할 것)"
   ]
  },
  {
   "cell_type": "markdown",
   "id": "67c643b0-cba4-464d-a8e6-ee4938c0b68e",
   "metadata": {},
   "source": [
    "##### (a) : OLS() 클래스와 fit()을 통해 통해 객체를 생성하고 적합한 후, 도시별 Cook의 거리를 계산하고 0.5보다 큰 도시는 몇 개인지 출력한다."
   ]
  },
  {
   "cell_type": "code",
   "execution_count": 23,
   "id": "0e5e4aa7-ecf7-4f41-8acb-4c697745ddb8",
   "metadata": {},
   "outputs": [
    {
     "name": "stdout",
     "output_type": "stream",
     "text": [
      "0\n"
     ]
    }
   ],
   "source": [
    "#### 모의고사 03회 작업형3 문제02 Solution\n",
    "\n",
    "# 데이터셋 불러오기\n",
    "import pandas as pd\n",
    "exam2 = pd.read_csv('data/모의고사/03회/airpollution.csv', encoding = 'cp949')\n",
    "\n",
    "# 필요한 패키지, 클래스 호출\n",
    "import statsmodels.api as sm\n",
    "from statsmodels.stats.outliers_influence import OLSInfluence\n",
    "\n",
    "############## 회귀분석 수행\n",
    "city = exam2['city'].copy()\n",
    "y = exam2['SO2'].copy()\n",
    "X = exam2.drop(['city', 'SO2'], axis = 1)\n",
    "X = sm.add_constant(X) # 절편항 적합을 위해 상수벡터 추가\n",
    "\n",
    "# 모델 적합\n",
    "model = sm.OLS(y,X) # OLS 객체 생성\n",
    "result = model.fit() # fit 메소드를 통해 모형 적합\n",
    "\n",
    "# (a) 도시별 Cook의 거리를 계산하고 0.5보다 큰 도시는 몇 개인 지 출력하시오\n",
    "# OLSInfluence(result).summary_frame()로 확인\n",
    "# OLSInfluence(result).summary_frame()['cooks_d'] > 0.5\n",
    "# 0개\n",
    "answer1 = 0\n",
    "print(answer1)"
   ]
  },
  {
   "cell_type": "markdown",
   "id": "caa2337c-5797-4d2d-8b71-251ffd1a6211",
   "metadata": {},
   "source": [
    "##### (b)-(c) : OLSInfluence(result).summary_frame()를 통해 (b)-(c)의 갯수를 출력한다."
   ]
  },
  {
   "cell_type": "code",
   "execution_count": 24,
   "id": "eb8cf588-9b75-4f55-b31d-139c08f5b165",
   "metadata": {},
   "outputs": [
    {
     "name": "stdout",
     "output_type": "stream",
     "text": [
      "2\n",
      "1\n"
     ]
    }
   ],
   "source": [
    "# (b) 도시별 dffits 값을 계산하고 0.9보다 큰 도시는 몇 개인 지 출력하시오\n",
    "# OLSInfluence(result).summary_frame()로 확인\n",
    "# 2개 : \"Phoenix\", \"Providence\"\n",
    "answer2 = 2\n",
    "print(answer2)\n",
    "\n",
    "# (c) 도시별 스튜던트 잔차를 계산하고 -3보다 작거나 3보다 큰 도시는 몇 개인 지 출력하시오\n",
    "# OLSInfluence(result).summary_frame()로 확인\n",
    "# 1개 : \"Providence\"\n",
    "answer3 = 1\n",
    "print(answer3)"
   ]
  },
  {
   "cell_type": "markdown",
   "id": "19620156-216a-469b-b389-0977211c0682",
   "metadata": {},
   "source": [
    "##### (d) : (a)-(c)에 공통으로 포함되는 도시(Providence)를 제외한 후의 회귀 모형을 새로 적합하고, 전과 후 summary() 결과의 P>|t| 값을 통해 유의성 결과가 변하지 않는 컬럼 수를 출력한다."
   ]
  },
  {
   "cell_type": "code",
   "execution_count": 25,
   "id": "bcf77760-0500-4388-9d28-cd0200a533a5",
   "metadata": {},
   "outputs": [
    {
     "name": "stdout",
     "output_type": "stream",
     "text": [
      "1\n"
     ]
    }
   ],
   "source": [
    "# (d) (a)-(c)에 공통으로 포함되는 도시를 제외하기 전과 후 회귀모형을 각각 적합하고 유의수준 5%를 기준으로 유의성에 대한 결과가 변하지 않는 컬럼 수를 출력하시오.\n",
    "# 모델 적합\n",
    "y2 = y[city != \"Providence\"]\n",
    "X2 = X[city != \"Providence\"]\n",
    "model2 = sm.OLS(y2,X2) # OLS 객체 생성\n",
    "result2 = model2.fit() # fit 메소드를 통해 모형 적합\n",
    "\n",
    "# print(result.summary())와 print(result2.summary())의 P>|t| 값을 통해 비교\n",
    "# model1 : temp, manu, popul\n",
    "# model2 : manu, wind\n",
    "answer4 = 1\n",
    "print(answer4)"
   ]
  },
  {
   "cell_type": "markdown",
   "id": "2eb9f9b6",
   "metadata": {},
   "source": [
    "# (끝)"
   ]
  }
 ],
 "metadata": {
  "hide_input": false,
  "kernelspec": {
   "display_name": "Python 3 (ipykernel)",
   "language": "python",
   "name": "python3"
  },
  "language_info": {
   "codemirror_mode": {
    "name": "ipython",
    "version": 3
   },
   "file_extension": ".py",
   "mimetype": "text/x-python",
   "name": "python",
   "nbconvert_exporter": "python",
   "pygments_lexer": "ipython3",
   "version": "3.9.12"
  },
  "toc": {
   "base_numbering": 1,
   "nav_menu": {},
   "number_sections": false,
   "sideBar": true,
   "skip_h1_title": false,
   "title_cell": "Table of Contents",
   "title_sidebar": "Contents",
   "toc_cell": false,
   "toc_position": {
    "height": "calc(100% - 180px)",
    "left": "10px",
    "top": "150px",
    "width": "240px"
   },
   "toc_section_display": true,
   "toc_window_display": false
  },
  "varInspector": {
   "cols": {
    "lenName": 16,
    "lenType": 16,
    "lenVar": 40
   },
   "kernels_config": {
    "python": {
     "delete_cmd_postfix": "",
     "delete_cmd_prefix": "del ",
     "library": "var_list.py",
     "varRefreshCmd": "print(var_dic_list())"
    },
    "r": {
     "delete_cmd_postfix": ") ",
     "delete_cmd_prefix": "rm(",
     "library": "var_list.r",
     "varRefreshCmd": "cat(var_dic_list()) "
    }
   },
   "types_to_exclude": [
    "module",
    "function",
    "builtin_function_or_method",
    "instance",
    "_Feature"
   ],
   "window_display": false
  }
 },
 "nbformat": 4,
 "nbformat_minor": 5
}
