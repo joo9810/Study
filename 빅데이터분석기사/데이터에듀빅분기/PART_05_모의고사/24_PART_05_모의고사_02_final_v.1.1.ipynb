{
 "cells": [
  {
   "cell_type": "markdown",
   "id": "4e1be88e",
   "metadata": {},
   "source": [
    "## 모의고사 2회"
   ]
  },
  {
   "cell_type": "markdown",
   "id": "e7e22c41",
   "metadata": {},
   "source": [
    "### (작업형1) "
   ]
  },
  {
   "cell_type": "markdown",
   "id": "8e175d52",
   "metadata": {},
   "source": [
    "#### 1. 제공된 데이터(USArrests.csv)의 UrbanPop컬럼이 60이상인 지역 중 Murder컬럼과 Assault컬럼의 합 대비 Assault컬럼의 비율이 0.05이상인 레코드 수를 구하여라."
   ]
  },
  {
   "cell_type": "code",
   "execution_count": 23,
   "id": "e81ced46",
   "metadata": {},
   "outputs": [
    {
     "name": "stdout",
     "output_type": "stream",
     "text": [
      "33\n"
     ]
    }
   ],
   "source": [
    "#### 모의고사 02회 01 Solution\n",
    "import pandas as pd\n",
    "exam1 = pd.read_csv('data/모의고사/02회/USArrests.csv')\n",
    "\n",
    "##### Murder와 Assault의 합 대비 Assault의 비율에 대한 컬럼 생성\n",
    "# Murder와 Assault의 합\n",
    "exam1['MA'] = exam1['Murder'] + exam1['Assault']\n",
    "\n",
    "# Murder와 Assault의 합 대비 Assault의 비율\n",
    "exam1['ratio'] = exam1['Assault']/exam1['MA']\n",
    "\n",
    "##### UrbanPop이 60이상이고 ratio가 0.05이상인 경우\n",
    "cond = (exam1['UrbanPop'] >= 60) & (exam1['ratio'] >= 0.05)\n",
    "\n",
    "##### 결과를 result에 할당\n",
    "result = exam1[cond].shape[0]\n",
    "\n",
    "##### 결과 출력\n",
    "print(result)"
   ]
  },
  {
   "cell_type": "markdown",
   "id": "461efb38",
   "metadata": {},
   "source": [
    "--- "
   ]
  },
  {
   "cell_type": "markdown",
   "id": "1375c428",
   "metadata": {},
   "source": [
    "#### 2. 제공된 데이터(swiss.csv)의 Fertility 컬럼에 대해서 내림차순으로 정렬한 후 정렬한 데이터를 기준으로 홀수번째 레코드들의 평균에서 짝수번째 레코드들의 평균을 뺀 값을 구하여라. (단, 첫번째 행에 있는 데이터를 1번으로 하고, 결과는 소수점 넷째 자리에서 반올림하여 표현)"
   ]
  },
  {
   "cell_type": "code",
   "execution_count": 24,
   "id": "77b42abe",
   "metadata": {},
   "outputs": [
    {
     "name": "stdout",
     "output_type": "stream",
     "text": [
      "-0.453\n"
     ]
    }
   ],
   "source": [
    "#### 모의고사 02회 02 Solution\n",
    "import pandas as pd\n",
    "exam2 = pd.read_csv('data/모의고사/02회/swiss.csv')\n",
    "\n",
    "##### Fertility 컬럼에 대해서 내림차순으로 정렬\n",
    "sort = exam2['Fertility'].sort_values(ascending = False, ignore_index = True)\n",
    "\n",
    "##### 데이터의 홀수번째와 짝수번째 행 번호 생성\n",
    "import numpy as np\n",
    "idx = np.arange(1,48)\n",
    "\n",
    "# 홀수\n",
    "odd = (idx % 2 == 1)\n",
    "\n",
    "# 짝수\n",
    "even = (idx % 2 == 0)\n",
    "\n",
    "# 차이\n",
    "diff = sort[odd].mean() - sort[even].mean()\n",
    "\n",
    "##### 결과를 result에 할당\n",
    "result = round(diff, 3)\n",
    "\n",
    "##### 결과 출력\n",
    "print(result)"
   ]
  },
  {
   "cell_type": "markdown",
   "id": "ee619b6b",
   "metadata": {},
   "source": [
    "--- "
   ]
  },
  {
   "cell_type": "markdown",
   "id": "1500ff9f",
   "metadata": {},
   "source": [
    "#### 3. 제공된 데이터(CO2.csv)의 Type 컬럼이 Mississippi이면서 conc 컬럼에서 백의 자리 또는 일의 자리가 5인 경우 레코드들의 수를 구하여라."
   ]
  },
  {
   "cell_type": "code",
   "execution_count": 1,
   "id": "67abb715",
   "metadata": {},
   "outputs": [
    {
     "name": "stdout",
     "output_type": "stream",
     "text": [
      "24\n"
     ]
    }
   ],
   "source": [
    "#### 모의고사 02회차 03 Solution\n",
    "import pandas as pd\n",
    "exam3 = pd.read_csv('data/모의고사/02회/CO2.csv')\n",
    "\n",
    "##### case1. Type 컬럼이 Mississippi인 경우\n",
    "# 'Mississi/ppi'와 'Mis/sissippi'이 섞여있음\n",
    "# exam3['Type'].value_counts()\n",
    "\n",
    "# '/'를 제거\n",
    "exam3['Type'] = exam3['Type'].str.replace('/', '')\n",
    "\n",
    "# Mississippi일 조건\n",
    "case1 = (exam3['Type'] == 'Mississippi')\n",
    "\n",
    "##### case2. conc 컬럼에서 백의 자리 또는 일의 자리가 5인 경우\n",
    "# 백의 자리가 5인 경우\n",
    "hundred = exam3['conc']//100  == 5\n",
    "\n",
    "# 일의 자리가 5인 경우\n",
    "one = exam3['conc'].astype('string').str.endswith('5')\n",
    "\n",
    "# 두 조건을 만족하는 조건\n",
    "case2 = hundred | one\n",
    "\n",
    "##### 결과를 result에 할당\n",
    "result = exam3[case1 & case2].shape[0]\n",
    "\n",
    "##### 결과 출력\n",
    "print(result)"
   ]
  },
  {
   "cell_type": "markdown",
   "id": "bcf61461",
   "metadata": {},
   "source": [
    "---"
   ]
  },
  {
   "cell_type": "markdown",
   "id": "e4774c95",
   "metadata": {},
   "source": [
    "### (작업형2) "
   ]
  },
  {
   "cell_type": "markdown",
   "id": "e52e2b73",
   "metadata": {},
   "source": [
    "### 1. 아래는 블랙프라이데이 제품 구매자들의 구매 정보에 관련한 데이터의 일부이다. 주어진 데이터를 이용하여 예측 모형을 만들고 아래에 따라 CSV 파일을 생성하시오."
   ]
  },
  {
   "cell_type": "code",
   "execution_count": 26,
   "id": "221bda30",
   "metadata": {},
   "outputs": [],
   "source": [
    "#### 모의고사 01회차_작업형2 Solution\n",
    "\n",
    "##### STEP1. 데이터셋+ 불러오기\n",
    "import pandas as pd\n",
    "X_train = pd.read_csv('data/모의고사/02회/BlackFriday_X_train.csv')\n",
    "X_test = pd.read_csv('data/모의고사/02회/BlackFriday_X_test.csv')\n",
    "y_train = pd.read_csv('data/모의고사/02회/BlackFriday_y_train.csv')"
   ]
  },
  {
   "cell_type": "code",
   "execution_count": 27,
   "id": "176cd723",
   "metadata": {},
   "outputs": [
    {
     "name": "stdout",
     "output_type": "stream",
     "text": [
      "   User_ID Product_ID Gender    Age  Occupation City_Category  \\\n",
      "0  1001889  P00166642      M  18-25          14             B   \n",
      "1  1003320  P00030842      M  26-35           1             B   \n",
      "2  1003690   P0095742      M  18-25           0             B   \n",
      "3  1002796  P00227642      M  26-35          14             B   \n",
      "4  1001671  P00114542      M  36-45           0             B   \n",
      "\n",
      "  Stay_In_Current_City_Years  Marital_Status  Product_Category_1  \\\n",
      "0                          2               0                   8   \n",
      "1                          1               1                   1   \n",
      "2                          2               0                   4   \n",
      "3                          3               0                   1   \n",
      "4                          2               0                   5   \n",
      "\n",
      "   Product_Category_2  Product_Category_3  \n",
      "0                 NaN                 NaN  \n",
      "1                 2.0                15.0  \n",
      "2                 5.0                 NaN  \n",
      "3                 5.0                14.0  \n",
      "4                 NaN                 NaN  \n",
      "   User_ID Product_ID Gender    Age  Occupation City_Category  \\\n",
      "0  1004079  P00194042      M  36-45          17             B   \n",
      "1  1000936  P00320942      M  18-25           4             C   \n",
      "2  1000238  P00117242      F  51-55           7             B   \n",
      "3  1005250  P00354142      M  51-55           6             B   \n",
      "4  1005281  P00152742      M  26-35           2             A   \n",
      "\n",
      "  Stay_In_Current_City_Years  Marital_Status  Product_Category_1  \\\n",
      "0                          3               1                   8   \n",
      "1                         4+               0                   1   \n",
      "2                          0               0                   8   \n",
      "3                         4+               1                   6   \n",
      "4                          2               0                   5   \n",
      "\n",
      "   Product_Category_2  Product_Category_3  \n",
      "0                11.0                 NaN  \n",
      "1                 4.0                 9.0  \n",
      "2                17.0                 NaN  \n",
      "3                 8.0                 NaN  \n",
      "4                 NaN                 NaN  \n",
      "   User_ID  Purchase\n",
      "0  1001889      7802\n",
      "1  1003320     15412\n",
      "2  1003690      1448\n",
      "3  1002796      3927\n",
      "4  1001671      7091\n"
     ]
    }
   ],
   "source": [
    "##### STEP2. 데이터셋 확인하기\n",
    "###### STEP2-1. 데이터셋 일부 확인\n",
    "print(X_train.head())\n",
    "print(X_test.head())\n",
    "print(y_train.head())"
   ]
  },
  {
   "cell_type": "code",
   "execution_count": 28,
   "id": "d38d99da",
   "metadata": {},
   "outputs": [
    {
     "name": "stdout",
     "output_type": "stream",
     "text": [
      "<class 'pandas.core.frame.DataFrame'>\n",
      "RangeIndex: 3900 entries, 0 to 3899\n",
      "Data columns (total 11 columns):\n",
      " #   Column                      Non-Null Count  Dtype  \n",
      "---  ------                      --------------  -----  \n",
      " 0   User_ID                     3900 non-null   int64  \n",
      " 1   Product_ID                  3900 non-null   object \n",
      " 2   Gender                      3900 non-null   object \n",
      " 3   Age                         3900 non-null   object \n",
      " 4   Occupation                  3900 non-null   int64  \n",
      " 5   City_Category               3900 non-null   object \n",
      " 6   Stay_In_Current_City_Years  3900 non-null   object \n",
      " 7   Marital_Status              3900 non-null   int64  \n",
      " 8   Product_Category_1          3900 non-null   int64  \n",
      " 9   Product_Category_2          2695 non-null   float64\n",
      " 10  Product_Category_3          1213 non-null   float64\n",
      "dtypes: float64(2), int64(4), object(5)\n",
      "memory usage: 335.3+ KB\n",
      "None\n",
      "<class 'pandas.core.frame.DataFrame'>\n",
      "RangeIndex: 2600 entries, 0 to 2599\n",
      "Data columns (total 11 columns):\n",
      " #   Column                      Non-Null Count  Dtype  \n",
      "---  ------                      --------------  -----  \n",
      " 0   User_ID                     2600 non-null   int64  \n",
      " 1   Product_ID                  2600 non-null   object \n",
      " 2   Gender                      2600 non-null   object \n",
      " 3   Age                         2600 non-null   object \n",
      " 4   Occupation                  2600 non-null   int64  \n",
      " 5   City_Category               2600 non-null   object \n",
      " 6   Stay_In_Current_City_Years  2600 non-null   object \n",
      " 7   Marital_Status              2600 non-null   int64  \n",
      " 8   Product_Category_1          2600 non-null   int64  \n",
      " 9   Product_Category_2          1752 non-null   float64\n",
      " 10  Product_Category_3          793 non-null    float64\n",
      "dtypes: float64(2), int64(4), object(5)\n",
      "memory usage: 223.6+ KB\n",
      "None\n",
      "<class 'pandas.core.frame.DataFrame'>\n",
      "RangeIndex: 3900 entries, 0 to 3899\n",
      "Data columns (total 2 columns):\n",
      " #   Column    Non-Null Count  Dtype\n",
      "---  ------    --------------  -----\n",
      " 0   User_ID   3900 non-null   int64\n",
      " 1   Purchase  3900 non-null   int64\n",
      "dtypes: int64(2)\n",
      "memory usage: 61.1 KB\n",
      "None\n"
     ]
    }
   ],
   "source": [
    "###### STEP2-2. 데이터셋 요약 정보 확인\n",
    "print(X_train.info())\n",
    "print(X_test.info())\n",
    "print(y_train.info())"
   ]
  },
  {
   "cell_type": "code",
   "execution_count": 29,
   "id": "658ebeb9",
   "metadata": {},
   "outputs": [
    {
     "name": "stdout",
     "output_type": "stream",
     "text": [
      "            User_ID   Occupation  Marital_Status  Product_Category_1  \\\n",
      "count  3.900000e+03  3900.000000     3900.000000         3900.000000   \n",
      "mean   1.002986e+06     7.980513        0.420000            5.273846   \n",
      "std    1.711858e+03     6.562434        0.493622            3.710045   \n",
      "min    1.000002e+06     0.000000        0.000000            1.000000   \n",
      "25%    1.001501e+06     2.000000        0.000000            1.000000   \n",
      "50%    1.003046e+06     7.000000        0.000000            5.000000   \n",
      "75%    1.004386e+06    14.000000        1.000000            8.000000   \n",
      "max    1.006040e+06    20.000000        1.000000           18.000000   \n",
      "\n",
      "       Product_Category_2  Product_Category_3  \n",
      "count         2695.000000         1213.000000  \n",
      "mean             9.852319           12.663644  \n",
      "std              5.058134            4.057423  \n",
      "min              2.000000            3.000000  \n",
      "25%              5.000000            9.000000  \n",
      "50%              9.000000           14.000000  \n",
      "75%             15.000000           16.000000  \n",
      "max             18.000000           18.000000  \n",
      "            User_ID   Occupation  Marital_Status  Product_Category_1  \\\n",
      "count  2.600000e+03  2600.000000     2600.000000         2600.000000   \n",
      "mean   1.002952e+06     8.061154        0.403846            5.359231   \n",
      "std    1.718149e+03     6.525626        0.490762            3.769651   \n",
      "min    1.000001e+06     0.000000        0.000000            1.000000   \n",
      "25%    1.001406e+06     2.000000        0.000000            2.000000   \n",
      "50%    1.003012e+06     7.000000        0.000000            5.000000   \n",
      "75%    1.004385e+06    14.000000        1.000000            8.000000   \n",
      "max    1.006037e+06    20.000000        1.000000           18.000000   \n",
      "\n",
      "       Product_Category_2  Product_Category_3  \n",
      "count         1752.000000          793.000000  \n",
      "mean             9.748288           12.813367  \n",
      "std              5.080618            4.098900  \n",
      "min              2.000000            4.000000  \n",
      "25%              5.000000            9.000000  \n",
      "50%              9.000000           15.000000  \n",
      "75%             15.000000           16.000000  \n",
      "max             18.000000           18.000000  \n",
      "            User_ID      Purchase\n",
      "count  3.900000e+03   3900.000000\n",
      "mean   1.002986e+06   9394.564615\n",
      "std    1.711858e+03   5039.666976\n",
      "min    1.000002e+06    373.000000\n",
      "25%    1.001501e+06   5841.750000\n",
      "50%    1.003046e+06   8062.500000\n",
      "75%    1.004386e+06  12162.750000\n",
      "max    1.006040e+06  23942.000000\n"
     ]
    }
   ],
   "source": [
    "###### STEP2-3. 기초통계량 확인\n",
    "print(X_train.describe())\n",
    "print(X_test.describe())\n",
    "print(y_train.describe())"
   ]
  },
  {
   "cell_type": "code",
   "execution_count": 30,
   "id": "46655c91",
   "metadata": {},
   "outputs": [],
   "source": [
    "##### STEP3. 데이터셋 전처리\n",
    "###### STEP3-1. 불필요한 컬럼 삭제\n",
    "\n",
    "# Product_ID는 제품의 고유 ID로 불필요한 컬럼으로 삭제함\n",
    "# 데이터들에서 Product_ID 컬럼 삭제\n",
    "X_train = X_train.drop(columns ='Product_ID')\n",
    "X_test = X_test.drop(columns = 'Product_ID')"
   ]
  },
  {
   "cell_type": "code",
   "execution_count": 31,
   "id": "f0b69503",
   "metadata": {},
   "outputs": [
    {
     "data": {
      "text/plain": [
       "Gender                           0\n",
       "Age                              0\n",
       "Occupation                       0\n",
       "City_Category                    0\n",
       "Stay_In_Current_City_Years       0\n",
       "Marital_Status                   0\n",
       "Product_Category_1               0\n",
       "Product_Category_2            1205\n",
       "Product_Category_3            2687\n",
       "dtype: int64"
      ]
     },
     "execution_count": 31,
     "metadata": {},
     "output_type": "execute_result"
    }
   ],
   "source": [
    "###### STEP3-2. 결측치 처리\n",
    "# 결측치 확인\n",
    "X_train.isna().sum()"
   ]
  },
  {
   "cell_type": "code",
   "execution_count": 32,
   "id": "fc87d269",
   "metadata": {},
   "outputs": [
    {
     "data": {
      "text/plain": [
       "Gender                           0\n",
       "Age                              0\n",
       "Occupation                       0\n",
       "City_Category                    0\n",
       "Stay_In_Current_City_Years       0\n",
       "Marital_Status                   0\n",
       "Product_Category_1               0\n",
       "Product_Category_2             848\n",
       "Product_Category_3            1807\n",
       "dtype: int64"
      ]
     },
     "execution_count": 32,
     "metadata": {},
     "output_type": "execute_result"
    }
   ],
   "source": [
    "X_test.isna().sum()"
   ]
  },
  {
   "cell_type": "code",
   "execution_count": 33,
   "id": "68ae9385",
   "metadata": {},
   "outputs": [],
   "source": [
    "####### Product_Category_2 컬럼(train 1205, test 848 결측)\n",
    "# train은 레코드의 31%, test는 레코드의 33%가 결측이고 Product_Category_1의 하위 카테고리\n",
    "# 컬럼을 삭제\n",
    "X_train = X_train.drop('Product_Category_2', axis = 1)\n",
    "X_test = X_test.drop('Product_Category_2', axis = 1)\n",
    "\n",
    "####### Product_Category_3 컬럼(train 2687, test 1807 결측)\n",
    "# train은 레코드의 69%, test는 레코드의 70%가 결측이고 Product_Category_1, 2의 하위 카테고리\n",
    "# 컬럼을 삭제\n",
    "X_train = X_train.drop('Product_Category_3', axis = 1)\n",
    "X_test = X_test.drop('Product_Category_3', axis = 1)"
   ]
  },
  {
   "cell_type": "code",
   "execution_count": 34,
   "id": "7545ab33",
   "metadata": {
    "scrolled": true
   },
   "outputs": [
    {
     "name": "stdout",
     "output_type": "stream",
     "text": [
      "Gender                        2\n",
      "Age                           7\n",
      "City_Category                 3\n",
      "Stay_In_Current_City_Years    5\n",
      "dtype: int64\n",
      "Gender                        2\n",
      "Age                           7\n",
      "City_Category                 3\n",
      "Stay_In_Current_City_Years    5\n",
      "dtype: int64\n"
     ]
    }
   ],
   "source": [
    "###### STEP3-3. 카테고리형 컬럼 전처리\n",
    "# 문자열(object) 컬럼들의 유일값 수 확인\n",
    "# 컬럼별 카테고리 확인 결과 큰 이상 없음\n",
    "print(X_train.select_dtypes('object').nunique())\n",
    "print(X_test.select_dtypes('object').nunique())"
   ]
  },
  {
   "cell_type": "code",
   "execution_count": 35,
   "id": "b348c09a",
   "metadata": {},
   "outputs": [
    {
     "name": "stdout",
     "output_type": "stream",
     "text": [
      "      Occupation  Marital_Status  Product_Category_1\n",
      "0             14               0                   8\n",
      "1              1               1                   1\n",
      "2              0               0                   4\n",
      "3             14               0                   1\n",
      "4              0               0                   5\n",
      "...          ...             ...                 ...\n",
      "3895           2               0                   1\n",
      "3896           0               0                  11\n",
      "3897           4               0                   8\n",
      "3898          16               0                   1\n",
      "3899          12               0                  16\n",
      "\n",
      "[3900 rows x 3 columns]\n",
      "      Occupation  Marital_Status  Product_Category_1\n",
      "0             17               1                   8\n",
      "1              4               0                   1\n",
      "2              7               0                   8\n",
      "3              6               1                   6\n",
      "4              2               0                   5\n",
      "...          ...             ...                 ...\n",
      "2595           0               0                   5\n",
      "2596          14               0                   1\n",
      "2597           9               0                   8\n",
      "2598           4               1                   6\n",
      "2599          18               1                  11\n",
      "\n",
      "[2600 rows x 3 columns]\n"
     ]
    }
   ],
   "source": [
    "###### STEP3-4. 수치형 컬럼 전처리\n",
    "print(X_train.select_dtypes(exclude ='object'))\n",
    "print(X_test.select_dtypes(exclude ='object'))\n",
    "\n",
    "####### Occupation, Marital_Status, Product_Category_1컬럼\n",
    "# 수치형으로 인식되지만 카테고리의 의미를 가지는 컬럼\n",
    "# dtype 변경 후 각각 OCC_gp, Marital_gp, PC_gp에 할당\n",
    "X_train['OCC_gp'] = X_train['Occupation'].astype('object')\n",
    "X_test['OCC_gp'] = X_test['Occupation'].astype('object')\n",
    "\n",
    "X_train['Marital_gp'] = X_train['Marital_Status'].astype('object')\n",
    "X_test['Marital_gp'] = X_test['Marital_Status'].astype('object')\n",
    "\n",
    "X_train['PC_gp'] = X_train['Product_Category_1'].astype('object')\n",
    "X_test['PC_gp'] = X_test['Product_Category_1'].astype('object')\n",
    "\n",
    "# 기존 컬럼 삭제\n",
    "X_train = X_train.drop(['Occupation', 'Marital_Status', 'Product_Category_1'], axis = 1)\n",
    "X_test = X_test.drop(['Occupation', 'Marital_Status', 'Product_Category_1'], axis = 1)"
   ]
  },
  {
   "cell_type": "code",
   "execution_count": 36,
   "id": "40ffe87e",
   "metadata": {},
   "outputs": [
    {
     "name": "stdout",
     "output_type": "stream",
     "text": [
      "(2730, 7)\n",
      "(1170, 7)\n",
      "(2730, 1)\n",
      "(1170, 1)\n"
     ]
    }
   ],
   "source": [
    "###### STEP3-5. 데이터 분할\n",
    "from sklearn.model_selection import train_test_split\n",
    "\n",
    "# X_train과 y_train을 학습용(X_TRAIN, y_TRAIN)과 검증용(X_VAL, y_VAL)로 분할\n",
    "X_TRAIN, X_VAL, y_TRAIN, y_VAL = train_test_split(X_train, y_train, random_state = 1234, test_size = 0.3)\n",
    "\n",
    "# 분할 후 shape 확인\n",
    "print(X_TRAIN.shape)\n",
    "print(X_VAL.shape)\n",
    "print(y_TRAIN.shape)\n",
    "print(y_VAL.shape)"
   ]
  },
  {
   "cell_type": "code",
   "execution_count": 37,
   "id": "fe5010bf",
   "metadata": {},
   "outputs": [],
   "source": [
    "###### STEP3-6. 인코딩\n",
    "# 카테고리형 컬럼에 대하여 원-핫 인코딩 수행\n",
    "from sklearn.preprocessing import OneHotEncoder\n",
    "\n",
    "# 인코딩할 카테고리형 컬럼만 별도 저장\n",
    "X_TRAIN_category = X_TRAIN.select_dtypes('object').copy()\n",
    "X_VAL_category = X_VAL.select_dtypes('object').copy()\n",
    "X_TEST_category = X_test.select_dtypes('object').copy()\n",
    "\n",
    "# 원-핫 인코딩\n",
    "enc = OneHotEncoder(sparse = False).fit(X_TRAIN_category)\n",
    "\n",
    "X_TRAIN_OH = enc.transform(X_TRAIN_category)\n",
    "X_VAL_OH = enc.transform(X_VAL_category)\n",
    "X_TEST_OH = enc.transform(X_TEST_category)"
   ]
  },
  {
   "cell_type": "code",
   "execution_count": 38,
   "id": "98604aca",
   "metadata": {},
   "outputs": [],
   "source": [
    "###### STEP3-7. 스케일링\n",
    "# 스케일링할 컬럼 없음"
   ]
  },
  {
   "cell_type": "code",
   "execution_count": 39,
   "id": "f8fb1d43",
   "metadata": {},
   "outputs": [],
   "source": [
    "###### STEP3-8. 입력 데이터셋 준비\n",
    "import numpy as np\n",
    "\n",
    "# 인코딩과 스케일링된 넘파이 배열 연결\n",
    "X_TRAIN = X_TRAIN_OH\n",
    "X_VAL = X_VAL_OH\n",
    "\n",
    "# 1차원 넘파이배열로 평탄화\n",
    "y_TRAIN = y_TRAIN.values.ravel()\n",
    "y_VAL = y_VAL.values.ravel()"
   ]
  },
  {
   "cell_type": "code",
   "execution_count": 40,
   "id": "d4e19866",
   "metadata": {},
   "outputs": [],
   "source": [
    "##### STEP4. 모델 학습\n",
    "from sklearn.ensemble import RandomForestRegressor\n",
    "from xgboost import XGBRegressor\n",
    "from lightgbm import LGBMRegressor\n",
    "\n",
    "###### STEP4-1. random forest\n",
    "rf = RandomForestRegressor(n_estimators = 500,\n",
    "                           max_depth = 3,\n",
    "                           min_samples_leaf = 10,\n",
    "                           max_features = 2,\n",
    "                           random_state = 2022)\n",
    "\n",
    "model_rf = rf.fit(X_TRAIN, y_TRAIN)\n",
    "\n",
    "###### STEP4-2. XGBoost\n",
    "xgb = XGBRegressor(max_depth = 8,\n",
    "                   n_estimators = 500,\n",
    "                   nthread = 5,\n",
    "                   min_child_weight = 20,\n",
    "                   gamma = 0.5,\n",
    "                   objective = 'reg:squarederror',\n",
    "                   use_label_encoder = False,\n",
    "                   random_state = 2022)\n",
    "\n",
    "model_xgb = xgb.fit(X_TRAIN, y_TRAIN)\n",
    "\n",
    "###### STEP4-3. LightGBM\n",
    "lgb = LGBMRegressor(max_depth = 8,\n",
    "                    n_estimators = 500,\n",
    "                    n_jobs = 30,\n",
    "                    min_child_weight = 10,\n",
    "                    learning_rate = 0.2,\n",
    "                    objective = 'regression',\n",
    "                    random_state = 2022)\n",
    "\n",
    "model_lgb = lgb.fit(X_TRAIN, y_TRAIN)"
   ]
  },
  {
   "cell_type": "code",
   "execution_count": 41,
   "id": "66496a2a",
   "metadata": {},
   "outputs": [
    {
     "name": "stdout",
     "output_type": "stream",
     "text": [
      "3890.5911682476026\n",
      "2592.1730947021747\n",
      "2523.4959648495173\n"
     ]
    }
   ],
   "source": [
    "###### STEP4-4. 성능평가(기준:MAE)를 통한 모델 선정\n",
    "from sklearn.metrics import mean_absolute_error\n",
    "\n",
    "# 검증용 데이터셋을 통한 예측\n",
    "pred_rf = model_rf.predict(X_VAL)\n",
    "pred_xgb = model_xgb.predict(X_VAL)\n",
    "pred_lgb = model_lgb.predict(X_VAL)\n",
    "\n",
    "# MAE 계산\n",
    "mae_rf = mean_absolute_error(y_VAL, pred_rf)\n",
    "print(mae_rf)\n",
    "\n",
    "mae_xgb = mean_absolute_error(y_VAL, pred_xgb)\n",
    "print(mae_xgb)\n",
    "\n",
    "mae_lgb = mean_absolute_error(y_VAL, pred_lgb)\n",
    "print(mae_lgb)"
   ]
  },
  {
   "cell_type": "code",
   "execution_count": 42,
   "id": "b6fc23a5",
   "metadata": {},
   "outputs": [],
   "source": [
    "##### STEP5. 결과 제출하기\n",
    "###### 실제 시험에서 답 제출시에는 성능이 가장 우수한 모형 하나만 구현!\n",
    "X_TEST = X_TEST_OH\n",
    "y_pred = model_lgb.predict(X_TEST)\n",
    "\n",
    "# 문제에서 요구하는 형태로 변환 필요\n",
    "obj = {'User_ID' : User_ID,\n",
    "       'Purchase' : y_pred}\n",
    "result = pd.DataFrame(obj)\n",
    "\n",
    "# 하위에 12345.csv 이름으로 저장하기\n",
    "result.to_csv(\"12345.csv\", index = False)"
   ]
  },
  {
   "cell_type": "code",
   "execution_count": 43,
   "id": "134dbe0b",
   "metadata": {},
   "outputs": [
    {
     "data": {
      "text/plain": [
       "2556.0031980180756"
      ]
     },
     "execution_count": 43,
     "metadata": {},
     "output_type": "execute_result"
    }
   ],
   "source": [
    "##### STEP6. 채점 모델 평가(번외)\n",
    "# 실제값\n",
    "actual = pd.read_csv('data/모의고사/02회/BlackFriday_y_test.csv', encoding = 'cp949')\n",
    "actual = actual['Purchase'].ravel()\n",
    "\n",
    "# 채점 기준이 될 성과지표 값\n",
    "mean_absolute_error(actual, y_pred)"
   ]
  },
  {
   "cell_type": "markdown",
   "id": "ea20570e-5d86-4035-b626-785b924620c6",
   "metadata": {},
   "source": [
    "---"
   ]
  },
  {
   "cell_type": "markdown",
   "id": "2e63b10b-c545-4192-ac87-05fb10b51573",
   "metadata": {},
   "source": [
    "### (작업형3)"
   ]
  },
  {
   "cell_type": "markdown",
   "id": "6c4cb305-e9b3-4f02-a525-096e7ce703a9",
   "metadata": {},
   "source": [
    "#### 1. 제공된 데이터(survey_subset.csv)는 성별에 따른 A 제품의 인지도 조사를 위해 남, 녀 각각 500명을 임의로 추출하여 실시된 응답 현황 데이터이다. 성별에 따라 1번 문항에 대한 응답이 차이가 있는 지를 동질성 검정(Test of Homogeneity)를 통해 답하시오. 가설은 아래와 같다."
   ]
  },
  {
   "cell_type": "markdown",
   "id": "5fd2d086-9d96-4e5d-864d-ff67a30b0b75",
   "metadata": {},
   "source": [
    "##### (a) : 성별과 1번문항의 교차 분석표를 생성하고 chi2_contingency() 함수를 통해 동질성 검정을 수행한 후, 남자가 “보통이다”라고 응답할 기대도수를 문제에서 요구하는 형태에 맞게 출력한다."
   ]
  },
  {
   "cell_type": "code",
   "execution_count": 3,
   "id": "52b86f1d-6495-4007-b7d0-eb204b980586",
   "metadata": {},
   "outputs": [
    {
     "name": "stdout",
     "output_type": "stream",
     "text": [
      "87\n"
     ]
    }
   ],
   "source": [
    "import pandas as pd\n",
    "exam1 = pd.read_csv('data/모의고사/02회/survey.csv', encoding = 'cp949')\n",
    "\n",
    "# 필요한 패키지, 함수 호출\n",
    "from scipy.stats import chi2_contingency\n",
    "\n",
    "# 카이제곱 검정 수행\n",
    "tb = pd.crosstab(exam1['성별'], exam1['1번문항'])\n",
    "stat, pval, df, expected = chi2_contingency(tb)\n",
    "\n",
    "# (a) 보통이다 응답 기대도수\n",
    "E13 = expected[0,2].astype('int')\n",
    "print(E13)"
   ]
  },
  {
   "cell_type": "markdown",
   "id": "c81d0176-aa2a-4f6c-814c-4a23ed4f0aff",
   "metadata": {},
   "source": [
    "##### (b)~(c) : 위에서 진행한 카이제곱 검정 결과를 통해 검정통계량과 p- 값을 각 문제에서 요구하는 형태에 맞게 출력한다. p-값이 0.0404이므로 본 가설 검정은 ‘기각’한다."
   ]
  },
  {
   "cell_type": "code",
   "execution_count": 4,
   "id": "cb55afb8-c88e-4539-9152-8d0e9e439001",
   "metadata": {},
   "outputs": [
    {
     "name": "stdout",
     "output_type": "stream",
     "text": [
      "10\n",
      "0.0404\n",
      "기각\n"
     ]
    }
   ],
   "source": [
    "# (b) 검정통계량\n",
    "stat = stat.astype('int')\n",
    "print(stat)\n",
    "\n",
    "# (c) p값/가설 검정 결과\n",
    "pval = round(pval, 4)\n",
    "print(pval)\n",
    "print('기각')"
   ]
  },
  {
   "cell_type": "markdown",
   "id": "28578440-f81f-4c21-8fa4-8cd2380586f5",
   "metadata": {},
   "source": [
    "#### 2. 주어진 데이터(Cars93.csv)를 통해 미국 본토 회사(Origin) 여부에 따라 평균 프리미엄 자동차 가격(Max_Price)이 더 큰 지 t검정을 통해 답하고자 한다. 여기서, 두 그룹의 모분산은 동일하지 않다고 알려져있다. 가설은 아래와 같다."
   ]
  },
  {
   "cell_type": "markdown",
   "id": "67c643b0-cba4-464d-a8e6-ee4938c0b68e",
   "metadata": {},
   "source": [
    "##### (a) : 미국 본토 회사의 프리미엄 자동차 가격과 미국 본토가 아닌 회사 프리미엄 자동차 가격을 각각 할당하고, 두 그룹의 표본 평균 차이를 mean()를 이용해 문제에서 요구하는 형태에 맞게 출력한다."
   ]
  },
  {
   "cell_type": "code",
   "execution_count": 6,
   "id": "0e5e4aa7-ecf7-4f41-8acb-4c697745ddb8",
   "metadata": {},
   "outputs": [
    {
     "name": "stdout",
     "output_type": "stream",
     "text": [
      "2.63\n"
     ]
    }
   ],
   "source": [
    "#### 모의고사 02회 작업형3 문제02 Solution\n",
    "import pandas as pd\n",
    "exam2 = pd.read_csv('data/모의고사/02회/Cars93.csv', encoding = 'cp949')\n",
    "\n",
    "# 필요한 패키지, 함수 호출\n",
    "from scipy.stats import ttest_ind\n",
    "\n",
    "# 필요한 컬럼 각각 할당\n",
    "Price = exam2['Max_Price']\n",
    "Origin = exam2['Origin']\n",
    "\n",
    "# 미국 본토 회사 프리미엄 자동차 가격\n",
    "Price_USA = Price[Origin == 'USA'].reset_index(drop = True)\n",
    "\n",
    "# 미국 본토가 아닌 회사 프리미엄 자동차 가격\n",
    "Price_non = Price[Origin == 'non-USA'].reset_index(drop = True)\n",
    "\n",
    "# (a) 미국 본토가 아닌 회사 프리미엄 자동차 가격의 표본 평균에서 미국 본토인 경우를 뺀 값\n",
    "diff = Price_non.mean() - Price_USA.mean()\n",
    "est = round(diff, 2)\n",
    "print(est)"
   ]
  },
  {
   "cell_type": "markdown",
   "id": "caa2337c-5797-4d2d-8b71-251ffd1a6211",
   "metadata": {},
   "source": [
    "##### (b)~(c) : ttest_ind() 함수를 통해 독립표본 t검정을 수행하고 결과에서 제공하는 검정통계량을 이용하여 표준오차(=점추정량/검정통계량)(검정통계량 = 점추정량/표준오차임을 이용)를 구하고, 검정통계량 값을 문제에서 요구하는 형태에 맞게 출력한다. p - 값이 0.05보다 크기 때문에 본 가설 검정은 ‘채택’한다."
   ]
  },
  {
   "cell_type": "code",
   "execution_count": 7,
   "id": "eb8cf588-9b75-4f55-b31d-139c08f5b165",
   "metadata": {},
   "outputs": [
    {
     "name": "stdout",
     "output_type": "stream",
     "text": [
      "2.32\n",
      "1.1335\n",
      "채택\n"
     ]
    }
   ],
   "source": [
    "# 대응표본 t검정 수행\n",
    "stat, pval = ttest_ind(Price_non, Price_USA, equal_var = False, alternative = 'less')\n",
    "\n",
    "# (b) 검정통계량 = 점추정량/표준오차임을 이용\n",
    "se = est/stat\n",
    "se = round(se, 2)\n",
    "print(se)\n",
    "\n",
    "# (c) 검정통계량/기각 여부\n",
    "stat = round(stat, 4)\n",
    "print(stat)\n",
    "print('채택')"
   ]
  },
  {
   "cell_type": "markdown",
   "id": "2eb9f9b6",
   "metadata": {},
   "source": [
    "# (끝)"
   ]
  }
 ],
 "metadata": {
  "hide_input": false,
  "kernelspec": {
   "display_name": "Python 3 (ipykernel)",
   "language": "python",
   "name": "python3"
  },
  "language_info": {
   "codemirror_mode": {
    "name": "ipython",
    "version": 3
   },
   "file_extension": ".py",
   "mimetype": "text/x-python",
   "name": "python",
   "nbconvert_exporter": "python",
   "pygments_lexer": "ipython3",
   "version": "3.9.12"
  },
  "toc": {
   "base_numbering": 1,
   "nav_menu": {},
   "number_sections": false,
   "sideBar": true,
   "skip_h1_title": false,
   "title_cell": "Table of Contents",
   "title_sidebar": "Contents",
   "toc_cell": false,
   "toc_position": {
    "height": "calc(100% - 180px)",
    "left": "10px",
    "top": "150px",
    "width": "240px"
   },
   "toc_section_display": true,
   "toc_window_display": false
  },
  "varInspector": {
   "cols": {
    "lenName": 16,
    "lenType": 16,
    "lenVar": 40
   },
   "kernels_config": {
    "python": {
     "delete_cmd_postfix": "",
     "delete_cmd_prefix": "del ",
     "library": "var_list.py",
     "varRefreshCmd": "print(var_dic_list())"
    },
    "r": {
     "delete_cmd_postfix": ") ",
     "delete_cmd_prefix": "rm(",
     "library": "var_list.r",
     "varRefreshCmd": "cat(var_dic_list()) "
    }
   },
   "types_to_exclude": [
    "module",
    "function",
    "builtin_function_or_method",
    "instance",
    "_Feature"
   ],
   "window_display": false
  }
 },
 "nbformat": 4,
 "nbformat_minor": 5
}
