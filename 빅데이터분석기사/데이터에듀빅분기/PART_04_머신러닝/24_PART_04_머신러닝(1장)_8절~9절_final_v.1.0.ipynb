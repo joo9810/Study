{
 "cells": [
  {
   "cell_type": "markdown",
   "id": "c65b1643",
   "metadata": {},
   "source": [
    "### PART 04) 머신러닝"
   ]
  },
  {
   "cell_type": "markdown",
   "id": "4e1be88e",
   "metadata": {},
   "source": [
    "## 1장. 지도학습모형"
   ]
  },
  {
   "cell_type": "markdown",
   "id": "8e175d52",
   "metadata": {},
   "source": [
    "### 8절. 의사결정나무"
   ]
  },
  {
   "cell_type": "code",
   "execution_count": 1,
   "id": "320ff5d9-2b89-42d3-a8e9-fd82c75c7679",
   "metadata": {},
   "outputs": [],
   "source": [
    "# 패키지로부터 클래스, 함수를 호출\n",
    "from sklearn.tree import DecisionTreeClassifier\n",
    "from sklearn.model_selection import train_test_split\n",
    "\n",
    "# breast_cancer 데이터셋 호출\n",
    "from sklearn.datasets import load_breast_cancer\n",
    "breast_cancer = load_breast_cancer()\n",
    "data = breast_cancer.data\n",
    "target = breast_cancer.target\n",
    "\n",
    "# 데이터 분할\n",
    "X_train, X_test, y_train, y_test = train_test_split(data, target, test_size = 0.2, random_state = 2205, stratify = target)\n",
    "\n",
    "# 모형객체 생성\n",
    "dtr_bin = DecisionTreeClassifier(max_depth = 3, min_samples_leaf = 10, random_state = 2022)\n",
    "\n",
    "# 모델학습\n",
    "model_dtr_bin = dtr_bin.fit(X_train, y_train)"
   ]
  },
  {
   "cell_type": "code",
   "execution_count": 2,
   "id": "12a0ef56-35c5-4873-9e20-864e0c69b0ee",
   "metadata": {},
   "outputs": [
    {
     "name": "stdout",
     "output_type": "stream",
     "text": [
      "0.999834656084656\n"
     ]
    }
   ],
   "source": [
    "# ROC\n",
    "from sklearn.metrics import roc_curve, auc\n",
    "y_score = model_dtr_bin.predict_proba(X_test)[:,1]\n",
    "fpr, tpr, thresholds = roc_curve(y_test, y_score)\n",
    "\n",
    "# AUC\n",
    "AUC = auc(fpr, tpr) # roc_curve()에서 반환된 fpr을 x축, tpr을 y축\n",
    "print(AUC)"
   ]
  },
  {
   "cell_type": "code",
   "execution_count": 3,
   "id": "d6b77f26-5986-40d8-9bc2-afee919ee62c",
   "metadata": {},
   "outputs": [],
   "source": [
    "# 패키지로부터 클래스, 함수를 호출\n",
    "from sklearn.tree import DecisionTreeClassifier\n",
    "from sklearn.model_selection import train_test_split\n",
    "\n",
    "# iris 데이터셋 호출\n",
    "from sklearn.datasets import load_iris\n",
    "iris = load_iris()\n",
    "data = iris.data\n",
    "target = iris.target\n",
    "\n",
    "# 데이터 분할\n",
    "X_train, X_test, y_train, y_test = train_test_split(data, target, test_size = 0.2, random_state = 2205, stratify = target)\n",
    "\n",
    "# 모형객체 생성\n",
    "dtr_multi = DecisionTreeClassifier(max_depth = 3, min_samples_leaf = 10, random_state = 2022)\n",
    "\n",
    "# 모델학습\n",
    "model_dtr_multi = dtr_multi.fit(X_train, y_train)"
   ]
  },
  {
   "cell_type": "code",
   "execution_count": 4,
   "id": "a89ca906-b227-4cfa-8fab-2be55660ae65",
   "metadata": {},
   "outputs": [
    {
     "name": "stdout",
     "output_type": "stream",
     "text": [
      "0.9665831244778613\n"
     ]
    }
   ],
   "source": [
    "# macro f1-score\n",
    "from sklearn.metrics import f1_score\n",
    "y_pred = model_dtr_multi.predict(X_test)\n",
    "macro_f1 = f1_score(y_test, y_pred, average = \"macro\")\n",
    "print(macro_f1)"
   ]
  },
  {
   "cell_type": "code",
   "execution_count": 5,
   "id": "281152db-4ca3-416f-b3b6-cd62f6eef9e2",
   "metadata": {},
   "outputs": [],
   "source": [
    "# 패키지로부터 클래스, 함수를 호출\n",
    "from sklearn.tree import DecisionTreeRegressor\n",
    "from sklearn.model_selection import train_test_split\n",
    "\n",
    "# diabetes 데이터셋 호출\n",
    "from sklearn.datasets import load_diabetes\n",
    "diabetes = load_diabetes()\n",
    "data = diabetes.data\n",
    "target = diabetes.target\n",
    "\n",
    "# 데이터 분할\n",
    "X_train, X_test, y_train, y_test = train_test_split(data, target, test_size = 0.2, random_state = 2205)\n",
    "\n",
    "# 모형객체 생성\n",
    "dtr_conti = DecisionTreeRegressor(max_depth = 3, min_samples_leaf = 10, random_state = 2022)\n",
    "\n",
    "# 모델학습\n",
    "model_dtr_conti = dtr_conti.fit(X_train, y_train)"
   ]
  },
  {
   "cell_type": "code",
   "execution_count": 6,
   "id": "9f835ecc-9c98-44c2-8ddb-efb88a653bf1",
   "metadata": {},
   "outputs": [
    {
     "name": "stdout",
     "output_type": "stream",
     "text": [
      "68.43615007635243\n"
     ]
    }
   ],
   "source": [
    "# RMSE\n",
    "from sklearn.metrics import mean_squared_error\n",
    "y_pred = model_dtr_conti.predict(X_test)\n",
    "rmse = mean_squared_error(y_test, y_pred, squared = False)\n",
    "print(rmse)"
   ]
  },
  {
   "cell_type": "markdown",
   "id": "fd36f24a-77b3-4a48-9213-cb24dbac76c3",
   "metadata": {},
   "source": [
    "---"
   ]
  },
  {
   "cell_type": "markdown",
   "id": "537f1976-2034-43e8-bc2a-e002c8032da1",
   "metadata": {},
   "source": [
    "### 9절. 앙상블"
   ]
  },
  {
   "cell_type": "markdown",
   "id": "eddb3254-32ad-4c48-8b6c-eec9e8278fba",
   "metadata": {},
   "source": [
    "#### 1. 배깅"
   ]
  },
  {
   "cell_type": "code",
   "execution_count": 1,
   "id": "63d9e209-f041-431a-8d92-ba91b2b0606c",
   "metadata": {},
   "outputs": [],
   "source": [
    "# 패키지로부터 클래스, 함수를 호출\n",
    "from sklearn.tree import DecisionTreeClassifier\n",
    "from sklearn.ensemble import BaggingClassifier\n",
    "from sklearn.model_selection import train_test_split\n",
    "\n",
    "# breast_cancer 데이터셋 호출\n",
    "from sklearn.datasets import load_breast_cancer\n",
    "breast_cancer = load_breast_cancer()\n",
    "data = breast_cancer.data\n",
    "target = breast_cancer.target\n",
    "\n",
    "# 데이터 분할\n",
    "X_train, X_test, y_train, y_test = train_test_split(data, target, test_size = 0.2, random_state = 2205, stratify = target)\n",
    "\n",
    "# 모형객체 생성\n",
    "dtr = DecisionTreeClassifier(max_depth = 3, min_samples_leaf = 10)\n",
    "bag_bin = BaggingClassifier(base_estimator = dtr, n_estimators = 500, random_state = 2022)\n",
    "\n",
    "# 모델학습\n",
    "model_bag_bin = bag_bin.fit(X_train, y_train)"
   ]
  },
  {
   "cell_type": "code",
   "execution_count": 2,
   "id": "1b454d52-d1fb-4e33-9fa0-ac15c49aa098",
   "metadata": {},
   "outputs": [
    {
     "name": "stdout",
     "output_type": "stream",
     "text": [
      "0.9973544973544974\n"
     ]
    }
   ],
   "source": [
    "# ROC\n",
    "from sklearn.metrics import roc_curve, auc\n",
    "y_score = model_bag_bin.predict_proba(X_test)[:,1]\n",
    "fpr, tpr, thresholds = roc_curve(y_test, y_score)\n",
    "\n",
    "# AUC\n",
    "AUC = auc(fpr, tpr) # roc_curve()에서 반환된 fpr을 x축, tpr을 y축\n",
    "print(AUC)"
   ]
  },
  {
   "cell_type": "code",
   "execution_count": 3,
   "id": "cfa1aa71-140c-4e95-9d98-f2aacb5e1a13",
   "metadata": {},
   "outputs": [],
   "source": [
    "# 패키지로부터 클래스, 함수를 호출\n",
    "from sklearn.tree import DecisionTreeClassifier\n",
    "from sklearn.ensemble import BaggingClassifier\n",
    "from sklearn.model_selection import train_test_split\n",
    "\n",
    "# iris 데이터셋 호출\n",
    "from sklearn.datasets import load_iris\n",
    "iris = load_iris()\n",
    "data = iris.data\n",
    "target = iris.target\n",
    "\n",
    "# 데이터 분할\n",
    "X_train, X_test, y_train, y_test = train_test_split(data, target, test_size = 0.2, random_state = 2205, stratify = target)\n",
    "\n",
    "# 모형객체 생성\n",
    "dtr = DecisionTreeClassifier(max_depth = 3, min_samples_leaf = 10)\n",
    "bag_multi = BaggingClassifier(base_estimator = dtr, n_estimators = 500, random_state = 2022)\n",
    "\n",
    "# 모델학습\n",
    "model_bag_multi = bag_multi.fit(X_train, y_train)"
   ]
  },
  {
   "cell_type": "code",
   "execution_count": 4,
   "id": "4281e8ae-a975-4713-b068-0a6730996f5d",
   "metadata": {},
   "outputs": [
    {
     "name": "stdout",
     "output_type": "stream",
     "text": [
      "0.9665831244778613\n"
     ]
    }
   ],
   "source": [
    "# macro f1-score\n",
    "from sklearn.metrics import f1_score\n",
    "y_pred = model_bag_multi.predict(X_test)\n",
    "macro_f1 = f1_score(y_test, y_pred, average = \"macro\")\n",
    "print(macro_f1)"
   ]
  },
  {
   "cell_type": "code",
   "execution_count": 5,
   "id": "0af11e73-c3fa-45f0-acdd-dc27500cba31",
   "metadata": {},
   "outputs": [],
   "source": [
    "# 패키지로부터 클래스, 함수를 호출\n",
    "from sklearn.tree import DecisionTreeRegressor\n",
    "from sklearn.ensemble import BaggingRegressor\n",
    "from sklearn.model_selection import train_test_split\n",
    "\n",
    "# diabetes 데이터셋 호출\n",
    "from sklearn.datasets import load_diabetes\n",
    "diabetes = load_diabetes()\n",
    "data = diabetes.data\n",
    "target = diabetes.target\n",
    "\n",
    "# 데이터 분할\n",
    "X_train, X_test, y_train, y_test = train_test_split(data, target, test_size = 0.2, random_state = 2205)\n",
    "\n",
    "# 모형객체 생성\n",
    "dtr = DecisionTreeRegressor(max_depth = 3, min_samples_leaf = 10)\n",
    "bag_conti = BaggingRegressor(base_estimator = dtr, n_estimators = 500, random_state = 2022)\n",
    "\n",
    "# 모델학습\n",
    "model_bag_conti = bag_conti.fit(X_train, y_train)"
   ]
  },
  {
   "cell_type": "code",
   "execution_count": 6,
   "id": "2680b587-c8f1-49c4-a778-9f7027e1a5b3",
   "metadata": {},
   "outputs": [
    {
     "name": "stdout",
     "output_type": "stream",
     "text": [
      "62.445688892722956\n"
     ]
    }
   ],
   "source": [
    "# RMSE\n",
    "from sklearn.metrics import mean_squared_error\n",
    "y_pred = model_bag_conti.predict(X_test)\n",
    "rmse = mean_squared_error(y_test, y_pred, squared = False)\n",
    "print(rmse)"
   ]
  },
  {
   "cell_type": "markdown",
   "id": "fb162429-f8de-45a8-aaa3-40ba824b4015",
   "metadata": {},
   "source": [
    "#### 2. 랜덤포레스트"
   ]
  },
  {
   "cell_type": "code",
   "execution_count": 7,
   "id": "cb355db9-6f69-4a8f-91d6-69e0cabc32c5",
   "metadata": {},
   "outputs": [],
   "source": [
    "# 패키지로부터 클래스, 함수를 호출\n",
    "from sklearn.ensemble import RandomForestClassifier\n",
    "from sklearn.model_selection import train_test_split\n",
    "\n",
    "# breast_cancer 데이터셋 호출\n",
    "from sklearn.datasets import load_breast_cancer\n",
    "breast_cancer = load_breast_cancer()\n",
    "data = breast_cancer.data\n",
    "target = breast_cancer.target\n",
    "\n",
    "# 데이터 분할\n",
    "X_train, X_test, y_train, y_test = train_test_split(data, target, test_size = 0.2, random_state = 2205, stratify = target)\n",
    "\n",
    "# 모형객체 생성\n",
    "rf_bin = RandomForestClassifier(n_estimators = 500, max_depth = 3, min_samples_leaf = 10, max_features = 'sqrt', random_state = 2022)\n",
    "\n",
    "# 모델학습\n",
    "model_rf_bin = rf_bin.fit(X_train, y_train)"
   ]
  },
  {
   "cell_type": "code",
   "execution_count": 8,
   "id": "198d9124-b4b8-4d4b-a8a9-07c49c1224a1",
   "metadata": {},
   "outputs": [
    {
     "name": "stdout",
     "output_type": "stream",
     "text": [
      "0.9996693121693121\n"
     ]
    }
   ],
   "source": [
    "# ROC\n",
    "from sklearn.metrics import roc_curve, auc\n",
    "y_score = model_rf_bin.predict_proba(X_test)[:,1]\n",
    "fpr, tpr, thresholds = roc_curve(y_test, y_score)\n",
    "\n",
    "# AUC\n",
    "AUC = auc(fpr, tpr) # roc_curve()에서 반환된 fpr을 x축, tpr을 y축\n",
    "print(AUC)"
   ]
  },
  {
   "cell_type": "code",
   "execution_count": 9,
   "id": "f5dc67fa-095b-4741-979b-9eda0b3966c9",
   "metadata": {},
   "outputs": [],
   "source": [
    "# 패키지로부터 클래스, 함수를 호출\n",
    "from sklearn.ensemble import RandomForestClassifier\n",
    "from sklearn.model_selection import train_test_split\n",
    "\n",
    "# iris 데이터셋 호출\n",
    "from sklearn.datasets import load_iris\n",
    "iris = load_iris()\n",
    "data = iris.data\n",
    "target = iris.target\n",
    "\n",
    "# 데이터 분할\n",
    "X_train, X_test, y_train, y_test = train_test_split(data, target, test_size = 0.2, random_state = 2205, stratify = target)\n",
    "\n",
    "# 모형객체 생성\n",
    "rf_multi = RandomForestClassifier(n_estimators = 500, max_depth = 3, min_samples_leaf = 15, max_features = 'sqrt', random_state = 2022)\n",
    "\n",
    "# 모델학습\n",
    "model_rf_multi = rf_multi.fit(X_train, y_train)"
   ]
  },
  {
   "cell_type": "code",
   "execution_count": 10,
   "id": "6e8551af-78dc-465b-9a8d-ab2ff5a8163e",
   "metadata": {},
   "outputs": [
    {
     "name": "stdout",
     "output_type": "stream",
     "text": [
      "0.9665831244778613\n"
     ]
    }
   ],
   "source": [
    "# macro f1-score\n",
    "from sklearn.metrics import f1_score\n",
    "y_pred = model_rf_multi.predict(X_test)\n",
    "macro_f1 = f1_score(y_test, y_pred, average = \"macro\")\n",
    "print(macro_f1)"
   ]
  },
  {
   "cell_type": "code",
   "execution_count": 11,
   "id": "59e3a9b2-84f4-4695-b3fe-2272fab2b91d",
   "metadata": {},
   "outputs": [],
   "source": [
    "# 패키지로부터 클래스, 함수를 호출\n",
    "from sklearn.ensemble import RandomForestRegressor\n",
    "from sklearn.model_selection import train_test_split\n",
    "\n",
    "# diabetes 데이터셋 호출\n",
    "from sklearn.datasets import load_diabetes\n",
    "diabetes = load_diabetes()\n",
    "data = diabetes.data\n",
    "target = diabetes.target\n",
    "\n",
    "# 데이터 분할\n",
    "X_train, X_test, y_train, y_test = train_test_split(data, target, test_size = 0.2, random_state = 2205)\n",
    "\n",
    "# 모형객체 생성\n",
    "rf_conti = RandomForestRegressor(n_estimators = 500, max_depth = 3, min_samples_leaf = 10, max_features = 3, random_state = 2022)\n",
    "\n",
    "# 모델학습\n",
    "model_rf_conti = rf_conti.fit(X_train, y_train)"
   ]
  },
  {
   "cell_type": "code",
   "execution_count": 12,
   "id": "8913934b-b459-4104-84c1-5c3e0bd6c493",
   "metadata": {},
   "outputs": [
    {
     "name": "stdout",
     "output_type": "stream",
     "text": [
      "63.49825173792558\n"
     ]
    }
   ],
   "source": [
    "# RMSE\n",
    "from sklearn.metrics import mean_squared_error\n",
    "y_pred = model_rf_conti.predict(X_test)\n",
    "rmse = mean_squared_error(y_test, y_pred, squared = False)\n",
    "print(rmse)"
   ]
  },
  {
   "cell_type": "markdown",
   "id": "00ffb317-c7f4-4feb-8cb9-7a9689a6a6b5",
   "metadata": {},
   "source": [
    "#### 3. AdaBoost"
   ]
  },
  {
   "cell_type": "code",
   "execution_count": 18,
   "id": "f8e21f17-23db-4ea8-b847-8aed04a1e8fb",
   "metadata": {},
   "outputs": [],
   "source": [
    "# 패키지로부터 클래스, 함수를 호출\n",
    "from sklearn.ensemble import AdaBoostClassifier\n",
    "from sklearn.model_selection import train_test_split\n",
    "\n",
    "# breast_cancer 데이터셋 호출\n",
    "from sklearn.datasets import load_breast_cancer\n",
    "breast_cancer = load_breast_cancer()\n",
    "data = breast_cancer.data\n",
    "target = breast_cancer.target\n",
    "\n",
    "# 데이터 분할\n",
    "X_train, X_test, y_train, y_test = train_test_split(data, target, test_size = 0.2, random_state = 2205, stratify = target)\n",
    "\n",
    "# 모형객체 생성\n",
    "ada_bin = AdaBoostClassifier(n_estimators = 100, learning_rate = 0.5, random_state = 2022)\n",
    "\n",
    "# 모델학습\n",
    "model_ada_bin = ada_bin.fit(X_train, y_train)"
   ]
  },
  {
   "cell_type": "code",
   "execution_count": 19,
   "id": "1e5cfa71-6e8f-43f8-acc9-758a271391b9",
   "metadata": {},
   "outputs": [
    {
     "name": "stdout",
     "output_type": "stream",
     "text": [
      "0.9957010582010583\n"
     ]
    }
   ],
   "source": [
    "# ROC\n",
    "from sklearn.metrics import roc_curve, auc\n",
    "y_score = model_ada_bin.predict_proba(X_test)[:,1]\n",
    "fpr, tpr, thresholds = roc_curve(y_test, y_score)\n",
    "\n",
    "# AUC\n",
    "AUC = auc(fpr, tpr) # roc_curve()에서 반환된 fpr을 x축, tpr을 y축\n",
    "print(AUC)"
   ]
  },
  {
   "cell_type": "code",
   "execution_count": 20,
   "id": "eb3daca3-84df-41a3-bb7b-cc1c8975c11e",
   "metadata": {},
   "outputs": [],
   "source": [
    "# 패키지로부터 클래스, 함수를 호출\n",
    "from sklearn.ensemble import AdaBoostClassifier\n",
    "from sklearn.model_selection import train_test_split\n",
    "\n",
    "# iris 데이터셋 호출\n",
    "from sklearn.datasets import load_iris\n",
    "iris = load_iris()\n",
    "data = iris.data\n",
    "target = iris.target\n",
    "\n",
    "# 데이터 분할\n",
    "X_train, X_test, y_train, y_test = train_test_split(data, target, test_size = 0.2, random_state = 2205, stratify = target)\n",
    "\n",
    "# 모형객체 생성\n",
    "ada_multi = AdaBoostClassifier(n_estimators = 500, learning_rate = 0.01, random_state = 2022)\n",
    "\n",
    "# 모델학습\n",
    "model_ada_multi = ada_multi.fit(X_train, y_train)"
   ]
  },
  {
   "cell_type": "code",
   "execution_count": 21,
   "id": "f4857f1f-a837-490c-8f6c-af5960c29e24",
   "metadata": {},
   "outputs": [
    {
     "name": "stdout",
     "output_type": "stream",
     "text": [
      "0.9665831244778613\n"
     ]
    }
   ],
   "source": [
    "# macro f1-score\n",
    "from sklearn.metrics import f1_score\n",
    "y_pred = model_ada_multi.predict(X_test)\n",
    "macro_f1 = f1_score(y_test, y_pred, average = \"macro\")\n",
    "print(macro_f1)"
   ]
  },
  {
   "cell_type": "code",
   "execution_count": 22,
   "id": "78fd126b-84b1-46f2-be48-fd1ceeabacb4",
   "metadata": {},
   "outputs": [],
   "source": [
    "# 패키지로부터 클래스, 함수를 호출\n",
    "from sklearn.ensemble import AdaBoostRegressor\n",
    "from sklearn.model_selection import train_test_split\n",
    "\n",
    "# diabetes 데이터셋 호출\n",
    "from sklearn.datasets import load_diabetes\n",
    "diabetes = load_diabetes()\n",
    "data = diabetes.data\n",
    "target = diabetes.target\n",
    "\n",
    "# 데이터 분할\n",
    "X_train, X_test, y_train, y_test = train_test_split(data, target, test_size = 0.2, random_state = 2205)\n",
    "\n",
    "# 모형객체 생성\n",
    "ada_conti = AdaBoostRegressor(n_estimators = 500, learning_rate = 0.01, loss = 'square', random_state = 2022)\n",
    "\n",
    "# 모델학습\n",
    "model_ada_conti = ada_conti.fit(X_train, y_train)"
   ]
  },
  {
   "cell_type": "code",
   "execution_count": 23,
   "id": "a82175f7-a0de-4b4c-98c0-d4462205bd93",
   "metadata": {},
   "outputs": [
    {
     "name": "stdout",
     "output_type": "stream",
     "text": [
      "62.077241273777446\n"
     ]
    }
   ],
   "source": [
    "# RMSE\n",
    "from sklearn.metrics import mean_squared_error\n",
    "y_pred = model_ada_conti.predict(X_test)\n",
    "rmse = mean_squared_error(y_test, y_pred, squared = False)\n",
    "print(rmse)"
   ]
  },
  {
   "cell_type": "markdown",
   "id": "b4aed1e1-dcab-47d6-97e0-e7fdd99a9e2c",
   "metadata": {},
   "source": [
    "#### 4. Gradient Boosting"
   ]
  },
  {
   "cell_type": "code",
   "execution_count": 24,
   "id": "c71321db-8ffe-4a2b-add9-2da7a3598b31",
   "metadata": {},
   "outputs": [],
   "source": [
    "# 패키지로부터 클래스, 함수를 호출\n",
    "from sklearn.ensemble import GradientBoostingClassifier\n",
    "from sklearn.model_selection import train_test_split\n",
    "\n",
    "# breast_cancer 데이터셋 호출\n",
    "from sklearn.datasets import load_breast_cancer\n",
    "breast_cancer = load_breast_cancer()\n",
    "data = breast_cancer.data\n",
    "target = breast_cancer.target\n",
    "\n",
    "# 데이터 분할\n",
    "X_train, X_test, y_train, y_test = train_test_split(data, target, test_size = 0.2, random_state = 2205, stratify = target)\n",
    "\n",
    "# 모형객체 생성\n",
    "gbm_bin = GradientBoostingClassifier(n_estimators = 500, max_depth = 4, min_samples_leaf = 10, learning_rate = 0.1, random_state = 2022)\n",
    "\n",
    "# 모델학습\n",
    "model_gbm_bin = gbm_bin.fit(X_train, y_train)"
   ]
  },
  {
   "cell_type": "code",
   "execution_count": 25,
   "id": "14870be1-4854-43c7-8ce7-299eb087a0cc",
   "metadata": {},
   "outputs": [
    {
     "name": "stdout",
     "output_type": "stream",
     "text": [
      "0.9983465608465608\n"
     ]
    }
   ],
   "source": [
    "# ROC\n",
    "from sklearn.metrics import roc_curve, auc\n",
    "y_score = model_gbm_bin.predict_proba(X_test)[:,1]\n",
    "fpr, tpr, thresholds = roc_curve(y_test, y_score)\n",
    "\n",
    "# AUC\n",
    "AUC = auc(fpr, tpr) # roc_curve()에서 반환된 fpr을 x축, tpr을 y축\n",
    "print(AUC)"
   ]
  },
  {
   "cell_type": "code",
   "execution_count": 26,
   "id": "53d89b07-0f0a-41a6-b241-03475447f7d3",
   "metadata": {},
   "outputs": [],
   "source": [
    "# 패키지로부터 클래스, 함수를 호출\n",
    "from sklearn.ensemble import GradientBoostingClassifier\n",
    "from sklearn.model_selection import train_test_split\n",
    "\n",
    "# iris 데이터셋 호출\n",
    "from sklearn.datasets import load_iris\n",
    "iris = load_iris()\n",
    "data = iris.data\n",
    "target = iris.target\n",
    "\n",
    "# 데이터 분할\n",
    "X_train, X_test, y_train, y_test = train_test_split(data, target, test_size = 0.2, random_state = 2205, stratify = target)\n",
    "\n",
    "# 모형객체 생성\n",
    "gbm_multi = GradientBoostingClassifier(n_estimators = 500, max_depth = 8, min_samples_leaf = 5, learning_rate = 0.5, random_state = 2022)\n",
    "\n",
    "# 모델학습\n",
    "model_gbm_multi = gbm_multi.fit(X_train, y_train)"
   ]
  },
  {
   "cell_type": "code",
   "execution_count": 27,
   "id": "d767793f-4fa6-4e2d-9994-bfe757c2bf36",
   "metadata": {},
   "outputs": [
    {
     "name": "stdout",
     "output_type": "stream",
     "text": [
      "0.9665831244778613\n"
     ]
    }
   ],
   "source": [
    "# macro f1-score\n",
    "from sklearn.metrics import f1_score\n",
    "y_pred = model_gbm_multi.predict(X_test)\n",
    "macro_f1 = f1_score(y_test, y_pred, average = \"macro\")\n",
    "print(macro_f1)"
   ]
  },
  {
   "cell_type": "code",
   "execution_count": 28,
   "id": "5a9cf0c5-4f8f-406e-8bdd-7a237c1882c4",
   "metadata": {},
   "outputs": [],
   "source": [
    "# 패키지로부터 클래스, 함수를 호출\n",
    "from sklearn.ensemble import GradientBoostingRegressor\n",
    "from sklearn.model_selection import train_test_split\n",
    "\n",
    "# diabetes 데이터셋 호출\n",
    "from sklearn.datasets import load_diabetes\n",
    "diabetes = load_diabetes()\n",
    "data = diabetes.data\n",
    "target = diabetes.target\n",
    "\n",
    "# 데이터 분할\n",
    "X_train, X_test, y_train, y_test = train_test_split(data, target, test_size = 0.2, random_state = 2205)\n",
    "\n",
    "# 모형객체 생성\n",
    "gbm_conti = GradientBoostingRegressor(n_estimators = 500, max_depth = 2, min_samples_leaf = 5, learning_rate = 0.5, random_state = 2022)\n",
    "\n",
    "# 모델학습\n",
    "model_gbm_conti = gbm_conti.fit(X_train, y_train)"
   ]
  },
  {
   "cell_type": "code",
   "execution_count": 29,
   "id": "87a8ec04-4307-44ea-abfb-bb78d68a753c",
   "metadata": {},
   "outputs": [
    {
     "name": "stdout",
     "output_type": "stream",
     "text": [
      "75.25181596869564\n"
     ]
    }
   ],
   "source": [
    "# RMSE\n",
    "from sklearn.metrics import mean_squared_error\n",
    "y_pred = model_gbm_conti.predict(X_test)\n",
    "rmse = mean_squared_error(y_test, y_pred, squared = False)\n",
    "print(rmse)"
   ]
  },
  {
   "cell_type": "markdown",
   "id": "8d9dc9d3-6e7e-4c32-952c-b78cc093c985",
   "metadata": {},
   "source": [
    "#### 5. XGBoost"
   ]
  },
  {
   "cell_type": "code",
   "execution_count": 30,
   "id": "bf725e4b-71c9-4097-b301-5c1343c1db95",
   "metadata": {},
   "outputs": [
    {
     "name": "stderr",
     "output_type": "stream",
     "text": [
      "C:\\Users\\희주\\AppData\\Roaming\\Python\\Python39\\site-packages\\xgboost\\compat.py:31: FutureWarning: pandas.Int64Index is deprecated and will be removed from pandas in a future version. Use pandas.Index with the appropriate dtype instead.\n",
      "  from pandas import MultiIndex, Int64Index\n"
     ]
    }
   ],
   "source": [
    "# 패키지로부터 클래스, 함수를 호출\n",
    "from xgboost import XGBClassifier\n",
    "from sklearn.model_selection import train_test_split\n",
    "\n",
    "# breast_cancer 데이터셋 호출\n",
    "from sklearn.datasets import load_breast_cancer\n",
    "breast_cancer = load_breast_cancer()\n",
    "data = breast_cancer.data\n",
    "target = breast_cancer.target\n",
    "\n",
    "# 데이터 분할\n",
    "X_train, X_test, y_train, y_test = train_test_split(data, target, test_size = 0.2, random_state = 2205, stratify = target)\n",
    "\n",
    "# 모형객체 생성\n",
    "xgb_wrap_bin = XGBClassifier(max_depth = 8, n_estimators = 500, nthread = 5, min_child_weight = 20, gamma = 0.5, objective = 'binary:logistic', use_label_encoder = False, random_state = 2022)\n",
    "\n",
    "# 모델학습\n",
    "model_xgb_wrap_bin = xgb_wrap_bin.fit(X_train, y_train, eval_metric = 'mlogloss')"
   ]
  },
  {
   "cell_type": "code",
   "execution_count": 31,
   "id": "cb71bb2e-9802-414a-8bd7-95436a6303d8",
   "metadata": {},
   "outputs": [
    {
     "name": "stdout",
     "output_type": "stream",
     "text": [
      "0.9952050264550264\n"
     ]
    }
   ],
   "source": [
    "# ROC\n",
    "from sklearn.metrics import roc_curve, auc\n",
    "y_score = model_xgb_wrap_bin.predict_proba(X_test)[:,1]\n",
    "fpr, tpr, thresholds = roc_curve(y_test, y_score)\n",
    "\n",
    "# AUC\n",
    "AUC = auc(fpr, tpr) # roc_curve()에서 반환된 fpr을 x축, tpr을 y축\n",
    "print(AUC)"
   ]
  },
  {
   "cell_type": "code",
   "execution_count": 32,
   "id": "fd40ce9f-6cbc-486b-b944-ce5057f00d52",
   "metadata": {},
   "outputs": [],
   "source": [
    "# 패키지로부터 클래스, 함수를 호출\n",
    "from xgboost import XGBClassifier\n",
    "from sklearn.model_selection import train_test_split\n",
    "\n",
    "# iris 데이터셋 호출\n",
    "from sklearn.datasets import load_iris\n",
    "iris = load_iris()\n",
    "data = iris.data\n",
    "target = iris.target\n",
    "\n",
    "# 데이터 분할\n",
    "X_train, X_test, y_train, y_test = train_test_split(data, target, test_size = 0.2, random_state = 2205, stratify = target)\n",
    "\n",
    "# 모형객체 생성\n",
    "xgb_wrap_multi = XGBClassifier(max_depth = 8, n_estimators = 500, nthread = 5, min_child_weight = 10, gamma = 0.5, objective = 'multi:softmax', use_label_encoder = False, random_state = 2022)\n",
    "\n",
    "# 모델학습\n",
    "model_xgb_wrap_multi = xgb_wrap_multi.fit(X_train, y_train, eval_metric = 'mlogloss')"
   ]
  },
  {
   "cell_type": "code",
   "execution_count": 33,
   "id": "2675eac9-4f7d-4aaa-bd6f-14e7d51eaff8",
   "metadata": {},
   "outputs": [
    {
     "name": "stdout",
     "output_type": "stream",
     "text": [
      "0.9665831244778613\n"
     ]
    }
   ],
   "source": [
    "# macro f1-score\n",
    "from sklearn.metrics import f1_score\n",
    "y_pred = model_xgb_wrap_multi.predict(X_test)\n",
    "macro_f1 = f1_score(y_test, y_pred, average = \"macro\")\n",
    "print(macro_f1)"
   ]
  },
  {
   "cell_type": "code",
   "execution_count": 34,
   "id": "c19c45e3-0c52-4803-b1b7-15624a0c53ae",
   "metadata": {},
   "outputs": [],
   "source": [
    "# 패키지로부터 클래스, 함수를 호출\n",
    "from xgboost import XGBRegressor\n",
    "from sklearn.model_selection import train_test_split\n",
    "\n",
    "# diabetes 데이터셋 호출\n",
    "from sklearn.datasets import load_diabetes\n",
    "diabetes = load_diabetes()\n",
    "data = diabetes.data\n",
    "target = diabetes.target\n",
    "\n",
    "# 데이터 분할\n",
    "X_train, X_test, y_train, y_test = train_test_split(data, target, test_size = 0.2, random_state = 2205)\n",
    "\n",
    "# 모형객체 생성\n",
    "xgb_wrap_conti = XGBRegressor(max_depth = 8, n_estimators = 500, nthread = 5, min_child_weight = 10, gamma = 0.5, objective = 'reg:squarederror', use_label_encoder = False, random_state = 2022)\n",
    "\n",
    "# 모델학습\n",
    "model_xgb_wrap_conti = xgb_wrap_conti.fit(X_train, y_train, eval_metric = 'rmse')"
   ]
  },
  {
   "cell_type": "code",
   "execution_count": 35,
   "id": "491acd05-8d8a-410c-a5f6-d929d0717afc",
   "metadata": {},
   "outputs": [
    {
     "name": "stdout",
     "output_type": "stream",
     "text": [
      "67.9309022195871\n"
     ]
    }
   ],
   "source": [
    "# RMSE\n",
    "from sklearn.metrics import mean_squared_error\n",
    "y_pred = model_xgb_wrap_conti.predict(X_test)\n",
    "rmse = mean_squared_error(y_test, y_pred, squared = False)\n",
    "print(rmse)"
   ]
  },
  {
   "cell_type": "markdown",
   "id": "8c7ab338-a89d-45a5-84a0-e7a792c61a0d",
   "metadata": {},
   "source": [
    "#### 6. LightGBM"
   ]
  },
  {
   "cell_type": "code",
   "execution_count": 36,
   "id": "883c16ca-4411-41d8-b1cb-6f2fc3d7b15c",
   "metadata": {},
   "outputs": [],
   "source": [
    "# 패키지로부터 클래스, 함수를 호출\n",
    "from lightgbm import LGBMClassifier\n",
    "from sklearn.model_selection import train_test_split\n",
    "\n",
    "# breast_cancer 데이터셋 호출\n",
    "from sklearn.datasets import load_breast_cancer\n",
    "breast_cancer = load_breast_cancer()\n",
    "data = breast_cancer.data\n",
    "target = breast_cancer.target\n",
    "\n",
    "# 데이터 분할\n",
    "X_train, X_test, y_train, y_test = train_test_split(data, target, test_size = 0.2, random_state = 2205, stratify = target)\n",
    "\n",
    "# 모형객체 생성\n",
    "lgb_wrap_bin = LGBMClassifier(max_depth = 8, n_estimators = 500, n_jobs = 30, min_child_weight = 10, learning_rate = 0.2, objective = 'binary', random_state = 2022)\n",
    "\n",
    "# 모델학습\n",
    "model_lgb_wrap_bin = lgb_wrap_bin.fit(X_train, y_train)                                                   "
   ]
  },
  {
   "cell_type": "code",
   "execution_count": 37,
   "id": "c667fa93-0189-4dd5-a0c7-088c2536104f",
   "metadata": {},
   "outputs": [
    {
     "name": "stdout",
     "output_type": "stream",
     "text": [
      "0.9996693121693121\n"
     ]
    }
   ],
   "source": [
    "# ROC\n",
    "from sklearn.metrics import roc_curve, auc\n",
    "y_score = model_lgb_wrap_bin.predict_proba(X_test)[:,1]\n",
    "fpr, tpr, thresholds = roc_curve(y_test, y_score)\n",
    "\n",
    "# AUC\n",
    "AUC = auc(fpr, tpr) # roc_curve()에서 반환된 fpr을 x축, tpr을 y축\n",
    "print(AUC)"
   ]
  },
  {
   "cell_type": "code",
   "execution_count": 38,
   "id": "3947df43-5075-4c5b-8e73-a0ec73dca388",
   "metadata": {},
   "outputs": [],
   "source": [
    "# 패키지로부터 클래스, 함수를 호출\n",
    "from lightgbm import LGBMClassifier\n",
    "from sklearn.model_selection import train_test_split\n",
    "\n",
    "# iris 데이터셋 호출\n",
    "from sklearn.datasets import load_iris\n",
    "iris = load_iris()\n",
    "data = iris.data\n",
    "target = iris.target\n",
    "\n",
    "# 데이터 분할\n",
    "X_train, X_test, y_train, y_test = train_test_split(data, target, test_size = 0.2, random_state = 2205, stratify = target)\n",
    "\n",
    "# 모형객체 생성\n",
    "lgb_wrap_multi = LGBMClassifier(num_leaves=31, max_depth = 8, n_estimators = 500, n_jobs = 5, min_child_weight = 10, learning_rate = 0.5, objective = 'multiclass', random_state = 2022)\n",
    "\n",
    "# 모델학습\n",
    "model_lgb_wrap_multi = lgb_wrap_multi.fit(X_train, y_train)"
   ]
  },
  {
   "cell_type": "code",
   "execution_count": 39,
   "id": "9e12c1f8-bf60-425b-a1cf-58b6e99e847f",
   "metadata": {},
   "outputs": [
    {
     "name": "stdout",
     "output_type": "stream",
     "text": [
      "0.9665831244778613\n"
     ]
    }
   ],
   "source": [
    "# macro f1-score\n",
    "from sklearn.metrics import f1_score\n",
    "y_pred = model_lgb_wrap_multi.predict(X_test)\n",
    "macro_f1 = f1_score(y_test, y_pred, average = \"macro\")\n",
    "print(macro_f1)"
   ]
  },
  {
   "cell_type": "code",
   "execution_count": 40,
   "id": "013efe1a-df35-4dae-9c14-5c97b48314a0",
   "metadata": {},
   "outputs": [],
   "source": [
    "# 패키지로부터 클래스, 함수를 호출\n",
    "from lightgbm import LGBMRegressor\n",
    "from sklearn.model_selection import train_test_split\n",
    "\n",
    "# 연속형 예측 데이터 예\n",
    "# diabetes 데이터셋 호출\n",
    "from sklearn.datasets import load_diabetes\n",
    "diabetes = load_diabetes()\n",
    "data = diabetes.data\n",
    "target = diabetes.target\n",
    "\n",
    "# 데이터 분할\n",
    "X_train, X_test, y_train, y_test = train_test_split(data,\n",
    " target,\n",
    " test_size = 0.2,\n",
    " random_state = 2205)\n",
    "\n",
    "# 모형객체 생성\n",
    "lgb_wrap_conti = LGBMRegressor(max_depth = 8, n_estimators = 500, n_jobs = 5, min_child_weight = 10, learning_rate = 0.5, objective = 'regression', random_state = 2022)\n",
    "\n",
    "# 모델학습\n",
    "model_lgb_wrap_conti = lgb_wrap_conti.fit(X_train, y_train)"
   ]
  },
  {
   "cell_type": "code",
   "execution_count": 41,
   "id": "52b24b2e-4685-42f6-8cef-0656862fb1c5",
   "metadata": {},
   "outputs": [
    {
     "name": "stdout",
     "output_type": "stream",
     "text": [
      "63.63732148056437\n"
     ]
    }
   ],
   "source": [
    "# RMSE\n",
    "from sklearn.metrics import mean_squared_error\n",
    "y_pred = model_lgb_wrap_conti.predict(X_test)\n",
    "rmse = mean_squared_error(y_test, y_pred, squared = False)\n",
    "print(rmse)"
   ]
  }
 ],
 "metadata": {
  "hide_input": false,
  "kernelspec": {
   "display_name": "Python 3 (ipykernel)",
   "language": "python",
   "name": "python3"
  },
  "language_info": {
   "codemirror_mode": {
    "name": "ipython",
    "version": 3
   },
   "file_extension": ".py",
   "mimetype": "text/x-python",
   "name": "python",
   "nbconvert_exporter": "python",
   "pygments_lexer": "ipython3",
   "version": "3.9.12"
  },
  "toc": {
   "base_numbering": 1,
   "nav_menu": {},
   "number_sections": false,
   "sideBar": true,
   "skip_h1_title": false,
   "title_cell": "Table of Contents",
   "title_sidebar": "Contents",
   "toc_cell": false,
   "toc_position": {},
   "toc_section_display": true,
   "toc_window_display": false
  },
  "varInspector": {
   "cols": {
    "lenName": 16,
    "lenType": 16,
    "lenVar": 40
   },
   "kernels_config": {
    "python": {
     "delete_cmd_postfix": "",
     "delete_cmd_prefix": "del ",
     "library": "var_list.py",
     "varRefreshCmd": "print(var_dic_list())"
    },
    "r": {
     "delete_cmd_postfix": ") ",
     "delete_cmd_prefix": "rm(",
     "library": "var_list.r",
     "varRefreshCmd": "cat(var_dic_list()) "
    }
   },
   "types_to_exclude": [
    "module",
    "function",
    "builtin_function_or_method",
    "instance",
    "_Feature"
   ],
   "window_display": false
  }
 },
 "nbformat": 4,
 "nbformat_minor": 5
}
