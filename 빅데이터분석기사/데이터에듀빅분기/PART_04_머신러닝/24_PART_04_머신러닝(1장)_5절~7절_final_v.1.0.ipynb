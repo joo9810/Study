{
 "cells": [
  {
   "cell_type": "markdown",
   "id": "c65b1643",
   "metadata": {},
   "source": [
    "### PART 04) 머신러닝"
   ]
  },
  {
   "cell_type": "markdown",
   "id": "4e1be88e",
   "metadata": {},
   "source": [
    "## 1장. 지도학습모형"
   ]
  },
  {
   "cell_type": "markdown",
   "id": "8e175d52",
   "metadata": {},
   "source": [
    "### 5절. 나이브베이즈"
   ]
  },
  {
   "cell_type": "code",
   "execution_count": null,
   "id": "c90d8be2-47ed-4cee-a924-0e3d4dc25809",
   "metadata": {},
   "outputs": [],
   "source": [
    "# 패키지로부터 클래스, 함수를 호출\n",
    "from sklearn.naive_bayes import BernoulliNB\n",
    "from sklearn.model_selection import train_test_split\n",
    "\n",
    "# breast_cancer 데이터셋 호출\n",
    "from sklearn.datasets import load_breast_cancer\n",
    "breast_cancer = load_breast_cancer()\n",
    "data = breast_cancer.data\n",
    "target = breast_cancer.target\n",
    "\n",
    "# 데이터 분할\n",
    "X_train, X_test, y_train, y_test = train_test_split(data, target, test_size = 0.2, random_state = 2205, stratify = target)\n",
    "\n",
    "#모형객체 생성\n",
    "nb_bin = BernoulliNB(alpha = 0.5)\n",
    "\n",
    "# 모델학습\n",
    "model_nb_bin = nb_bin.fit(X_train, y_train)"
   ]
  },
  {
   "cell_type": "code",
   "execution_count": null,
   "id": "da449302-54db-4e88-b8ce-93a0b2ff476f",
   "metadata": {},
   "outputs": [
    {
     "name": "stdout",
     "output_type": "stream",
     "text": [
      "0.5347222222222222\n"
     ]
    }
   ],
   "source": [
    "# ROC\n",
    "from sklearn.metrics import roc_curve, auc\n",
    "y_score = model_nb_bin.predict_proba(X_test)[:,1]\n",
    "fpr, tpr, thresholds = roc_curve(y_test, y_score)\n",
    "\n",
    "# AUC\n",
    "AUC = auc(fpr, tpr) # roc_curve()에서 반환된 fpr을 x축, tpr을 y축\n",
    "print(AUC)"
   ]
  },
  {
   "cell_type": "code",
   "execution_count": 4,
   "id": "54edad88-cf5c-4087-8712-6a7b5611d7d9",
   "metadata": {},
   "outputs": [],
   "source": [
    "# 패키지로부터 클래스, 함수를 호출\n",
    "from sklearn.naive_bayes import MultinomialNB\n",
    "from sklearn.model_selection import train_test_split\n",
    "\n",
    "# iris 데이터셋 호출\n",
    "from sklearn.datasets import load_iris\n",
    "iris = load_iris()\n",
    "data = iris.data\n",
    "target = iris.target\n",
    "\n",
    "# 데이터 분할\n",
    "X_train, X_test, y_train, y_test = train_test_split(data, target, test_size = 0.2, random_state = 2205, stratify = target)\n",
    "\n",
    "# 모형객체 생성\n",
    "nb_multi = MultinomialNB(alpha = 1.5)\n",
    "\n",
    "# 모델학습\n",
    "model_nb_multi = nb_multi.fit(X_train, y_train)"
   ]
  },
  {
   "cell_type": "code",
   "execution_count": 5,
   "id": "9725e2d3-3990-4262-b9e5-a581fcc8172e",
   "metadata": {},
   "outputs": [
    {
     "name": "stdout",
     "output_type": "stream",
     "text": [
      "0.9665831244778613\n"
     ]
    }
   ],
   "source": [
    "# macro f1-score\n",
    "from sklearn.metrics import f1_score\n",
    "y_pred = model_nb_multi.predict(X_test)\n",
    "macro_f1 = f1_score(y_test, y_pred, average = \"macro\")\n",
    "print(macro_f1)"
   ]
  },
  {
   "cell_type": "code",
   "execution_count": 6,
   "id": "fa0ec995-34c7-42b7-9e41-6fb3041d734d",
   "metadata": {},
   "outputs": [],
   "source": [
    "# 패키지로부터 클래스, 함수를 호출\n",
    "from sklearn.naive_bayes import GaussianNB\n",
    "from sklearn.model_selection import train_test_split\n",
    "\n",
    "# diabetes 데이터셋 호출\n",
    "from sklearn.datasets import load_diabetes\n",
    "diabetes = load_diabetes()\n",
    "data = diabetes.data\n",
    "target = diabetes.target\n",
    "\n",
    "# 데이터 분할\n",
    "X_train, X_test, y_train, y_test = train_test_split(data, target, test_size = 0.2, random_state = 2205)\n",
    "\n",
    "# 모형객체 생성\n",
    "nb_conti = GaussianNB()\n",
    "\n",
    "# 모델학습\n",
    "model_nb_conti = nb_conti.fit(X_train, y_train)"
   ]
  },
  {
   "cell_type": "code",
   "execution_count": 7,
   "id": "d024bb71-112a-417a-b680-3fc0a8c5ffa7",
   "metadata": {},
   "outputs": [
    {
     "name": "stdout",
     "output_type": "stream",
     "text": [
      "78.87808826910528\n"
     ]
    }
   ],
   "source": [
    "# RMSE\n",
    "from sklearn.metrics import mean_squared_error\n",
    "y_pred = model_nb_conti.predict(X_test)\n",
    "rmse = mean_squared_error(y_test, y_pred, squared = False)\n",
    "print(rmse)"
   ]
  },
  {
   "cell_type": "markdown",
   "id": "ca495eae-f216-4e87-8160-381fc988cdb1",
   "metadata": {},
   "source": [
    "---"
   ]
  },
  {
   "cell_type": "markdown",
   "id": "106ff00b-dc7e-487b-bc9e-1d3b3ac30918",
   "metadata": {},
   "source": [
    "#### 6절 K-최근접이웃"
   ]
  },
  {
   "cell_type": "code",
   "execution_count": 1,
   "id": "76cc8ef2-241e-4a62-8550-db9cb39029ea",
   "metadata": {},
   "outputs": [],
   "source": [
    "# 패키지로부터 클래스, 함수를 호출\n",
    "from sklearn.neighbors import KNeighborsClassifier\n",
    "from sklearn.model_selection import train_test_split\n",
    "\n",
    "# breast_cancer 데이터셋 호출\n",
    "from sklearn.datasets import load_breast_cancer\n",
    "breast_cancer = load_breast_cancer()\n",
    "data = breast_cancer.data\n",
    "target = breast_cancer.target\n",
    "\n",
    "# 데이터 분할\n",
    "X_train, X_test, y_train, y_test = train_test_split(data, target, test_size = 0.2, random_state = 2205, stratify = target)\n",
    "\n",
    "# 모형객체 생성\n",
    "knn_bin = KNeighborsClassifier(n_neighbors = 5, weights = 'distance')\n",
    "\n",
    "# 모델학습\n",
    "model_knn_bin = knn_bin.fit(X_train, y_train)"
   ]
  },
  {
   "cell_type": "code",
   "execution_count": 2,
   "id": "57479e10-7e77-448a-9844-6975e5e441de",
   "metadata": {},
   "outputs": [
    {
     "name": "stdout",
     "output_type": "stream",
     "text": [
      "0.9993386243386244\n"
     ]
    }
   ],
   "source": [
    "# ROC\n",
    "from sklearn.metrics import roc_curve, auc\n",
    "y_score = model_knn_bin.predict_proba(X_test)[:,1]\n",
    "fpr, tpr, thresholds = roc_curve(y_test, y_score)\n",
    "\n",
    "# AUC\n",
    "AUC = auc(fpr, tpr) # roc_curve()에서 반환된 fpr을 x축, tpr을 y축\n",
    "print(AUC)"
   ]
  },
  {
   "cell_type": "code",
   "execution_count": 3,
   "id": "d62d5ff1-1e81-4653-b66d-07a4e97b9bf7",
   "metadata": {},
   "outputs": [],
   "source": [
    "# 패키지로부터 클래스, 함수를 호출\n",
    "from sklearn.neighbors import KNeighborsClassifier\n",
    "from sklearn.model_selection import train_test_split\n",
    "\n",
    "# iris 데이터셋 호출\n",
    "from sklearn.datasets import load_iris\n",
    "iris = load_iris()\n",
    "data = iris.data\n",
    "target = iris.target\n",
    "\n",
    "# 데이터 분할\n",
    "X_train, X_test, y_train, y_test = train_test_split(data, target, test_size = 0.2, random_state = 2205, stratify = target)\n",
    "\n",
    "# 모형객체 생성\n",
    "knn_multi = KNeighborsClassifier(n_neighbors = 10, weights = 'distance')\n",
    "\n",
    "# 모델학습\n",
    "model_knn_multi = knn_multi.fit(X_train, y_train)"
   ]
  },
  {
   "cell_type": "code",
   "execution_count": 13,
   "id": "afff6492-419e-4349-ba6c-e96d10aca5fd",
   "metadata": {},
   "outputs": [
    {
     "name": "stdout",
     "output_type": "stream",
     "text": [
      "1.0\n"
     ]
    }
   ],
   "source": [
    "# macro f1-score\n",
    "from sklearn.metrics import f1_score\n",
    "y_pred = model_knn_multi.predict(X_test)\n",
    "macro_f1 = f1_score(y_test, y_pred, average = \"macro\")\n",
    "print(macro_f1)"
   ]
  },
  {
   "cell_type": "code",
   "execution_count": 4,
   "id": "69f0e86b-2541-49d8-89e0-2f2376683afd",
   "metadata": {},
   "outputs": [],
   "source": [
    "# 패키지로부터 클래스, 함수를 호출\n",
    "from sklearn.neighbors import KNeighborsRegressor\n",
    "from sklearn.model_selection import train_test_split\n",
    "\n",
    "# diabetes 데이터셋 호출\n",
    "from sklearn.datasets import load_diabetes\n",
    "diabetes = load_diabetes()\n",
    "data = diabetes.data\n",
    "target = diabetes.target\n",
    "\n",
    "# 데이터 분할\n",
    "X_train, X_test, y_train, y_test = train_test_split(data, target, test_size = 0.2, random_state = 2205)\n",
    "\n",
    "# 모형객체 생성\n",
    "knn_conti = KNeighborsRegressor(n_neighbors = 5, weights = 'distance')\n",
    "\n",
    "# 모델학습\n",
    "model_knn_conti = knn_conti.fit(X_train, y_train)"
   ]
  },
  {
   "cell_type": "code",
   "execution_count": 5,
   "id": "a62fa6ac-9e0c-47e8-b6f3-909537f570d3",
   "metadata": {},
   "outputs": [
    {
     "name": "stdout",
     "output_type": "stream",
     "text": [
      "64.34099075385271\n"
     ]
    }
   ],
   "source": [
    "# RMSE\n",
    "from sklearn.metrics import mean_squared_error\n",
    "y_pred = model_knn_conti.predict(X_test)\n",
    "rmse = mean_squared_error(y_test, y_pred, squared = False)\n",
    "print(rmse)"
   ]
  },
  {
   "cell_type": "markdown",
   "id": "1a795593-cdb9-49c9-9d5e-aa2b286d9f77",
   "metadata": {},
   "source": [
    "---"
   ]
  },
  {
   "cell_type": "markdown",
   "id": "04543122-acd3-40ac-a980-8d27c420637f",
   "metadata": {},
   "source": [
    "### 7절 인공신경망"
   ]
  },
  {
   "cell_type": "code",
   "execution_count": 6,
   "id": "551cb750-5458-4f9b-82bf-c04835841de2",
   "metadata": {},
   "outputs": [],
   "source": [
    "# 패키지로부터 클래스, 함수를 호출\n",
    "from sklearn.neural_network import MLPClassifier\n",
    "from sklearn.model_selection import train_test_split\n",
    "\n",
    "# breast_cancer 데이터셋 호출\n",
    "from sklearn.datasets import load_breast_cancer\n",
    "breast_cancer = load_breast_cancer()\n",
    "data = breast_cancer.data\n",
    "target = breast_cancer.target\n",
    "\n",
    "# 데이터 분할\n",
    "X_train, X_test, y_train, y_test = train_test_split(data, target, test_size = 0.2, random_state = 2205, stratify = target)\n",
    "\n",
    "# 모형객체 생성\n",
    "ann_bin = MLPClassifier(alpha = 0.5, max_iter = 500, random_state = 2022)\n",
    "\n",
    "# 모델학습\n",
    "model_ann_bin = ann_bin.fit(X_train, y_train)"
   ]
  },
  {
   "cell_type": "code",
   "execution_count": 7,
   "id": "c0286fa7-3ff5-4879-9a51-3b345abdf266",
   "metadata": {},
   "outputs": [
    {
     "name": "stdout",
     "output_type": "stream",
     "text": [
      "0.9996693121693121\n"
     ]
    }
   ],
   "source": [
    "# ROC\n",
    "from sklearn.metrics import roc_curve, auc\n",
    "y_score = model_ann_bin.predict_proba(X_test)[:,1]\n",
    "fpr, tpr, thresholds = roc_curve(y_test, y_score)\n",
    "\n",
    "# AUC\n",
    "AUC = auc(fpr, tpr) # roc_curve()에서 반환된 fpr을 x축, tpr을 y축\n",
    "print(AUC)"
   ]
  },
  {
   "cell_type": "code",
   "execution_count": 8,
   "id": "f90a23c0-560a-407e-aad6-f46620d5f934",
   "metadata": {},
   "outputs": [],
   "source": [
    "# 패키지로부터 클래스, 함수를 호출\n",
    "from sklearn.neural_network import MLPClassifier\n",
    "from sklearn.model_selection import train_test_split\n",
    "\n",
    "# iris 데이터셋 호출\n",
    "from sklearn.datasets import load_iris\n",
    "iris = load_iris()\n",
    "data = iris.data\n",
    "target = iris.target\n",
    "\n",
    "# 데이터 분할\n",
    "X_train, X_test, y_train, y_test = train_test_split(data, target, test_size = 0.2, random_state = 2205, stratify = target)\n",
    "\n",
    "# 모형객체 생성\n",
    "ann_multi = MLPClassifier(random_state = 2022, max_iter = 600)\n",
    "\n",
    "# 모델학습\n",
    "model_ann_multi = ann_multi.fit(X_train, y_train)"
   ]
  },
  {
   "cell_type": "code",
   "execution_count": 9,
   "id": "31ba30a6-7e31-4906-9899-b94c514f418d",
   "metadata": {},
   "outputs": [
    {
     "name": "stdout",
     "output_type": "stream",
     "text": [
      "1.0\n"
     ]
    }
   ],
   "source": [
    "# macro f1-score\n",
    "from sklearn.metrics import f1_score\n",
    "y_pred = model_ann_multi.predict(X_test)\n",
    "macro_f1 = f1_score(y_test, y_pred, average = \"macro\")\n",
    "print(macro_f1)"
   ]
  },
  {
   "cell_type": "code",
   "execution_count": 10,
   "id": "86d5c5dd-26d1-4abb-b3b8-5143d6a2abfb",
   "metadata": {},
   "outputs": [],
   "source": [
    "# 패키지로부터 클래스, 함수를 호출\n",
    "from sklearn.neural_network import MLPRegressor\n",
    "from sklearn.model_selection import train_test_split\n",
    "\n",
    "# diabetes 데이터셋 호출\n",
    "from sklearn.datasets import load_diabetes\n",
    "diabetes = load_diabetes()\n",
    "data = diabetes.data\n",
    "target = diabetes.target\n",
    "\n",
    "# 데이터 분할\n",
    "X_train, X_test, y_train, y_test = train_test_split(data, target,test_size = 0.2,random_state = 2205)\n",
    "\n",
    "# 모형객체 생성\n",
    "ann_conti = MLPRegressor(alpha = 0.5, max_iter = 10000, random_state = 2022)\n",
    "\n",
    "# 모델학습\n",
    "model_ann_conti = ann_conti.fit(X_train, y_train)"
   ]
  },
  {
   "cell_type": "code",
   "execution_count": 11,
   "id": "2ab9ae69-1aeb-457c-8898-032f43ba000e",
   "metadata": {},
   "outputs": [
    {
     "name": "stdout",
     "output_type": "stream",
     "text": [
      "60.216866732362384\n"
     ]
    }
   ],
   "source": [
    "# RMSE\n",
    "from sklearn.metrics import mean_squared_error\n",
    "y_pred = model_ann_conti.predict(X_test)\n",
    "rmse = mean_squared_error(y_test, y_pred, squared = False)\n",
    "print(rmse)"
   ]
  }
 ],
 "metadata": {
  "hide_input": false,
  "kernelspec": {
   "display_name": "Python 3 (ipykernel)",
   "language": "python",
   "name": "python3"
  },
  "language_info": {
   "codemirror_mode": {
    "name": "ipython",
    "version": 3
   },
   "file_extension": ".py",
   "mimetype": "text/x-python",
   "name": "python",
   "nbconvert_exporter": "python",
   "pygments_lexer": "ipython3",
   "version": "3.9.12"
  },
  "toc": {
   "base_numbering": 1,
   "nav_menu": {},
   "number_sections": false,
   "sideBar": true,
   "skip_h1_title": false,
   "title_cell": "Table of Contents",
   "title_sidebar": "Contents",
   "toc_cell": false,
   "toc_position": {},
   "toc_section_display": true,
   "toc_window_display": false
  },
  "varInspector": {
   "cols": {
    "lenName": 16,
    "lenType": 16,
    "lenVar": 40
   },
   "kernels_config": {
    "python": {
     "delete_cmd_postfix": "",
     "delete_cmd_prefix": "del ",
     "library": "var_list.py",
     "varRefreshCmd": "print(var_dic_list())"
    },
    "r": {
     "delete_cmd_postfix": ") ",
     "delete_cmd_prefix": "rm(",
     "library": "var_list.r",
     "varRefreshCmd": "cat(var_dic_list()) "
    }
   },
   "types_to_exclude": [
    "module",
    "function",
    "builtin_function_or_method",
    "instance",
    "_Feature"
   ],
   "window_display": false
  }
 },
 "nbformat": 4,
 "nbformat_minor": 5
}
