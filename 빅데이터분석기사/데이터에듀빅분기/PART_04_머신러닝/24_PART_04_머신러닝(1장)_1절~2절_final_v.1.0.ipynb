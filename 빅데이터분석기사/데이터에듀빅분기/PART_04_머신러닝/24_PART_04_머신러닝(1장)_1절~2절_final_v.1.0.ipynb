{
 "cells": [
  {
   "cell_type": "markdown",
   "id": "c65b1643",
   "metadata": {},
   "source": [
    "### PART 04) 머신러닝"
   ]
  },
  {
   "cell_type": "markdown",
   "id": "4e1be88e",
   "metadata": {},
   "source": [
    "## 1장. 지도학습모형"
   ]
  },
  {
   "cell_type": "markdown",
   "id": "8e175d52",
   "metadata": {},
   "source": [
    "### 1절. 데이터 분할"
   ]
  },
  {
   "cell_type": "markdown",
   "id": "0fb7c26e-6c50-46ff-813f-7ede9a7ed97e",
   "metadata": {},
   "source": [
    "#### 1. 홀드아웃"
   ]
  },
  {
   "cell_type": "code",
   "execution_count": 3,
   "id": "98c7f5d7",
   "metadata": {},
   "outputs": [
    {
     "name": "stdout",
     "output_type": "stream",
     "text": [
      "(398, 30) (171, 30) (398,) (171,)\n"
     ]
    }
   ],
   "source": [
    "# breast_cancer 데이터셋 호출\n",
    "from sklearn.datasets import load_breast_cancer\n",
    "breast_cancer = load_breast_cancer()\n",
    "data = breast_cancer.data\n",
    "target = breast_cancer.target\n",
    "\n",
    "# train_test_split 함수 호출\n",
    "from sklearn.model_selection import train_test_split\n",
    "\n",
    "# arrays에 아래와 같이 data와 target을 둘 다 넣을 경우,\n",
    "# X와 y에 대해 train과 test가 분할된 데이터셋들을 반환함\n",
    "# cf) data만 입력하면 X에 대한 train, test를 분할해서 반환함\n",
    "# random_state를 특정 숫자로 입력할 경우, 계속해서 동일한 데이터셋으로 분할됨\n",
    "X_train, X_test, y_train, y_test = train_test_split(data, target, test_size = 0.3, random_state = 2022)\n",
    "print(X_train.shape, X_test.shape,y_train.shape, y_test.shape)"
   ]
  },
  {
   "cell_type": "code",
   "execution_count": 4,
   "id": "2f9b617e-ca81-4fc4-ba91-450901db22f1",
   "metadata": {},
   "outputs": [
    {
     "name": "stdout",
     "output_type": "stream",
     "text": [
      "(398, 30) (171, 30) (398,) (171,)\n"
     ]
    }
   ],
   "source": [
    "# stratify = target은 원래의 target 컬럼의 0과 1의 비율을 반영하여 데이터를 분할\n",
    "X_train, X_test, y_train, y_test = train_test_split(data, target, test_size = 0.3, random_state = 2022, stratify = target)\n",
    "print(X_train.shape, X_test.shape, y_train.shape, y_test.shape)"
   ]
  },
  {
   "cell_type": "markdown",
   "id": "2a56704b-cc21-420e-97a3-31501cf49f70",
   "metadata": {},
   "source": [
    "#### 2. K-fold"
   ]
  },
  {
   "cell_type": "code",
   "execution_count": 5,
   "id": "fe09742a-147b-4981-afdd-e1c84c565190",
   "metadata": {},
   "outputs": [
    {
     "name": "stdout",
     "output_type": "stream",
     "text": [
      "학습 : [2 3 4 5 6 7 8 9] 평가 : [0 1]\n",
      "학습 : [0 1 4 5 6 7 8 9] 평가 : [2 3]\n",
      "학습 : [0 1 2 3 6 7 8 9] 평가 : [4 5]\n",
      "학습 : [0 1 2 3 4 5 8 9] 평가 : [6 7]\n",
      "학습 : [0 1 2 3 4 5 6 7] 평가 : [8 9]\n"
     ]
    }
   ],
   "source": [
    "# 넘파이 배열 생성\n",
    "import numpy as np\n",
    "X = np.arange(10)\n",
    "\n",
    "# KFold 클래스 호출\n",
    "from sklearn.model_selection import KFold\n",
    "kfold = KFold(n_splits = 5) # k = 5\n",
    "\n",
    "# 메소드 .split은 학습, 평가 데이터의 인덱스를 생성해줌\n",
    "for train_idx, test_idx in kfold.split(X) :\n",
    "    print(\"학습 :\", train_idx, \"평가 :\", test_idx) # 인덱스번호"
   ]
  },
  {
   "cell_type": "code",
   "execution_count": 6,
   "id": "32dc5cce-18bf-4378-af5f-d4a081e1c059",
   "metadata": {},
   "outputs": [
    {
     "name": "stdout",
     "output_type": "stream",
     "text": [
      "학습 : [ 2  3  4  5  7  8 11 12 13 14] 평가 : [ 0  1  6  9 10]\n",
      "학습 : [ 0  1  4  5  6  8  9 10 13 14] 평가 : [ 2  3  7 11 12]\n",
      "학습 : [ 0  1  2  3  6  7  9 10 11 12] 평가 : [ 4  5  8 13 14]\n"
     ]
    }
   ],
   "source": [
    "import numpy as np\n",
    "X = np.arange(15) # 넘파이 배열 생성\n",
    "y = [0] * 6 + [1] * 3 + [2] * 6 # 리스트 생성\n",
    "\n",
    "# y = [0,0,0,0,0,0,1,1,1,2,2,2,2,2,2]로 해도 됨\n",
    "# StratifiedKFold 클래스 호출\n",
    "from sklearn.model_selection import StratifiedKFold\n",
    "kfold = StratifiedKFold(n_splits = 3) # k = 3\n",
    "\n",
    "# 메소드 .split은 학습, 평가 데이터의 인덱스를 생성해줌\n",
    "# 동시에 y의 0,1,2 비율도 함께 고려함\n",
    "for train_idx, test_idx in kfold.split(X, y) :\n",
    "    print(\"학습 :\", train_idx, \"평가 :\", test_idx) # 인덱스번호"
   ]
  },
  {
   "cell_type": "markdown",
   "id": "a105d92d-2f68-4b95-99b8-bba026dc06cb",
   "metadata": {},
   "source": [
    "---"
   ]
  },
  {
   "cell_type": "markdown",
   "id": "b5761786-9cc1-4c03-b8ea-7bc2b761cc78",
   "metadata": {},
   "source": [
    "### 2절. 성과분석"
   ]
  },
  {
   "cell_type": "markdown",
   "id": "451f22d8-bc51-4aa8-b679-4d1dbcb6c813",
   "metadata": {},
   "source": [
    "#### 1. 분류 지표"
   ]
  },
  {
   "cell_type": "code",
   "execution_count": 14,
   "id": "8b7d44f4-8214-462c-b85f-38f132f864ff",
   "metadata": {},
   "outputs": [
    {
     "data": {
      "text/plain": [
       "array([[2, 1],\n",
       "       [0, 3]], dtype=int64)"
      ]
     },
     "execution_count": 14,
     "metadata": {},
     "output_type": "execute_result"
    }
   ],
   "source": [
    "# 함수 confusion_matrix() 호출\n",
    "from sklearn.metrics import confusion_matrix\n",
    "\n",
    "# 이진분류\n",
    "y_true = [0, 0, 0, 1, 1, 1]\n",
    "y_pred = [0, 1, 0, 1, 1, 1]\n",
    "confusion_matrix(y_true, y_pred) # 혼동행렬"
   ]
  },
  {
   "cell_type": "code",
   "execution_count": 15,
   "id": "0501a742-54cf-4961-9432-49573aadde26",
   "metadata": {},
   "outputs": [
    {
     "data": {
      "text/plain": [
       "array([[2, 1],\n",
       "       [0, 3]], dtype=int64)"
      ]
     },
     "execution_count": 15,
     "metadata": {},
     "output_type": "execute_result"
    }
   ],
   "source": [
    "# 이진분류(레이블로 되어있을 경우)\n",
    "y_true = ['A', 'A', 'A', 'B', 'B', 'B']\n",
    "y_pred = ['A', 'B', 'A', 'B', 'B', 'B']\n",
    "confusion_matrix(y_true, y_pred, labels = ['A', 'B']) # 혼동행렬(레이블구분)"
   ]
  },
  {
   "cell_type": "code",
   "execution_count": 16,
   "id": "fafa9764-954e-4c14-832f-9883b97fdec0",
   "metadata": {},
   "outputs": [
    {
     "data": {
      "text/plain": [
       "array([[1, 2, 0],\n",
       "       [1, 1, 0],\n",
       "       [1, 1, 2]], dtype=int64)"
      ]
     },
     "execution_count": 16,
     "metadata": {},
     "output_type": "execute_result"
    }
   ],
   "source": [
    "# 다지분류(레이블:0,1,2)\n",
    "y_true = [0, 0, 0, 1, 1, 2, 2, 2, 2]\n",
    "y_pred = [0, 1, 1, 1, 0, 0, 1, 2, 2]\n",
    "confusion_matrix(y_true, y_pred) # 혼동행렬"
   ]
  },
  {
   "cell_type": "code",
   "execution_count": 17,
   "id": "63629c0e-f940-4065-9e4b-5f8e6b80d2a0",
   "metadata": {},
   "outputs": [
    {
     "name": "stdout",
     "output_type": "stream",
     "text": [
      "0.8333333333333334\n",
      "1.0\n"
     ]
    }
   ],
   "source": [
    "# 함수 호출\n",
    "from sklearn.metrics import accuracy_score, recall_score, precision_score, f1_score\n",
    "\n",
    "# 이진분류\n",
    "y_true = [0, 0, 0, 1, 1, 1]\n",
    "y_pred = [0, 1, 0, 1, 1, 1]\n",
    "\n",
    "# 정분류율(Accuracy)\n",
    "accuracy = accuracy_score(y_true, y_pred)\n",
    "print(accuracy)\n",
    "\n",
    "# 재현율(Recall)\n",
    "recall = recall_score(y_true, y_pred)\n",
    "print(recall)"
   ]
  },
  {
   "cell_type": "code",
   "execution_count": 18,
   "id": "c4003a11-9d93-4913-8f5d-7b136b89b336",
   "metadata": {},
   "outputs": [
    {
     "name": "stdout",
     "output_type": "stream",
     "text": [
      "0.75\n",
      "0.8571428571428571\n"
     ]
    }
   ],
   "source": [
    "# 정밀도(Precision)\n",
    "precision = precision_score(y_true, y_pred)\n",
    "print(precision)\n",
    "\n",
    "# f1-score\n",
    "f1 = f1_score(y_true, y_pred)\n",
    "print(f1)"
   ]
  },
  {
   "cell_type": "code",
   "execution_count": 19,
   "id": "0d45524a-1b22-41ec-85e6-1276499cb52c",
   "metadata": {},
   "outputs": [
    {
     "name": "stdout",
     "output_type": "stream",
     "text": [
      "0.888888888888889\n"
     ]
    }
   ],
   "source": [
    "# 함수 호출\n",
    "from sklearn.metrics import roc_curve, auc\n",
    "\n",
    "# 이진분류\n",
    "y_true = [0, 0, 0, 1, 1, 1]\n",
    "y_score = [0.1, 0.75, 0.35, 0.92, 0.81, 0.68]\n",
    "\n",
    "# ROC\n",
    "# 함수 roc_curve()는 fpr, tpr, thresholds 세 가지를 반환함\n",
    "fpr, tpr, thresholds = roc_curve(y_true, y_score)\n",
    "\n",
    "# AUC\n",
    "AUC = auc(fpr, tpr) # roc_curve()에서 반환된 fpr을 x축, tpr을 y축\n",
    "print(AUC)"
   ]
  },
  {
   "cell_type": "markdown",
   "id": "c1a0464a-953f-4574-abc6-6cc17f53d2ee",
   "metadata": {},
   "source": [
    "#### 2. 예측 지표"
   ]
  },
  {
   "cell_type": "code",
   "execution_count": 23,
   "id": "0c47cbf0-1b39-4e48-a89e-594506939881",
   "metadata": {},
   "outputs": [
    {
     "name": "stdout",
     "output_type": "stream",
     "text": [
      "[0.69646919 0.28613933 0.22685145 0.55131477 0.71946897]\n",
      "[0.42310646 0.9807642  0.68482974 0.4809319  0.39211752]\n"
     ]
    }
   ],
   "source": [
    "# 함수 호출\n",
    "from sklearn.metrics import mean_squared_error, mean_absolute_error, mean_absolute_percentage_error\n",
    "\n",
    "# 연속형 데이터\n",
    "# 균일분포 (0,1)에서 임의의 난수 생성\n",
    "import numpy as np\n",
    "np.random.seed(123) # 난수 고정\n",
    "\n",
    "y_true = np.random.random_sample(5) # 균일분포 (0,1)에서 5개 랜덤 추출\n",
    "print(y_true)\n",
    "\n",
    "y_pred = np.random.random_sample(5) # 균일분포 (0,1)에서 5개 랜덤 추출\n",
    "print(y_pred)"
   ]
  },
  {
   "cell_type": "code",
   "execution_count": 24,
   "id": "761851af-b9d7-480f-95d9-80bb9512acbe",
   "metadata": {},
   "outputs": [
    {
     "name": "stdout",
     "output_type": "stream",
     "text": [
      "0.17581754220802784\n",
      "0.36474003862364796\n",
      "1.0843148337483364\n"
     ]
    }
   ],
   "source": [
    "# MSE\n",
    "mse = mean_squared_error(y_true, y_pred)\n",
    "print(mse)\n",
    "\n",
    "# MAE\n",
    "mae = mean_absolute_error(y_true, y_pred)\n",
    "print(mae)\n",
    "\n",
    "# MAPE\n",
    "mape = mean_absolute_percentage_error(y_true, y_pred)\n",
    "print(mape)"
   ]
  }
 ],
 "metadata": {
  "hide_input": false,
  "kernelspec": {
   "display_name": "Python 3 (ipykernel)",
   "language": "python",
   "name": "python3"
  },
  "language_info": {
   "codemirror_mode": {
    "name": "ipython",
    "version": 3
   },
   "file_extension": ".py",
   "mimetype": "text/x-python",
   "name": "python",
   "nbconvert_exporter": "python",
   "pygments_lexer": "ipython3",
   "version": "3.9.12"
  },
  "toc": {
   "base_numbering": 1,
   "nav_menu": {},
   "number_sections": false,
   "sideBar": true,
   "skip_h1_title": false,
   "title_cell": "Table of Contents",
   "title_sidebar": "Contents",
   "toc_cell": false,
   "toc_position": {},
   "toc_section_display": true,
   "toc_window_display": false
  },
  "varInspector": {
   "cols": {
    "lenName": 16,
    "lenType": 16,
    "lenVar": 40
   },
   "kernels_config": {
    "python": {
     "delete_cmd_postfix": "",
     "delete_cmd_prefix": "del ",
     "library": "var_list.py",
     "varRefreshCmd": "print(var_dic_list())"
    },
    "r": {
     "delete_cmd_postfix": ") ",
     "delete_cmd_prefix": "rm(",
     "library": "var_list.r",
     "varRefreshCmd": "cat(var_dic_list()) "
    }
   },
   "types_to_exclude": [
    "module",
    "function",
    "builtin_function_or_method",
    "instance",
    "_Feature"
   ],
   "window_display": false
  }
 },
 "nbformat": 4,
 "nbformat_minor": 5
}
