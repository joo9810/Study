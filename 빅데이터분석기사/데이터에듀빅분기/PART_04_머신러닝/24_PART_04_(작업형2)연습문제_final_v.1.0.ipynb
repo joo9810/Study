{
 "cells": [
  {
   "cell_type": "markdown",
   "id": "4e1be88e",
   "metadata": {},
   "source": [
    "## (작업형2) 연습문제"
   ]
  },
  {
   "cell_type": "markdown",
   "id": "8e175d52",
   "metadata": {},
   "source": [
    "#### 1. 아래는 가상 온라인 축구게임(FIFA)에 등장하는 축구 선수의 주요 특징과 신체 정보에 대한 데이터의 일부이다. 주어진 데이터를 이용하여 예측 모형을 만들고 아래에 따라 CSV 파일을 생성하시오."
   ]
  },
  {
   "cell_type": "code",
   "execution_count": 3,
   "id": "3f84429b-8623-4685-8319-2d2a8a6d89d4",
   "metadata": {},
   "outputs": [],
   "source": [
    "#### 연습문제1 Solution\n",
    "##### STEP1. 데이터셋 불러오기\n",
    "import pandas as pd\n",
    "X_train = pd.read_csv('data/연습문제/FIFA_X_train.csv', encoding = 'cp949')\n",
    "X_test = pd.read_csv('data/연습문제/FIFA_X_test.csv', encoding = 'cp949')\n",
    "y_train = pd.read_csv('data/연습문제/FIFA_y_train.csv', encoding = 'cp949')"
   ]
  },
  {
   "cell_type": "code",
   "execution_count": 4,
   "id": "2340bf19-da2c-49cd-9b17-a9f1769e359f",
   "metadata": {},
   "outputs": [
    {
     "name": "stdout",
     "output_type": "stream",
     "text": [
      "       ID Age     Nationality  Overall                Club Preferred_Foot  \\\n",
      "0  137351  34         Germany       79         FC Augsburg          Right   \n",
      "1  207707  29          Brazil       77  Olympique Lyonnais           Left   \n",
      "2  242101  22  Korea Republic       64     Pohang Steelers          Right   \n",
      "3  200104  25  Korea Republic       84   Tottenham Hotspur          Right   \n",
      "4  244229  2*           Italy       66          Cittadella          Right   \n",
      "\n",
      "        Work_Rate Position Position_Class  Jersey_Number  \\\n",
      "0    Medium/ High      CDM       Defender             10   \n",
      "1  Medium/ Medium       LB       Defender             20   \n",
      "2    High/ Medium       RW        Forward             18   \n",
      "3      High/ High       LM     Midfielder              7   \n",
      "4  Medium/ Medium       CB       Defender             15   \n",
      "\n",
      "   Contract_Valid_Until Height  Height_cm  Weight_lb  Release_Clause  Wage  \n",
      "0                  2019    5'9      172.5        172            6500    28  \n",
      "1                  2021   5'10      175.0        163           12400    54  \n",
      "2                  2021    6'1      182.5        170            1000     2  \n",
      "3                  2023    6'0      180.0        143           71200   125  \n",
      "4                  2020    6'2        NaN        170            1400     1  \n",
      "       ID  Value\n",
      "0  190972  18500\n",
      "1  179646    500\n",
      "2  225440   1200\n",
      "3  212642    325\n",
      "4  245804    220\n"
     ]
    }
   ],
   "source": [
    "##### STEP2. 데이터셋 확인하기\n",
    "###### STEP2-1. 데이터셋 일부 확인\n",
    "X_train.head()\n",
    "print(X_test.head())\n",
    "print(y_train.head())"
   ]
  },
  {
   "cell_type": "code",
   "execution_count": 5,
   "id": "3aee0383-e2e0-424a-afad-adf0f6242a09",
   "metadata": {},
   "outputs": [
    {
     "name": "stdout",
     "output_type": "stream",
     "text": [
      "<class 'pandas.core.frame.DataFrame'>\n",
      "RangeIndex: 3600 entries, 0 to 3599\n",
      "Data columns (total 16 columns):\n",
      " #   Column                Non-Null Count  Dtype  \n",
      "---  ------                --------------  -----  \n",
      " 0   ID                    3600 non-null   int64  \n",
      " 1   Age                   3600 non-null   object \n",
      " 2   Nationality           3600 non-null   object \n",
      " 3   Overall               3600 non-null   int64  \n",
      " 4   Club                  3600 non-null   object \n",
      " 5   Preferred_Foot        3600 non-null   object \n",
      " 6   Work_Rate             3600 non-null   object \n",
      " 7   Position              3600 non-null   object \n",
      " 8   Position_Class        2842 non-null   object \n",
      " 9   Jersey_Number         3600 non-null   int64  \n",
      " 10  Contract_Valid_Until  3600 non-null   int64  \n",
      " 11  Height                3600 non-null   object \n",
      " 12  Height_cm             3308 non-null   float64\n",
      " 13  Weight_lb             3528 non-null   float64\n",
      " 14  Release_Clause        3600 non-null   int64  \n",
      " 15  Wage                  3600 non-null   int64  \n",
      "dtypes: float64(2), int64(6), object(8)\n",
      "memory usage: 450.1+ KB\n",
      "None\n"
     ]
    }
   ],
   "source": [
    "###### STEP2-2. 데이터셋 요약 정보 확인\n",
    "print(X_train.info())"
   ]
  },
  {
   "cell_type": "code",
   "execution_count": 6,
   "id": "d7921c34-c6dd-4872-820b-8f4d1c0c0ee0",
   "metadata": {},
   "outputs": [
    {
     "name": "stdout",
     "output_type": "stream",
     "text": [
      "                  ID      Overall  Jersey_Number  Contract_Valid_Until  \\\n",
      "count    3600.000000  3600.000000    3600.000000           3600.000000   \n",
      "mean   214137.233611    66.112500      19.623333           2020.267500   \n",
      "std     29536.484864     6.903121      15.665325              1.314569   \n",
      "min      2147.000000    46.000000       1.000000           2018.000000   \n",
      "25%    199536.500000    62.000000       8.000000           2019.000000   \n",
      "50%    221322.500000    66.000000      17.000000           2020.000000   \n",
      "75%    236814.000000    71.000000      26.000000           2021.000000   \n",
      "max    246606.000000    89.000000      99.000000           2026.000000   \n",
      "\n",
      "         Height_cm    Weight_lb  Release_Clause         Wage  \n",
      "count  3308.000000  3528.000000     3600.000000  3600.000000  \n",
      "mean    178.276149   166.061508     4414.664722     9.325000  \n",
      "std       6.514353    15.590009     9993.717205    19.607412  \n",
      "min     155.000000   115.000000       13.000000     1.000000  \n",
      "25%     172.500000   154.000000      536.000000     1.000000  \n",
      "50%     177.500000   165.000000     1200.000000     3.000000  \n",
      "75%     182.500000   176.000000     3600.000000     9.000000  \n",
      "max     202.500000   229.000000   165800.000000   250.000000  \n",
      "                  ID      Overall  Jersey_Number  Contract_Valid_Until  \\\n",
      "count    2400.000000  2400.000000    2400.000000           2400.000000   \n",
      "mean   213967.265417    66.200000      19.720000           2020.251667   \n",
      "std     31874.993242     7.053302      16.201985              1.287383   \n",
      "min        16.000000    47.000000       1.000000           2018.000000   \n",
      "25%    200245.500000    62.000000       8.750000           2019.000000   \n",
      "50%    222183.000000    66.000000      17.000000           2020.000000   \n",
      "75%    237457.750000    71.000000      26.000000           2021.000000   \n",
      "max    246617.000000    92.000000      99.000000           2025.000000   \n",
      "\n",
      "         Height_cm    Weight_lb  Release_Clause         Wage  \n",
      "count  2212.000000  2400.000000     2400.000000  2400.000000  \n",
      "mean    178.297920   165.845417     4796.633750    10.177500  \n",
      "std       6.638623    15.311598    12610.117139    25.544364  \n",
      "min     157.500000   121.000000       15.000000     1.000000  \n",
      "25%     172.500000   154.000000      521.500000     1.000000  \n",
      "50%     177.500000   165.000000     1100.000000     3.000000  \n",
      "75%     182.500000   176.000000     3400.000000     9.000000  \n",
      "max     200.000000   220.000000   228100.000000   455.000000  \n",
      "                  ID         Value\n",
      "count    3600.000000   3600.000000\n",
      "mean   214137.233611   2348.593056\n",
      "std     29536.484864   5120.938813\n",
      "min      2147.000000     10.000000\n",
      "25%    199536.500000    325.000000\n",
      "50%    221322.500000    675.000000\n",
      "75%    236814.000000   2100.000000\n",
      "max    246606.000000  78000.000000\n"
     ]
    }
   ],
   "source": [
    "###### STEP2-3. 기초통계량 확인\n",
    "# 수치형 컬럼들의 기초통계 확인\n",
    "print(X_train.describe())\n",
    "print(X_test.describe())\n",
    "print(y_train.describe())"
   ]
  },
  {
   "cell_type": "code",
   "execution_count": 7,
   "id": "b694843a-7e7e-40ed-bb93-de5b29498975",
   "metadata": {},
   "outputs": [],
   "source": [
    "##### STEP3. 데이터셋 전처리\n",
    "###### STEP3-1. 불필요한 컬럼 삭제\n",
    "# ID 컬럼은 선수에 대한 고유 정보로 key 역할로 모델에는 불필요함\n",
    "# 결과 제출 시에는 X_test의 ID 컬럼이 필요하기 때문에 별도 저장\n",
    "ID = X_test['ID'].copy()\n",
    "\n",
    "# 데이터들에서 ID 컬럼 삭제\n",
    "X_train = X_train.drop(columns = 'ID')\n",
    "X_test = X_test.drop(columns = 'ID')\n",
    "y_train = y_train.drop(columns = 'ID')"
   ]
  },
  {
   "cell_type": "code",
   "execution_count": 10,
   "id": "62d71fb1-7ae4-4bed-89db-388695ce6a5c",
   "metadata": {},
   "outputs": [
    {
     "data": {
      "text/plain": [
       "Age                       0\n",
       "Nationality               0\n",
       "Overall                   0\n",
       "Club                      0\n",
       "Preferred_Foot            0\n",
       "Work_Rate                 0\n",
       "Position                  0\n",
       "Position_Class          758\n",
       "Jersey_Number             0\n",
       "Contract_Valid_Until      0\n",
       "Height                    0\n",
       "Height_cm               292\n",
       "Weight_lb                72\n",
       "Release_Clause            0\n",
       "Wage                      0\n",
       "dtype: int64"
      ]
     },
     "execution_count": 10,
     "metadata": {},
     "output_type": "execute_result"
    }
   ],
   "source": [
    "##### STEP3-2. 결측치 처리\n",
    "# 결측치 확인\n",
    "X_train.isna().sum()"
   ]
  },
  {
   "cell_type": "code",
   "execution_count": 11,
   "id": "72bcdaa2-54cc-4d48-8684-f4ef64873784",
   "metadata": {},
   "outputs": [
    {
     "data": {
      "text/plain": [
       "Age                       0\n",
       "Nationality               0\n",
       "Overall                   0\n",
       "Club                      0\n",
       "Preferred_Foot            0\n",
       "Work_Rate                 0\n",
       "Position                  0\n",
       "Position_Class          509\n",
       "Jersey_Number             0\n",
       "Contract_Valid_Until      0\n",
       "Height                    0\n",
       "Height_cm               188\n",
       "Weight_lb                 0\n",
       "Release_Clause            0\n",
       "Wage                      0\n",
       "dtype: int64"
      ]
     },
     "execution_count": 11,
     "metadata": {},
     "output_type": "execute_result"
    }
   ],
   "source": [
    "X_test.isna().sum()"
   ]
  },
  {
   "cell_type": "code",
   "execution_count": 12,
   "id": "6e3d943c-34d0-44aa-8386-789596ae9d67",
   "metadata": {},
   "outputs": [
    {
     "data": {
      "text/plain": [
       "Defender      1400\n",
       "Midfielder     790\n",
       "Forward        652\n",
       "Name: Position_Class, dtype: int64"
      ]
     },
     "execution_count": 12,
     "metadata": {},
     "output_type": "execute_result"
    }
   ],
   "source": [
    "####### Position_Class 컬럼\n",
    "# 선수 포지션을 의미하는 Position의 카테고리를 통합하는 과정에서 누락되었을 것\n",
    "# 기존의 Position를 활용해 결측치를 대체\n",
    "X_train['Position_Class'].value_counts() # 누락된 범주는 카운트되지 않음"
   ]
  },
  {
   "cell_type": "code",
   "execution_count": 13,
   "id": "4e4255f1-29b2-4aca-9d58-673b50bd7575",
   "metadata": {},
   "outputs": [
    {
     "data": {
      "text/plain": [
       "Defender      1400\n",
       "Midfielder     790\n",
       "unknown        758\n",
       "Forward        652\n",
       "Name: Position_Class, dtype: int64"
      ]
     },
     "execution_count": 13,
     "metadata": {},
     "output_type": "execute_result"
    }
   ],
   "source": [
    "X_train['Position_Class'] = X_train['Position_Class'].fillna('unknown') # unknown으로 대체\n",
    "X_train['Position_Class'].value_counts() # 확인"
   ]
  },
  {
   "cell_type": "code",
   "execution_count": 14,
   "id": "49021e56-700e-4ce3-9e5a-2d429d2e3f7e",
   "metadata": {},
   "outputs": [
    {
     "data": {
      "text/html": [
       "<div>\n",
       "<style scoped>\n",
       "    .dataframe tbody tr th:only-of-type {\n",
       "        vertical-align: middle;\n",
       "    }\n",
       "\n",
       "    .dataframe tbody tr th {\n",
       "        vertical-align: top;\n",
       "    }\n",
       "\n",
       "    .dataframe thead th {\n",
       "        text-align: right;\n",
       "    }\n",
       "</style>\n",
       "<table border=\"1\" class=\"dataframe\">\n",
       "  <thead>\n",
       "    <tr style=\"text-align: right;\">\n",
       "      <th>Position_Class</th>\n",
       "      <th>Defender</th>\n",
       "      <th>Forward</th>\n",
       "      <th>Midfielder</th>\n",
       "      <th>unknown</th>\n",
       "    </tr>\n",
       "    <tr>\n",
       "      <th>Position</th>\n",
       "      <th></th>\n",
       "      <th></th>\n",
       "      <th></th>\n",
       "      <th></th>\n",
       "    </tr>\n",
       "  </thead>\n",
       "  <tbody>\n",
       "    <tr>\n",
       "      <th>CAM</th>\n",
       "      <td>0</td>\n",
       "      <td>0</td>\n",
       "      <td>212</td>\n",
       "      <td>0</td>\n",
       "    </tr>\n",
       "    <tr>\n",
       "      <th>CB</th>\n",
       "      <td>349</td>\n",
       "      <td>0</td>\n",
       "      <td>0</td>\n",
       "      <td>0</td>\n",
       "    </tr>\n",
       "    <tr>\n",
       "      <th>CDM</th>\n",
       "      <td>178</td>\n",
       "      <td>0</td>\n",
       "      <td>0</td>\n",
       "      <td>0</td>\n",
       "    </tr>\n",
       "    <tr>\n",
       "      <th>CF</th>\n",
       "      <td>0</td>\n",
       "      <td>12</td>\n",
       "      <td>0</td>\n",
       "      <td>0</td>\n",
       "    </tr>\n",
       "    <tr>\n",
       "      <th>CM</th>\n",
       "      <td>0</td>\n",
       "      <td>0</td>\n",
       "      <td>0</td>\n",
       "      <td>295</td>\n",
       "    </tr>\n",
       "    <tr>\n",
       "      <th>GK</th>\n",
       "      <td>0</td>\n",
       "      <td>0</td>\n",
       "      <td>0</td>\n",
       "      <td>391</td>\n",
       "    </tr>\n",
       "    <tr>\n",
       "      <th>LAM</th>\n",
       "      <td>0</td>\n",
       "      <td>0</td>\n",
       "      <td>4</td>\n",
       "      <td>0</td>\n",
       "    </tr>\n",
       "    <tr>\n",
       "      <th>LB</th>\n",
       "      <td>283</td>\n",
       "      <td>0</td>\n",
       "      <td>0</td>\n",
       "      <td>0</td>\n",
       "    </tr>\n",
       "    <tr>\n",
       "      <th>LCB</th>\n",
       "      <td>136</td>\n",
       "      <td>0</td>\n",
       "      <td>0</td>\n",
       "      <td>0</td>\n",
       "    </tr>\n",
       "    <tr>\n",
       "      <th>LCM</th>\n",
       "      <td>0</td>\n",
       "      <td>0</td>\n",
       "      <td>86</td>\n",
       "      <td>0</td>\n",
       "    </tr>\n",
       "    <tr>\n",
       "      <th>LDM</th>\n",
       "      <td>48</td>\n",
       "      <td>0</td>\n",
       "      <td>0</td>\n",
       "      <td>0</td>\n",
       "    </tr>\n",
       "    <tr>\n",
       "      <th>LF</th>\n",
       "      <td>0</td>\n",
       "      <td>0</td>\n",
       "      <td>0</td>\n",
       "      <td>3</td>\n",
       "    </tr>\n",
       "    <tr>\n",
       "      <th>LM</th>\n",
       "      <td>0</td>\n",
       "      <td>0</td>\n",
       "      <td>208</td>\n",
       "      <td>0</td>\n",
       "    </tr>\n",
       "    <tr>\n",
       "      <th>LS</th>\n",
       "      <td>0</td>\n",
       "      <td>42</td>\n",
       "      <td>0</td>\n",
       "      <td>0</td>\n",
       "    </tr>\n",
       "    <tr>\n",
       "      <th>LW</th>\n",
       "      <td>0</td>\n",
       "      <td>71</td>\n",
       "      <td>0</td>\n",
       "      <td>0</td>\n",
       "    </tr>\n",
       "    <tr>\n",
       "      <th>LWB</th>\n",
       "      <td>24</td>\n",
       "      <td>0</td>\n",
       "      <td>0</td>\n",
       "      <td>0</td>\n",
       "    </tr>\n",
       "    <tr>\n",
       "      <th>RAM</th>\n",
       "      <td>0</td>\n",
       "      <td>0</td>\n",
       "      <td>5</td>\n",
       "      <td>0</td>\n",
       "    </tr>\n",
       "    <tr>\n",
       "      <th>RB</th>\n",
       "      <td>263</td>\n",
       "      <td>0</td>\n",
       "      <td>0</td>\n",
       "      <td>0</td>\n",
       "    </tr>\n",
       "    <tr>\n",
       "      <th>RCB</th>\n",
       "      <td>119</td>\n",
       "      <td>0</td>\n",
       "      <td>0</td>\n",
       "      <td>0</td>\n",
       "    </tr>\n",
       "    <tr>\n",
       "      <th>RCM</th>\n",
       "      <td>0</td>\n",
       "      <td>0</td>\n",
       "      <td>65</td>\n",
       "      <td>0</td>\n",
       "    </tr>\n",
       "    <tr>\n",
       "      <th>RDM</th>\n",
       "      <td>0</td>\n",
       "      <td>0</td>\n",
       "      <td>0</td>\n",
       "      <td>44</td>\n",
       "    </tr>\n",
       "    <tr>\n",
       "      <th>RF</th>\n",
       "      <td>0</td>\n",
       "      <td>4</td>\n",
       "      <td>0</td>\n",
       "      <td>0</td>\n",
       "    </tr>\n",
       "    <tr>\n",
       "      <th>RM</th>\n",
       "      <td>0</td>\n",
       "      <td>0</td>\n",
       "      <td>210</td>\n",
       "      <td>0</td>\n",
       "    </tr>\n",
       "    <tr>\n",
       "      <th>RS</th>\n",
       "      <td>0</td>\n",
       "      <td>36</td>\n",
       "      <td>0</td>\n",
       "      <td>0</td>\n",
       "    </tr>\n",
       "    <tr>\n",
       "      <th>RW</th>\n",
       "      <td>0</td>\n",
       "      <td>62</td>\n",
       "      <td>0</td>\n",
       "      <td>0</td>\n",
       "    </tr>\n",
       "    <tr>\n",
       "      <th>RWB</th>\n",
       "      <td>0</td>\n",
       "      <td>0</td>\n",
       "      <td>0</td>\n",
       "      <td>25</td>\n",
       "    </tr>\n",
       "    <tr>\n",
       "      <th>ST</th>\n",
       "      <td>0</td>\n",
       "      <td>425</td>\n",
       "      <td>0</td>\n",
       "      <td>0</td>\n",
       "    </tr>\n",
       "  </tbody>\n",
       "</table>\n",
       "</div>"
      ],
      "text/plain": [
       "Position_Class  Defender  Forward  Midfielder  unknown\n",
       "Position                                              \n",
       "CAM                    0        0         212        0\n",
       "CB                   349        0           0        0\n",
       "CDM                  178        0           0        0\n",
       "CF                     0       12           0        0\n",
       "CM                     0        0           0      295\n",
       "GK                     0        0           0      391\n",
       "LAM                    0        0           4        0\n",
       "LB                   283        0           0        0\n",
       "LCB                  136        0           0        0\n",
       "LCM                    0        0          86        0\n",
       "LDM                   48        0           0        0\n",
       "LF                     0        0           0        3\n",
       "LM                     0        0         208        0\n",
       "LS                     0       42           0        0\n",
       "LW                     0       71           0        0\n",
       "LWB                   24        0           0        0\n",
       "RAM                    0        0           5        0\n",
       "RB                   263        0           0        0\n",
       "RCB                  119        0           0        0\n",
       "RCM                    0        0          65        0\n",
       "RDM                    0        0           0       44\n",
       "RF                     0        4           0        0\n",
       "RM                     0        0         210        0\n",
       "RS                     0       36           0        0\n",
       "RW                     0       62           0        0\n",
       "RWB                    0        0           0       25\n",
       "ST                     0      425           0        0"
      ]
     },
     "execution_count": 14,
     "metadata": {},
     "output_type": "execute_result"
    }
   ],
   "source": [
    "# pandas.crosstab(index, colums)는 교차표를 생성하는 판다스 함수\n",
    "# Postion 내 'CM', 'GK', 'LF', 'RDM', 'RWB'가 어느 Position_Class에도 속하지 않음\n",
    "pd.crosstab(index = X_train['Position'], columns = X_train['Position_Class'])"
   ]
  },
  {
   "cell_type": "code",
   "execution_count": 15,
   "id": "1e914f39-fe6d-450a-a989-55af9c2fbef7",
   "metadata": {},
   "outputs": [
    {
     "data": {
      "text/html": [
       "<div>\n",
       "<style scoped>\n",
       "    .dataframe tbody tr th:only-of-type {\n",
       "        vertical-align: middle;\n",
       "    }\n",
       "\n",
       "    .dataframe tbody tr th {\n",
       "        vertical-align: top;\n",
       "    }\n",
       "\n",
       "    .dataframe thead th {\n",
       "        text-align: right;\n",
       "    }\n",
       "</style>\n",
       "<table border=\"1\" class=\"dataframe\">\n",
       "  <thead>\n",
       "    <tr style=\"text-align: right;\">\n",
       "      <th>Position_Class</th>\n",
       "      <th>Defender</th>\n",
       "      <th>Forward</th>\n",
       "      <th>GoalKeeper</th>\n",
       "      <th>Midfielder</th>\n",
       "    </tr>\n",
       "    <tr>\n",
       "      <th>Position</th>\n",
       "      <th></th>\n",
       "      <th></th>\n",
       "      <th></th>\n",
       "      <th></th>\n",
       "    </tr>\n",
       "  </thead>\n",
       "  <tbody>\n",
       "    <tr>\n",
       "      <th>CAM</th>\n",
       "      <td>0</td>\n",
       "      <td>0</td>\n",
       "      <td>0</td>\n",
       "      <td>212</td>\n",
       "    </tr>\n",
       "    <tr>\n",
       "      <th>CB</th>\n",
       "      <td>349</td>\n",
       "      <td>0</td>\n",
       "      <td>0</td>\n",
       "      <td>0</td>\n",
       "    </tr>\n",
       "    <tr>\n",
       "      <th>CDM</th>\n",
       "      <td>178</td>\n",
       "      <td>0</td>\n",
       "      <td>0</td>\n",
       "      <td>0</td>\n",
       "    </tr>\n",
       "    <tr>\n",
       "      <th>CF</th>\n",
       "      <td>0</td>\n",
       "      <td>12</td>\n",
       "      <td>0</td>\n",
       "      <td>0</td>\n",
       "    </tr>\n",
       "    <tr>\n",
       "      <th>CM</th>\n",
       "      <td>0</td>\n",
       "      <td>0</td>\n",
       "      <td>0</td>\n",
       "      <td>295</td>\n",
       "    </tr>\n",
       "    <tr>\n",
       "      <th>GK</th>\n",
       "      <td>0</td>\n",
       "      <td>0</td>\n",
       "      <td>391</td>\n",
       "      <td>0</td>\n",
       "    </tr>\n",
       "    <tr>\n",
       "      <th>LAM</th>\n",
       "      <td>0</td>\n",
       "      <td>0</td>\n",
       "      <td>0</td>\n",
       "      <td>4</td>\n",
       "    </tr>\n",
       "    <tr>\n",
       "      <th>LB</th>\n",
       "      <td>283</td>\n",
       "      <td>0</td>\n",
       "      <td>0</td>\n",
       "      <td>0</td>\n",
       "    </tr>\n",
       "    <tr>\n",
       "      <th>LCB</th>\n",
       "      <td>136</td>\n",
       "      <td>0</td>\n",
       "      <td>0</td>\n",
       "      <td>0</td>\n",
       "    </tr>\n",
       "    <tr>\n",
       "      <th>LCM</th>\n",
       "      <td>0</td>\n",
       "      <td>0</td>\n",
       "      <td>0</td>\n",
       "      <td>86</td>\n",
       "    </tr>\n",
       "    <tr>\n",
       "      <th>LDM</th>\n",
       "      <td>48</td>\n",
       "      <td>0</td>\n",
       "      <td>0</td>\n",
       "      <td>0</td>\n",
       "    </tr>\n",
       "    <tr>\n",
       "      <th>LF</th>\n",
       "      <td>0</td>\n",
       "      <td>3</td>\n",
       "      <td>0</td>\n",
       "      <td>0</td>\n",
       "    </tr>\n",
       "    <tr>\n",
       "      <th>LM</th>\n",
       "      <td>0</td>\n",
       "      <td>0</td>\n",
       "      <td>0</td>\n",
       "      <td>208</td>\n",
       "    </tr>\n",
       "    <tr>\n",
       "      <th>LS</th>\n",
       "      <td>0</td>\n",
       "      <td>42</td>\n",
       "      <td>0</td>\n",
       "      <td>0</td>\n",
       "    </tr>\n",
       "    <tr>\n",
       "      <th>LW</th>\n",
       "      <td>0</td>\n",
       "      <td>71</td>\n",
       "      <td>0</td>\n",
       "      <td>0</td>\n",
       "    </tr>\n",
       "    <tr>\n",
       "      <th>LWB</th>\n",
       "      <td>24</td>\n",
       "      <td>0</td>\n",
       "      <td>0</td>\n",
       "      <td>0</td>\n",
       "    </tr>\n",
       "    <tr>\n",
       "      <th>RAM</th>\n",
       "      <td>0</td>\n",
       "      <td>0</td>\n",
       "      <td>0</td>\n",
       "      <td>5</td>\n",
       "    </tr>\n",
       "    <tr>\n",
       "      <th>RB</th>\n",
       "      <td>263</td>\n",
       "      <td>0</td>\n",
       "      <td>0</td>\n",
       "      <td>0</td>\n",
       "    </tr>\n",
       "    <tr>\n",
       "      <th>RCB</th>\n",
       "      <td>119</td>\n",
       "      <td>0</td>\n",
       "      <td>0</td>\n",
       "      <td>0</td>\n",
       "    </tr>\n",
       "    <tr>\n",
       "      <th>RCM</th>\n",
       "      <td>0</td>\n",
       "      <td>0</td>\n",
       "      <td>0</td>\n",
       "      <td>65</td>\n",
       "    </tr>\n",
       "    <tr>\n",
       "      <th>RDM</th>\n",
       "      <td>44</td>\n",
       "      <td>0</td>\n",
       "      <td>0</td>\n",
       "      <td>0</td>\n",
       "    </tr>\n",
       "    <tr>\n",
       "      <th>RF</th>\n",
       "      <td>0</td>\n",
       "      <td>4</td>\n",
       "      <td>0</td>\n",
       "      <td>0</td>\n",
       "    </tr>\n",
       "    <tr>\n",
       "      <th>RM</th>\n",
       "      <td>0</td>\n",
       "      <td>0</td>\n",
       "      <td>0</td>\n",
       "      <td>210</td>\n",
       "    </tr>\n",
       "    <tr>\n",
       "      <th>RS</th>\n",
       "      <td>0</td>\n",
       "      <td>36</td>\n",
       "      <td>0</td>\n",
       "      <td>0</td>\n",
       "    </tr>\n",
       "    <tr>\n",
       "      <th>RW</th>\n",
       "      <td>0</td>\n",
       "      <td>62</td>\n",
       "      <td>0</td>\n",
       "      <td>0</td>\n",
       "    </tr>\n",
       "    <tr>\n",
       "      <th>RWB</th>\n",
       "      <td>25</td>\n",
       "      <td>0</td>\n",
       "      <td>0</td>\n",
       "      <td>0</td>\n",
       "    </tr>\n",
       "    <tr>\n",
       "      <th>ST</th>\n",
       "      <td>0</td>\n",
       "      <td>425</td>\n",
       "      <td>0</td>\n",
       "      <td>0</td>\n",
       "    </tr>\n",
       "  </tbody>\n",
       "</table>\n",
       "</div>"
      ],
      "text/plain": [
       "Position_Class  Defender  Forward  GoalKeeper  Midfielder\n",
       "Position                                                 \n",
       "CAM                    0        0           0         212\n",
       "CB                   349        0           0           0\n",
       "CDM                  178        0           0           0\n",
       "CF                     0       12           0           0\n",
       "CM                     0        0           0         295\n",
       "GK                     0        0         391           0\n",
       "LAM                    0        0           0           4\n",
       "LB                   283        0           0           0\n",
       "LCB                  136        0           0           0\n",
       "LCM                    0        0           0          86\n",
       "LDM                   48        0           0           0\n",
       "LF                     0        3           0           0\n",
       "LM                     0        0           0         208\n",
       "LS                     0       42           0           0\n",
       "LW                     0       71           0           0\n",
       "LWB                   24        0           0           0\n",
       "RAM                    0        0           0           5\n",
       "RB                   263        0           0           0\n",
       "RCB                  119        0           0           0\n",
       "RCM                    0        0           0          65\n",
       "RDM                   44        0           0           0\n",
       "RF                     0        4           0           0\n",
       "RM                     0        0           0         210\n",
       "RS                     0       36           0           0\n",
       "RW                     0       62           0           0\n",
       "RWB                   25        0           0           0\n",
       "ST                     0      425           0           0"
      ]
     },
     "execution_count": 15,
     "metadata": {},
     "output_type": "execute_result"
    }
   ],
   "source": [
    "# X_train에 대해 누락된 카테고리 채우기\n",
    "PC_train = X_train['Position_Class'].copy()\n",
    "PC_train[X_train['Position'] == 'LF'] = 'Forward'\n",
    "PC_train[X_train['Position'] == 'CM'] = 'Midfielder'\n",
    "PC_train[X_train['Position'] == 'RDM'] = 'Defender'\n",
    "PC_train[X_train['Position'] == 'RWB'] = 'Defender'\n",
    "PC_train[X_train['Position'] == 'GK'] = 'GoalKeeper'\n",
    "X_train['Position_Class'] = PC_train\n",
    "\n",
    "# X_test에 대해 누락된 카테고리 채우기\n",
    "PC_test = X_test['Position_Class'].copy()\n",
    "PC_test[X_test['Position'] == 'LF'] = 'Forward'\n",
    "PC_test[X_test['Position'] == 'CM'] = 'Midfielder'\n",
    "PC_test[X_test['Position'] == 'RDM'] = 'Defender'\n",
    "PC_test[X_test['Position'] == 'RWB'] = 'Defender'\n",
    "PC_test[X_test['Position'] == 'GK'] = 'GoalKeeper'\n",
    "X_test['Position_Class'] = PC_test\n",
    "\n",
    "# 재확인\n",
    "pd.crosstab(index = X_train['Position'], columns = X_train['Position_Class'])"
   ]
  },
  {
   "cell_type": "code",
   "execution_count": 18,
   "id": "baaf6fac-15a6-4e5e-b658-dfead39d0784",
   "metadata": {},
   "outputs": [],
   "source": [
    "# 반복문으로 하는 방법\n",
    "lbl_pos = ['LF', 'CM', 'RDM', 'RWB', 'GK']\n",
    "lbl_PC = ['Forward', 'Midfielder', 'Defender', 'Defender', 'GoalKeeper']\n",
    "for r, s in zip(lbl_pos, lbl_PC): \n",
    "    PC_train[X_train['Position'] == r] = s \n",
    "    PC_test[X_test['Position'] == r] = s\n",
    "\n",
    "# 완료 후 Position 컬럼을 삭제\n",
    "X_train = X_train.drop(columns = 'Position')\n",
    "X_test = X_test.drop(columns = 'Position')"
   ]
  },
  {
   "cell_type": "code",
   "execution_count": 19,
   "id": "48a8abbf-4cf1-41d6-8c3e-95c28f8cd36b",
   "metadata": {},
   "outputs": [],
   "source": [
    "####### Height_cm 컬럼\n",
    "# 단위가 인치와 피트인 문자열 Height를 단위 변환하는 과정에서 누락되었을 것\n",
    "# 기존의 Height를 활용해 결측치를 대체\n",
    "# X_train에 대해 누락된 값 채우기\n",
    "Height_train = X_train['Height'].copy()\n",
    "Height_cm_train = X_train['Height_cm'].copy()\n",
    "\n",
    "# '를 기준으로 앞은 피트 * 30, 뒤는 인치 * 2.5한 후 합\n",
    "# '를 기준으로 문자열을 분리한 후, expand = True를 통해 다른 열에 할당함\n",
    "# 잘린 문자열은 수치형이랑 곱할 수 없으므로 astype() 메소드를 통해\n",
    "# 각 열(시리즈)들의 dtype을 float64로 저장되도록 함\n",
    "split_str_train = Height_train.str.split(\"'\", expand = True).astype('float64')\n",
    "\n",
    "# 결측치 대체\n",
    "Height_cm_train = Height_cm_train.fillna(split_str_train[0] * 30 + split_str_train[1] * 2.5)\n",
    "X_train['Height_cm'] = Height_cm_train\n",
    "\n",
    "# X_test에 대해 누락된 값 채우기\n",
    "Height_test = X_test['Height'].copy()\n",
    "Height_cm_test = X_test['Height_cm'].copy()\n",
    "\n",
    "# '를 기준으로 앞은 피트 * 30, 뒤는 인치 * 2.5한 후 합\n",
    "# '를 기준으로 문자열을 분리한 후, expand = True를 통해 다른 열에 할당함\n",
    "# 잘린 문자열은 수치형이랑 곱할 수 없으므로 astype() 메소드를 통해\n",
    "# 각 열(시리즈)들의 dtype을 float64로 저장되도록 함\n",
    "split_str_test = Height_test.str.split(\"'\", expand = True).astype('float64')\n",
    "\n",
    "# 결측치 대체\n",
    "Height_cm_test = Height_cm_test.fillna(split_str_test[0] * 30 + split_str_test[1] * 2.5)\n",
    "X_test['Height_cm'] = Height_cm_test\n",
    "\n",
    "# 완료 후 Height 컬럼을 삭제\n",
    "X_train = X_train.drop(columns = 'Height')\n",
    "X_test = X_test.drop(columns = 'Height')"
   ]
  },
  {
   "cell_type": "code",
   "execution_count": 20,
   "id": "04954de1-291d-4471-8073-e3796929765b",
   "metadata": {},
   "outputs": [
    {
     "name": "stdout",
     "output_type": "stream",
     "text": [
      "(3528, 1) (3528, 13)\n"
     ]
    }
   ],
   "source": [
    "####### Weight_lb 컬럼\n",
    "# Weight_lb는 파운드 단위인 선수의 몸무게로 train에만 2% 결측이므로 행 삭제\n",
    "# test에도 결측이 있을 경우, 시험에서는 삭제하면 안 되고 평균대치법과 같은 방법으로 대치해야함\n",
    "# Weight_lb가 결측인 조건\n",
    "cond_na = X_train['Weight_lb'].isna()\n",
    "\n",
    "# y_train에 대해 X_train에 누락된 Weight_lb가 있는 행을 삭제함\n",
    "y_train = y_train[~ cond_na]\n",
    "\n",
    "# X_train에 대해 X_train에 누락된 Weight_lb가 있는 행을 삭제함\n",
    "X_train = X_train[~ cond_na]\n",
    "\n",
    "# 레코드 삭제후 행/열 길이 확인\n",
    "print(y_train.shape, X_train.shape)"
   ]
  },
  {
   "cell_type": "code",
   "execution_count": 21,
   "id": "a1737b45-bf55-4c0a-996e-d53628a1ad52",
   "metadata": {},
   "outputs": [
    {
     "name": "stdout",
     "output_type": "stream",
     "text": [
      "Age                29\n",
      "Nationality       129\n",
      "Club              648\n",
      "Preferred_Foot      2\n",
      "Work_Rate           9\n",
      "Position_Class      4\n",
      "dtype: int64\n"
     ]
    }
   ],
   "source": [
    "###### STEP3-3. 카테고리형 컬럼 전처리\n",
    "# 문자열(object) 컬럼들의 유일값 수 확인\n",
    "print(X_train.select_dtypes('object').nunique())"
   ]
  },
  {
   "cell_type": "code",
   "execution_count": 22,
   "id": "47d162c1-2daa-42a5-ab8e-9cf808ee479d",
   "metadata": {},
   "outputs": [
    {
     "name": "stdout",
     "output_type": "stream",
     "text": [
      "Age                31\n",
      "Nationality       116\n",
      "Club              634\n",
      "Preferred_Foot      2\n",
      "Work_Rate           9\n",
      "Position_Class      4\n",
      "dtype: int64\n"
     ]
    }
   ],
   "source": [
    "print(X_test.select_dtypes('object').nunique())"
   ]
  },
  {
   "cell_type": "code",
   "execution_count": 23,
   "id": "f23a489b-747e-48ea-9caf-b7b15fcf31e0",
   "metadata": {},
   "outputs": [],
   "source": [
    "####### Age컬럼\n",
    "# 일부 선수의 나이가 일의 자리가 마스킹 되어있음\n",
    "# Age_gp(연령대)인 카테고리형 파생변수 생성\n",
    "X_train['Age_gp'] = X_train['Age'].str[0]\n",
    "X_test['Age_gp'] = X_test['Age'].str[0]\n",
    "\n",
    "# 완료 후 Age 컬럼을 삭제\n",
    "X_train = X_train.drop('Age', axis = 1)\n",
    "X_test = X_test.drop('Age', axis = 1)"
   ]
  },
  {
   "cell_type": "code",
   "execution_count": 24,
   "id": "c79efdbe-0d9c-4537-aa9a-95a03426ca8e",
   "metadata": {},
   "outputs": [],
   "source": [
    "####### Club컬럼\n",
    "# 현재 소속된 클럽으로, 예측에 불필요할 것으로 가정하고 컬럼을 삭제\n",
    "X_train = X_train.drop(columns = 'Club')\n",
    "X_test = X_test.drop(columns = 'Club')"
   ]
  },
  {
   "cell_type": "code",
   "execution_count": 28,
   "id": "c0b0c884-1cff-4442-a807-73cfcb7f858e",
   "metadata": {},
   "outputs": [
    {
     "name": "stdout",
     "output_type": "stream",
     "text": [
      "Right    2682\n",
      "Left      846\n",
      "Name: Preferred_Foot, dtype: int64\n"
     ]
    }
   ],
   "source": [
    "####### Preferred_Foot컬럼\n",
    "# 선수가 주로 사용하는 발\n",
    "print(X_train['Preferred_Foot'].value_counts())        "
   ]
  },
  {
   "cell_type": "code",
   "execution_count": 29,
   "id": "5b8c6571-a613-436f-a01c-6ec096938ea5",
   "metadata": {},
   "outputs": [
    {
     "name": "stdout",
     "output_type": "stream",
     "text": [
      "Right    1854\n",
      "Left      546\n",
      "Name: Preferred_Foot, dtype: int64\n"
     ]
    }
   ],
   "source": [
    "print(X_test['Preferred_Foot'].value_counts())  "
   ]
  },
  {
   "cell_type": "code",
   "execution_count": 30,
   "id": "ed5c44d7-5533-4c45-bf29-c422836ff028",
   "metadata": {},
   "outputs": [],
   "source": [
    "####### Work_Rate컬럼\n",
    "# 공격 운동량/ 방어 운동량\n",
    "# '/'를 기준으로 앞은 공격 운동량(WR_Attack), 뒤는 방어 운동량(WR_Defend) 컬럼으로 생성\n",
    "# '/' 뒤에 공백하나가 있음으로 이에 대한 제거가 필요\n",
    "# 그 이후 '/'를 기준으로 문자열을 분리한 후, expand = True를 통해 다른 열에 할당\n",
    "# train\n",
    "Work_Rate_train = X_train['Work_Rate'].copy()\n",
    "Work_Rate_train = Work_Rate_train.str.replace(' ','') # 공백 제거\n",
    "\n",
    "# '/'를 기준으로 문자열을 분리하여 파생변수 WR_Attack, WR_Defend 생성\n",
    "X_train['WR_Attack'] = Work_Rate_train.str.split(\"/\", expand = True)[0]\n",
    "X_train['WR_Defend'] = Work_Rate_train.str.split(\"/\", expand = True)[1]\n",
    "\n",
    "# test\n",
    "Work_Rate_test = X_test['Work_Rate'].copy()\n",
    "Work_Rate_train = Work_Rate_train.str.replace(' ','') # 공백 제거\n",
    "\n",
    "# '/'를 기준으로 문자열을 분리하여 파생변수 WR_Attack, WR_Defend 생성\n",
    "X_test['WR_Attack'] = Work_Rate_test.str.split(\"/\", expand = True)[0]\n",
    "X_test['WR_Defend'] = Work_Rate_test.str.split(\"/\", expand = True)[1]\n",
    "\n",
    "# 완료 후 Work_Rate 컬럼을 삭제\n",
    "X_train = X_train.drop(columns = 'Work_Rate')\n",
    "X_test = X_test.drop(columns = 'Work_Rate')"
   ]
  },
  {
   "cell_type": "code",
   "execution_count": 31,
   "id": "e14468d9-3f33-456a-9bfe-57d5f8edf73a",
   "metadata": {},
   "outputs": [],
   "source": [
    "###### STEP3-4. 수치형 컬럼 전처리\n",
    "####### Jersey_Number컬럼\n",
    "# Jersey_Number는 선수의 등번호로 불필요한 컬럼으로 가정하고 삭제\n",
    "# cf) 실제로 이 컬럼은 카테고리의 의미를 가짐을 주의해야함\n",
    "X_train = X_train.drop('Jersey_Number', axis = 1)\n",
    "X_test = X_test.drop('Jersey_Number', axis = 1)"
   ]
  },
  {
   "cell_type": "code",
   "execution_count": 32,
   "id": "4beec890-eb3a-44c9-952c-194920ec7ccc",
   "metadata": {},
   "outputs": [
    {
     "name": "stdout",
     "output_type": "stream",
     "text": [
      "[2018 2019 2020 2021 2022 2023 2024 2025 2026]\n",
      "[2018 2019 2020 2021 2022 2023 2024 2025]\n"
     ]
    }
   ],
   "source": [
    "####### Contract_Valid_Until컬럼\n",
    "# 계약 만료년도로 카테고리의 의미를 가짐\n",
    "# 유일값 확인 결과, 2019~2026의 레이블을 가지고\n",
    "# X_test에는 2026년은 없음\n",
    "print(X_train['Contract_Valid_Until'].sort_values().unique())\n",
    "print(X_test['Contract_Valid_Until'].sort_values().unique())\n",
    "\n",
    "# CVU_gp컬럼으로 따로 저장\n",
    "X_train['CVU_gp'] = X_train['Contract_Valid_Until'].astype('object') # dtype변환\n",
    "X_test['CVU_gp'] = X_test['Contract_Valid_Until'].astype('object') # dtype변환\n",
    "\n",
    "# 완료 후 Contract_Valid_Until 컬럼을 삭제\n",
    "X_train = X_train.drop('Contract_Valid_Until', axis = 1)\n",
    "X_test = X_test.drop('Contract_Valid_Until', axis = 1)"
   ]
  },
  {
   "cell_type": "code",
   "execution_count": 33,
   "id": "11b3081a-b1c4-4e82-bdcb-9f2d7356faf1",
   "metadata": {},
   "outputs": [],
   "source": [
    "####### 수치형 컬럼 간 상관관계 확인\n",
    "# 상관관계를 확인할 컬럼만\n",
    "colnm_conti = ['Overall', 'Height_cm', 'Weight_lb', 'Release_Clause', 'Wage']\n",
    "X_train[colnm_conti].corr()\n",
    "\n",
    "# Release_Clause 컬럼을 제외\n",
    "X_train = X_train.drop('Release_Clause', axis = 1)\n",
    "X_test = X_test.drop('Release_Clause', axis = 1)"
   ]
  },
  {
   "cell_type": "code",
   "execution_count": 34,
   "id": "a7673090-db9b-4fbf-8ded-063e092da144",
   "metadata": {},
   "outputs": [
    {
     "name": "stdout",
     "output_type": "stream",
     "text": [
      "(2469, 11)\n",
      "(1059, 11)\n",
      "(2469, 1)\n",
      "(1059, 1)\n"
     ]
    }
   ],
   "source": [
    "###### STEP3-5. 데이터 분할\n",
    "from sklearn.model_selection import train_test_split\n",
    "\n",
    "# X_train과 y_train을 학습용(X_TRAIN, y_TRAIN)과 검증용(X_VAL, y_VAL)로 분할\n",
    "X_TRAIN, X_VAL, y_TRAIN, y_VAL = train_test_split(X_train, y_train, random_state =1234, test_size = 0.3)\n",
    "\n",
    "# 분할 후 shape 확인\n",
    "print(X_TRAIN.shape)\n",
    "print(X_VAL.shape)\n",
    "print(y_TRAIN.shape)\n",
    "print(y_VAL.shape)"
   ]
  },
  {
   "cell_type": "code",
   "execution_count": 35,
   "id": "33ea09fe-dbb1-4997-b698-68a5904849c6",
   "metadata": {},
   "outputs": [],
   "source": [
    "###### STEP3-6. 인코딩\n",
    "# 카테고리형 컬럼에 대하여 원-핫 인코딩 수행\n",
    "from sklearn.preprocessing import OneHotEncoder\n",
    "\n",
    "# 인코딩할 카테고리형 컬럼만 별도 저장\n",
    "X_TRAIN_category = X_TRAIN.select_dtypes('object').copy()\n",
    "X_VAL_category = X_VAL.select_dtypes('object').copy()\n",
    "X_TEST_category = X_test.select_dtypes('object').copy()\n",
    "\n",
    "# Nationality의 유일 값 수가 데이터셋마다 다름\n",
    "# handle_unknown = 'ignore'은 Train에 없는 레이블이 Test에 있더라도 이들을 모두 0이됨\n",
    "enc = OneHotEncoder(handle_unknown = 'ignore', sparse = False).fit(X_TRAIN_category)\n",
    "\n",
    "# 원-핫 인코딩\n",
    "X_TRAIN_OH = enc.transform(X_TRAIN_category)\n",
    "X_VAL_OH = enc.transform(X_VAL_category)\n",
    "X_TEST_OH = enc.transform(X_TEST_category)"
   ]
  },
  {
   "cell_type": "code",
   "execution_count": 36,
   "id": "594abe36-4775-4fd7-bf3d-29e407b04be1",
   "metadata": {},
   "outputs": [],
   "source": [
    "###### STEP3-7. 스케일링\n",
    "from sklearn.preprocessing import StandardScaler\n",
    "\n",
    "# 스케일링할 컬럼만 별도 저장\n",
    "colnm_conti = ['Overall', 'Height_cm', 'Weight_lb', 'Wage']\n",
    "X_TRAIN_conti = X_TRAIN[colnm_conti].copy()\n",
    "X_VAL_conti = X_VAL[colnm_conti].copy()\n",
    "X_TEST_conti = X_test[colnm_conti].copy()\n",
    "\n",
    "# TRAIN 데이터 기준으로 스케일링함\n",
    "scale = StandardScaler().fit(X_TRAIN_conti)\n",
    "\n",
    "# z-점수 표준화\n",
    "X_TRAIN_STD = scale.transform(X_TRAIN_conti)\n",
    "X_VAL_STD = scale.transform(X_VAL_conti)\n",
    "X_TEST_STD = scale.transform(X_TEST_conti)"
   ]
  },
  {
   "cell_type": "code",
   "execution_count": 37,
   "id": "39c4760c-8119-4d55-b6e8-119c6272d34c",
   "metadata": {},
   "outputs": [],
   "source": [
    "###### STEP3-8. 입력 데이터셋 준비\n",
    "import numpy as np\n",
    "\n",
    "# 인코딩과 스케일링된 넘파이 ndarray 연결\n",
    "X_TRAIN = np.concatenate([X_TRAIN_OH, X_TRAIN_STD], axis = 1)\n",
    "X_VAL = np.concatenate([X_VAL_OH, X_VAL_STD], axis = 1)\n",
    "\n",
    "# 1차원 넘파이 ndarray로 평탄화\n",
    "y_TRAIN = y_TRAIN.values.ravel()\n",
    "y_VAL = y_VAL.values.ravel()"
   ]
  },
  {
   "cell_type": "code",
   "execution_count": 38,
   "id": "111a603a-924b-4ebb-9fe7-8751676d046e",
   "metadata": {},
   "outputs": [],
   "source": [
    "##### STEP4. 모델 학습\n",
    "from sklearn.tree import DecisionTreeRegressor\n",
    "from sklearn.ensemble import RandomForestRegressor, BaggingRegressor, AdaBoostRegressor\n",
    "\n",
    "###### STEP4-1. random forest\n",
    "rf = RandomForestRegressor(n_estimators = 500, max_depth = 3, min_samples_leaf = 10, max_features = 50, random_state = 2022)\n",
    "model_rf = rf.fit(X_TRAIN, y_TRAIN)"
   ]
  },
  {
   "cell_type": "code",
   "execution_count": 39,
   "id": "0459b2f0-c26a-4f69-a643-7d4f6ac94c1a",
   "metadata": {},
   "outputs": [],
   "source": [
    "###### STEP4-2. Bagging\n",
    "dtr = DecisionTreeRegressor(max_depth = 3, min_samples_leaf = 10)\n",
    "bag = BaggingRegressor(base_estimator = dtr, n_estimators = 500, random_state = 2022)\n",
    "model_bag = bag.fit(X_TRAIN, y_TRAIN)"
   ]
  },
  {
   "cell_type": "code",
   "execution_count": 40,
   "id": "ff9b96cd-5742-46c9-bb17-e904132ef18a",
   "metadata": {},
   "outputs": [],
   "source": [
    "###### STEP4-3. AdaBoost\n",
    "dtr = DecisionTreeRegressor(max_depth = 3, min_samples_leaf = 10)\n",
    "ada = AdaBoostRegressor(base_estimator = dtr, n_estimators = 500, learning_rate = 0.5, random_state = 2022)\n",
    "model_ada = ada.fit(X_TRAIN, y_TRAIN)"
   ]
  },
  {
   "cell_type": "code",
   "execution_count": 41,
   "id": "2deabc4e-1b68-498b-a529-ab76a1ae30c2",
   "metadata": {},
   "outputs": [
    {
     "name": "stdout",
     "output_type": "stream",
     "text": [
      "1846.2123354846974\n",
      "1502.89475016663\n",
      "2396.352145550122\n"
     ]
    }
   ],
   "source": [
    "###### STEP4-4. 성능평가(기준:RMSE)를 통한 모델 선정\n",
    "from sklearn.metrics import mean_squared_error\n",
    "\n",
    "# 검증용 데이터셋을 통한 예측\n",
    "pred_rf = model_rf.predict(X_VAL)\n",
    "pred_bag = model_bag.predict(X_VAL)\n",
    "pred_ada = model_ada.predict(X_VAL)\n",
    "\n",
    "# RMSE 계산\n",
    "rmse_rf = mean_squared_error(y_VAL, pred_rf, squared = False)\n",
    "print(rmse_rf)\n",
    "rmse_bag = mean_squared_error(y_VAL, pred_bag, squared = False)\n",
    "print(rmse_bag)\n",
    "rmse_ada = mean_squared_error(y_VAL, pred_ada, squared = False)\n",
    "print(rmse_ada)"
   ]
  },
  {
   "cell_type": "code",
   "execution_count": 42,
   "id": "022ac96a-2877-4322-b5a8-c64f5754e1ea",
   "metadata": {},
   "outputs": [],
   "source": [
    "##### STEP5. 결과 제출하기\n",
    "###### 실제 시험에서 답 제출시에는 성능이 가장 우수한 모형 하나만 구현!\n",
    "X_TEST = np.concatenate([X_TEST_OH, X_TEST_STD], axis = 1)\n",
    "y_pred = model_bag.predict(X_TEST)\n",
    "\n",
    "# 문제에서 요구하는 형태로 변환 필요\n",
    "obj = {'ID' : ID, 'Purchase' : y_pred}\n",
    "result = pd.DataFrame(obj)\n",
    "\n",
    "# 하위에 12345.csv 이름으로 저장하기\n",
    "result.to_csv(\"12345.csv\", index = False)"
   ]
  },
  {
   "cell_type": "code",
   "execution_count": 43,
   "id": "e3f6cdac-39a3-45e2-b605-4c83d7f0d7d8",
   "metadata": {},
   "outputs": [
    {
     "data": {
      "text/plain": [
       "2655.5156402866014"
      ]
     },
     "execution_count": 43,
     "metadata": {},
     "output_type": "execute_result"
    }
   ],
   "source": [
    "##### STEP6. 채점 모델 평가(번외)\n",
    "# 실제값\n",
    "actual = pd.read_csv('data/연습문제/FIFA_y_test.csv', encoding = 'cp949')\n",
    "actual = actual['Value'].ravel()\n",
    "\n",
    "# 채점 기준이 될 성과지표 값\n",
    "mean_squared_error(actual, y_pred, squared = False)"
   ]
  },
  {
   "cell_type": "markdown",
   "id": "1b33ef2d-9a94-4f14-967b-5a1cb75e1af3",
   "metadata": {},
   "source": [
    "---"
   ]
  },
  {
   "cell_type": "markdown",
   "id": "64d9d093-d57a-4f85-a561-81c0553560e7",
   "metadata": {},
   "source": [
    "#### 2. 아래는 1995년 US News and World Report에 따른 미국 대학별 사립 여부와 주요 속성 데이터의 일부이다. 주어진 데이터를 이용하여 예측 모형을 만들고 아래에 따라 CSV 파일을 생성하시오."
   ]
  },
  {
   "cell_type": "code",
   "execution_count": 1,
   "id": "f1bb7e99-e4fe-408d-a40c-197716fe25f3",
   "metadata": {},
   "outputs": [],
   "source": [
    "#### 연습문제2 Solution\n",
    "##### STEP1. 데이터셋 불러오기\n",
    "import pandas as pd\n",
    "X_train = pd.read_csv('data/연습문제/College_X_train.csv', encoding = 'cp949')\n",
    "X_test = pd.read_csv('data/연습문제/College_X_test.csv', encoding = 'cp949')\n",
    "y_train = pd.read_csv('data/연습문제/College_y_train.csv', encoding = 'cp949')"
   ]
  },
  {
   "cell_type": "code",
   "execution_count": 2,
   "id": "a507758b-5950-4f57-bab0-cbbcc9891d79",
   "metadata": {},
   "outputs": [
    {
     "name": "stdout",
     "output_type": "stream",
     "text": [
      "    ID                                           Name  Apps  Accept  Enroll  \\\n",
      "0   62                 Bowling Green State University  9251    7333    3076   \n",
      "1   79                California Polytechnic-San Luis  7811    3817    1650   \n",
      "2   80          California State University at Fresno  4540    3294    1483   \n",
      "3  120  Clinch Valley Coll. of  the Univ. of Virginia   689     561     250   \n",
      "4  162                         Delta State University   967     945     459   \n",
      "\n",
      "   Top10perc  Top25perc  F.Undergrad  P.Undergrad  Outstate  Room.Board  \\\n",
      "0         14         45        13699         1213      7452        3352   \n",
      "1         47         73        12911         1404      7380        4877   \n",
      "2          5         60        13494         1254      7706        4368   \n",
      "3         15         30         1125          422      7168        3689   \n",
      "4         15         48         2806          538      4528        1880   \n",
      "\n",
      "   Books  Personal  PhD  Terminal  S.F.Ratio  perc.alumni  Expend  Grad.Rate  \n",
      "0    600      1700   81        89       21.1           14    6918         67  \n",
      "1    612      2091   72        81       19.8           13    8453         59  \n",
      "2    600      1926   90        90       21.2            8    7268         61  \n",
      "3    600      1900   67        67       18.1            9    4417         46  \n",
      "4    500      1200   49        63       17.1           16    5113         58  \n",
      "    ID Private\n",
      "0  681      No\n",
      "1  746      No\n",
      "2  341      No\n",
      "3  413      No\n",
      "4  707      No\n"
     ]
    }
   ],
   "source": [
    "##### STEP2. 데이터셋 확인하기\n",
    "###### STEP2-1. 데이터셋 일부 확인\n",
    "X_train.head()\n",
    "print(X_test.head())\n",
    "print(y_train.head())"
   ]
  },
  {
   "cell_type": "code",
   "execution_count": 3,
   "id": "03cca2e7-f1f6-4474-bae6-bba9fed0d67c",
   "metadata": {},
   "outputs": [
    {
     "name": "stdout",
     "output_type": "stream",
     "text": [
      "<class 'pandas.core.frame.DataFrame'>\n",
      "RangeIndex: 621 entries, 0 to 620\n",
      "Data columns (total 19 columns):\n",
      " #   Column       Non-Null Count  Dtype  \n",
      "---  ------       --------------  -----  \n",
      " 0   ID           621 non-null    int64  \n",
      " 1   Name         621 non-null    object \n",
      " 2   Apps         621 non-null    int64  \n",
      " 3   Accept       621 non-null    int64  \n",
      " 4   Enroll       621 non-null    int64  \n",
      " 5   Top10perc    621 non-null    int64  \n",
      " 6   Top25perc    621 non-null    int64  \n",
      " 7   F.Undergrad  621 non-null    int64  \n",
      " 8   P.Undergrad  621 non-null    int64  \n",
      " 9   Outstate     621 non-null    int64  \n",
      " 10  Room.Board   621 non-null    int64  \n",
      " 11  Books        621 non-null    int64  \n",
      " 12  Personal     621 non-null    int64  \n",
      " 13  PhD          621 non-null    int64  \n",
      " 14  Terminal     621 non-null    int64  \n",
      " 15  S.F.Ratio    621 non-null    float64\n",
      " 16  perc.alumni  621 non-null    int64  \n",
      " 17  Expend       621 non-null    int64  \n",
      " 18  Grad.Rate    621 non-null    int64  \n",
      "dtypes: float64(1), int64(17), object(1)\n",
      "memory usage: 92.3+ KB\n",
      "None\n",
      "<class 'pandas.core.frame.DataFrame'>\n",
      "RangeIndex: 156 entries, 0 to 155\n",
      "Data columns (total 19 columns):\n",
      " #   Column       Non-Null Count  Dtype  \n",
      "---  ------       --------------  -----  \n",
      " 0   ID           156 non-null    int64  \n",
      " 1   Name         156 non-null    object \n",
      " 2   Apps         156 non-null    int64  \n",
      " 3   Accept       156 non-null    int64  \n",
      " 4   Enroll       156 non-null    int64  \n",
      " 5   Top10perc    156 non-null    int64  \n",
      " 6   Top25perc    156 non-null    int64  \n",
      " 7   F.Undergrad  156 non-null    int64  \n",
      " 8   P.Undergrad  156 non-null    int64  \n",
      " 9   Outstate     156 non-null    int64  \n",
      " 10  Room.Board   156 non-null    int64  \n",
      " 11  Books        156 non-null    int64  \n",
      " 12  Personal     156 non-null    int64  \n",
      " 13  PhD          156 non-null    int64  \n",
      " 14  Terminal     156 non-null    int64  \n",
      " 15  S.F.Ratio    156 non-null    float64\n",
      " 16  perc.alumni  156 non-null    int64  \n",
      " 17  Expend       156 non-null    int64  \n",
      " 18  Grad.Rate    156 non-null    int64  \n",
      "dtypes: float64(1), int64(17), object(1)\n",
      "memory usage: 23.3+ KB\n",
      "None\n",
      "<class 'pandas.core.frame.DataFrame'>\n",
      "RangeIndex: 621 entries, 0 to 620\n",
      "Data columns (total 2 columns):\n",
      " #   Column   Non-Null Count  Dtype \n",
      "---  ------   --------------  ----- \n",
      " 0   ID       621 non-null    int64 \n",
      " 1   Private  621 non-null    object\n",
      "dtypes: int64(1), object(1)\n",
      "memory usage: 9.8+ KB\n",
      "None\n"
     ]
    }
   ],
   "source": [
    "###### STEP2-2. 데이터셋 요약 정보 확인\n",
    "print(X_train.info())\n",
    "print(X_test.info())\n",
    "print(y_train.info())"
   ]
  },
  {
   "cell_type": "code",
   "execution_count": 4,
   "id": "067ef83a-ef81-4165-9b1e-19da7e0a6266",
   "metadata": {},
   "outputs": [
    {
     "name": "stdout",
     "output_type": "stream",
     "text": [
      "               ID          Apps        Accept       Enroll   Top10perc  \\\n",
      "count  621.000000    621.000000    621.000000   621.000000  621.000000   \n",
      "mean   390.267311   3129.035427   2100.785829   795.711755   27.677939   \n",
      "std    227.708549   4135.993728   2623.892834   965.700245   17.692517   \n",
      "min      1.000000     81.000000     72.000000    35.000000    1.000000   \n",
      "25%    192.000000    776.000000    588.000000   235.000000   15.000000   \n",
      "50%    391.000000   1576.000000   1110.000000   438.000000   23.000000   \n",
      "75%    588.000000   3646.000000   2466.000000   938.000000   36.000000   \n",
      "max    777.000000  48094.000000  26330.000000  6392.000000   96.000000   \n",
      "\n",
      "        Top25perc   F.Undergrad   P.Undergrad      Outstate   Room.Board  \\\n",
      "count  621.000000    621.000000    621.000000    621.000000   621.000000   \n",
      "mean    55.927536   3764.043478    837.165862  10550.220612  4368.576490   \n",
      "std     19.911649   5016.570226   1323.563395   4026.781276  1098.749612   \n",
      "min     12.000000    139.000000      1.000000   2580.000000  2146.000000   \n",
      "25%     40.000000    971.000000    102.000000   7470.000000  3600.000000   \n",
      "50%     54.000000   1715.000000    355.000000  10178.000000  4191.000000   \n",
      "75%     69.000000   4190.000000    946.000000  12950.000000  5062.000000   \n",
      "max    100.000000  31643.000000  10962.000000  21700.000000  8124.000000   \n",
      "\n",
      "             Books     Personal         PhD    Terminal   S.F.Ratio  \\\n",
      "count   621.000000   621.000000  621.000000  621.000000  621.000000   \n",
      "mean    543.945250  1342.376812   72.816425   79.819646   14.058293   \n",
      "std     157.445199   683.521727   16.222698   14.831734    4.009487   \n",
      "min      96.000000   250.000000   10.000000   24.000000    2.500000   \n",
      "25%     450.000000   875.000000   62.000000   71.000000   11.400000   \n",
      "50%     500.000000  1200.000000   75.000000   83.000000   13.600000   \n",
      "75%     600.000000  1700.000000   86.000000   92.000000   16.500000   \n",
      "max    2000.000000  6800.000000  103.000000  100.000000   39.800000   \n",
      "\n",
      "       perc.alumni        Expend   Grad.Rate  \n",
      "count   621.000000    621.000000  621.000000  \n",
      "mean     23.003221   9720.768116   65.819646  \n",
      "std      12.505095   5449.768029   17.212233  \n",
      "min       0.000000   3186.000000   10.000000  \n",
      "25%      13.000000   6791.000000   53.000000  \n",
      "50%      21.000000   8377.000000   66.000000  \n",
      "75%      31.000000  10864.000000   78.000000  \n",
      "max      64.000000  56233.000000  118.000000  \n",
      "               ID          Apps       Accept       Enroll   Top10perc  \\\n",
      "count  156.000000    156.000000   156.000000   156.000000  156.000000   \n",
      "mean   383.955128   2494.500000  1692.455128   717.320513   27.083333   \n",
      "std    211.579112   2497.855686  1550.866519   766.264403   17.479558   \n",
      "min      4.000000    174.000000   146.000000    63.000000    1.000000   \n",
      "25%    202.750000    800.750000   642.000000   277.500000   15.000000   \n",
      "50%    384.500000   1498.500000  1106.000000   413.500000   23.000000   \n",
      "75%    558.250000   3519.750000  2134.250000   808.000000   35.000000   \n",
      "max    774.000000  12394.000000  7640.000000  4615.000000   85.000000   \n",
      "\n",
      "        Top25perc   F.Undergrad   P.Undergrad      Outstate   Room.Board  \\\n",
      "count  156.000000    156.000000    156.000000    156.000000   156.000000   \n",
      "mean    55.275641   3444.596154    927.480769  10004.570513  4313.538462   \n",
      "std     19.427806   4127.794692   2142.453352   3991.035334  1090.887395   \n",
      "min      9.000000    316.000000      4.000000   2340.000000  1780.000000   \n",
      "25%     43.750000   1059.000000     77.250000   6791.000000  3527.500000   \n",
      "50%     53.000000   1679.000000    349.000000   9435.000000  4285.000000   \n",
      "75%     67.000000   3780.250000    998.250000  12859.500000  4897.750000   \n",
      "max    100.000000  27378.000000  21836.000000  19380.000000  7270.000000   \n",
      "\n",
      "             Books     Personal         PhD    Terminal   S.F.Ratio  \\\n",
      "count   156.000000   156.000000  156.000000  156.000000  156.000000   \n",
      "mean    571.019231  1333.737179   72.038462   79.237179   14.214744   \n",
      "std     191.648619   652.854122   16.780128   14.315844    3.757673   \n",
      "min     275.000000   300.000000    8.000000   35.000000    2.900000   \n",
      "25%     500.000000   835.500000   62.000000   69.000000   11.975000   \n",
      "50%     550.000000  1227.500000   75.000000   81.000000   13.500000   \n",
      "75%     600.000000  1660.000000   82.250000   91.250000   16.325000   \n",
      "max    2340.000000  3228.000000  100.000000  100.000000   23.600000   \n",
      "\n",
      "       perc.alumni        Expend   Grad.Rate  \n",
      "count   156.000000    156.000000  156.000000  \n",
      "mean     21.711538   9418.948718   64.044872  \n",
      "std      11.913132   4199.652587   17.020421  \n",
      "min       2.000000   3365.000000   15.000000  \n",
      "25%      11.000000   6695.750000   53.000000  \n",
      "50%      20.500000   8410.000000   64.000000  \n",
      "75%      30.000000  10663.500000   77.000000  \n",
      "max      57.000000  30639.000000  100.000000  \n"
     ]
    }
   ],
   "source": [
    "###### STEP2-3. 기초통계량 확인\n",
    "# 수치형 컬럼들의 기초통계 확인\n",
    "print(X_train.describe())\n",
    "print(X_test.describe())"
   ]
  },
  {
   "cell_type": "code",
   "execution_count": 5,
   "id": "dae9ffbf-9030-41a4-81e8-c641e6dedf3f",
   "metadata": {},
   "outputs": [],
   "source": [
    "##### STEP3. 데이터셋 전처리\n",
    "###### STEP3-1. 불필요한 컬럼 삭제\n",
    "# ID 컬럼은 학교에 대한 고유 정보로 key 역할로 모델에는 불필요함\n",
    "# Name 컬럼도 학교명에 대한 고유 정보로 key 역할로 모델에는 불필요함\n",
    "# 결과 제출 시에는 X_test의 ID 컬럼이 필요하기 때문에 별도 저장\n",
    "ID = X_test['ID'].copy()\n",
    "\n",
    "# 데이터들에서 ID 컬럼 삭제\n",
    "X_train = X_train.drop(columns = ['ID', 'Name'])\n",
    "X_test = X_test.drop(columns = ['ID', 'Name'])\n",
    "y_train = y_train.drop(columns = 'ID')"
   ]
  },
  {
   "cell_type": "code",
   "execution_count": 6,
   "id": "b3b59b7e-28b0-4dee-8c62-c318f356e02d",
   "metadata": {},
   "outputs": [
    {
     "data": {
      "text/plain": [
       "Apps           0\n",
       "Accept         0\n",
       "Enroll         0\n",
       "Top10perc      0\n",
       "Top25perc      0\n",
       "F.Undergrad    0\n",
       "P.Undergrad    0\n",
       "Outstate       0\n",
       "Room.Board     0\n",
       "Books          0\n",
       "Personal       0\n",
       "PhD            0\n",
       "Terminal       0\n",
       "S.F.Ratio      0\n",
       "perc.alumni    0\n",
       "Expend         0\n",
       "Grad.Rate      0\n",
       "dtype: int64"
      ]
     },
     "execution_count": 6,
     "metadata": {},
     "output_type": "execute_result"
    }
   ],
   "source": [
    "##### STEP3-2. 결측치 처리\n",
    "# 결측치 확인\n",
    "X_train.isna().sum()\n",
    "X_test.isna().sum()"
   ]
  },
  {
   "cell_type": "code",
   "execution_count": 7,
   "id": "88093563-3c2a-42c1-b78b-21f0c9734bb4",
   "metadata": {},
   "outputs": [],
   "source": [
    "###### STEP3-4. 수치형 컬럼 전처리\n",
    "# Top10perc, Top25perc, PhD, Terminal, S.F.Ratio, Grad.Rate, perc.alumni\n",
    "# 위 7개 컬럼은 비율에 관한 컬럼으로 단위는 백분율임\n",
    "# 이를 소수점으로 변환\n",
    "col_per = ['Top10perc', 'Top25perc', 'PhD', 'Terminal', 'S.F.Ratio', 'Grad.Rate', 'perc.alumni']\n",
    "X_train[col_per] = X_train[col_per]/100\n",
    "X_test[col_per] = X_test[col_per]/100"
   ]
  },
  {
   "cell_type": "code",
   "execution_count": 8,
   "id": "67b2d024-a8d6-4bc3-8983-b91633b2a4c6",
   "metadata": {},
   "outputs": [],
   "source": [
    "####### 수치형 컬럼 간 상관관계 확인\n",
    "X_train.corr()\n",
    "col_del = ['Apps', 'Accept', 'F.Undergrad','Top25perc', 'Terminal']\n",
    "X_train = X_train.drop(col_del, axis = 1)\n",
    "X_test = X_test.drop(col_del, axis = 1)"
   ]
  },
  {
   "cell_type": "code",
   "execution_count": 9,
   "id": "bce3a867-65ed-4ea1-bfaf-b79ada7e2114",
   "metadata": {},
   "outputs": [
    {
     "name": "stdout",
     "output_type": "stream",
     "text": [
      "(558, 12)\n",
      "(63, 12)\n",
      "(558, 1)\n",
      "(63, 1)\n"
     ]
    }
   ],
   "source": [
    "###### STEP3-5. 데이터 분할\n",
    "from sklearn.model_selection import train_test_split\n",
    "\n",
    "# X_train과 y_train을 학습용(X_TRAIN, y_TRAIN)과 검증용(X_VAL, y_VAL)로 분할\n",
    "X_TRAIN, X_VAL, y_TRAIN, y_VAL = train_test_split(X_train, y_train, random_state = 1234, test_size = 0.1, stratify = y_train)\n",
    "\n",
    "# 분할 후 shape 확인\n",
    "print(X_TRAIN.shape)\n",
    "print(X_VAL.shape)\n",
    "print(y_TRAIN.shape)\n",
    "print(y_VAL.shape)"
   ]
  },
  {
   "cell_type": "code",
   "execution_count": 10,
   "id": "09a3a6c4-f7b5-4dae-b15e-e8ec983dffa8",
   "metadata": {},
   "outputs": [],
   "source": [
    "###### STEP3-7. 스케일링\n",
    "from sklearn.preprocessing import StandardScaler\n",
    "\n",
    "# TRAIN 데이터 기준으로 스케일링함\n",
    "scale = StandardScaler().fit(X_TRAIN)\n",
    "\n",
    "# z-점수 표준화\n",
    "X_TRAIN_STD = scale.transform(X_TRAIN)\n",
    "X_VAL_STD = scale.transform(X_VAL)\n",
    "X_TEST_STD = scale.transform(X_test)"
   ]
  },
  {
   "cell_type": "code",
   "execution_count": 11,
   "id": "c42540f2-6df8-4474-a37e-77f44df275e4",
   "metadata": {},
   "outputs": [],
   "source": [
    "###### STEP3-8. 입력 데이터셋 준비\n",
    "X_TRAIN = X_TRAIN_STD\n",
    "X_VAL = X_VAL_STD\n",
    "y_TRAIN = y_TRAIN.values.ravel()\n",
    "y_VAL = y_VAL.values.ravel()"
   ]
  },
  {
   "cell_type": "code",
   "execution_count": 12,
   "id": "1f708a63-4704-4969-a10b-0d628633749d",
   "metadata": {},
   "outputs": [],
   "source": [
    "##### STEP4. 모델 학습\n",
    "from sklearn.tree import DecisionTreeClassifier\n",
    "from sklearn.ensemble import RandomForestClassifier, BaggingClassifier, AdaBoostClassifier\n",
    "\n",
    "###### STEP4-1. random forest\n",
    "rf = RandomForestClassifier(n_estimators = 500, max_depth = 3, min_samples_leaf = 10, max_features = 'sqrt', random_state = 2022)\n",
    "model_rf = rf.fit(X_TRAIN, y_TRAIN)"
   ]
  },
  {
   "cell_type": "code",
   "execution_count": 13,
   "id": "242c4ab4-58aa-426f-b2d4-b105df7cd14d",
   "metadata": {},
   "outputs": [],
   "source": [
    "###### STEP4-2. Bagging\n",
    "dtr = DecisionTreeClassifier(max_depth = 3, min_samples_leaf = 10)\n",
    "bag = BaggingClassifier(base_estimator = dtr, n_estimators = 500, random_state = 2022)\n",
    "model_bag = bag.fit(X_TRAIN, y_TRAIN)"
   ]
  },
  {
   "cell_type": "code",
   "execution_count": 14,
   "id": "dccb3f09-7e62-47fe-973f-36db27a6ca01",
   "metadata": {},
   "outputs": [],
   "source": [
    "###### STEP4-3. AdaBoost\n",
    "dtr = DecisionTreeClassifier(max_depth = 3, min_samples_leaf = 10)\n",
    "ada = AdaBoostClassifier(base_estimator = dtr, n_estimators = 500, learning_rate = 0.5, random_state = 2022)\n",
    "model_ada = ada.fit(X_TRAIN, y_TRAIN)"
   ]
  },
  {
   "cell_type": "code",
   "execution_count": 15,
   "id": "d06035cb-5e3b-41da-8763-705fabde59ee",
   "metadata": {},
   "outputs": [
    {
     "name": "stdout",
     "output_type": "stream",
     "text": [
      "0.9641943734015346\n",
      "0.938618925831202\n",
      "0.9872122762148338\n"
     ]
    }
   ],
   "source": [
    "###### STEP4-4. 성능평가(기준:AUC)를 통한 모델 선정\n",
    "from sklearn.metrics import roc_curve, auc\n",
    "\n",
    "# 검증용 데이터셋을 통한 예측\n",
    "score_rf = model_rf.predict_proba(X_VAL)[:,1]\n",
    "score_bag = model_bag.predict_proba(X_VAL)[:,1]\n",
    "score_ada = model_ada.predict_proba(X_VAL)[:,1]\n",
    "\n",
    "# AUC 계산\n",
    "fpr, tpr, thresholds = roc_curve(y_VAL, score_rf, pos_label = 'Yes')\n",
    "auc_rf = auc(fpr, tpr)\n",
    "print(auc_rf)\n",
    "\n",
    "fpr, tpr, thresholds = roc_curve(y_VAL, score_bag, pos_label = 'Yes')\n",
    "auc_bag = auc(fpr, tpr)\n",
    "print(auc_bag)\n",
    "\n",
    "fpr, tpr, thresholds = roc_curve(y_VAL, score_ada, pos_label = 'Yes')\n",
    "auc_ada = auc(fpr, tpr)\n",
    "print(auc_ada)"
   ]
  },
  {
   "cell_type": "code",
   "execution_count": 16,
   "id": "67988aaf-bc89-4976-89de-5d4ba3db53f7",
   "metadata": {},
   "outputs": [],
   "source": [
    "##### STEP5. 결과 제출하기\n",
    "###### 실제 시험에서 답 제출시에는 성능이 가장 우수한 모형 하나만 구현!\n",
    "X_TEST = X_TEST_STD\n",
    "y_score = model_ada.predict_proba(X_TEST)[:,1]\n",
    "\n",
    "# 문제에서 요구하는 형태로 변환 필요\n",
    "obj = {'ID' : ID, 'prob_Private' : y_score}\n",
    "result = pd.DataFrame(obj)\n",
    "\n",
    "# 하위에 12345.csv 이름으로 저장하기\n",
    "result.to_csv(\"12345.csv\", index = False)"
   ]
  },
  {
   "cell_type": "code",
   "execution_count": 18,
   "id": "355c96de-fdae-442a-9beb-37f1797e994d",
   "metadata": {},
   "outputs": [
    {
     "name": "stdout",
     "output_type": "stream",
     "text": [
      "0.9641943734015346\n"
     ]
    }
   ],
   "source": [
    "##### STEP6. 채점 모델 평가(번외)\n",
    "# 실제값\n",
    "actual = pd.read_csv('data/연습문제/College_y_test.csv', encoding = 'cp949')\n",
    "actual = actual['Private'].ravel()\n",
    "\n",
    "# 채점 기준이 될 성과지표 값\n",
    "fpr, tpr, thresholds = roc_curve(actual, y_score, pos_label = 'Yes')\n",
    "auc(fpr, tpr)\n",
    "print(auc_rf)"
   ]
  },
  {
   "cell_type": "markdown",
   "id": "6a1882a2-b459-4a8a-97fe-6e633a1416c1",
   "metadata": {},
   "source": [
    "---"
   ]
  },
  {
   "cell_type": "markdown",
   "id": "007e6fed-ae26-45b6-a00f-83a86c9b1c51",
   "metadata": {},
   "source": [
    "#### 3. 아래는 호주의 기상 관측소들의 일자별 기상 정보와 강수 여부에 관련한 데이터의 일부이다. 주어진 데이터를 이용하여 예측 모형을 만들고 아래에 따라 CSV 파일을 생성하시오."
   ]
  },
  {
   "cell_type": "code",
   "execution_count": 3,
   "id": "7a7d3a7f-a8b0-4a90-8668-5bd7ab57c914",
   "metadata": {},
   "outputs": [],
   "source": [
    "#### 연습문제3 Solution\n",
    "##### STEP1. 데이터셋 불러오기\n",
    "import pandas as pd\n",
    "X_train = pd.read_csv('data/연습문제/weatherAUS_X_train.csv')\n",
    "X_test = pd.read_csv('data/연습문제/weatherAUS_X_test.csv')\n",
    "y_train = pd.read_csv('data/연습문제/weatherAUS_y_train.csv')"
   ]
  },
  {
   "cell_type": "code",
   "execution_count": 4,
   "id": "07b45203-f916-49c5-8faf-0039a146ba35",
   "metadata": {},
   "outputs": [
    {
     "name": "stdout",
     "output_type": "stream",
     "text": [
      "         Date Location  MinTemp  MaxTemp  Rainfall WindGustDir  WindGustSpeed  \\\n",
      "0  2016-01-01   Albury     20.4     37.6       0.0         ENE           54.0   \n",
      "1  2016-01-02   Albury     20.9     33.6       0.4         SSE           50.0   \n",
      "2  2016-01-03   Albury     18.4     23.1       2.2         ENE           48.0   \n",
      "3  2016-01-04   Albury     17.3     23.7      15.6         SSE           39.0   \n",
      "4  2016-01-05   Albury     15.5     22.9       6.8         ENE           31.0   \n",
      "\n",
      "  WindDir9am WindDir3pm  WindSpeed9am  WindSpeed3pm  Humidity9am  Humidity3pm  \\\n",
      "0        NaN        ESE           0.0           7.0         46.0         17.0   \n",
      "1        SSE         SE           9.0          17.0         54.0         30.0   \n",
      "2        ESE        ENE          11.0          39.0         62.0         67.0   \n",
      "3         SE        SSE           9.0          17.0         74.0         65.0   \n",
      "4         SE        SSE           6.0           9.0         92.0         63.0   \n",
      "\n",
      "   Pressure9am  Pressure3pm  Cloud9am  Cloud3pm  Temp9am  Temp3pm RainToday  \n",
      "0       1013.4       1009.2       7.0       3.0     26.1     36.7        No  \n",
      "1       1011.1       1008.4       8.0       8.0     24.8     31.7        No  \n",
      "2       1014.0       1014.8       8.0       8.0     21.8     19.5       Yes  \n",
      "3       1017.9       1016.5       8.0       8.0     19.2     21.6       Yes  \n",
      "4       1016.3       1013.9       8.0       8.0     17.2     22.2       Yes  \n",
      "         Date Location  MinTemp  MaxTemp  Rainfall WindGustDir  WindGustSpeed  \\\n",
      "0  2016-09-01   Albury      8.5     16.7       0.4         NNE           17.0   \n",
      "1  2016-09-02   Albury      6.1     13.9       0.2         SSE           37.0   \n",
      "2  2016-09-03   Albury      9.6     16.6      33.6         WNW           48.0   \n",
      "3  2016-09-04   Albury      7.7     15.1       0.6          NW           26.0   \n",
      "4  2016-09-05   Albury      4.4     15.9       0.0           W           24.0   \n",
      "\n",
      "  WindDir9am WindDir3pm  WindSpeed9am  WindSpeed3pm  Humidity9am  Humidity3pm  \\\n",
      "0        NaN         NW           0.0          11.0         96.0         65.0   \n",
      "1          S          E           6.0           7.0         87.0         76.0   \n",
      "2          W          W          15.0          31.0         90.0         60.0   \n",
      "3        WSW        WNW          20.0          13.0         82.0         66.0   \n",
      "4        ESE        WSW           4.0          13.0         93.0         63.0   \n",
      "\n",
      "   Pressure9am  Pressure3pm  Cloud9am  Cloud3pm  Temp9am  Temp3pm RainToday  \n",
      "0       1020.0       1016.1       8.0       7.0     12.3     15.8        No  \n",
      "1       1012.1       1005.6       NaN       8.0     10.1     13.5        No  \n",
      "2       1003.4       1008.8       6.0       1.0     11.4     15.1       Yes  \n",
      "3       1023.7       1025.4       8.0       7.0     10.8     14.0        No  \n",
      "4       1031.3       1029.1       8.0       7.0     10.4     14.7        No  \n",
      "         Date RainTomorrow\n",
      "0  2016-01-01           No\n",
      "1  2016-01-02          Yes\n",
      "2  2016-01-03          Yes\n",
      "3  2016-01-04          Yes\n",
      "4  2016-01-05           No\n"
     ]
    }
   ],
   "source": [
    "##### STEP2. 데이터셋 확인하기\n",
    "###### STEP2-1. 데이터셋 일부 확인\n",
    "print(X_train.head())\n",
    "print(X_test.head())\n",
    "print(y_train.head())"
   ]
  },
  {
   "cell_type": "code",
   "execution_count": 5,
   "id": "45c17798-4515-48d0-8698-b6eb6c581f87",
   "metadata": {},
   "outputs": [
    {
     "name": "stdout",
     "output_type": "stream",
     "text": [
      "<class 'pandas.core.frame.DataFrame'>\n",
      "RangeIndex: 11714 entries, 0 to 11713\n",
      "Data columns (total 20 columns):\n",
      " #   Column         Non-Null Count  Dtype  \n",
      "---  ------         --------------  -----  \n",
      " 0   Date           11714 non-null  object \n",
      " 1   Location       11714 non-null  object \n",
      " 2   MinTemp        11658 non-null  float64\n",
      " 3   MaxTemp        11662 non-null  float64\n",
      " 4   Rainfall       11630 non-null  float64\n",
      " 5   WindGustDir    11073 non-null  object \n",
      " 6   WindGustSpeed  11073 non-null  float64\n",
      " 7   WindDir9am     10873 non-null  object \n",
      " 8   WindDir3pm     11127 non-null  object \n",
      " 9   WindSpeed9am   11633 non-null  float64\n",
      " 10  WindSpeed3pm   11178 non-null  float64\n",
      " 11  Humidity9am    11650 non-null  float64\n",
      " 12  Humidity3pm    10970 non-null  float64\n",
      " 13  Pressure9am    10503 non-null  float64\n",
      " 14  Pressure3pm    10499 non-null  float64\n",
      " 15  Cloud9am       6937 non-null   float64\n",
      " 16  Cloud3pm       6115 non-null   float64\n",
      " 17  Temp9am        11674 non-null  float64\n",
      " 18  Temp3pm        10987 non-null  float64\n",
      " 19  RainToday      11630 non-null  object \n",
      "dtypes: float64(14), object(6)\n",
      "memory usage: 1.8+ MB\n",
      "None\n",
      "<class 'pandas.core.frame.DataFrame'>\n",
      "RangeIndex: 5794 entries, 0 to 5793\n",
      "Data columns (total 20 columns):\n",
      " #   Column         Non-Null Count  Dtype  \n",
      "---  ------         --------------  -----  \n",
      " 0   Date           5794 non-null   object \n",
      " 1   Location       5794 non-null   object \n",
      " 2   MinTemp        5774 non-null   float64\n",
      " 3   MaxTemp        5782 non-null   float64\n",
      " 4   Rainfall       5711 non-null   float64\n",
      " 5   WindGustDir    5447 non-null   object \n",
      " 6   WindGustSpeed  5447 non-null   float64\n",
      " 7   WindDir9am     5645 non-null   object \n",
      " 8   WindDir3pm     5534 non-null   object \n",
      " 9   WindSpeed9am   5773 non-null   float64\n",
      " 10  WindSpeed3pm   5546 non-null   float64\n",
      " 11  Humidity9am    5678 non-null   float64\n",
      " 12  Humidity3pm    5345 non-null   float64\n",
      " 13  Pressure9am    5189 non-null   float64\n",
      " 14  Pressure3pm    5188 non-null   float64\n",
      " 15  Cloud9am       3228 non-null   float64\n",
      " 16  Cloud3pm       2719 non-null   float64\n",
      " 17  Temp9am        5777 non-null   float64\n",
      " 18  Temp3pm        5439 non-null   float64\n",
      " 19  RainToday      5711 non-null   object \n",
      "dtypes: float64(14), object(6)\n",
      "memory usage: 905.4+ KB\n",
      "None\n",
      "<class 'pandas.core.frame.DataFrame'>\n",
      "RangeIndex: 11714 entries, 0 to 11713\n",
      "Data columns (total 2 columns):\n",
      " #   Column        Non-Null Count  Dtype \n",
      "---  ------        --------------  ----- \n",
      " 0   Date          11714 non-null  object\n",
      " 1   RainTomorrow  11714 non-null  object\n",
      "dtypes: object(2)\n",
      "memory usage: 183.2+ KB\n",
      "None\n"
     ]
    }
   ],
   "source": [
    "###### STEP2-2. 데이터셋 요약 정보 확인\n",
    "print(X_train.info())\n",
    "print(X_test.info())\n",
    "print(y_train.info())"
   ]
  },
  {
   "cell_type": "code",
   "execution_count": 6,
   "id": "6f48936c-2fc3-4cc4-b642-d3409942b01a",
   "metadata": {},
   "outputs": [
    {
     "name": "stdout",
     "output_type": "stream",
     "text": [
      "            MinTemp       MaxTemp      Rainfall  WindGustSpeed  WindSpeed9am  \\\n",
      "count  11658.000000  11662.000000  11630.000000   11073.000000  11633.000000   \n",
      "mean      12.530057     23.049974      2.546174      38.853698     13.453537   \n",
      "std        6.551759      7.531580      9.042366      13.732184      8.696536   \n",
      "min       -7.800000     -4.800000      0.000000       7.000000      0.000000   \n",
      "25%        7.800000     17.200000      0.000000      30.000000      7.000000   \n",
      "50%       12.400000     22.600000      0.000000      37.000000     13.000000   \n",
      "75%       17.400000     28.400000      1.000000      46.000000     19.000000   \n",
      "max       29.200000     45.100000    225.000000     120.000000     74.000000   \n",
      "\n",
      "       WindSpeed3pm   Humidity9am   Humidity3pm   Pressure9am   Pressure3pm  \\\n",
      "count  11178.000000  11650.000000  10970.000000  10503.000000  10499.000000   \n",
      "mean      17.971014     72.096996     53.495351   1017.787594   1015.341823   \n",
      "std        8.468756     18.115875     20.736367      6.923373      6.831690   \n",
      "min        0.000000     10.000000      4.000000    982.200000    977.100000   \n",
      "25%       11.000000     61.000000     39.000000   1013.500000   1010.900000   \n",
      "50%       17.000000     74.000000     54.000000   1018.000000   1015.600000   \n",
      "75%       22.000000     86.000000     67.750000   1022.100000   1019.800000   \n",
      "max       63.000000    100.000000    100.000000   1040.300000   1036.400000   \n",
      "\n",
      "          Cloud9am     Cloud3pm       Temp9am       Temp3pm  \n",
      "count  6937.000000  6115.000000  11674.000000  10987.000000  \n",
      "mean      4.931527     5.018152     16.803135     21.444644  \n",
      "std       2.890257     2.711604      6.762189      7.324353  \n",
      "min       0.000000     0.000000     -7.200000     -5.400000  \n",
      "25%       2.000000     2.000000     11.600000     15.900000  \n",
      "50%       6.000000     6.000000     16.500000     21.000000  \n",
      "75%       8.000000     7.000000     21.700000     26.600000  \n",
      "max       8.000000     8.000000     36.500000     43.500000  \n",
      "           MinTemp      MaxTemp     Rainfall  WindGustSpeed  WindSpeed9am  \\\n",
      "count  5774.000000  5782.000000  5711.000000    5447.000000   5773.000000   \n",
      "mean     12.397194    23.971688     2.021100      42.980540     15.543218   \n",
      "std       6.057115     6.990447     5.992186      13.479326      8.732675   \n",
      "min      -4.800000     1.100000     0.000000      13.000000      0.000000   \n",
      "25%       7.900000    18.600000     0.000000      33.000000      9.000000   \n",
      "50%      11.700000    23.200000     0.000000      41.000000     15.000000   \n",
      "75%      16.500000    29.100000     0.800000      50.000000     20.000000   \n",
      "max      28.900000    42.900000    85.000000     113.000000     65.000000   \n",
      "\n",
      "       WindSpeed3pm  Humidity9am  Humidity3pm  Pressure9am  Pressure3pm  \\\n",
      "count   5546.000000  5678.000000  5345.000000  5189.000000  5188.000000   \n",
      "mean      20.344933    63.949454    49.681572  1014.564232  1012.157132   \n",
      "std        8.764972    18.315154    20.524905     6.688959     6.537446   \n",
      "min        0.000000     4.000000     3.000000   982.000000   981.900000   \n",
      "25%       13.500000    53.000000    35.000000  1011.000000  1008.100000   \n",
      "50%       19.000000    65.000000    50.000000  1014.600000  1012.000000   \n",
      "75%       26.000000    76.000000    63.000000  1019.000000  1016.600000   \n",
      "max       65.000000   100.000000   100.000000  1033.000000  1030.300000   \n",
      "\n",
      "          Cloud9am     Cloud3pm      Temp9am      Temp3pm  \n",
      "count  3228.000000  2719.000000  5777.000000  5439.000000  \n",
      "mean      4.965923     4.967635    17.954613    21.976429  \n",
      "std       2.875166     2.789602     6.205495     6.713617  \n",
      "min       0.000000     0.000000    -3.600000     0.600000  \n",
      "25%       2.000000     2.000000    13.200000    16.900000  \n",
      "50%       6.000000     6.000000    17.300000    21.400000  \n",
      "75%       8.000000     8.000000    22.100000    26.700000  \n",
      "max       8.000000     8.000000    36.200000    42.000000  \n",
      "              Date RainTomorrow\n",
      "count        11714        11714\n",
      "unique         244            2\n",
      "top     2016-05-02           No\n",
      "freq            49         8882\n"
     ]
    }
   ],
   "source": [
    "###### STEP2-3. 기초통계량 확인\n",
    "print(X_train.describe())\n",
    "print(X_test.describe())\n",
    "print(y_train.describe())"
   ]
  },
  {
   "cell_type": "code",
   "execution_count": 7,
   "id": "575d111a-658c-4c94-a66b-f86fca965112",
   "metadata": {},
   "outputs": [],
   "source": [
    "##### STEP3. 데이터셋 전처리\n",
    "###### STEP3-1. 불필요한 컬럼 삭제\n",
    "# Date 컬럼은 관측일자로 key 역할로 모델에는 불필요함\n",
    "# 결과 제출 시에는 X_test의 Date 컬럼이 필요하기 때문에 별도 저장\n",
    "Date = X_test['Date'].copy()\n",
    "\n",
    "# 데이터들에서 Date 컬럼 삭제\n",
    "X_train = X_train.drop(columns = 'Date')\n",
    "X_test = X_test.drop(columns = 'Date')\n",
    "y_train = y_train.drop(columns = 'Date')"
   ]
  },
  {
   "cell_type": "code",
   "execution_count": 8,
   "id": "40f61fa3-6f6c-4acd-85d6-e9ca032a4532",
   "metadata": {},
   "outputs": [
    {
     "data": {
      "text/plain": [
       "Location        True\n",
       "MinTemp         True\n",
       "MaxTemp         True\n",
       "Rainfall        True\n",
       "WindSpeed9am    True\n",
       "Humidity9am     True\n",
       "Temp9am         True\n",
       "RainToday       True\n",
       "dtype: bool"
      ]
     },
     "execution_count": 8,
     "metadata": {},
     "output_type": "execute_result"
    }
   ],
   "source": [
    "###### STEP3-2. 결측치 처리\n",
    "# 결측치 확인\n",
    "X_train.isna().sum()\n",
    "X_test.isna().sum()\n",
    "\n",
    "####### train에서 500개가 넘는 결측치가 있는 컬럼은 삭제\n",
    "# 결측치가 500개가 넘는 조건\n",
    "cond_na500 = (X_train.isna().sum() >= 500)\n",
    "\n",
    "# 500개가 넘는 컬럼명\n",
    "col_na500 = X_train.columns[cond_na500]\n",
    "\n",
    "# 컬럼 삭제\n",
    "X_train = X_train.drop(col_na500, axis = 1)\n",
    "X_test = X_test.drop(col_na500, axis = 1)\n",
    "\n",
    "###### train에서 100개 미만의 결측치가 있는 컬럼은 결측치 대체\n",
    "# 결측치가 100개 미만인 조건\n",
    "X_train.isna().sum() < 100"
   ]
  },
  {
   "cell_type": "code",
   "execution_count": 9,
   "id": "042f3ccc-a41f-4bfa-a2bd-9d0775213d96",
   "metadata": {},
   "outputs": [],
   "source": [
    "######## 수치형인 MinTemp, MaxTemp, Rainfall, WindSpeed9am, Humidity9am, Temp9am은 평균 대체\n",
    "# 수치형만 있는 데이터프레임 추출\n",
    "X_train_conti = X_train.select_dtypes(exclude = 'object').copy()\n",
    "X_test_conti = X_test.select_dtypes(exclude = 'object').copy()\n",
    "\n",
    "# 평균대치\n",
    "X_train_conti = X_train_conti.fillna(X_train_conti.mean())\n",
    "X_test_conti = X_test_conti.fillna(X_train_conti.mean())\n",
    "\n",
    "######## 카테고리형인 RainToday는 최다빈도를 가지는 라벨로 대체\n",
    "# 카테고리형만 있는 데이터프레임 추출\n",
    "X_train_category = X_train.select_dtypes('object').copy()\n",
    "X_test_category = X_test.select_dtypes('object').copy()\n",
    "\n",
    "# 최다라벨로 대치\n",
    "mode = X_train_category.value_counts('RainToday').idxmax()\n",
    "X_train_category = X_train_category.fillna(mode)\n",
    "X_test_category = X_test_category.fillna(mode)\n",
    "\n",
    "######## 두 데이터 프레임 다시 합치기\n",
    "X_train = pd.concat([X_train_conti, X_train_category], axis = 1)\n",
    "X_test = pd.concat([X_test_conti, X_test_category], axis = 1)"
   ]
  },
  {
   "cell_type": "code",
   "execution_count": 10,
   "id": "b6be6f52-5900-4ed0-8027-5b1b3ff853d1",
   "metadata": {},
   "outputs": [
    {
     "name": "stdout",
     "output_type": "stream",
     "text": [
      "(8199, 8)\n",
      "(3515, 8)\n",
      "(8199, 1)\n",
      "(3515, 1)\n"
     ]
    }
   ],
   "source": [
    "from sklearn.model_selection import train_test_split\n",
    "\n",
    "# X_train과 y_train을 학습용(X_TRAIN, y_TRAIN)과 검증용(X_VAL, y_VAL)로 분할\n",
    "X_TRAIN, X_VAL, y_TRAIN, y_VAL = train_test_split(X_train, y_train, random_state = 1234, test_size = 0.3)\n",
    "\n",
    "# 분할 후 shape 확인\n",
    "print(X_TRAIN.shape)\n",
    "print(X_VAL.shape)\n",
    "print(y_TRAIN.shape)\n",
    "print(y_VAL.shape)"
   ]
  },
  {
   "cell_type": "code",
   "execution_count": 11,
   "id": "494838d7-7412-466e-8a2e-3327436ae877",
   "metadata": {},
   "outputs": [],
   "source": [
    "###### STEP3-6. 인코딩\n",
    "# 카테고리형 컬럼에 대하여 원-핫 인코딩 수행\n",
    "from sklearn.preprocessing import OneHotEncoder\n",
    "\n",
    "# 인코딩할 카테고리형 컬럼만 별도 저장\n",
    "X_TRAIN_category = X_TRAIN.select_dtypes('object').copy()\n",
    "X_VAL_category = X_VAL.select_dtypes('object').copy()\n",
    "X_TEST_category = X_test.select_dtypes('object').copy()\n",
    "\n",
    "# 원-핫 인코딩\n",
    "enc = OneHotEncoder(sparse = False).fit(X_TRAIN_category)\n",
    "X_TRAIN_OH = enc.transform(X_TRAIN_category)\n",
    "X_VAL_OH = enc.transform(X_VAL_category)\n",
    "X_TEST_OH = enc.transform(X_TEST_category)"
   ]
  },
  {
   "cell_type": "code",
   "execution_count": 12,
   "id": "5b94c91f-9310-4b4d-9de3-f0af2a7e488e",
   "metadata": {},
   "outputs": [],
   "source": [
    "###### STEP3-7. 스케일링\n",
    "from sklearn.preprocessing import StandardScaler\n",
    "\n",
    "# 스케일링할 컬럼만 별도 저장\n",
    "# .select_dtypes() 메소드의 exclude 옵션은 해당 dtype을 제외한 모든 dtype을 추출할 때 사용\n",
    "X_TRAIN_conti = X_TRAIN.select_dtypes(exclude = 'object').copy()\n",
    "X_VAL_conti = X_VAL.select_dtypes(exclude = 'object').copy()\n",
    "X_TEST_conti = X_test.select_dtypes(exclude = 'object').copy()\n",
    "\n",
    "# TRAIN 데이터 기준으로 스케일링함\n",
    "scale = StandardScaler().fit(X_TRAIN_conti)\n",
    "\n",
    "# z-점수 표준화\n",
    "X_TRAIN_STD = scale.transform(X_TRAIN_conti)\n",
    "X_VAL_STD = scale.transform(X_VAL_conti)\n",
    "X_TEST_STD = scale.transform(X_TEST_conti)"
   ]
  },
  {
   "cell_type": "code",
   "execution_count": 13,
   "id": "28d43953-566c-4ea6-81c7-6c5d4c6cac38",
   "metadata": {},
   "outputs": [],
   "source": [
    "###### STEP3-8. 입력 데이터셋 준비\n",
    "import numpy as np\n",
    "\n",
    "# 인코딩과 스케일링된 넘파이 배열 연결\n",
    "X_TRAIN = np.concatenate([X_TRAIN_OH, X_TRAIN_STD], axis = 1)\n",
    "X_VAL = np.concatenate([X_VAL_OH, X_VAL_STD], axis = 1)\n",
    "\n",
    "# 'Yes'와 'No'를 각각 1,0에 매핑\n",
    "y_TRAIN = y_TRAIN['RainTomorrow'].map({'No':0, 'Yes':1})\n",
    "y_VAL = y_VAL['RainTomorrow'].map({'No':0, 'Yes':1})\n",
    "\n",
    "# 1차원 넘파이 배열로 평탄화\n",
    "y_TRAIN = y_TRAIN.values.ravel()\n",
    "y_VAL = y_VAL.values.ravel()"
   ]
  },
  {
   "cell_type": "code",
   "execution_count": 14,
   "id": "394f2571-17e4-42a9-8deb-e42e5b00c2c0",
   "metadata": {},
   "outputs": [],
   "source": [
    "##### STEP4. 모델 학습\n",
    "from sklearn.ensemble import RandomForestClassifier\n",
    "from xgboost import XGBClassifier\n",
    "from lightgbm import LGBMClassifier\n",
    "\n",
    "###### STEP4-1. random forest\n",
    "rf = RandomForestClassifier(n_estimators = 500, max_depth = 3, min_samples_leaf = 10, max_features = 'sqrt', random_state = 2022)\n",
    "model_rf = rf.fit(X_TRAIN, y_TRAIN)"
   ]
  },
  {
   "cell_type": "code",
   "execution_count": 15,
   "id": "2d4af995-8c68-461d-b3bb-e84bd91edc0e",
   "metadata": {},
   "outputs": [],
   "source": [
    "###### STEP4-2. XGBoost\n",
    "xgb = XGBClassifier(max_depth = 8, n_estimators = 500, nthread = 5, min_child_weight = 20, gamma = 0.5, objective = 'binary:logistic', use_label_encoder = False, random_state = 2022)\n",
    "model_xgb = xgb.fit(X_TRAIN, y_TRAIN, eval_metric = 'mlogloss')"
   ]
  },
  {
   "cell_type": "code",
   "execution_count": 16,
   "id": "e04ae723-9ef8-4669-9b30-069386b28017",
   "metadata": {},
   "outputs": [],
   "source": [
    "###### STEP4-3. LightGBM\n",
    "lgb = LGBMClassifier(max_depth = 8, n_estimators = 500, n_jobs = 30, min_child_weight = 10, learning_rate = 0.2, objective = 'binary', random_state = 2022)\n",
    "model_lgb = lgb.fit(X_TRAIN, y_TRAIN)"
   ]
  },
  {
   "cell_type": "code",
   "execution_count": 17,
   "id": "b2d00463-fd53-4f43-b166-7f8d2fb8829f",
   "metadata": {},
   "outputs": [
    {
     "name": "stdout",
     "output_type": "stream",
     "text": [
      "0.7448954359191748\n",
      "0.7596543334673899\n"
     ]
    }
   ],
   "source": [
    "###### STEP4-4. 성능평가(기준:AUC)를 통한 모델 선정\n",
    "from sklearn.metrics import roc_curve, auc\n",
    "\n",
    "# 검증용 데이터셋을 통한 예측\n",
    "score_rf = model_rf.predict_proba(X_VAL)[:,1]\n",
    "score_xgb = model_xgb.predict_proba(X_VAL)[:,1]\n",
    "score_lgb = model_lgb.predict_proba(X_VAL)[:,1]\n",
    "\n",
    "fpr, tpr, thresholds = roc_curve(y_VAL, score_xgb)\n",
    "auc_xgb = auc(fpr, tpr)\n",
    "print(auc_xgb)\n",
    "\n",
    "fpr, tpr, thresholds = roc_curve(y_VAL, score_lgb)\n",
    "auc_lgb = auc(fpr, tpr)\n",
    "print(auc_lgb)"
   ]
  },
  {
   "cell_type": "code",
   "execution_count": 18,
   "id": "d448006d-94ab-4e7d-aeef-7fc5f8a020c9",
   "metadata": {},
   "outputs": [],
   "source": [
    "##### STEP5. 결과 제출하기\n",
    "###### 실제 시험에서 답 제출시에는 성능이 가장 우수한 모형 하나만 구현!\n",
    "X_TEST = np.concatenate([X_TEST_OH, X_TEST_STD], axis = 1)\n",
    "y_score = model_lgb.predict_proba(X_TEST)[:,1]\n",
    "\n",
    "# 문제에서 요구하는 형태로 변환 필요\n",
    "obj = {'Date' : Date, 'RainTomorrow_prob' : y_score}\n",
    "result = pd.DataFrame(obj)\n",
    "\n",
    "# 하위에 12345.csv 이름으로 저장하기\n",
    "result.to_csv(\"12345.csv\", index = False)"
   ]
  },
  {
   "cell_type": "code",
   "execution_count": 19,
   "id": "5171ac8e-d42d-4226-a8f7-5bd13c01401e",
   "metadata": {},
   "outputs": [
    {
     "data": {
      "text/plain": [
       "0.7066865384099572"
      ]
     },
     "execution_count": 19,
     "metadata": {},
     "output_type": "execute_result"
    }
   ],
   "source": [
    "##### STEP6. 채점 모델 평가(번외)\n",
    "# 실제값\n",
    "actual = pd.read_csv('data/연습문제/weatherAUS_y_test.csv', encoding = 'cp949')\n",
    "actual = actual['RainTomorrow'].ravel()\n",
    "\n",
    "# 채점 기준이 될 성과지표 값\n",
    "fpr, tpr, thresholds = roc_curve(actual, y_score, pos_label = 'Yes')\n",
    "auc(fpr, tpr)"
   ]
  },
  {
   "cell_type": "markdown",
   "id": "0a71f092",
   "metadata": {},
   "source": [
    "# (끝)"
   ]
  }
 ],
 "metadata": {
  "hide_input": false,
  "kernelspec": {
   "display_name": "Python 3 (ipykernel)",
   "language": "python",
   "name": "python3"
  },
  "language_info": {
   "codemirror_mode": {
    "name": "ipython",
    "version": 3
   },
   "file_extension": ".py",
   "mimetype": "text/x-python",
   "name": "python",
   "nbconvert_exporter": "python",
   "pygments_lexer": "ipython3",
   "version": "3.9.12"
  },
  "toc": {
   "base_numbering": 1,
   "nav_menu": {},
   "number_sections": false,
   "sideBar": true,
   "skip_h1_title": false,
   "title_cell": "Table of Contents",
   "title_sidebar": "Contents",
   "toc_cell": false,
   "toc_position": {},
   "toc_section_display": true,
   "toc_window_display": false
  },
  "varInspector": {
   "cols": {
    "lenName": 16,
    "lenType": 16,
    "lenVar": 40
   },
   "kernels_config": {
    "python": {
     "delete_cmd_postfix": "",
     "delete_cmd_prefix": "del ",
     "library": "var_list.py",
     "varRefreshCmd": "print(var_dic_list())"
    },
    "r": {
     "delete_cmd_postfix": ") ",
     "delete_cmd_prefix": "rm(",
     "library": "var_list.r",
     "varRefreshCmd": "cat(var_dic_list()) "
    }
   },
   "types_to_exclude": [
    "module",
    "function",
    "builtin_function_or_method",
    "instance",
    "_Feature"
   ],
   "window_display": false
  }
 },
 "nbformat": 4,
 "nbformat_minor": 5
}
