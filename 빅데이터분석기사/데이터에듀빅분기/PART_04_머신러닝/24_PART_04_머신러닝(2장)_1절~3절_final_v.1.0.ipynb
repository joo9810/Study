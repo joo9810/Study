{
 "cells": [
  {
   "cell_type": "markdown",
   "id": "c65b1643",
   "metadata": {},
   "source": [
    "### PART 04) 머신러닝"
   ]
  },
  {
   "cell_type": "markdown",
   "id": "4e1be88e",
   "metadata": {},
   "source": [
    "## 2장. 군집 모형"
   ]
  },
  {
   "cell_type": "markdown",
   "id": "8e175d52",
   "metadata": {},
   "source": [
    "### 1절. 군집 평가"
   ]
  },
  {
   "cell_type": "markdown",
   "id": "523c7ccf-e435-4dda-bd16-88b43198fed9",
   "metadata": {},
   "source": [
    "#### 1. 실루엣계수 (코드 없음)"
   ]
  },
  {
   "cell_type": "markdown",
   "id": "785ca6f0-e79d-4eb4-b062-fca8edc806d2",
   "metadata": {},
   "source": [
    "#### 2. RI와 ARI"
   ]
  },
  {
   "cell_type": "code",
   "execution_count": 1,
   "id": "3fdd9d99-6780-4614-bc04-9e60e58ddab9",
   "metadata": {},
   "outputs": [
    {
     "name": "stdout",
     "output_type": "stream",
     "text": [
      "0.7222222222222222\n",
      "0.3076923076923077\n"
     ]
    }
   ],
   "source": [
    "# 임의의 리스트 생성\n",
    "labels_true = [0, 0, 0, 1, 1, 1, 1, 2, 2]\n",
    "labels_pred = [0, 0, 1, 1, 1, 1, 2, 2, 2]\n",
    "\n",
    "# 함수 호출\n",
    "from sklearn.metrics.cluster import rand_score, adjusted_rand_score\n",
    "\n",
    "# RI(랜드지수)\n",
    "ri = rand_score(labels_true, labels_pred)\n",
    "print(ri)\n",
    "\n",
    "# ARI(조정 랜드지수)\n",
    "ari = adjusted_rand_score(labels_true, labels_pred)\n",
    "print(ari)"
   ]
  },
  {
   "cell_type": "markdown",
   "id": "c44736ef-3a16-4393-bba1-3e4816b41c45",
   "metadata": {},
   "source": [
    "---"
   ]
  },
  {
   "cell_type": "markdown",
   "id": "d4c601df-d322-4aaf-ac81-d4a3095910cc",
   "metadata": {},
   "source": [
    "### 2절. 계층적 군집분석"
   ]
  },
  {
   "cell_type": "code",
   "execution_count": 1,
   "id": "c7af8913-4a5c-4c72-91fa-300059d495cc",
   "metadata": {},
   "outputs": [],
   "source": [
    "# 패키지로부터 클래스, 함수를 호출\n",
    "from sklearn.cluster import AgglomerativeClustering\n",
    "from sklearn.metrics.cluster import rand_score, adjusted_rand_score\n",
    "\n",
    "# iris 데이터셋 호출\n",
    "from sklearn.datasets import load_iris\n",
    "iris = load_iris()\n",
    "data = iris.data\n",
    "labels_true = iris.target # 정답 레이블\n",
    "\n",
    "# 와드연결법\n",
    "agg_ward = AgglomerativeClustering(n_clusters = 3)\n",
    "labels_pred_ward = agg_ward.fit_predict(data)\n",
    "\n",
    "# 평균연결법\n",
    "agg_avg = AgglomerativeClustering(n_clusters = 3, linkage = 'average')\n",
    "labels_pred_avg = agg_avg.fit_predict(data)\n",
    "\n",
    "# 최장연결법\n",
    "agg_comp = AgglomerativeClustering(n_clusters = 3, linkage = 'complete')\n",
    "labels_pred_comp = agg_comp.fit_predict(data)\n",
    "\n",
    "# 최단연결법\n",
    "agg_sing = AgglomerativeClustering(n_clusters = 3, linkage = 'single')\n",
    "labels_pred_sing = agg_sing.fit_predict(data)"
   ]
  },
  {
   "cell_type": "code",
   "execution_count": 2,
   "id": "422dc17b-04b2-427c-b80a-1c69e8cf694c",
   "metadata": {},
   "outputs": [
    {
     "name": "stdout",
     "output_type": "stream",
     "text": [
      "0.8797315436241611\n",
      "0.8922595078299776\n",
      "0.8367785234899329\n",
      "0.7766442953020134\n"
     ]
    }
   ],
   "source": [
    "# RI 비교\n",
    "print(rand_score(labels_true, labels_pred_ward)) # 와드연결법\n",
    "print(rand_score(labels_true, labels_pred_avg)) # 평균연결법\n",
    "print(rand_score(labels_true, labels_pred_comp)) # 최장연결법\n",
    "print(rand_score(labels_true, labels_pred_sing)) # 최단연결법"
   ]
  },
  {
   "cell_type": "code",
   "execution_count": 3,
   "id": "da8bbc11-3371-4f49-8675-a5c9ca21eda3",
   "metadata": {},
   "outputs": [
    {
     "name": "stdout",
     "output_type": "stream",
     "text": [
      "0.7311985567707746\n",
      "0.7591987071071522\n",
      "0.6422512518362898\n",
      "0.5637510205230709\n"
     ]
    }
   ],
   "source": [
    "# ARI 비교\n",
    "print(adjusted_rand_score(labels_true, labels_pred_ward)) # 와드연결법\n",
    "print(adjusted_rand_score(labels_true, labels_pred_avg)) # 평균연결법\n",
    "print(adjusted_rand_score(labels_true, labels_pred_comp)) # 최장연결법\n",
    "print(adjusted_rand_score(labels_true, labels_pred_sing)) # 최단연결법"
   ]
  },
  {
   "cell_type": "markdown",
   "id": "e8731c29-d0f2-4c44-930d-f3d739b6f2fb",
   "metadata": {},
   "source": [
    "---"
   ]
  },
  {
   "cell_type": "markdown",
   "id": "782bb572-08bb-40a5-a7fb-f44f3da3dc29",
   "metadata": {},
   "source": [
    "### 3절. k-means 군집분석"
   ]
  },
  {
   "cell_type": "code",
   "execution_count": 7,
   "id": "5788d329-04ed-4d82-a403-a56a53c40707",
   "metadata": {},
   "outputs": [
    {
     "name": "stderr",
     "output_type": "stream",
     "text": [
      "C:\\Anaconda3\\lib\\site-packages\\sklearn\\cluster\\_kmeans.py:1332: UserWarning: KMeans is known to have a memory leak on Windows with MKL, when there are less chunks than available threads. You can avoid it by setting the environment variable OMP_NUM_THREADS=1.\n",
      "  warnings.warn(\n",
      "C:\\Anaconda3\\lib\\site-packages\\sklearn\\cluster\\_kmeans.py:1332: UserWarning: KMeans is known to have a memory leak on Windows with MKL, when there are less chunks than available threads. You can avoid it by setting the environment variable OMP_NUM_THREADS=1.\n",
      "  warnings.warn(\n",
      "C:\\Anaconda3\\lib\\site-packages\\sklearn\\cluster\\_kmeans.py:1332: UserWarning: KMeans is known to have a memory leak on Windows with MKL, when there are less chunks than available threads. You can avoid it by setting the environment variable OMP_NUM_THREADS=1.\n",
      "  warnings.warn(\n"
     ]
    }
   ],
   "source": [
    "# 패키지로부터 클래스, 함수를 호출\n",
    "from sklearn.cluster import KMeans\n",
    "from sklearn.metrics import silhouette_score, silhouette_samples\n",
    "\n",
    "# iris 데이터셋 호출\n",
    "from sklearn.datasets import load_iris\n",
    "iris = load_iris()\n",
    "data = iris.data\n",
    "\n",
    "# k=2일 때 k-means 군집모형으로 군집 형성\n",
    "kmeas_k2 = KMeans(n_clusters = 2, random_state = 2022)\n",
    "labels_pred_k2 = kmeas_k2.fit_predict(data)\n",
    "\n",
    "# k=3일 때 k-means 군집모형으로 군집 형성\n",
    "kmeas_k3 = KMeans(n_clusters = 3, random_state = 2022)\n",
    "labels_pred_k3 = kmeas_k3.fit_predict(data)\n",
    "\n",
    "# k=4일 때 k-means 군집모형으로 군집 형성\n",
    "kmeas_k4 = KMeans(n_clusters = 4, random_state = 2022)\n",
    "labels_pred_k4 = kmeas_k4.fit_predict(data)"
   ]
  },
  {
   "cell_type": "code",
   "execution_count": 8,
   "id": "13a9d37f-6778-4607-8dc2-7c9c0ee9a3a0",
   "metadata": {},
   "outputs": [
    {
     "name": "stdout",
     "output_type": "stream",
     "text": [
      "labels\n",
      "0    0.632701\n",
      "1    0.769526\n",
      "Name: silhouette, dtype: float64\n",
      "0.6810461692117462\n"
     ]
    }
   ],
   "source": [
    "# 개체별로 연결볍에 따른 실루엣 계수를 계산\n",
    "import pandas as pd # 데이터프레임 생성 필요\n",
    "\n",
    "# k=2일 때\n",
    "sil_k2 = silhouette_samples(data, labels_pred_k2) # 개체별 실루엣 계수\n",
    "\n",
    "# 개체별 예측 레이블과 실루엣 계수를 각각 컬럼으로 가지는 데이터프레임 생성\n",
    "df_k2 = pd.DataFrame({'labels' : labels_pred_k2, 'silhouette' : sil_k2})\n",
    "\n",
    "# 레이블별 실루엣 계수의 평균\n",
    "print(df_k2.groupby('labels')['silhouette'].mean())\n",
    "\n",
    "# 전체 실루엣 계수 평균\n",
    "print(silhouette_score(data, labels_pred_k2))"
   ]
  },
  {
   "cell_type": "code",
   "execution_count": 9,
   "id": "82ad03ec-e7f4-4219-a3f2-d4f275d02535",
   "metadata": {},
   "outputs": [
    {
     "name": "stdout",
     "output_type": "stream",
     "text": [
      "labels\n",
      "0    0.798140\n",
      "1    0.417320\n",
      "2    0.451105\n",
      "Name: silhouette, dtype: float64\n",
      "0.5528190123564095\n"
     ]
    }
   ],
   "source": [
    "# k=3일 때\n",
    "sil_k3 = silhouette_samples(data, labels_pred_k3) # 개체별 실루엣 계수\n",
    "\n",
    "# 개체별 예측 레이블과 실루엣 계수를 각각 컬럼으로 가지는 데이터프레임 생성\n",
    "df_k3 = pd.DataFrame({'labels' : labels_pred_k3, 'silhouette' : sil_k3})\n",
    "\n",
    "# 레이블별 실루엣 계수의 평균\n",
    "print(df_k3.groupby('labels')['silhouette'].mean())\n",
    "\n",
    "# 전체 실루엣 계수 평균\n",
    "print(silhouette_score(data, labels_pred_k3))"
   ]
  },
  {
   "cell_type": "code",
   "execution_count": 10,
   "id": "4164d5a0-0838-45a6-a429-750fbf505cc2",
   "metadata": {},
   "outputs": [
    {
     "name": "stdout",
     "output_type": "stream",
     "text": [
      "labels\n",
      "0    0.362998\n",
      "1    0.763176\n",
      "2    0.419518\n",
      "3    0.321324\n",
      "Name: silhouette, dtype: float64\n",
      "0.49805050499728737\n"
     ]
    }
   ],
   "source": [
    "# k=4일 때\n",
    "sil_k4 = silhouette_samples(data, labels_pred_k4) # 개체별 실루엣 계수\n",
    "\n",
    "# 개체별 예측 레이블과 실루엣 계수를 각각 컬럼으로 가지는 데이터프레임 생성\n",
    "df_k4 = pd.DataFrame({'labels' : labels_pred_k4, 'silhouette' : sil_k4})\n",
    "\n",
    "# 레이블별 실루엣 계수의 평균\n",
    "print(df_k4.groupby('labels')['silhouette'].mean())\n",
    "\n",
    "# 전체 실루엣 계수 평균\n",
    "print(silhouette_score(data, labels_pred_k4))"
   ]
  },
  {
   "cell_type": "markdown",
   "id": "e22a2bb3-6374-4daf-bdca-3456e82b2e89",
   "metadata": {},
   "source": [
    "## (끝)"
   ]
  }
 ],
 "metadata": {
  "hide_input": false,
  "kernelspec": {
   "display_name": "Python 3 (ipykernel)",
   "language": "python",
   "name": "python3"
  },
  "language_info": {
   "codemirror_mode": {
    "name": "ipython",
    "version": 3
   },
   "file_extension": ".py",
   "mimetype": "text/x-python",
   "name": "python",
   "nbconvert_exporter": "python",
   "pygments_lexer": "ipython3",
   "version": "3.9.12"
  },
  "toc": {
   "base_numbering": 1,
   "nav_menu": {},
   "number_sections": false,
   "sideBar": true,
   "skip_h1_title": false,
   "title_cell": "Table of Contents",
   "title_sidebar": "Contents",
   "toc_cell": false,
   "toc_position": {},
   "toc_section_display": true,
   "toc_window_display": false
  },
  "varInspector": {
   "cols": {
    "lenName": 16,
    "lenType": 16,
    "lenVar": 40
   },
   "kernels_config": {
    "python": {
     "delete_cmd_postfix": "",
     "delete_cmd_prefix": "del ",
     "library": "var_list.py",
     "varRefreshCmd": "print(var_dic_list())"
    },
    "r": {
     "delete_cmd_postfix": ") ",
     "delete_cmd_prefix": "rm(",
     "library": "var_list.r",
     "varRefreshCmd": "cat(var_dic_list()) "
    }
   },
   "types_to_exclude": [
    "module",
    "function",
    "builtin_function_or_method",
    "instance",
    "_Feature"
   ],
   "window_display": false
  }
 },
 "nbformat": 4,
 "nbformat_minor": 5
}
