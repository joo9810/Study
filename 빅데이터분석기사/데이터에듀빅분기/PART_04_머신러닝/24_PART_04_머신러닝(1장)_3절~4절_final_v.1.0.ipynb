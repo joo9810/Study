{
 "cells": [
  {
   "cell_type": "markdown",
   "id": "c65b1643",
   "metadata": {},
   "source": [
    "### PART 04) 머신러닝"
   ]
  },
  {
   "cell_type": "markdown",
   "id": "4e1be88e",
   "metadata": {},
   "source": [
    "## 1장. 지도학습모형"
   ]
  },
  {
   "cell_type": "markdown",
   "id": "8e175d52",
   "metadata": {},
   "source": [
    "### 3절. 선형모델"
   ]
  },
  {
   "cell_type": "markdown",
   "id": "0fb7c26e-6c50-46ff-813f-7ede9a7ed97e",
   "metadata": {},
   "source": [
    "#### 1. 사이킷런을 활용한 선형 회귀모형"
   ]
  },
  {
   "cell_type": "markdown",
   "id": "18a9b3d4-07bf-49c0-b135-8b9af8886b32",
   "metadata": {},
   "source": [
    "#### 가. 다중 선형 회귀모형"
   ]
  },
  {
   "cell_type": "code",
   "execution_count": 2,
   "id": "cdfc1d1f-3be4-4841-9b01-0df5c5c61a4c",
   "metadata": {},
   "outputs": [
    {
     "name": "stdout",
     "output_type": "stream",
     "text": [
      "[ 608.9434702   301.13217977  990.86949656 -938.98139897 -597.46405077]\n",
      "152.13348416289634\n"
     ]
    },
    {
     "data": {
      "text/plain": [
       "0.47721326169685596"
      ]
     },
     "execution_count": 2,
     "metadata": {},
     "output_type": "execute_result"
    }
   ],
   "source": [
    "from sklearn.linear_model import LinearRegression\n",
    "from sklearn.datasets import load_diabetes\n",
    "import pandas as pd\n",
    "\n",
    "# diabetes 데이터셋 호출 후 데이터프레임으로 변환\n",
    "diabetes = load_diabetes()\n",
    "data = pd.DataFrame(diabetes.data, columns = diabetes.feature_names)\n",
    "target = pd.Series(diabetes.target, name = 'target')\n",
    "\n",
    "colnm = ['bmi', 'bp', 's1', 's2', 's3'] # 컬럼명 리스트\n",
    "X = data[colnm]\n",
    "y = target\n",
    "\n",
    "# 선형회귀 객체 생성\n",
    "model = LinearRegression()\n",
    "\n",
    "# 선형회귀 적합\n",
    "model.fit(X = X, y = y)\n",
    "\n",
    "# 독립변수들에 대한 추정 회귀 계수들\n",
    "print(model.coef_)\n",
    "\n",
    "# 절편항에 대한 추정 회귀 계수\n",
    "print(model.intercept_)\n",
    "\n",
    "# 결정계수\n",
    "model.score(X = X, y = y)"
   ]
  },
  {
   "cell_type": "markdown",
   "id": "5b2b1df8-4243-46b7-b4fa-f72fcd3ad680",
   "metadata": {},
   "source": [
    "#### 나. 릿지(Ridge)"
   ]
  },
  {
   "cell_type": "code",
   "execution_count": 4,
   "id": "9d313021-7184-4296-84d2-744b882c9c83",
   "metadata": {},
   "outputs": [
    {
     "name": "stdout",
     "output_type": "stream",
     "text": [
      "152.13348416289628\n",
      "[ 595.99217991  339.09043254  397.33941231 -338.99997282 -406.34685926]\n"
     ]
    }
   ],
   "source": [
    "from sklearn.linear_model import Ridge\n",
    "from sklearn.datasets import load_diabetes\n",
    "import pandas as pd\n",
    "\n",
    "# diabetes 데이터셋 호출 후 데이터프레임으로 변환\n",
    "diabetes = load_diabetes()\n",
    "data = pd.DataFrame(diabetes.data, columns = diabetes.feature_names)\n",
    "target = pd.Series(diabetes.target, name = 'target')\n",
    "\n",
    "colnm = ['bmi', 'bp', 's1', 's2', 's3'] # 컬럼명 리스트\n",
    "X = data[colnm]\n",
    "y = target\n",
    "\n",
    "# 릿지회귀객체 생성\n",
    "model = Ridge(alpha = 0.1)\n",
    "\n",
    "# 적합\n",
    "model.fit(X = X, y = y)\n",
    "\n",
    "# 독립변수들에 대한 추정 회귀 계수들\n",
    "print(model.intercept_)\n",
    "print(model.coef_)"
   ]
  },
  {
   "cell_type": "markdown",
   "id": "a24dbe71-2f7f-4c69-be13-b482959324ed",
   "metadata": {},
   "source": [
    "#### 다. 라쏘(LASSO)"
   ]
  },
  {
   "cell_type": "code",
   "execution_count": 5,
   "id": "575a2d44-4a0e-4954-92ef-6b44811ae0ea",
   "metadata": {},
   "outputs": [
    {
     "name": "stdout",
     "output_type": "stream",
     "text": [
      "152.13348416289628\n",
      "[ 574.0437769   237.23009748    0.            0.         -165.17218128]\n"
     ]
    }
   ],
   "source": [
    "from sklearn.linear_model import Lasso\n",
    "colnm = ['bmi', 'bp', 's1', 's2', 's3'] # 컬럼명 리스트\n",
    "X = data[colnm]\n",
    "y = target\n",
    "\n",
    "# 라쏘회귀객체 생성\n",
    "model = Lasso(alpha = 0.5)\n",
    "\n",
    "# 적합\n",
    "model.fit(X = X, y = y)\n",
    "Lasso(alpha=0.5)\n",
    "\n",
    "# 독립변수들에 대한 추정 회귀 계수들\n",
    "print(model.intercept_)\n",
    "print(model.coef_)"
   ]
  },
  {
   "cell_type": "code",
   "execution_count": 6,
   "id": "9d84f842-a085-4425-9c16-358117317639",
   "metadata": {},
   "outputs": [],
   "source": [
    "# 패키지 및 데이터셋, 클래스 호출\n",
    "import pandas as pd\n",
    "from sklearn.datasets import load_diabetes\n",
    "from sklearn.linear_model import Lasso\n",
    "\n",
    "# diabetes 데이터셋 호출 후 데이터프레임으로 변환\n",
    "diabetes = load_diabetes()\n",
    "data = pd.DataFrame(diabetes.data, columns = diabetes.feature_names)\n",
    "target = pd.Series(diabetes.target, name = 'target')\n",
    "df = pd.concat([data, target], axis = 1) # 데이터프레임과 시리즈를 열 결합"
   ]
  },
  {
   "cell_type": "code",
   "execution_count": 7,
   "id": "4b779bb7-a8a5-49ca-9d9d-531fcd33a0b0",
   "metadata": {},
   "outputs": [
    {
     "name": "stdout",
     "output_type": "stream",
     "text": [
      "0      198.788299\n",
      "1      166.213989\n",
      "2      133.539119\n",
      "3      194.702166\n",
      "4      172.636431\n",
      "          ...    \n",
      "127    178.910748\n",
      "128    131.853733\n",
      "129    148.587458\n",
      "130    178.546607\n",
      "131     65.610946\n",
      "Name: target, Length: 132, dtype: float64\n"
     ]
    }
   ],
   "source": [
    "# 데이터 분할\n",
    "colnm = ['bmi', 'bp', 's1', 's2', 's3'] # 컬럼명 리스트\n",
    "X_train = df[colnm].loc[:310] # 0~309번 행과 ‘bmi’,‘bp’,‘s1’,‘s2’,‘s3’ 컬럼\n",
    "X_test = df[colnm].loc[310:] # 310~441번 행 ‘bmi’,‘bp’,‘s1’,‘s2’,‘s3’ 컬럼\n",
    "y_train = df['target'].loc[:310] # 0~309번 행과 'target’ 컬럼\n",
    "\n",
    "# 라쏘회귀객체 생성\n",
    "model = Lasso(alpha = 0.5)\n",
    "model.fit(X = X_train, y = y_train) # X_train과 y_train으로 라쏘 회귀모형 적합\n",
    "\n",
    "# X_test를 통해 새로운 ‘target’ 변수를 예측\n",
    "target = model.predict(X_test)\n",
    "target = pd.Series(target, name = 'target') # array -> series\n",
    "print(target)"
   ]
  },
  {
   "cell_type": "markdown",
   "id": "a53fd0ef-c99f-4b59-a1be-6aa17eee4c20",
   "metadata": {},
   "source": [
    "#### 2. 사이킷런을 활용한 로지스틱 회귀모형"
   ]
  },
  {
   "cell_type": "code",
   "execution_count": 8,
   "id": "125155ab-f06d-43c8-9a28-b9dd30a2a017",
   "metadata": {},
   "outputs": [
    {
     "name": "stderr",
     "output_type": "stream",
     "text": [
      "C:\\Anaconda3\\lib\\site-packages\\sklearn\\linear_model\\_logistic.py:444: ConvergenceWarning: lbfgs failed to converge (status=1):\n",
      "STOP: TOTAL NO. of ITERATIONS REACHED LIMIT.\n",
      "\n",
      "Increase the number of iterations (max_iter) or scale the data as shown in:\n",
      "    https://scikit-learn.org/stable/modules/preprocessing.html\n",
      "Please also refer to the documentation for alternative solver options:\n",
      "    https://scikit-learn.org/stable/modules/linear_model.html#logistic-regression\n",
      "  n_iter_i = _check_optimize_result(\n"
     ]
    }
   ],
   "source": [
    "# 패키지로부터 클래스, 함수를 호출\n",
    "from sklearn.linear_model import LogisticRegression\n",
    "from sklearn.model_selection import train_test_split\n",
    "\n",
    "# breast_cancer 데이터셋 호출\n",
    "from sklearn.datasets import load_breast_cancer\n",
    "breast_cancer = load_breast_cancer()\n",
    "data = breast_cancer.data\n",
    "target = breast_cancer.target\n",
    "\n",
    "# 데이터 분할\n",
    "X_train, X_test, y_train, y_test = train_test_split(data, target, test_size = 0.2, random_state = 2205, stratify = target)\n",
    "\n",
    "# 모형객체 생성\n",
    "lr_bin = LogisticRegression(C = 0.5, max_iter = 2000) # 수렴까지 걸리는 최대 반복 횟수\n",
    "\n",
    "# 모델학습\n",
    "model_lr_bin = lr_bin.fit(X_train, y_train)"
   ]
  },
  {
   "cell_type": "code",
   "execution_count": 9,
   "id": "269a7862-ea31-4141-95e3-1d107a7a2b16",
   "metadata": {},
   "outputs": [
    {
     "name": "stdout",
     "output_type": "stream",
     "text": [
      "0.9983465608465608\n"
     ]
    }
   ],
   "source": [
    "# ROC\n",
    "from sklearn.metrics import roc_curve, auc\n",
    "y_score = model_lr_bin.predict_proba(X_test)[:,1]\n",
    "fpr, tpr, thresholds = roc_curve(y_test, y_score)\n",
    "\n",
    "# AUC\n",
    "AUC = auc(fpr, tpr) # roc_curve()에서 반환된 fpr을 x축, tpr을 y축\n",
    "print(AUC)"
   ]
  },
  {
   "cell_type": "code",
   "execution_count": 11,
   "id": "c8a6d934-40a7-4b14-bc9f-02b01e6f965e",
   "metadata": {},
   "outputs": [],
   "source": [
    "# 패키지로부터 클래스, 함수를 호출\n",
    "from sklearn.linear_model import LogisticRegression\n",
    "from sklearn.model_selection import train_test_split\n",
    "# iris 데이터셋 호출\n",
    "from sklearn.datasets import load_iris\n",
    "iris = load_iris()\n",
    "data = iris.data\n",
    "target = iris.target\n",
    "\n",
    "# 데이터 분할\n",
    "X_train, X_test, y_train, y_test = train_test_split(data, target, test_size = 0.2, random_state = 2205, stratify = target)\n",
    "\n",
    "# 모형객체 생성\n",
    "lr_multi = LogisticRegression(C = 0.05, max_iter = 200) # 수렴까지 걸리는 최대 반복 횟수\n",
    "\n",
    "# 모델학습\n",
    "model_lr_multi = lr_multi.fit(X_train, y_train)"
   ]
  },
  {
   "cell_type": "code",
   "execution_count": 12,
   "id": "cd5ed21e-2fbc-40c1-a4c3-3f5227700011",
   "metadata": {},
   "outputs": [
    {
     "name": "stdout",
     "output_type": "stream",
     "text": [
      "0.9665831244778613\n"
     ]
    }
   ],
   "source": [
    "# macro f1-score\n",
    "from sklearn.metrics import f1_score\n",
    "y_pred = model_lr_multi.predict(X_test)\n",
    "macro_f1 = f1_score(y_test, y_pred, average = \"macro\")\n",
    "print(macro_f1)"
   ]
  },
  {
   "cell_type": "markdown",
   "id": "e7b4b2fe-06b6-4a60-8f37-8a1fc96b4630",
   "metadata": {},
   "source": [
    "---"
   ]
  },
  {
   "cell_type": "markdown",
   "id": "7c24fcd1-e6a0-4001-a7a5-f9455b2a1245",
   "metadata": {},
   "source": [
    "### 4절. 서포트벡터머신"
   ]
  },
  {
   "cell_type": "code",
   "execution_count": 8,
   "id": "8a6bc81b-e699-4a19-b25b-71f1537de8bf",
   "metadata": {},
   "outputs": [],
   "source": [
    "# 패키지로부터 클래스, 함수를 호출\n",
    "from sklearn.svm import SVC\n",
    "from sklearn.model_selection import train_test_split\n",
    "\n",
    "# breast_cancer 데이터셋 호출\n",
    "from sklearn.datasets import load_breast_cancer\n",
    "breast_cancer = load_breast_cancer()\n",
    "data = breast_cancer.data\n",
    "target = breast_cancer.target\n",
    "\n",
    "# 데이터 분할\n",
    "X_train, X_test, y_train, y_test = train_test_split(data, target, test_size = 0.2,random_state = 2205, stratify = target)\n",
    "\n",
    "# 모형객체 생성\n",
    "# 메소드 .predict_proba()의 사용을 위해서 probability = True 입력 필요\n",
    "svm_bin = SVC(kernel = 'linear', C = 0.5, probability = True)\n",
    "\n",
    "# 모델학습\n",
    "model_svm_bin = svm_bin.fit(X_train, y_train)"
   ]
  },
  {
   "cell_type": "code",
   "execution_count": 9,
   "id": "f5744cd8-38b5-4261-92ed-f51be3be7c4f",
   "metadata": {},
   "outputs": [
    {
     "name": "stdout",
     "output_type": "stream",
     "text": [
      "0.9983465608465608\n"
     ]
    }
   ],
   "source": [
    "# ROC\n",
    "from sklearn.metrics import roc_curve, auc\n",
    "y_score = model_svm_bin.predict_proba(X_test)[:,1]\n",
    "fpr, tpr, thresholds = roc_curve(y_test, y_score)\n",
    "\n",
    "# AUC\n",
    "AUC = auc(fpr, tpr) # roc_curve()에서 반환된 fpr을 x축, tpr을 y축\n",
    "print(AUC)"
   ]
  },
  {
   "cell_type": "code",
   "execution_count": 10,
   "id": "e5ae61cf-17a5-4689-bf34-1052752563f7",
   "metadata": {},
   "outputs": [],
   "source": [
    "# 패키지로부터 클래스, 함수를 호출\n",
    "from sklearn.svm import LinearSVC\n",
    "from sklearn.model_selection import train_test_split\n",
    "\n",
    "# iris 데이터셋 호출\n",
    "from sklearn.datasets import load_iris\n",
    "iris = load_iris()\n",
    "data = iris.data\n",
    "target = iris.target\n",
    "\n",
    "# 데이터 분할\n",
    "X_train, X_test, y_train, y_test = train_test_split(data, target, test_size = 0.2, random_state = 2205, stratify = target)\n",
    "\n",
    "# 모형객체 생성\n",
    "svm_multi = LinearSVC(C = 0.1)\n",
    "\n",
    "# 모델학습\n",
    "model_svm_multi = svm_multi.fit(X_train, y_train)"
   ]
  },
  {
   "cell_type": "code",
   "execution_count": 21,
   "id": "5e496f53-df7a-4c5d-9b4c-7e2daadfd74f",
   "metadata": {},
   "outputs": [
    {
     "name": "stdout",
     "output_type": "stream",
     "text": [
      "0.9665831244778613\n"
     ]
    }
   ],
   "source": [
    "# macro f1-score\n",
    "from sklearn.metrics import f1_score\n",
    "y_pred = model_svm_multi.predict(X_test)\n",
    "macro_f1 = f1_score(y_test, y_pred, average = \"macro\")\n",
    "print(macro_f1)"
   ]
  },
  {
   "cell_type": "code",
   "execution_count": 11,
   "id": "2b0f650b-5634-4132-b4d7-5de9246a221d",
   "metadata": {},
   "outputs": [],
   "source": [
    "# 패키지로부터 클래스, 함수를 호출\n",
    "from sklearn.svm import SVR, LinearSVR\n",
    "from sklearn.model_selection import train_test_split\n",
    "\n",
    "# diabetes 데이터셋 호출\n",
    "from sklearn.datasets import load_diabetes\n",
    "diabetes = load_diabetes()\n",
    "data = diabetes.data\n",
    "target = diabetes.target\n",
    "\n",
    "# 데이터 분할\n",
    "X_train, X_test, y_train, y_test = train_test_split(data, target, test_size = 0.2, random_state = 2205)\n",
    "\n",
    "# 모형객체 생성\n",
    "svm_conti_1 = SVR(C = 0.1, epsilon = 0.01)\n",
    "svm_conti_2 = LinearSVR(C = 0.1, loss = 'squared_epsilon_insensitive')\n",
    "\n",
    "# 모델학습\n",
    "model_svm_conti_1 = svm_conti_1.fit(X_train, y_train)\n",
    "model_svm_conti_2 = svm_conti_2.fit(X_train, y_train)"
   ]
  },
  {
   "cell_type": "code",
   "execution_count": 12,
   "id": "27ea3e01-c7f1-44a4-8e67-cfbaae1908b2",
   "metadata": {},
   "outputs": [
    {
     "name": "stdout",
     "output_type": "stream",
     "text": [
      "82.99258100164352\n",
      "72.94449806071371\n"
     ]
    }
   ],
   "source": [
    "# RMSE\n",
    "from sklearn.metrics import mean_squared_error\n",
    "y_pred_1 = model_svm_conti_1.predict(X_test)\n",
    "rmse_1 = mean_squared_error(y_test, y_pred_1, squared = False)\n",
    "print(rmse_1)\n",
    "\n",
    "y_pred_2 = model_svm_conti_2.predict(X_test)\n",
    "rmse_2 = mean_squared_error(y_test, y_pred_2, squared = False)\n",
    "print(rmse_2)"
   ]
  }
 ],
 "metadata": {
  "hide_input": false,
  "kernelspec": {
   "display_name": "Python 3 (ipykernel)",
   "language": "python",
   "name": "python3"
  },
  "language_info": {
   "codemirror_mode": {
    "name": "ipython",
    "version": 3
   },
   "file_extension": ".py",
   "mimetype": "text/x-python",
   "name": "python",
   "nbconvert_exporter": "python",
   "pygments_lexer": "ipython3",
   "version": "3.9.12"
  },
  "toc": {
   "base_numbering": 1,
   "nav_menu": {},
   "number_sections": false,
   "sideBar": true,
   "skip_h1_title": false,
   "title_cell": "Table of Contents",
   "title_sidebar": "Contents",
   "toc_cell": false,
   "toc_position": {},
   "toc_section_display": true,
   "toc_window_display": false
  },
  "varInspector": {
   "cols": {
    "lenName": 16,
    "lenType": 16,
    "lenVar": 40
   },
   "kernels_config": {
    "python": {
     "delete_cmd_postfix": "",
     "delete_cmd_prefix": "del ",
     "library": "var_list.py",
     "varRefreshCmd": "print(var_dic_list())"
    },
    "r": {
     "delete_cmd_postfix": ") ",
     "delete_cmd_prefix": "rm(",
     "library": "var_list.r",
     "varRefreshCmd": "cat(var_dic_list()) "
    }
   },
   "types_to_exclude": [
    "module",
    "function",
    "builtin_function_or_method",
    "instance",
    "_Feature"
   ],
   "window_display": false
  }
 },
 "nbformat": 4,
 "nbformat_minor": 5
}
