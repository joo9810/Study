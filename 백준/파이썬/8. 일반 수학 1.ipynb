{
 "cells": [
  {
   "cell_type": "code",
   "execution_count": 22,
   "metadata": {},
   "outputs": [
    {
     "name": "stdout",
     "output_type": "stream",
     "text": [
      "7390552\n"
     ]
    }
   ],
   "source": [
    "# 2745번 진법 변환\n",
    "N, B = input().split()\n",
    "B = int(B)\n",
    "total = 0\n",
    "for i in range(len(N)):\n",
    "    if N[i].isdecimal() == True:\n",
    "        total += (int(N[i]))*(B**(len(N)-1-i))\n",
    "    else:\n",
    "        total += (ord(N[i]) - 55)*(B**(len(N)-1-i))\n",
    "\n",
    "print(total)"
   ]
  },
  {
   "cell_type": "code",
   "execution_count": 53,
   "metadata": {},
   "outputs": [
    {
     "name": "stdout",
     "output_type": "stream",
     "text": [
      "ZZZZZ"
     ]
    }
   ],
   "source": [
    "# 11005번 진법 변환 2\n",
    "N, B = map(int, input().split())\n",
    "i = 0\n",
    "l = []\n",
    "while True:\n",
    "    if N == 1:\n",
    "        l.append(1)\n",
    "        break\n",
    "    if N % B >= 10: l.append(chr(N%B + 55))\n",
    "    else: l.append(N % B)\n",
    "    N = N // B\n",
    "    if N < B:\n",
    "        if N >= 10: l.append(chr(N + 55))\n",
    "        else: l.append(N)\n",
    "        break\n",
    "l = list(reversed(l))\n",
    "if l[0] == 0:\n",
    "    l = l[1:]\n",
    "for i in l: print(i, end='')"
   ]
  },
  {
   "cell_type": "code",
   "execution_count": 10,
   "metadata": {},
   "outputs": [
    {
     "name": "stdout",
     "output_type": "stream",
     "text": [
      "4 2 0 4\n",
      "1 0 0 0\n",
      "7 1 1 4\n"
     ]
    }
   ],
   "source": [
    "# 2720번 세탁소 사장 동혁\n",
    "T = int(input())\n",
    "input_list = []\n",
    "for i in range(T):\n",
    "    input_list.append(int(input()))\n",
    "for i in range(T):\n",
    "    Q1, Q2 = input_list[i]//25, input_list[i]%25\n",
    "    D1, D2 = Q2//10, Q2%10\n",
    "    N1, N2 = D2//5, D2%5\n",
    "    P1 = N2//1\n",
    "    print(Q1, D1, N1, P1, sep=' ')"
   ]
  },
  {
   "cell_type": "code",
   "execution_count": 6,
   "metadata": {},
   "outputs": [
    {
     "name": "stdout",
     "output_type": "stream",
     "text": [
      "1089\n"
     ]
    }
   ],
   "source": [
    "# 2903번 중앙 이동 알고리즘\n",
    "N = int(input())\n",
    "\n",
    "a = 2\n",
    "\n",
    "for i in range(N):\n",
    "    a = a + (a-1)\n",
    "\n",
    "print(a**2)"
   ]
  },
  {
   "cell_type": "code",
   "execution_count": 17,
   "metadata": {},
   "outputs": [
    {
     "name": "stdout",
     "output_type": "stream",
     "text": [
      "3\n"
     ]
    }
   ],
   "source": [
    "# 2292번 벌집\n",
    "# 1개 -> 6개 -> 12개 -> 18개\n",
    "#  1      2      3       4\n",
    "N = int(input())\n",
    "room = 1\n",
    "move = 0\n",
    "while True:\n",
    "    move += 1\n",
    "    if N <= room:\n",
    "        break\n",
    "    room += move*6\n",
    "print(move)"
   ]
  },
  {
   "cell_type": "code",
   "execution_count": 30,
   "metadata": {},
   "outputs": [
    {
     "name": "stdout",
     "output_type": "stream",
     "text": [
      "2/4\n"
     ]
    }
   ],
   "source": [
    "# 1193번 분수찾기\n",
    "# 짝수 : 행, 홀수 : 열\n",
    "X = int(input())\n",
    "line = 1\n",
    "total_block = 1\n",
    "while True:\n",
    "    if X <= total_block:\n",
    "        break\n",
    "    line += 1\n",
    "    total_block += line\n",
    "if line % 2 == 0:\n",
    "    row = line - (total_block - X)\n",
    "    col = 1 + (total_block - X)\n",
    "else:\n",
    "    col = line - (total_block - X)\n",
    "    row = 1 + (total_block - X)\n",
    "print(f\"{row}/{col}\")"
   ]
  }
 ],
 "metadata": {
  "kernelspec": {
   "display_name": "Python 3",
   "language": "python",
   "name": "python3"
  },
  "language_info": {
   "codemirror_mode": {
    "name": "ipython",
    "version": 3
   },
   "file_extension": ".py",
   "mimetype": "text/x-python",
   "name": "python",
   "nbconvert_exporter": "python",
   "pygments_lexer": "ipython3",
   "version": "3.11.9"
  }
 },
 "nbformat": 4,
 "nbformat_minor": 2
}
