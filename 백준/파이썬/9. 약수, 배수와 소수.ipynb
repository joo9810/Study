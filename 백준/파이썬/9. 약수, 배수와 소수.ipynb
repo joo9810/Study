{
 "cells": [
  {
   "cell_type": "code",
   "execution_count": 14,
   "metadata": {},
   "outputs": [
    {
     "name": "stdout",
     "output_type": "stream",
     "text": [
      "factor\n",
      "multiple\n",
      "neither\n"
     ]
    }
   ],
   "source": [
    "# 5086번 배수와 약수\n",
    "\n",
    "while True:\n",
    "    a, b = map(int, input().split())\n",
    "    if a == 0 and b == 0:\n",
    "        break\n",
    "    else:\n",
    "        if b % a == 0:\n",
    "            print('factor')\n",
    "        elif a % b == 0:\n",
    "            print('multiple')\n",
    "        else:\n",
    "            print('neither')"
   ]
  },
  {
   "cell_type": "code",
   "execution_count": null,
   "metadata": {},
   "outputs": [
    {
     "name": "stdout",
     "output_type": "stream",
     "text": [
      "1\n"
     ]
    }
   ],
   "source": [
    "# 2501번 약수 구하기\n",
    "p, q = map(int, input().split())\n",
    "divisor_list = []\n",
    "number = 0\n",
    "for i in range(p):\n",
    "    number += 1\n",
    "    if p % number == 0:\n",
    "        divisor_list.append(number)\n",
    "\n",
    "if len(divisor_list) >= q:\n",
    "    print(divisor_list[q-1])\n",
    "else:\n",
    "    print(0)"
   ]
  },
  {
   "cell_type": "code",
   "execution_count": 11,
   "metadata": {},
   "outputs": [
    {
     "name": "stdout",
     "output_type": "stream",
     "text": [
      "6 = 1 + 2 + 3\n",
      "12 is NOT perfect.\n",
      "28 = 1 + 2 + 4 + 7 + 14\n"
     ]
    }
   ],
   "source": [
    "# 9506번 약수들의 합\n",
    "while True:\n",
    "    divisor_list = []\n",
    "    n = int(input())\n",
    "    if n == -1:\n",
    "        break\n",
    "    for i in range(1, n):\n",
    "        if n % i == 0:\n",
    "            divisor_list.append(i)\n",
    "    if sum(divisor_list) == n:\n",
    "        print(f\"{n} = {' + '.join([str(i) for i in divisor_list])}\")\n",
    "    else:\n",
    "        print(f\"{n} is NOT perfect.\")"
   ]
  },
  {
   "cell_type": "code",
   "execution_count": 25,
   "metadata": {},
   "outputs": [
    {
     "name": "stdout",
     "output_type": "stream",
     "text": [
      "4\n"
     ]
    }
   ],
   "source": [
    "# 1978번 소수 찾기\n",
    "N = int(input())\n",
    "\n",
    "number_list = list(map(int, input().split()))\n",
    "\n",
    "prime_list = []\n",
    "for i in number_list:\n",
    "    divisor_list = []\n",
    "    for j in range(1, i):\n",
    "        if i % j == 0:\n",
    "            divisor_list.append(j)\n",
    "    if sum(divisor_list) == 1:\n",
    "        prime_list.append(i)\n",
    "\n",
    "print(len(prime_list))"
   ]
  },
  {
   "cell_type": "code",
   "execution_count": 28,
   "metadata": {},
   "outputs": [
    {
     "name": "stdout",
     "output_type": "stream",
     "text": [
      "-1\n"
     ]
    }
   ],
   "source": [
    "# 2581번 소수\n",
    "M = int(input())\n",
    "N = int(input())\n",
    "\n",
    "prime_list = []\n",
    "for i in range(M, N+1):\n",
    "    divisor_list = []\n",
    "    for j in range(1, i):\n",
    "        if i % j == 0:\n",
    "            divisor_list.append(j)\n",
    "    if sum(divisor_list) == 1:\n",
    "        prime_list.append(i)\n",
    "\n",
    "if prime_list != []:\n",
    "    print(sum(prime_list))\n",
    "    print(prime_list[0])\n",
    "else:\n",
    "    print(-1)"
   ]
  },
  {
   "cell_type": "code",
   "execution_count": 37,
   "metadata": {},
   "outputs": [
    {
     "name": "stdout",
     "output_type": "stream",
     "text": [
      "97\n",
      "103\n"
     ]
    }
   ],
   "source": [
    "# 11653번 소인수분해\n",
    "N = int(input())\n",
    "\n",
    "if N == 1:\n",
    "    pass\n",
    "else:\n",
    "    number = 2\n",
    "    num_list = []\n",
    "    while True:\n",
    "        if N % number == 0:\n",
    "            N //= number\n",
    "            num_list.append(number)\n",
    "        else:\n",
    "            number += 1\n",
    "\n",
    "        if N == 1:\n",
    "            break\n",
    "\n",
    "    for i in num_list:\n",
    "        print(i)"
   ]
  }
 ],
 "metadata": {
  "kernelspec": {
   "display_name": "Python 3",
   "language": "python",
   "name": "python3"
  },
  "language_info": {
   "codemirror_mode": {
    "name": "ipython",
    "version": 3
   },
   "file_extension": ".py",
   "mimetype": "text/x-python",
   "name": "python",
   "nbconvert_exporter": "python",
   "pygments_lexer": "ipython3",
   "version": "3.11.9"
  }
 },
 "nbformat": 4,
 "nbformat_minor": 2
}
