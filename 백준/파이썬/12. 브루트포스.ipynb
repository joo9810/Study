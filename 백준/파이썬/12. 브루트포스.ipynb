{
 "cells": [
  {
   "cell_type": "code",
   "execution_count": 15,
   "metadata": {},
   "outputs": [
    {
     "name": "stdout",
     "output_type": "stream",
     "text": [
      "12\n"
     ]
    }
   ],
   "source": [
    "# 2798번 블랙잭\n",
    "N, M = map(int, input().split())\n",
    "num_list = list(map(int, input().split()))\n",
    "sum_list = []\n",
    "for i in range(N-2):\n",
    "    for j in range(i+1,N-1):\n",
    "        for k in range(j+1, N):\n",
    "            total = num_list[i] + num_list[j] + num_list[k]\n",
    "            sum_list.append(total)\n",
    "\n",
    "sorted_list = sorted(sum_list)\n",
    "for i in range(len(sorted_list)):\n",
    "    if sorted_list[i] > M:\n",
    "        print(sorted_list[i-1])\n",
    "        break\n",
    "    elif sorted_list[-1] <= M:\n",
    "        print(sorted_list[-1])\n",
    "        break"
   ]
  },
  {
   "cell_type": "code",
   "execution_count": 18,
   "metadata": {},
   "outputs": [
    {
     "name": "stdout",
     "output_type": "stream",
     "text": [
      "198\n"
     ]
    }
   ],
   "source": [
    "# 2231번 분해합\n",
    "N = int(input())\n",
    "for i in range(N):\n",
    "    if i + sum([int(j) for j in str(i)]) == N:\n",
    "        print(i)\n",
    "        break\n",
    "    if i == N-1:\n",
    "        print(0)"
   ]
  },
  {
   "cell_type": "code",
   "execution_count": 38,
   "metadata": {},
   "outputs": [
    {
     "name": "stdout",
     "output_type": "stream",
     "text": [
      "2 -1 "
     ]
    }
   ],
   "source": [
    "# 19532번 수학은 비대면강의입니다\n",
    "a, b, c, d, e, f = map(int, input().split())\n",
    "x = (c*e - b*f) / (a*e - b*d)\n",
    "y = (c*d - a*f) / (b*d - a*e)\n",
    "print(int(x), int(y), end=' ')"
   ]
  },
  {
   "cell_type": "code",
   "execution_count": 80,
   "metadata": {},
   "outputs": [
    {
     "name": "stdout",
     "output_type": "stream",
     "text": [
      "0\n"
     ]
    }
   ],
   "source": [
    "# 1018번 체스판 다시 칠하기\n",
    "N, M = map(int, input().split())\n",
    "\n",
    "input_board = []\n",
    "\n",
    "for i in range(N):\n",
    "    input_board.append(list(input()))\n",
    "\n",
    "white_start = []\n",
    "black_start = []\n",
    "\n",
    "for i in range(8):\n",
    "    white_board = []\n",
    "    black_board = []\n",
    "    for j in range(8):\n",
    "        if (i % 2 == 1 and j % 2 == 1) or (i % 2 == 0 and j % 2 == 0):\n",
    "            white_board.append('W')\n",
    "            black_board.append('B')\n",
    "        else:\n",
    "            white_board.append('B')\n",
    "            black_board.append('W')\n",
    "    white_start.append(white_board)\n",
    "    black_start.append(black_board)\n",
    "\n",
    "# 다시 칠해야 하는 정사각형 개수 리스트\n",
    "change_color_list = []\n",
    "\n",
    "for i in range(N-7):\n",
    "    for j in range(M-7):\n",
    "        start_row, end_row = i, i+8\n",
    "        start_col, end_col = j, j+8\n",
    "\n",
    "        compare_board = [k[start_col:end_col] for k in input_board[start_row:end_row]]\n",
    "\n",
    "        # 체스판 비교\n",
    "        white_change_color = 0\n",
    "        black_change_color = 0\n",
    "        for a in range(8):\n",
    "            for b in range(8):\n",
    "                if white_start[a][b] != compare_board[a][b]:\n",
    "                    white_change_color += 1\n",
    "                if black_start[a][b] != compare_board[a][b]:\n",
    "                    black_change_color += 1\n",
    "        \n",
    "        change_color_list.append(white_change_color)\n",
    "        change_color_list.append(black_change_color)\n",
    "\n",
    "print(min(change_color_list))"
   ]
  }
 ],
 "metadata": {
  "kernelspec": {
   "display_name": "Python 3",
   "language": "python",
   "name": "python3"
  },
  "language_info": {
   "codemirror_mode": {
    "name": "ipython",
    "version": 3
   },
   "file_extension": ".py",
   "mimetype": "text/x-python",
   "name": "python",
   "nbconvert_exporter": "python",
   "pygments_lexer": "ipython3",
   "version": "3.11.9"
  }
 },
 "nbformat": 4,
 "nbformat_minor": 2
}
