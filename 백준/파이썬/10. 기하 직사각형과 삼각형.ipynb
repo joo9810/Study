{
 "cells": [
  {
   "cell_type": "code",
   "execution_count": null,
   "metadata": {},
   "outputs": [
    {
     "name": "stdout",
     "output_type": "stream",
     "text": [
      "100\n"
     ]
    }
   ],
   "source": [
    "# 27323번 직사각형\n",
    "A = int(input())\n",
    "B = int(input())\n",
    "print(A*B)"
   ]
  },
  {
   "cell_type": "code",
   "execution_count": null,
   "metadata": {},
   "outputs": [
    {
     "name": "stdout",
     "output_type": "stream",
     "text": [
      "161\n"
     ]
    }
   ],
   "source": [
    "# 1085번 직사각형에서 탈출\n",
    "x,y,w,h=map(int,input().split())\n",
    "print(min([x,w-x,h-y,y]))"
   ]
  },
  {
   "cell_type": "code",
   "execution_count": 4,
   "metadata": {},
   "outputs": [
    {
     "name": "stdout",
     "output_type": "stream",
     "text": [
      "30 10\n"
     ]
    }
   ],
   "source": [
    "# 3009번 네 번째 점\n",
    "a, b = map(int, input().split())\n",
    "c, d = map(int, input().split())\n",
    "e, f = map(int, input().split())\n",
    "\n",
    "vertex1 = [a, b]\n",
    "vertex2 = [c, d]\n",
    "vertex3 = [e, f]\n",
    "\n",
    "input_vertex_list = [vertex1, vertex2, vertex3]\n",
    "\n",
    "min_x = min(a, c, e)\n",
    "max_x = max(a, c, e)\n",
    "min_y = min(b, d, f)\n",
    "max_y = max(b, d, f)\n",
    "\n",
    "left_top = [min_x, max_y]\n",
    "left_bottom = [min_x, min_y]\n",
    "right_top = [max_x, max_y]\n",
    "right_bottom = [max_x, min_y]\n",
    "\n",
    "result_vertex_list = [left_top, left_bottom, right_top, right_bottom]\n",
    "\n",
    "for i in result_vertex_list:\n",
    "    if i not in input_vertex_list:\n",
    "        print(' '.join([str(j) for j in i]))"
   ]
  },
  {
   "cell_type": "code",
   "execution_count": 2,
   "metadata": {},
   "outputs": [
    {
     "name": "stdout",
     "output_type": "stream",
     "text": [
      "12\n"
     ]
    }
   ],
   "source": [
    "# 15894번 수학은 체육과목 입니다\n",
    "print(int(input())*4)"
   ]
  },
  {
   "cell_type": "code",
   "execution_count": 5,
   "metadata": {},
   "outputs": [
    {
     "name": "stdout",
     "output_type": "stream",
     "text": [
      "9\n"
     ]
    }
   ],
   "source": [
    "# 9063번 대지\n",
    "N = int(input())\n",
    "\n",
    "x_list = []\n",
    "y_list = []\n",
    "\n",
    "for i in range(N):\n",
    "    x, y = map(int, input().split())\n",
    "    x_list.append(x)\n",
    "    y_list.append(y)\n",
    "\n",
    "x_length = max(x_list) - min(x_list)\n",
    "y_length = max(y_list) - min(y_list)\n",
    "\n",
    "print(x_length * y_length)"
   ]
  }
 ],
 "metadata": {
  "kernelspec": {
   "display_name": "Python 3",
   "language": "python",
   "name": "python3"
  },
  "language_info": {
   "codemirror_mode": {
    "name": "ipython",
    "version": 3
   },
   "file_extension": ".py",
   "mimetype": "text/x-python",
   "name": "python",
   "nbconvert_exporter": "python",
   "pygments_lexer": "ipython3",
   "version": "3.11.9"
  }
 },
 "nbformat": 4,
 "nbformat_minor": 2
}
