{
 "cells": [
  {
   "cell_type": "code",
   "execution_count": null,
   "metadata": {},
   "outputs": [
    {
     "name": "stdout",
     "output_type": "stream",
     "text": [
      "100\n"
     ]
    }
   ],
   "source": [
    "# 27323번 직사각형\n",
    "A = int(input())\n",
    "B = int(input())\n",
    "print(A*B)"
   ]
  },
  {
   "cell_type": "code",
   "execution_count": null,
   "metadata": {},
   "outputs": [
    {
     "name": "stdout",
     "output_type": "stream",
     "text": [
      "161\n"
     ]
    }
   ],
   "source": [
    "# 1085번 직사각형에서 탈출\n",
    "x,y,w,h=map(int,input().split())\n",
    "print(min([x,w-x,h-y,y]))"
   ]
  },
  {
   "cell_type": "code",
   "execution_count": 4,
   "metadata": {},
   "outputs": [
    {
     "name": "stdout",
     "output_type": "stream",
     "text": [
      "30 10\n"
     ]
    }
   ],
   "source": [
    "# 3009번 네 번째 점\n",
    "a, b = map(int, input().split())\n",
    "c, d = map(int, input().split())\n",
    "e, f = map(int, input().split())\n",
    "\n",
    "vertex1 = [a, b]\n",
    "vertex2 = [c, d]\n",
    "vertex3 = [e, f]\n",
    "\n",
    "input_vertex_list = [vertex1, vertex2, vertex3]\n",
    "\n",
    "min_x = min(a, c, e)\n",
    "max_x = max(a, c, e)\n",
    "min_y = min(b, d, f)\n",
    "max_y = max(b, d, f)\n",
    "\n",
    "left_top = [min_x, max_y]\n",
    "left_bottom = [min_x, min_y]\n",
    "right_top = [max_x, max_y]\n",
    "right_bottom = [max_x, min_y]\n",
    "\n",
    "result_vertex_list = [left_top, left_bottom, right_top, right_bottom]\n",
    "\n",
    "for i in result_vertex_list:\n",
    "    if i not in input_vertex_list:\n",
    "        print(' '.join([str(j) for j in i]))"
   ]
  },
  {
   "cell_type": "code",
   "execution_count": 2,
   "metadata": {},
   "outputs": [
    {
     "name": "stdout",
     "output_type": "stream",
     "text": [
      "12\n"
     ]
    }
   ],
   "source": [
    "# 15894번 수학은 체육과목 입니다\n",
    "print(int(input())*4)"
   ]
  },
  {
   "cell_type": "code",
   "execution_count": 5,
   "metadata": {},
   "outputs": [
    {
     "name": "stdout",
     "output_type": "stream",
     "text": [
      "9\n"
     ]
    }
   ],
   "source": [
    "# 9063번 대지\n",
    "N = int(input())\n",
    "\n",
    "x_list = []\n",
    "y_list = []\n",
    "\n",
    "for i in range(N):\n",
    "    x, y = map(int, input().split())\n",
    "    x_list.append(x)\n",
    "    y_list.append(y)\n",
    "\n",
    "x_length = max(x_list) - min(x_list)\n",
    "y_length = max(y_list) - min(y_list)\n",
    "\n",
    "print(x_length * y_length)"
   ]
  },
  {
   "cell_type": "code",
   "execution_count": 4,
   "metadata": {},
   "outputs": [
    {
     "name": "stdout",
     "output_type": "stream",
     "text": [
      "Scalene\n"
     ]
    }
   ],
   "source": [
    "# 10101번 삼각형 외우기\n",
    "a = int(input())\n",
    "b = int(input())\n",
    "c = int(input())\n",
    "\n",
    "angle_list = [a, b, c]\n",
    "\n",
    "if (sum(angle_list) == 180):\n",
    "    if a == b == c:\n",
    "        print('Equilateral')\n",
    "    elif a == b or a == c or b == c:\n",
    "        print('Isosceles')\n",
    "    else:\n",
    "        print('Scalene')\n",
    "else:\n",
    "    print('Error')"
   ]
  },
  {
   "cell_type": "code",
   "execution_count": 5,
   "metadata": {},
   "outputs": [
    {
     "name": "stdout",
     "output_type": "stream",
     "text": [
      "Equilateral\n",
      "Scalene\n",
      "Invalid\n",
      "Isosceles\n"
     ]
    }
   ],
   "source": [
    "# 5073번 삼각형과 세 변\n",
    "while True:\n",
    "    a, b, c = map(int, input().split())\n",
    "\n",
    "    if a == 0 and b == 0 and c == 0:\n",
    "        break\n",
    "    else:\n",
    "        sorted_list = sorted([a, b, c])\n",
    "        if sorted_list[-1] < sum(sorted_list[:2]):\n",
    "            if a == b == c:\n",
    "                print('Equilateral')\n",
    "            elif a == b or a == c or b == c:\n",
    "                print('Isosceles')\n",
    "            else:\n",
    "                print('Scalene')\n",
    "        else:\n",
    "            print('Invalid')"
   ]
  },
  {
   "cell_type": "code",
   "execution_count": 9,
   "metadata": {},
   "outputs": [
    {
     "name": "stdout",
     "output_type": "stream",
     "text": [
      "113\n"
     ]
    }
   ],
   "source": [
    "# 14215번 세 막대\n",
    "a, b, c = map(int, input().split())\n",
    "sorted_list = sorted([a, b, c])\n",
    "if sorted_list[0] + sorted_list[1] <= sorted_list[2]:\n",
    "    sorted_list[2] = sorted_list[0] + sorted_list[1] - 1\n",
    "print(sum(sorted_list))"
   ]
  }
 ],
 "metadata": {
  "kernelspec": {
   "display_name": "Python 3",
   "language": "python",
   "name": "python3"
  },
  "language_info": {
   "codemirror_mode": {
    "name": "ipython",
    "version": 3
   },
   "file_extension": ".py",
   "mimetype": "text/x-python",
   "name": "python",
   "nbconvert_exporter": "python",
   "pygments_lexer": "ipython3",
   "version": "3.11.9"
  }
 },
 "nbformat": 4,
 "nbformat_minor": 2
}
