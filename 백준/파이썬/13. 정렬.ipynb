{
 "cells": [
  {
   "cell_type": "code",
   "execution_count": 2,
   "metadata": {},
   "outputs": [
    {
     "name": "stdout",
     "output_type": "stream",
     "text": [
      "1\n",
      "2\n",
      "3\n",
      "4\n",
      "5\n"
     ]
    }
   ],
   "source": [
    "# 2750번 수 정렬하기\n",
    "N = int(input())\n",
    "num_list = []\n",
    "for i in range(N):\n",
    "    num_list.append(int(input()))\n",
    "\n",
    "for i in range(N-1):\n",
    "    for j in range(N-i-1):\n",
    "        if num_list[j] > num_list[j+1]:\n",
    "            temp = num_list[j+1]\n",
    "            num_list[j+1] = num_list[j]\n",
    "            num_list[j] = temp\n",
    "\n",
    "for i in num_list:\n",
    "    print(i)"
   ]
  },
  {
   "cell_type": "code",
   "execution_count": 3,
   "metadata": {},
   "outputs": [
    {
     "name": "stdout",
     "output_type": "stream",
     "text": [
      "34\n",
      "30\n"
     ]
    }
   ],
   "source": [
    "# 2587번 대표값2\n",
    "num_list = []\n",
    "for i in range(5):\n",
    "    num_list.append(int(input()))\n",
    "\n",
    "for i in range(4):\n",
    "    for j in range(4-i):\n",
    "        if num_list[j] > num_list[j+1]:\n",
    "            temp = num_list[j+1]\n",
    "            num_list[j+1] = num_list[j]\n",
    "            num_list[j] = temp\n",
    "\n",
    "total = 0\n",
    "for i in num_list:\n",
    "    total += i\n",
    "\n",
    "print(int(total/5))\n",
    "print(num_list[2])"
   ]
  },
  {
   "cell_type": "code",
   "execution_count": 9,
   "metadata": {},
   "outputs": [
    {
     "name": "stdout",
     "output_type": "stream",
     "text": [
      "98\n"
     ]
    }
   ],
   "source": [
    "# 25305번 커트라인\n",
    "N, k = map(int, input().split())\n",
    "score_list = list(map(int, input().split()))\n",
    "\n",
    "sorted_list = sorted(score_list, reverse=True)\n",
    "\n",
    "print(sorted_list[k-1])"
   ]
  },
  {
   "cell_type": "code",
   "execution_count": null,
   "metadata": {},
   "outputs": [],
   "source": [
    "# 2751번 수 정렬하기 2\n",
    "import sys\n",
    "\n",
    "N = int(sys.stdin.readline())\n",
    "num_list = []\n",
    "for i in range(N):\n",
    "    num_list.append(int(sys.stdin.readline()))\n",
    "\n",
    "sorted_list = sorted(num_list)\n",
    "for i in sorted_list:\n",
    "    print(i)"
   ]
  },
  {
   "cell_type": "code",
   "execution_count": null,
   "metadata": {},
   "outputs": [
    {
     "name": "stdout",
     "output_type": "stream",
     "text": [
      "1\n",
      "1\n",
      "2\n",
      "2\n",
      "3\n",
      "3\n",
      "4\n",
      "5\n",
      "5\n",
      "7\n"
     ]
    }
   ],
   "source": [
    "# 10989번 수 정렬하기 3\n",
    "import sys\n",
    "\n",
    "N = int(sys.stdin.readline())\n",
    "\n",
    "num_dict = dict()\n",
    "for i in range(N):\n",
    "    input_value = int(sys.stdin.readline())\n",
    "    if input_value in num_dict.keys():\n",
    "        num_dict[input_value] += 1\n",
    "    else:\n",
    "        num_dict[input_value] = 1\n",
    "\n",
    "num_list = sorted(num_dict.keys())\n",
    "\n",
    "for i in num_list:\n",
    "    for j in range(num_dict[i]):\n",
    "        print(i)"
   ]
  },
  {
   "cell_type": "code",
   "execution_count": null,
   "metadata": {},
   "outputs": [
    {
     "name": "stdout",
     "output_type": "stream",
     "text": [
      "965310000\n"
     ]
    }
   ],
   "source": [
    "# 1427번 소트인사이드\n",
    "N=int(input())\n",
    "print(int(''.join(sorted(list(str(N)),reverse=True))))"
   ]
  },
  {
   "cell_type": "code",
   "execution_count": 23,
   "metadata": {},
   "outputs": [
    {
     "name": "stdout",
     "output_type": "stream",
     "text": [
      "1 -1\n",
      "1 1\n",
      "2 2\n",
      "3 3\n",
      "3 4\n"
     ]
    }
   ],
   "source": [
    "# 11650번 좌표 정렬하기\n",
    "N = int(input())\n",
    "input_list = []\n",
    "for i in range(N):\n",
    "    input_list.append(list(map(int, input().split())))\n",
    "\n",
    "for i in sorted(input_list):\n",
    "    print(i[0], i[1], sep=' ')"
   ]
  }
 ],
 "metadata": {
  "kernelspec": {
   "display_name": "Python 3",
   "language": "python",
   "name": "python3"
  },
  "language_info": {
   "codemirror_mode": {
    "name": "ipython",
    "version": 3
   },
   "file_extension": ".py",
   "mimetype": "text/x-python",
   "name": "python",
   "nbconvert_exporter": "python",
   "pygments_lexer": "ipython3",
   "version": "3.11.9"
  }
 },
 "nbformat": 4,
 "nbformat_minor": 2
}
