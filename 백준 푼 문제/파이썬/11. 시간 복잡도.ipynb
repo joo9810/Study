{
 "cells": [
  {
   "cell_type": "code",
   "execution_count": 1,
   "metadata": {},
   "outputs": [
    {
     "name": "stdout",
     "output_type": "stream",
     "text": [
      "1\n",
      "0\n"
     ]
    }
   ],
   "source": [
    "# 24262번 알고리즘 수업 - 알고리즘의 수행 시간 1\n",
    "n=int(input())\n",
    "print(1)\n",
    "print(0)"
   ]
  },
  {
   "cell_type": "code",
   "execution_count": 2,
   "metadata": {},
   "outputs": [
    {
     "name": "stdout",
     "output_type": "stream",
     "text": [
      "7\n",
      "1\n"
     ]
    }
   ],
   "source": [
    "# 24263번 알고리즘 수업 - 알고리즘의 수행 시간 2\n",
    "n=int(input())\n",
    "print(n)\n",
    "print(1)"
   ]
  },
  {
   "cell_type": "code",
   "execution_count": 3,
   "metadata": {},
   "outputs": [
    {
     "name": "stdout",
     "output_type": "stream",
     "text": [
      "49\n",
      "2\n"
     ]
    }
   ],
   "source": [
    "# 24264번 알고리즘 수업 - 알고리즘의 수행 시간 3\n",
    "n=int(input())\n",
    "print(n**2)\n",
    "print(2)"
   ]
  },
  {
   "cell_type": "code",
   "execution_count": null,
   "metadata": {},
   "outputs": [
    {
     "name": "stdout",
     "output_type": "stream",
     "text": [
      "21\n",
      "2\n"
     ]
    }
   ],
   "source": [
    "# 24265번 알고리즘 수업 - 알고리즘의 수행 시간 4\n",
    "# n-1, n-2, 2, 1\n",
    "# n * (n-1) / 2\n",
    "n=int(input())\n",
    "print(int(n*(n-1)/2))\n",
    "print(2)"
   ]
  },
  {
   "cell_type": "code",
   "execution_count": 6,
   "metadata": {},
   "outputs": [
    {
     "name": "stdout",
     "output_type": "stream",
     "text": [
      "343\n",
      "3\n"
     ]
    }
   ],
   "source": [
    "# 24266번 알고리즘 수업 - 알고리즘의 수행 시간 5\n",
    "n=int(input())\n",
    "print(n**3)\n",
    "print(3)"
   ]
  },
  {
   "cell_type": "code",
   "execution_count": 8,
   "metadata": {},
   "outputs": [
    {
     "name": "stdout",
     "output_type": "stream",
     "text": [
      "35\n",
      "3\n"
     ]
    }
   ],
   "source": [
    "# 24267번 알고리즘 수업 - 알고리즘의 수행 시간 6\n",
    "# nC3의 조합의 경우의 수\n",
    "n = int(input())\n",
    "print(int(n*(n-1)*(n-2)/6))\n",
    "print(3)"
   ]
  },
  {
   "cell_type": "code",
   "execution_count": null,
   "metadata": {},
   "outputs": [
    {
     "name": "stdout",
     "output_type": "stream",
     "text": [
      "0\n"
     ]
    }
   ],
   "source": [
    "# 24313번 알고리즘 수업 - 점근적 표기 1\n",
    "# n>=n0에 대하여 a1*n+a0<=c*n을 만족하는지\n",
    "# 전제 : c가 a1보다 커야 함\n",
    "# c가 a1보다 작다면 (c-a1)*n이 음수가 되어 n이 커짐에 따라 더 작아짐\n",
    "a1, a0 = map(int, input().split())\n",
    "c = int(input())\n",
    "n0 = int(input())\n",
    "\n",
    "if (c >= a1):\n",
    "    print(int(a0 + a1*n0 <= c*n0))\n",
    "else:\n",
    "    print(0)"
   ]
  }
 ],
 "metadata": {
  "kernelspec": {
   "display_name": "Python 3",
   "language": "python",
   "name": "python3"
  },
  "language_info": {
   "codemirror_mode": {
    "name": "ipython",
    "version": 3
   },
   "file_extension": ".py",
   "mimetype": "text/x-python",
   "name": "python",
   "nbconvert_exporter": "python",
   "pygments_lexer": "ipython3",
   "version": "3.11.9"
  }
 },
 "nbformat": 4,
 "nbformat_minor": 2
}
