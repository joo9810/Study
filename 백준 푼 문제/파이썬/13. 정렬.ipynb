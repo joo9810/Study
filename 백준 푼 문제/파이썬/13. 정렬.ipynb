{
 "cells": [
  {
   "cell_type": "code",
   "execution_count": 2,
   "metadata": {},
   "outputs": [
    {
     "name": "stdout",
     "output_type": "stream",
     "text": [
      "1\n",
      "2\n",
      "3\n",
      "4\n",
      "5\n"
     ]
    }
   ],
   "source": [
    "# 2750번 수 정렬하기\n",
    "N = int(input())\n",
    "num_list = []\n",
    "for i in range(N):\n",
    "    num_list.append(int(input()))\n",
    "\n",
    "for i in range(N-1):\n",
    "    for j in range(N-i-1):\n",
    "        if num_list[j] > num_list[j+1]:\n",
    "            temp = num_list[j+1]\n",
    "            num_list[j+1] = num_list[j]\n",
    "            num_list[j] = temp\n",
    "\n",
    "for i in num_list:\n",
    "    print(i)"
   ]
  },
  {
   "cell_type": "code",
   "execution_count": 3,
   "metadata": {},
   "outputs": [
    {
     "name": "stdout",
     "output_type": "stream",
     "text": [
      "34\n",
      "30\n"
     ]
    }
   ],
   "source": [
    "# 2587번 대표값2\n",
    "num_list = []\n",
    "for i in range(5):\n",
    "    num_list.append(int(input()))\n",
    "\n",
    "for i in range(4):\n",
    "    for j in range(4-i):\n",
    "        if num_list[j] > num_list[j+1]:\n",
    "            temp = num_list[j+1]\n",
    "            num_list[j+1] = num_list[j]\n",
    "            num_list[j] = temp\n",
    "\n",
    "total = 0\n",
    "for i in num_list:\n",
    "    total += i\n",
    "\n",
    "print(int(total/5))\n",
    "print(num_list[2])"
   ]
  },
  {
   "cell_type": "code",
   "execution_count": 9,
   "metadata": {},
   "outputs": [
    {
     "name": "stdout",
     "output_type": "stream",
     "text": [
      "98\n"
     ]
    }
   ],
   "source": [
    "# 25305번 커트라인\n",
    "N, k = map(int, input().split())\n",
    "score_list = list(map(int, input().split()))\n",
    "\n",
    "sorted_list = sorted(score_list, reverse=True)\n",
    "\n",
    "print(sorted_list[k-1])"
   ]
  },
  {
   "cell_type": "code",
   "execution_count": null,
   "metadata": {},
   "outputs": [],
   "source": [
    "# 2751번 수 정렬하기 2\n",
    "import sys\n",
    "\n",
    "N = int(sys.stdin.readline())\n",
    "num_list = []\n",
    "for i in range(N):\n",
    "    num_list.append(int(sys.stdin.readline()))\n",
    "\n",
    "sorted_list = sorted(num_list)\n",
    "for i in sorted_list:\n",
    "    print(i)"
   ]
  },
  {
   "cell_type": "code",
   "execution_count": null,
   "metadata": {},
   "outputs": [
    {
     "name": "stdout",
     "output_type": "stream",
     "text": [
      "1\n",
      "1\n",
      "2\n",
      "2\n",
      "3\n",
      "3\n",
      "4\n",
      "5\n",
      "5\n",
      "7\n"
     ]
    }
   ],
   "source": [
    "# 10989번 수 정렬하기 3\n",
    "import sys\n",
    "\n",
    "N = int(sys.stdin.readline())\n",
    "\n",
    "num_dict = dict()\n",
    "for i in range(N):\n",
    "    input_value = int(sys.stdin.readline())\n",
    "    if input_value in num_dict.keys():\n",
    "        num_dict[input_value] += 1\n",
    "    else:\n",
    "        num_dict[input_value] = 1\n",
    "\n",
    "num_list = sorted(num_dict.keys())\n",
    "\n",
    "for i in num_list:\n",
    "    for j in range(num_dict[i]):\n",
    "        print(i)"
   ]
  },
  {
   "cell_type": "code",
   "execution_count": null,
   "metadata": {},
   "outputs": [
    {
     "name": "stdout",
     "output_type": "stream",
     "text": [
      "965310000\n"
     ]
    }
   ],
   "source": [
    "# 1427번 소트인사이드\n",
    "N=int(input())\n",
    "print(int(''.join(sorted(list(str(N)),reverse=True))))"
   ]
  },
  {
   "cell_type": "code",
   "execution_count": 23,
   "metadata": {},
   "outputs": [
    {
     "name": "stdout",
     "output_type": "stream",
     "text": [
      "1 -1\n",
      "1 1\n",
      "2 2\n",
      "3 3\n",
      "3 4\n"
     ]
    }
   ],
   "source": [
    "# 11650번 좌표 정렬하기\n",
    "N = int(input())\n",
    "input_list = []\n",
    "for i in range(N):\n",
    "    input_list.append(list(map(int, input().split())))\n",
    "\n",
    "for i in sorted(input_list):\n",
    "    print(i[0], i[1], sep=' ')"
   ]
  },
  {
   "cell_type": "code",
   "execution_count": 1,
   "metadata": {},
   "outputs": [
    {
     "name": "stdout",
     "output_type": "stream",
     "text": [
      "1 -1\n",
      "1 2\n",
      "2 2\n",
      "3 3\n",
      "0 4\n"
     ]
    }
   ],
   "source": [
    "# 11651번 좌표 정렬하기 2\n",
    "N = int(input())\n",
    "input_list = []\n",
    "for i in range(N):\n",
    "    coordinate = list(map(int, input().split()))\n",
    "    input_list.append([coordinate[1], coordinate[0]])\n",
    "\n",
    "for i in sorted(input_list):\n",
    "    print(i[1], i[0], sep=' ')"
   ]
  },
  {
   "cell_type": "code",
   "execution_count": 11,
   "metadata": {},
   "outputs": [
    {
     "name": "stdout",
     "output_type": "stream",
     "text": [
      "i\n",
      "im\n",
      "it\n",
      "no\n",
      "but\n",
      "more\n",
      "wait\n",
      "wont\n",
      "yours\n",
      "cannot\n",
      "hesitate\n"
     ]
    }
   ],
   "source": [
    "# 1181번 단어 정렬\n",
    "N = int(input())\n",
    "input_dict = dict()\n",
    "for i in range(N):\n",
    "    input_word = input()\n",
    "    if len(input_word) in input_dict.keys():\n",
    "        input_dict[len(input_word)].add(input_word)\n",
    "    else:\n",
    "        input_dict[len(input_word)] = set()\n",
    "        input_dict[len(input_word)].add(input_word)\n",
    "\n",
    "# print(input_dict)\n",
    "\n",
    "sorted_keys = sorted(input_dict.keys())\n",
    "for i in sorted_keys:\n",
    "    word_list = list(input_dict[i])\n",
    "    for j in sorted(word_list):\n",
    "        print(j)"
   ]
  },
  {
   "cell_type": "code",
   "execution_count": 12,
   "metadata": {},
   "outputs": [
    {
     "name": "stdout",
     "output_type": "stream",
     "text": [
      "20 Sunyoung\n",
      "21 Junkyu\n",
      "21 Dohyun\n"
     ]
    }
   ],
   "source": [
    "# 10814번 나이순 정렬\n",
    "N = int(input())\n",
    "input_dict = dict()\n",
    "for i in range(N):\n",
    "    age_name = input().split()\n",
    "    age = int(age_name[0])\n",
    "    name = age_name[1]\n",
    "    if age in input_dict.keys():\n",
    "        input_dict[age].append(name)\n",
    "    else:\n",
    "        input_dict[age] = [name]\n",
    "    \n",
    "sorted_key = sorted(input_dict.keys())\n",
    "for age in sorted_key:\n",
    "    name_list = input_dict[age]\n",
    "    for name in name_list:\n",
    "        print(age, name, sep=' ')"
   ]
  },
  {
   "cell_type": "code",
   "execution_count": 28,
   "metadata": {},
   "outputs": [
    {
     "name": "stdout",
     "output_type": "stream",
     "text": [
      "1 0 1 0 1 0"
     ]
    }
   ],
   "source": [
    "# 18870번 좌표 압축\n",
    "import sys\n",
    "\n",
    "N = int(sys.stdin.readline())\n",
    "coordinate_list = list(map(int, sys.stdin.readline().split()))\n",
    "coordinate_set = set(coordinate_list)\n",
    "coordinate_dict = dict()\n",
    "\n",
    "sorted_dict = dict()\n",
    "for index, value in enumerate(sorted(coordinate_set)):\n",
    "    sorted_dict[value] = index\n",
    "\n",
    "for i in coordinate_list:\n",
    "    print(sorted_dict[i], end=' ')"
   ]
  }
 ],
 "metadata": {
  "kernelspec": {
   "display_name": "Python 3",
   "language": "python",
   "name": "python3"
  },
  "language_info": {
   "codemirror_mode": {
    "name": "ipython",
    "version": 3
   },
   "file_extension": ".py",
   "mimetype": "text/x-python",
   "name": "python",
   "nbconvert_exporter": "python",
   "pygments_lexer": "ipython3",
   "version": "3.11.9"
  }
 },
 "nbformat": 4,
 "nbformat_minor": 2
}
