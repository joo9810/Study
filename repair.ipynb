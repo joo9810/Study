{
 "cells": [
  {
   "cell_type": "markdown",
   "metadata": {},
   "source": [
    "### 1. 데이터 준비"
   ]
  },
  {
   "cell_type": "code",
   "execution_count": 134,
   "metadata": {},
   "outputs": [
    {
     "name": "stdout",
     "output_type": "stream",
     "text": [
      "<class 'pandas.core.frame.DataFrame'>\n",
      "RangeIndex: 13262 entries, 0 to 13261\n",
      "Data columns (total 13 columns):\n",
      " #   Column               Non-Null Count  Dtype  \n",
      "---  ------               --------------  -----  \n",
      " 0   caseID               13262 non-null  int64  \n",
      " 1   taskID               13260 non-null  object \n",
      " 2   originator           13260 non-null  object \n",
      " 3   eventtype            13257 non-null  object \n",
      " 4   contact              1000 non-null   object \n",
      " 5   RepairType           927 non-null    object \n",
      " 6   objectKey            927 non-null    float64\n",
      " 7   RepairInternally     927 non-null    object \n",
      " 8   EstimatedRepairTime  927 non-null    float64\n",
      " 9   RepairCode           927 non-null    float64\n",
      " 10  RepairOK             1854 non-null   object \n",
      " 11  date                 13249 non-null  object \n",
      " 12  time                 13249 non-null  object \n",
      "dtypes: float64(3), int64(1), object(9)\n",
      "memory usage: 1.3+ MB\n"
     ]
    },
    {
     "data": {
      "text/html": [
       "<div>\n",
       "<style scoped>\n",
       "    .dataframe tbody tr th:only-of-type {\n",
       "        vertical-align: middle;\n",
       "    }\n",
       "\n",
       "    .dataframe tbody tr th {\n",
       "        vertical-align: top;\n",
       "    }\n",
       "\n",
       "    .dataframe thead th {\n",
       "        text-align: right;\n",
       "    }\n",
       "</style>\n",
       "<table border=\"1\" class=\"dataframe\">\n",
       "  <thead>\n",
       "    <tr style=\"text-align: right;\">\n",
       "      <th></th>\n",
       "      <th>caseID</th>\n",
       "      <th>taskID</th>\n",
       "      <th>originator</th>\n",
       "      <th>eventtype</th>\n",
       "      <th>contact</th>\n",
       "      <th>RepairType</th>\n",
       "      <th>objectKey</th>\n",
       "      <th>RepairInternally</th>\n",
       "      <th>EstimatedRepairTime</th>\n",
       "      <th>RepairCode</th>\n",
       "      <th>RepairOK</th>\n",
       "      <th>date</th>\n",
       "      <th>time</th>\n",
       "    </tr>\n",
       "  </thead>\n",
       "  <tbody>\n",
       "    <tr>\n",
       "      <th>0</th>\n",
       "      <td>419</td>\n",
       "      <td>InformClientSurvey</td>\n",
       "      <td>System</td>\n",
       "      <td>complete</td>\n",
       "      <td>NaN</td>\n",
       "      <td>NaN</td>\n",
       "      <td>NaN</td>\n",
       "      <td>NaN</td>\n",
       "      <td>NaN</td>\n",
       "      <td>NaN</td>\n",
       "      <td>NaN</td>\n",
       "      <td>2020-01-06</td>\n",
       "      <td>11:51</td>\n",
       "    </tr>\n",
       "    <tr>\n",
       "      <th>1</th>\n",
       "      <td>561</td>\n",
       "      <td>ArrangeSurvey</td>\n",
       "      <td>Monica</td>\n",
       "      <td>complete</td>\n",
       "      <td>NaN</td>\n",
       "      <td>NaN</td>\n",
       "      <td>NaN</td>\n",
       "      <td>NaN</td>\n",
       "      <td>NaN</td>\n",
       "      <td>NaN</td>\n",
       "      <td>NaN</td>\n",
       "      <td>2020-01-07</td>\n",
       "      <td>13:48</td>\n",
       "    </tr>\n",
       "    <tr>\n",
       "      <th>2</th>\n",
       "      <td>902</td>\n",
       "      <td>ReadyInformClient</td>\n",
       "      <td>System</td>\n",
       "      <td>complete</td>\n",
       "      <td>NaN</td>\n",
       "      <td>NaN</td>\n",
       "      <td>NaN</td>\n",
       "      <td>NaN</td>\n",
       "      <td>NaN</td>\n",
       "      <td>NaN</td>\n",
       "      <td>True</td>\n",
       "      <td>2020-01-08</td>\n",
       "      <td>16:20</td>\n",
       "    </tr>\n",
       "    <tr>\n",
       "      <th>3</th>\n",
       "      <td>18</td>\n",
       "      <td>Survey</td>\n",
       "      <td>Edd</td>\n",
       "      <td>start</td>\n",
       "      <td>NaN</td>\n",
       "      <td>NaN</td>\n",
       "      <td>NaN</td>\n",
       "      <td>NaN</td>\n",
       "      <td>NaN</td>\n",
       "      <td>NaN</td>\n",
       "      <td>NaN</td>\n",
       "      <td>2020-01-09</td>\n",
       "      <td>6:55</td>\n",
       "    </tr>\n",
       "    <tr>\n",
       "      <th>4</th>\n",
       "      <td>852</td>\n",
       "      <td>Survey</td>\n",
       "      <td>Edd</td>\n",
       "      <td>complete</td>\n",
       "      <td>NaN</td>\n",
       "      <td>NaN</td>\n",
       "      <td>NaN</td>\n",
       "      <td>True</td>\n",
       "      <td>240.0</td>\n",
       "      <td>1.0</td>\n",
       "      <td>NaN</td>\n",
       "      <td>2020-01-10</td>\n",
       "      <td>11:33</td>\n",
       "    </tr>\n",
       "  </tbody>\n",
       "</table>\n",
       "</div>"
      ],
      "text/plain": [
       "   caseID              taskID originator eventtype contact RepairType  \\\n",
       "0     419  InformClientSurvey     System  complete     NaN        NaN   \n",
       "1     561       ArrangeSurvey     Monica  complete     NaN        NaN   \n",
       "2     902   ReadyInformClient     System  complete     NaN        NaN   \n",
       "3      18              Survey        Edd     start     NaN        NaN   \n",
       "4     852              Survey        Edd  complete     NaN        NaN   \n",
       "\n",
       "   objectKey RepairInternally  EstimatedRepairTime  RepairCode RepairOK  \\\n",
       "0        NaN              NaN                  NaN         NaN      NaN   \n",
       "1        NaN              NaN                  NaN         NaN      NaN   \n",
       "2        NaN              NaN                  NaN         NaN     True   \n",
       "3        NaN              NaN                  NaN         NaN      NaN   \n",
       "4        NaN             True                240.0         1.0      NaN   \n",
       "\n",
       "         date   time  \n",
       "0  2020-01-06  11:51  \n",
       "1  2020-01-07  13:48  \n",
       "2  2020-01-08  16:20  \n",
       "3  2020-01-09   6:55  \n",
       "4  2020-01-10  11:33  "
      ]
     },
     "execution_count": 134,
     "metadata": {},
     "output_type": "execute_result"
    }
   ],
   "source": [
    "# 모듈 로딩 및 데이터 확인\n",
    "\n",
    "import pandas as pd\n",
    "\n",
    "df = pd.read_csv('repair2.csv')\n",
    "\n",
    "df.info()\n",
    "df.head()"
   ]
  },
  {
   "cell_type": "markdown",
   "metadata": {},
   "source": [
    "- contact, RepairKey, objectKey, RepairInternally, EstimatedRepairTime, RepairCode, RepairOk에 결측치 많음\n",
    "\n"
   ]
  },
  {
   "cell_type": "markdown",
   "metadata": {},
   "source": [
    "o   caseID: 집 수리 요청 접수 번호\n",
    "\n",
    "o   taskID: 업무\n",
    "\n",
    "o   originator: 업무 담당자\n",
    "\n",
    "o   eventtype: 업무의 시작(start)과 끝(complete)을 표시. \n",
    "\n",
    "o   contact: 집 수리 요청의 요청 채널.\n",
    "\n",
    "o   RepairType: 수리 방식.\n",
    "\n",
    "o   objectKey: 수리 대상 집 key.\n",
    "\n",
    "o   RepairInternally: 내부 수리 여부.\n",
    "\n",
    "o   EstimatedRepairTime: 예상 수리 시간.\n",
    "\n",
    "o   RepairCode: 수리 종류.\n",
    "\n",
    "o   RepairOK: 수리 정상 종료 여부\n",
    "\n",
    "o   Date: 업무 수행 일자\n",
    "\n",
    "o   Time: 업무 수행 시각"
   ]
  },
  {
   "cell_type": "code",
   "execution_count": 135,
   "metadata": {},
   "outputs": [
    {
     "data": {
      "text/plain": [
       "13"
      ]
     },
     "execution_count": 135,
     "metadata": {},
     "output_type": "execute_result"
    }
   ],
   "source": [
    "# 날짜와 시간이 동시에 결측치인 컬럼이 13개이므로 둘 중 하나만 결측치인 행은 없음\n",
    "len(df[(df['date'].isna() == True) & (df['time'].isna() == True)])"
   ]
  },
  {
   "cell_type": "code",
   "execution_count": 136,
   "metadata": {},
   "outputs": [
    {
     "data": {
      "text/html": [
       "<div>\n",
       "<style scoped>\n",
       "    .dataframe tbody tr th:only-of-type {\n",
       "        vertical-align: middle;\n",
       "    }\n",
       "\n",
       "    .dataframe tbody tr th {\n",
       "        vertical-align: top;\n",
       "    }\n",
       "\n",
       "    .dataframe thead th {\n",
       "        text-align: right;\n",
       "    }\n",
       "</style>\n",
       "<table border=\"1\" class=\"dataframe\">\n",
       "  <thead>\n",
       "    <tr style=\"text-align: right;\">\n",
       "      <th></th>\n",
       "      <th>caseID</th>\n",
       "      <th>taskID</th>\n",
       "      <th>originator</th>\n",
       "      <th>eventtype</th>\n",
       "      <th>contact</th>\n",
       "      <th>RepairType</th>\n",
       "      <th>objectKey</th>\n",
       "      <th>RepairInternally</th>\n",
       "      <th>EstimatedRepairTime</th>\n",
       "      <th>RepairCode</th>\n",
       "      <th>RepairOK</th>\n",
       "      <th>date</th>\n",
       "      <th>time</th>\n",
       "      <th>datetime</th>\n",
       "    </tr>\n",
       "  </thead>\n",
       "  <tbody>\n",
       "    <tr>\n",
       "      <th>0</th>\n",
       "      <td>419</td>\n",
       "      <td>InformClientSurvey</td>\n",
       "      <td>System</td>\n",
       "      <td>complete</td>\n",
       "      <td>NaN</td>\n",
       "      <td>NaN</td>\n",
       "      <td>NaN</td>\n",
       "      <td>NaN</td>\n",
       "      <td>NaN</td>\n",
       "      <td>NaN</td>\n",
       "      <td>NaN</td>\n",
       "      <td>2020-01-06</td>\n",
       "      <td>11:51</td>\n",
       "      <td>2020-01-06 11:51:00</td>\n",
       "    </tr>\n",
       "    <tr>\n",
       "      <th>1</th>\n",
       "      <td>561</td>\n",
       "      <td>ArrangeSurvey</td>\n",
       "      <td>Monica</td>\n",
       "      <td>complete</td>\n",
       "      <td>NaN</td>\n",
       "      <td>NaN</td>\n",
       "      <td>NaN</td>\n",
       "      <td>NaN</td>\n",
       "      <td>NaN</td>\n",
       "      <td>NaN</td>\n",
       "      <td>NaN</td>\n",
       "      <td>2020-01-07</td>\n",
       "      <td>13:48</td>\n",
       "      <td>2020-01-07 13:48:00</td>\n",
       "    </tr>\n",
       "    <tr>\n",
       "      <th>2</th>\n",
       "      <td>902</td>\n",
       "      <td>ReadyInformClient</td>\n",
       "      <td>System</td>\n",
       "      <td>complete</td>\n",
       "      <td>NaN</td>\n",
       "      <td>NaN</td>\n",
       "      <td>NaN</td>\n",
       "      <td>NaN</td>\n",
       "      <td>NaN</td>\n",
       "      <td>NaN</td>\n",
       "      <td>True</td>\n",
       "      <td>2020-01-08</td>\n",
       "      <td>16:20</td>\n",
       "      <td>2020-01-08 16:20:00</td>\n",
       "    </tr>\n",
       "    <tr>\n",
       "      <th>3</th>\n",
       "      <td>18</td>\n",
       "      <td>Survey</td>\n",
       "      <td>Edd</td>\n",
       "      <td>start</td>\n",
       "      <td>NaN</td>\n",
       "      <td>NaN</td>\n",
       "      <td>NaN</td>\n",
       "      <td>NaN</td>\n",
       "      <td>NaN</td>\n",
       "      <td>NaN</td>\n",
       "      <td>NaN</td>\n",
       "      <td>2020-01-09</td>\n",
       "      <td>6:55</td>\n",
       "      <td>2020-01-09 06:55:00</td>\n",
       "    </tr>\n",
       "    <tr>\n",
       "      <th>4</th>\n",
       "      <td>852</td>\n",
       "      <td>Survey</td>\n",
       "      <td>Edd</td>\n",
       "      <td>complete</td>\n",
       "      <td>NaN</td>\n",
       "      <td>NaN</td>\n",
       "      <td>NaN</td>\n",
       "      <td>True</td>\n",
       "      <td>240.0</td>\n",
       "      <td>1.0</td>\n",
       "      <td>NaN</td>\n",
       "      <td>2020-01-10</td>\n",
       "      <td>11:33</td>\n",
       "      <td>2020-01-10 11:33:00</td>\n",
       "    </tr>\n",
       "  </tbody>\n",
       "</table>\n",
       "</div>"
      ],
      "text/plain": [
       "   caseID              taskID originator eventtype contact RepairType  \\\n",
       "0     419  InformClientSurvey     System  complete     NaN        NaN   \n",
       "1     561       ArrangeSurvey     Monica  complete     NaN        NaN   \n",
       "2     902   ReadyInformClient     System  complete     NaN        NaN   \n",
       "3      18              Survey        Edd     start     NaN        NaN   \n",
       "4     852              Survey        Edd  complete     NaN        NaN   \n",
       "\n",
       "   objectKey RepairInternally  EstimatedRepairTime  RepairCode RepairOK  \\\n",
       "0        NaN              NaN                  NaN         NaN      NaN   \n",
       "1        NaN              NaN                  NaN         NaN      NaN   \n",
       "2        NaN              NaN                  NaN         NaN     True   \n",
       "3        NaN              NaN                  NaN         NaN      NaN   \n",
       "4        NaN             True                240.0         1.0      NaN   \n",
       "\n",
       "         date   time            datetime  \n",
       "0  2020-01-06  11:51 2020-01-06 11:51:00  \n",
       "1  2020-01-07  13:48 2020-01-07 13:48:00  \n",
       "2  2020-01-08  16:20 2020-01-08 16:20:00  \n",
       "3  2020-01-09   6:55 2020-01-09 06:55:00  \n",
       "4  2020-01-10  11:33 2020-01-10 11:33:00  "
      ]
     },
     "execution_count": 136,
     "metadata": {},
     "output_type": "execute_result"
    }
   ],
   "source": [
    "# date와 time을 하나의 컬럼으로 변환\n",
    "df['datetime'] = pd.to_datetime(df['date'] + ' ' + df['time'])\n",
    "df.head()"
   ]
  },
  {
   "cell_type": "code",
   "execution_count": null,
   "metadata": {},
   "outputs": [],
   "source": [
    "df['']"
   ]
  },
  {
   "cell_type": "markdown",
   "metadata": {},
   "source": [
    "### 2. 결측치가 많은 컬럼 탐색"
   ]
  },
  {
   "cell_type": "markdown",
   "metadata": {},
   "source": [
    "#### 2-1 contact 컬럼"
   ]
  },
  {
   "cell_type": "code",
   "execution_count": 137,
   "metadata": {},
   "outputs": [
    {
     "name": "stdout",
     "output_type": "stream",
     "text": [
      "-------contact가 결측 O-------\n",
      "taskID\n",
      "ArrangeSurvey             1854\n",
      "Survey                    1854\n",
      "MakeTicket                1854\n",
      "InternRepair              1094\n",
      "ReadyInformClient          927\n",
      "TicketReady                927\n",
      "RepairReady                927\n",
      "SendTicketToFinAdmin       927\n",
      "InformClientSurvey         926\n",
      "ImmediateRepair            766\n",
      "ExternRepair               132\n",
      "InformClientWrongPlace      73\n",
      "Name: count, dtype: int64\n",
      "-------contact가 결측 X-------\n",
      "taskID\n",
      "FirstContact    999\n",
      "Name: count, dtype: int64\n"
     ]
    }
   ],
   "source": [
    "# taskID가 FirstContact일때만 contact 컬럼이 존재하는 것으로 보임\n",
    "print('-'*7 + 'contact가 결측 O' + '-'*7)\n",
    "print(df[df['contact'].isna() == True]['taskID'].value_counts())\n",
    "# contact가 결측치인 행에는 taskID에 FirstContact가 없다\n",
    "\n",
    "print('-'*7 + 'contact가 결측 X' + '-'*7)\n",
    "\n",
    "print(df[df['contact'].isna() == False]['taskID'].value_counts())\n",
    "# contact가 결측이 아닌 행에는 taskID가 모두 FirstContact이다\n",
    "# 즉, FirstContact일때만 contact값이 존재한다"
   ]
  },
  {
   "cell_type": "markdown",
   "metadata": {},
   "source": [
    "#### 2-2 RepairType, objectKey 컬럼"
   ]
  },
  {
   "cell_type": "code",
   "execution_count": 138,
   "metadata": {},
   "outputs": [
    {
     "data": {
      "text/plain": [
       "927"
      ]
     },
     "execution_count": 138,
     "metadata": {},
     "output_type": "execute_result"
    }
   ],
   "source": [
    "# RepairType과 objectKey가 항상 함께 존재하는 것 처럼 보임\n",
    "len(df[(df['RepairType'].isna() == False) & (df['objectKey'].isna() == False)])\n",
    "# 길이가 927이므로 항상 같이 존재"
   ]
  },
  {
   "cell_type": "code",
   "execution_count": 139,
   "metadata": {},
   "outputs": [
    {
     "data": {
      "text/plain": [
       "taskID\n",
       "ArrangeSurvey             1854\n",
       "Survey                    1854\n",
       "InternRepair              1094\n",
       "FirstContact               999\n",
       "ReadyInformClient          927\n",
       "TicketReady                927\n",
       "MakeTicket                 927\n",
       "RepairReady                927\n",
       "SendTicketToFinAdmin       927\n",
       "InformClientSurvey         926\n",
       "ImmediateRepair            766\n",
       "ExternRepair               132\n",
       "InformClientWrongPlace      73\n",
       "Name: count, dtype: int64"
      ]
     },
     "execution_count": 139,
     "metadata": {},
     "output_type": "execute_result"
    }
   ],
   "source": [
    "# taskID가 MakeTicket일때만 RepairType과 objectKey가 존재하는 것으로 보임\n",
    "df[(df['RepairType'].isna() == True) & (df['objectKey'].isna() == True)]['taskID'].value_counts()\n",
    "# 하지만 RepairType과 objectKey가 결측치일때도 MakeTicket 값이 존재함"
   ]
  },
  {
   "cell_type": "code",
   "execution_count": 140,
   "metadata": {},
   "outputs": [
    {
     "name": "stdout",
     "output_type": "stream",
     "text": [
      "taskID\n",
      "FirstContact              999\n",
      "ArrangeSurvey             927\n",
      "ReadyInformClient         927\n",
      "RepairReady               927\n",
      "SendTicketToFinAdmin      927\n",
      "Survey                    926\n",
      "TicketReady               926\n",
      "InformClientSurvey        925\n",
      "InternRepair              547\n",
      "ImmediateRepair           383\n",
      "InformClientWrongPlace     73\n",
      "Name: count, dtype: int64\n",
      "\n",
      "taskID\n",
      "MakeTicket    927\n",
      "Name: count, dtype: int64\n"
     ]
    }
   ],
   "source": [
    "# eventtype이 complete일때의 조건도 넣어서 다시 확인\n",
    "mask1 = (df['RepairType'].isna() == True)\n",
    "mask2 = (df['objectKey'].isna() == True)\n",
    "mask3 = (df['eventtype'] == 'complete')\n",
    "print(df[mask1 & mask2 & mask3]['taskID'].value_counts())\n",
    "# MakeTicket 값이 존재하지 않음\n",
    "print()\n",
    "mask1 = (df['RepairType'].isna() == False)\n",
    "mask2 = (df['objectKey'].isna() == False)\n",
    "mask3 = (df['eventtype'] == 'complete')\n",
    "print(df[mask1 & mask2 & mask3]['taskID'].value_counts())\n",
    "# 즉, taskID가 MakeTicket이면서 eventtype이 complete일때만 RepairType과 objectKey값이 함께 존재"
   ]
  },
  {
   "cell_type": "code",
   "execution_count": 141,
   "metadata": {},
   "outputs": [
    {
     "data": {
      "text/plain": [
       "objectKey\n",
       "5997.0    3\n",
       "8615.0    3\n",
       "4118.0    2\n",
       "3351.0    2\n",
       "2091.0    2\n",
       "         ..\n",
       "3807.0    1\n",
       "2296.0    1\n",
       "8266.0    1\n",
       "4370.0    1\n",
       "9732.0    1\n",
       "Name: count, Length: 890, dtype: int64"
      ]
     },
     "execution_count": 141,
     "metadata": {},
     "output_type": "execute_result"
    }
   ],
   "source": [
    "df['objectKey'].value_counts()"
   ]
  },
  {
   "cell_type": "code",
   "execution_count": 146,
   "metadata": {},
   "outputs": [
    {
     "data": {
      "text/html": [
       "<div>\n",
       "<style scoped>\n",
       "    .dataframe tbody tr th:only-of-type {\n",
       "        vertical-align: middle;\n",
       "    }\n",
       "\n",
       "    .dataframe tbody tr th {\n",
       "        vertical-align: top;\n",
       "    }\n",
       "\n",
       "    .dataframe thead th {\n",
       "        text-align: right;\n",
       "    }\n",
       "</style>\n",
       "<table border=\"1\" class=\"dataframe\">\n",
       "  <thead>\n",
       "    <tr style=\"text-align: right;\">\n",
       "      <th></th>\n",
       "      <th>caseID</th>\n",
       "      <th>taskID</th>\n",
       "      <th>originator</th>\n",
       "      <th>eventtype</th>\n",
       "      <th>contact</th>\n",
       "      <th>RepairType</th>\n",
       "      <th>objectKey</th>\n",
       "      <th>RepairInternally</th>\n",
       "      <th>EstimatedRepairTime</th>\n",
       "      <th>RepairCode</th>\n",
       "      <th>RepairOK</th>\n",
       "      <th>date</th>\n",
       "      <th>time</th>\n",
       "      <th>datetime</th>\n",
       "    </tr>\n",
       "  </thead>\n",
       "  <tbody>\n",
       "    <tr>\n",
       "      <th>6</th>\n",
       "      <td>521</td>\n",
       "      <td>MakeTicket</td>\n",
       "      <td>Dian</td>\n",
       "      <td>complete</td>\n",
       "      <td>NaN</td>\n",
       "      <td>E</td>\n",
       "      <td>13.0</td>\n",
       "      <td>NaN</td>\n",
       "      <td>NaN</td>\n",
       "      <td>NaN</td>\n",
       "      <td>NaN</td>\n",
       "      <td>2020-01-12</td>\n",
       "      <td>20:30</td>\n",
       "      <td>2020-01-12 20:30:00</td>\n",
       "    </tr>\n",
       "    <tr>\n",
       "      <th>8</th>\n",
       "      <td>604</td>\n",
       "      <td>MakeTicket</td>\n",
       "      <td>Monica</td>\n",
       "      <td>start</td>\n",
       "      <td>NaN</td>\n",
       "      <td>NaN</td>\n",
       "      <td>NaN</td>\n",
       "      <td>NaN</td>\n",
       "      <td>NaN</td>\n",
       "      <td>NaN</td>\n",
       "      <td>NaN</td>\n",
       "      <td>2020-01-14</td>\n",
       "      <td>18:37</td>\n",
       "      <td>2020-01-14 18:37:00</td>\n",
       "    </tr>\n",
       "    <tr>\n",
       "      <th>22</th>\n",
       "      <td>897</td>\n",
       "      <td>MakeTicket</td>\n",
       "      <td>Dian</td>\n",
       "      <td>start</td>\n",
       "      <td>NaN</td>\n",
       "      <td>NaN</td>\n",
       "      <td>NaN</td>\n",
       "      <td>NaN</td>\n",
       "      <td>NaN</td>\n",
       "      <td>NaN</td>\n",
       "      <td>NaN</td>\n",
       "      <td>2020-01-28</td>\n",
       "      <td>4:09</td>\n",
       "      <td>2020-01-28 04:09:00</td>\n",
       "    </tr>\n",
       "    <tr>\n",
       "      <th>27</th>\n",
       "      <td>815</td>\n",
       "      <td>MakeTicket</td>\n",
       "      <td>Monica</td>\n",
       "      <td>start</td>\n",
       "      <td>NaN</td>\n",
       "      <td>NaN</td>\n",
       "      <td>NaN</td>\n",
       "      <td>NaN</td>\n",
       "      <td>NaN</td>\n",
       "      <td>NaN</td>\n",
       "      <td>NaN</td>\n",
       "      <td>2020-02-02</td>\n",
       "      <td>16:40</td>\n",
       "      <td>2020-02-02 16:40:00</td>\n",
       "    </tr>\n",
       "    <tr>\n",
       "      <th>31</th>\n",
       "      <td>928</td>\n",
       "      <td>MakeTicket</td>\n",
       "      <td>Monica</td>\n",
       "      <td>start</td>\n",
       "      <td>NaN</td>\n",
       "      <td>NaN</td>\n",
       "      <td>NaN</td>\n",
       "      <td>NaN</td>\n",
       "      <td>NaN</td>\n",
       "      <td>NaN</td>\n",
       "      <td>NaN</td>\n",
       "      <td>2020-02-06</td>\n",
       "      <td>22:19</td>\n",
       "      <td>2020-02-06 22:19:00</td>\n",
       "    </tr>\n",
       "  </tbody>\n",
       "</table>\n",
       "</div>"
      ],
      "text/plain": [
       "    caseID      taskID originator eventtype contact RepairType  objectKey  \\\n",
       "6      521  MakeTicket       Dian  complete     NaN          E       13.0   \n",
       "8      604  MakeTicket     Monica     start     NaN        NaN        NaN   \n",
       "22     897  MakeTicket       Dian     start     NaN        NaN        NaN   \n",
       "27     815  MakeTicket     Monica     start     NaN        NaN        NaN   \n",
       "31     928  MakeTicket     Monica     start     NaN        NaN        NaN   \n",
       "\n",
       "   RepairInternally  EstimatedRepairTime  RepairCode RepairOK        date  \\\n",
       "6               NaN                  NaN         NaN      NaN  2020-01-12   \n",
       "8               NaN                  NaN         NaN      NaN  2020-01-14   \n",
       "22              NaN                  NaN         NaN      NaN  2020-01-28   \n",
       "27              NaN                  NaN         NaN      NaN  2020-02-02   \n",
       "31              NaN                  NaN         NaN      NaN  2020-02-06   \n",
       "\n",
       "     time            datetime  \n",
       "6   20:30 2020-01-12 20:30:00  \n",
       "8   18:37 2020-01-14 18:37:00  \n",
       "22   4:09 2020-01-28 04:09:00  \n",
       "27  16:40 2020-02-02 16:40:00  \n",
       "31  22:19 2020-02-06 22:19:00  "
      ]
     },
     "execution_count": 146,
     "metadata": {},
     "output_type": "execute_result"
    }
   ],
   "source": [
    "df[df['taskID'] == 'MakeTicket'].head()"
   ]
  },
  {
   "cell_type": "code",
   "execution_count": null,
   "metadata": {},
   "outputs": [],
   "source": []
  },
  {
   "cell_type": "code",
   "execution_count": null,
   "metadata": {},
   "outputs": [],
   "source": []
  },
  {
   "cell_type": "code",
   "execution_count": null,
   "metadata": {},
   "outputs": [],
   "source": []
  },
  {
   "cell_type": "code",
   "execution_count": null,
   "metadata": {},
   "outputs": [],
   "source": []
  },
  {
   "cell_type": "code",
   "execution_count": null,
   "metadata": {},
   "outputs": [],
   "source": []
  },
  {
   "cell_type": "code",
   "execution_count": null,
   "metadata": {},
   "outputs": [],
   "source": []
  },
  {
   "cell_type": "code",
   "execution_count": null,
   "metadata": {},
   "outputs": [],
   "source": []
  },
  {
   "cell_type": "code",
   "execution_count": null,
   "metadata": {},
   "outputs": [],
   "source": []
  },
  {
   "cell_type": "code",
   "execution_count": null,
   "metadata": {},
   "outputs": [],
   "source": []
  },
  {
   "cell_type": "code",
   "execution_count": 143,
   "metadata": {},
   "outputs": [
    {
     "data": {
      "text/plain": [
       "RepairOK\n",
       "True    1854\n",
       "Name: count, dtype: int64"
      ]
     },
     "execution_count": 143,
     "metadata": {},
     "output_type": "execute_result"
    }
   ],
   "source": [
    "# RepairOK 컬럼의 경우 TRUE 이외의 값은 보이지 않는데 담당자가 System이면서 complete가 된 경우에 채워진 것으로 보임\n",
    "# 또한, taskID의 종류가 RepairReady나 ReadyInformClient일때 RepairOK 값이 존재하는 것으로 보임\n",
    "df['RepairOK'].value_counts() # True 값만 존재"
   ]
  },
  {
   "cell_type": "code",
   "execution_count": 144,
   "metadata": {},
   "outputs": [
    {
     "data": {
      "text/plain": [
       "taskID             originator  eventtype\n",
       "ReadyInformClient  System      complete     927\n",
       "RepairReady        System      complete     927\n",
       "Name: count, dtype: int64"
      ]
     },
     "execution_count": 144,
     "metadata": {},
     "output_type": "execute_result"
    }
   ],
   "source": [
    "df[df['RepairOK'] == True][['taskID', 'originator', 'eventtype']].value_counts()\n",
    "# RepairOK 컬럼은 시스템이 ReadyInformClient, RepairReady 태스크가 끝날때 True를 채우는 것으로 보임"
   ]
  },
  {
   "cell_type": "code",
   "execution_count": 145,
   "metadata": {},
   "outputs": [
    {
     "data": {
      "text/plain": [
       "caseID\n",
       "865    18\n",
       "512    18\n",
       "775    17\n",
       "653    17\n",
       "456    17\n",
       "       ..\n",
       "213     2\n",
       "145     2\n",
       "766     2\n",
       "918     2\n",
       "312     2\n",
       "Name: count, Length: 1000, dtype: int64"
      ]
     },
     "execution_count": 145,
     "metadata": {},
     "output_type": "execute_result"
    }
   ],
   "source": [
    "df['caseID'].value_counts()"
   ]
  }
 ],
 "metadata": {
  "kernelspec": {
   "display_name": "Python 3",
   "language": "python",
   "name": "python3"
  },
  "language_info": {
   "codemirror_mode": {
    "name": "ipython",
    "version": 3
   },
   "file_extension": ".py",
   "mimetype": "text/x-python",
   "name": "python",
   "nbconvert_exporter": "python",
   "pygments_lexer": "ipython3",
   "version": "3.11.9"
  }
 },
 "nbformat": 4,
 "nbformat_minor": 2
}
